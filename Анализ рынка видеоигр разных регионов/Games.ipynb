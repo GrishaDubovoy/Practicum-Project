{
 "cells": [
  {
   "cell_type": "markdown",
   "id": "d675fd63",
   "metadata": {
    "toc": true
   },
   "source": [
    "<h1>Содержание<span class=\"tocSkip\"></span></h1>\n",
    "<div class=\"toc\"><ul class=\"toc-item\"><li><span><a href=\"#Описание-проекта\" data-toc-modified-id=\"Описание-проекта-1\"><span class=\"toc-item-num\">1&nbsp;&nbsp;</span>Описание проекта</a></span></li><li><span><a href=\"#Подключение-библиотек-и-чтение-данных\" data-toc-modified-id=\"Подключение-библиотек-и-чтение-данных-2\"><span class=\"toc-item-num\">2&nbsp;&nbsp;</span>Подключение библиотек и чтение данных</a></span></li><li><span><a href=\"#Предобработка-данных\" data-toc-modified-id=\"Предобработка-данных-3\"><span class=\"toc-item-num\">3&nbsp;&nbsp;</span>Предобработка данных</a></span><ul class=\"toc-item\"><li><span><a href=\"#Замена-названия-столбцов\" data-toc-modified-id=\"Замена-названия-столбцов-3.1\"><span class=\"toc-item-num\">3.1&nbsp;&nbsp;</span>Замена названия столбцов</a></span></li><li><span><a href=\"#Смена-типов-данных\" data-toc-modified-id=\"Смена-типов-данных-3.2\"><span class=\"toc-item-num\">3.2&nbsp;&nbsp;</span>Смена типов данных</a></span></li><li><span><a href=\"#Заполнение-пропущенных-значений\" data-toc-modified-id=\"Заполнение-пропущенных-значений-3.3\"><span class=\"toc-item-num\">3.3&nbsp;&nbsp;</span>Заполнение пропущенных значений</a></span></li><li><span><a href=\"#Добавление-данных\" data-toc-modified-id=\"Добавление-данных-3.4\"><span class=\"toc-item-num\">3.4&nbsp;&nbsp;</span>Добавление данных</a></span></li></ul></li><li><span><a href=\"#Исследовательский-анализ-данных\" data-toc-modified-id=\"Исследовательский-анализ-данных-4\"><span class=\"toc-item-num\">4&nbsp;&nbsp;</span>Исследовательский анализ данных</a></span><ul class=\"toc-item\"><li><span><a href=\"#Выпуск-игр-в-разные-годы\" data-toc-modified-id=\"Выпуск-игр-в-разные-годы-4.1\"><span class=\"toc-item-num\">4.1&nbsp;&nbsp;</span>Выпуск игр в разные годы</a></span></li><li><span><a href=\"#Продажи-по-платформам-по-годам\" data-toc-modified-id=\"Продажи-по-платформам-по-годам-4.2\"><span class=\"toc-item-num\">4.2&nbsp;&nbsp;</span>Продажи по платформам по годам</a></span></li><li><span><a href=\"#Продажи-за-актуальный-период\" data-toc-modified-id=\"Продажи-за-актуальный-период-4.3\"><span class=\"toc-item-num\">4.3&nbsp;&nbsp;</span>Продажи за актуальный период</a></span></li><li><span><a href=\"#Лидирующие-платформы\" data-toc-modified-id=\"Лидирующие-платформы-4.4\"><span class=\"toc-item-num\">4.4&nbsp;&nbsp;</span>Лидирующие платформы</a></span></li><li><span><a href=\"#Выбивающиеся-значения-по-глобальным-продажам\" data-toc-modified-id=\"Выбивающиеся-значения-по-глобальным-продажам-4.5\"><span class=\"toc-item-num\">4.5&nbsp;&nbsp;</span>Выбивающиеся значения по глобальным продажам</a></span></li><li><span><a href=\"#Влияние-отзывов-пользователей-и-критиков-на-продажи\" data-toc-modified-id=\"Влияние-отзывов-пользователей-и-критиков-на-продажи-4.6\"><span class=\"toc-item-num\">4.6&nbsp;&nbsp;</span>Влияние отзывов пользователей и критиков на продажи</a></span></li><li><span><a href=\"#Распределение-игр-по-жанрам\" data-toc-modified-id=\"Распределение-игр-по-жанрам-4.7\"><span class=\"toc-item-num\">4.7&nbsp;&nbsp;</span>Распределение игр по жанрам</a></span></li></ul></li><li><span><a href=\"#Портрет-пользователя-каждого-из-регионов-(NA,-EU,-JP)\" data-toc-modified-id=\"Портрет-пользователя-каждого-из-регионов-(NA,-EU,-JP)-5\"><span class=\"toc-item-num\">5&nbsp;&nbsp;</span>Портрет пользователя каждого из регионов (NA, EU, JP)</a></span><ul class=\"toc-item\"><li><span><a href=\"#Топ-5-самых-популярных-платформ\" data-toc-modified-id=\"Топ-5-самых-популярных-платформ-5.1\"><span class=\"toc-item-num\">5.1&nbsp;&nbsp;</span>Топ-5 самых популярных платформ</a></span></li><li><span><a href=\"#Топ-5-самых-поулярных-жанров\" data-toc-modified-id=\"Топ-5-самых-поулярных-жанров-5.2\"><span class=\"toc-item-num\">5.2&nbsp;&nbsp;</span>Топ-5 самых поулярных жанров</a></span></li><li><span><a href=\"#Влияет-ли-возрастной-рейтинг-ESRB-на-продажи-в-регионах\" data-toc-modified-id=\"Влияет-ли-возрастной-рейтинг-ESRB-на-продажи-в-регионах-5.3\"><span class=\"toc-item-num\">5.3&nbsp;&nbsp;</span>Влияет ли возрастной рейтинг ESRB на продажи в регионах</a></span></li></ul></li><li><span><a href=\"#Проверка-гипотез\" data-toc-modified-id=\"Проверка-гипотез-6\"><span class=\"toc-item-num\">6&nbsp;&nbsp;</span>Проверка гипотез</a></span><ul class=\"toc-item\"><li><span><a href=\"#Гипотеза-&quot;Средние-пользовательские-рейтинги-платформ-Xbox-One-и-PC-одинаковые&quot;\" data-toc-modified-id=\"Гипотеза-&quot;Средние-пользовательские-рейтинги-платформ-Xbox-One-и-PC-одинаковые&quot;-6.1\"><span class=\"toc-item-num\">6.1&nbsp;&nbsp;</span>Гипотеза \"Средние пользовательские рейтинги платформ Xbox One и PC одинаковые\"</a></span></li><li><span><a href=\"#Гипотеза-&quot;Средние-пользовательские-рейтинги-жанров-Action-и-Sports-разные&quot;\" data-toc-modified-id=\"Гипотеза-&quot;Средние-пользовательские-рейтинги-жанров-Action-и-Sports-разные&quot;-6.2\"><span class=\"toc-item-num\">6.2&nbsp;&nbsp;</span>Гипотеза \"Средние пользовательские рейтинги жанров Action и Sports разные\"</a></span></li></ul></li><li><span><a href=\"#Общий-вывод\" data-toc-modified-id=\"Общий-вывод-7\"><span class=\"toc-item-num\">7&nbsp;&nbsp;</span>Общий вывод</a></span></li></ul></div>"
   ]
  },
  {
   "cell_type": "markdown",
   "id": "551c15a6",
   "metadata": {},
   "source": [
    "## Описание проекта"
   ]
  },
  {
   "cell_type": "markdown",
   "id": "18d88600",
   "metadata": {},
   "source": [
    "Мы работаем в интернет-магазине «Стримчик», который продаёт по всему миру компьютерные игры. Из открытых источников доступны исторические данные о продажах игр, оценки пользователей и экспертов, жанры и платформы (например, Xbox или PlayStation). Нам нужно выявить определяющие успешность игры закономерности. Это позволит сделать ставку на потенциально популярный продукт и спланировать рекламные кампании.\n",
    "\n",
    "Перед нами данные до 2016 года. Представим, что сейчас декабрь 2016 г., и мы планируем кампанию на 2017-й. Нужно отработать принцип работы с данными. Неважно, прогнозируем ли мы продажи на 2017 год по данным 2016-го или же 2027-й — по данным 2026 года.\n",
    "\n",
    "Описание данных\n",
    "*\t`Name` — название игры\n",
    "*\t`Platform` — платформа\n",
    "*\t`Year_of_Release` — год выпуска\n",
    "*\t`Genre` — жанр игры\n",
    "*\t`NA_sales` — продажи в Северной Америке (миллионы проданных копий)\n",
    "*\t`EU_sales` — продажи в Европе (миллионы проданных копий)\n",
    "*\t`JP_sales` — продажи в Японии (миллионы проданных копий)\n",
    "*\t`Other_sales` — продажи в других странах (миллионы проданных копий)\n",
    "*\t`Critic_Score` — оценка критиков (максимум 100)\n",
    "*\t`User_Score` — оценка пользователей (максимум 10)\n",
    "*\t`Rating` — рейтинг от организации ESRB (англ. Entertainment Software Rating Board). Эта ассоциация определяет рейтинг компьютерных игр и присваивает им подходящую возрастную категорию.\n",
    "\n",
    "---"
   ]
  },
  {
   "cell_type": "markdown",
   "id": "26daf8e2",
   "metadata": {},
   "source": [
    "## Подключение библиотек и чтение данных"
   ]
  },
  {
   "cell_type": "markdown",
   "id": "ab073395",
   "metadata": {},
   "source": [
    "Начнем с подключения необходимых библиотек. Для работы с данными будем использовать библиотеку *pandas*. Для построения графиков дополнительно импортируем библиотеку *matplotlib.pyplot*. Билиотека *numpy* понадобится для вычисления некоторых математических величин. Библиотека *stats* будет сипользоваться при проверке статистических гипотез."
   ]
  },
  {
   "cell_type": "code",
   "execution_count": 1,
   "id": "7a088743",
   "metadata": {},
   "outputs": [],
   "source": [
    "# импорт необходимых библиотек\n",
    "import pandas as pd\n",
    "import numpy as np\n",
    "import matplotlib.pyplot as plt\n",
    "\n",
    "from scipy import stats as st"
   ]
  },
  {
   "cell_type": "markdown",
   "id": "092c9d2b",
   "metadata": {},
   "source": [
    "Загрузим данные "
   ]
  },
  {
   "cell_type": "code",
   "execution_count": 2,
   "id": "93eaff3c",
   "metadata": {},
   "outputs": [],
   "source": [
    "# загрузка файлов с данными\n",
    "try:\n",
    "    df = pd.read_csv('/datasets/games.csv')    \n",
    "except FileNotFoundError:\n",
    "    df = pd.read_csv('games.csv')"
   ]
  },
  {
   "cell_type": "markdown",
   "id": "12c3dc70",
   "metadata": {},
   "source": [
    "---\n",
    "\n",
    "## Предобработка данных"
   ]
  },
  {
   "cell_type": "markdown",
   "id": "7573e85d",
   "metadata": {},
   "source": [
    "Перед непосредственным выполнением работы изучим полученные данные и при необходимости выполним предобработку."
   ]
  },
  {
   "cell_type": "code",
   "execution_count": 3,
   "id": "313ebbfa",
   "metadata": {},
   "outputs": [
    {
     "name": "stdout",
     "output_type": "stream",
     "text": [
      "<class 'pandas.core.frame.DataFrame'>\n",
      "RangeIndex: 16715 entries, 0 to 16714\n",
      "Data columns (total 11 columns):\n",
      " #   Column           Non-Null Count  Dtype  \n",
      "---  ------           --------------  -----  \n",
      " 0   Name             16713 non-null  object \n",
      " 1   Platform         16715 non-null  object \n",
      " 2   Year_of_Release  16446 non-null  float64\n",
      " 3   Genre            16713 non-null  object \n",
      " 4   NA_sales         16715 non-null  float64\n",
      " 5   EU_sales         16715 non-null  float64\n",
      " 6   JP_sales         16715 non-null  float64\n",
      " 7   Other_sales      16715 non-null  float64\n",
      " 8   Critic_Score     8137 non-null   float64\n",
      " 9   User_Score       10014 non-null  object \n",
      " 10  Rating           9949 non-null   object \n",
      "dtypes: float64(6), object(5)\n",
      "memory usage: 1.4+ MB\n"
     ]
    }
   ],
   "source": [
    "games.info() # общая информация о таблице"
   ]
  },
  {
   "cell_type": "code",
   "execution_count": 4,
   "id": "247a0c40",
   "metadata": {},
   "outputs": [
    {
     "data": {
      "text/html": [
       "<div>\n",
       "<style scoped>\n",
       "    .dataframe tbody tr th:only-of-type {\n",
       "        vertical-align: middle;\n",
       "    }\n",
       "\n",
       "    .dataframe tbody tr th {\n",
       "        vertical-align: top;\n",
       "    }\n",
       "\n",
       "    .dataframe thead th {\n",
       "        text-align: right;\n",
       "    }\n",
       "</style>\n",
       "<table border=\"1\" class=\"dataframe\">\n",
       "  <thead>\n",
       "    <tr style=\"text-align: right;\">\n",
       "      <th></th>\n",
       "      <th>Name</th>\n",
       "      <th>Platform</th>\n",
       "      <th>Year_of_Release</th>\n",
       "      <th>Genre</th>\n",
       "      <th>NA_sales</th>\n",
       "      <th>EU_sales</th>\n",
       "      <th>JP_sales</th>\n",
       "      <th>Other_sales</th>\n",
       "      <th>Critic_Score</th>\n",
       "      <th>User_Score</th>\n",
       "      <th>Rating</th>\n",
       "    </tr>\n",
       "  </thead>\n",
       "  <tbody>\n",
       "    <tr>\n",
       "      <th>0</th>\n",
       "      <td>Wii Sports</td>\n",
       "      <td>Wii</td>\n",
       "      <td>2006.0</td>\n",
       "      <td>Sports</td>\n",
       "      <td>41.36</td>\n",
       "      <td>28.96</td>\n",
       "      <td>3.77</td>\n",
       "      <td>8.45</td>\n",
       "      <td>76.0</td>\n",
       "      <td>8</td>\n",
       "      <td>E</td>\n",
       "    </tr>\n",
       "    <tr>\n",
       "      <th>1</th>\n",
       "      <td>Super Mario Bros.</td>\n",
       "      <td>NES</td>\n",
       "      <td>1985.0</td>\n",
       "      <td>Platform</td>\n",
       "      <td>29.08</td>\n",
       "      <td>3.58</td>\n",
       "      <td>6.81</td>\n",
       "      <td>0.77</td>\n",
       "      <td>NaN</td>\n",
       "      <td>NaN</td>\n",
       "      <td>NaN</td>\n",
       "    </tr>\n",
       "    <tr>\n",
       "      <th>2</th>\n",
       "      <td>Mario Kart Wii</td>\n",
       "      <td>Wii</td>\n",
       "      <td>2008.0</td>\n",
       "      <td>Racing</td>\n",
       "      <td>15.68</td>\n",
       "      <td>12.76</td>\n",
       "      <td>3.79</td>\n",
       "      <td>3.29</td>\n",
       "      <td>82.0</td>\n",
       "      <td>8.3</td>\n",
       "      <td>E</td>\n",
       "    </tr>\n",
       "    <tr>\n",
       "      <th>3</th>\n",
       "      <td>Wii Sports Resort</td>\n",
       "      <td>Wii</td>\n",
       "      <td>2009.0</td>\n",
       "      <td>Sports</td>\n",
       "      <td>15.61</td>\n",
       "      <td>10.93</td>\n",
       "      <td>3.28</td>\n",
       "      <td>2.95</td>\n",
       "      <td>80.0</td>\n",
       "      <td>8</td>\n",
       "      <td>E</td>\n",
       "    </tr>\n",
       "    <tr>\n",
       "      <th>4</th>\n",
       "      <td>Pokemon Red/Pokemon Blue</td>\n",
       "      <td>GB</td>\n",
       "      <td>1996.0</td>\n",
       "      <td>Role-Playing</td>\n",
       "      <td>11.27</td>\n",
       "      <td>8.89</td>\n",
       "      <td>10.22</td>\n",
       "      <td>1.00</td>\n",
       "      <td>NaN</td>\n",
       "      <td>NaN</td>\n",
       "      <td>NaN</td>\n",
       "    </tr>\n",
       "    <tr>\n",
       "      <th>5</th>\n",
       "      <td>Tetris</td>\n",
       "      <td>GB</td>\n",
       "      <td>1989.0</td>\n",
       "      <td>Puzzle</td>\n",
       "      <td>23.20</td>\n",
       "      <td>2.26</td>\n",
       "      <td>4.22</td>\n",
       "      <td>0.58</td>\n",
       "      <td>NaN</td>\n",
       "      <td>NaN</td>\n",
       "      <td>NaN</td>\n",
       "    </tr>\n",
       "    <tr>\n",
       "      <th>6</th>\n",
       "      <td>New Super Mario Bros.</td>\n",
       "      <td>DS</td>\n",
       "      <td>2006.0</td>\n",
       "      <td>Platform</td>\n",
       "      <td>11.28</td>\n",
       "      <td>9.14</td>\n",
       "      <td>6.50</td>\n",
       "      <td>2.88</td>\n",
       "      <td>89.0</td>\n",
       "      <td>8.5</td>\n",
       "      <td>E</td>\n",
       "    </tr>\n",
       "    <tr>\n",
       "      <th>7</th>\n",
       "      <td>Wii Play</td>\n",
       "      <td>Wii</td>\n",
       "      <td>2006.0</td>\n",
       "      <td>Misc</td>\n",
       "      <td>13.96</td>\n",
       "      <td>9.18</td>\n",
       "      <td>2.93</td>\n",
       "      <td>2.84</td>\n",
       "      <td>58.0</td>\n",
       "      <td>6.6</td>\n",
       "      <td>E</td>\n",
       "    </tr>\n",
       "    <tr>\n",
       "      <th>8</th>\n",
       "      <td>New Super Mario Bros. Wii</td>\n",
       "      <td>Wii</td>\n",
       "      <td>2009.0</td>\n",
       "      <td>Platform</td>\n",
       "      <td>14.44</td>\n",
       "      <td>6.94</td>\n",
       "      <td>4.70</td>\n",
       "      <td>2.24</td>\n",
       "      <td>87.0</td>\n",
       "      <td>8.4</td>\n",
       "      <td>E</td>\n",
       "    </tr>\n",
       "    <tr>\n",
       "      <th>9</th>\n",
       "      <td>Duck Hunt</td>\n",
       "      <td>NES</td>\n",
       "      <td>1984.0</td>\n",
       "      <td>Shooter</td>\n",
       "      <td>26.93</td>\n",
       "      <td>0.63</td>\n",
       "      <td>0.28</td>\n",
       "      <td>0.47</td>\n",
       "      <td>NaN</td>\n",
       "      <td>NaN</td>\n",
       "      <td>NaN</td>\n",
       "    </tr>\n",
       "  </tbody>\n",
       "</table>\n",
       "</div>"
      ],
      "text/plain": [
       "                        Name Platform  Year_of_Release         Genre  \\\n",
       "0                 Wii Sports      Wii           2006.0        Sports   \n",
       "1          Super Mario Bros.      NES           1985.0      Platform   \n",
       "2             Mario Kart Wii      Wii           2008.0        Racing   \n",
       "3          Wii Sports Resort      Wii           2009.0        Sports   \n",
       "4   Pokemon Red/Pokemon Blue       GB           1996.0  Role-Playing   \n",
       "5                     Tetris       GB           1989.0        Puzzle   \n",
       "6      New Super Mario Bros.       DS           2006.0      Platform   \n",
       "7                   Wii Play      Wii           2006.0          Misc   \n",
       "8  New Super Mario Bros. Wii      Wii           2009.0      Platform   \n",
       "9                  Duck Hunt      NES           1984.0       Shooter   \n",
       "\n",
       "   NA_sales  EU_sales  JP_sales  Other_sales  Critic_Score User_Score Rating  \n",
       "0     41.36     28.96      3.77         8.45          76.0          8      E  \n",
       "1     29.08      3.58      6.81         0.77           NaN        NaN    NaN  \n",
       "2     15.68     12.76      3.79         3.29          82.0        8.3      E  \n",
       "3     15.61     10.93      3.28         2.95          80.0          8      E  \n",
       "4     11.27      8.89     10.22         1.00           NaN        NaN    NaN  \n",
       "5     23.20      2.26      4.22         0.58           NaN        NaN    NaN  \n",
       "6     11.28      9.14      6.50         2.88          89.0        8.5      E  \n",
       "7     13.96      9.18      2.93         2.84          58.0        6.6      E  \n",
       "8     14.44      6.94      4.70         2.24          87.0        8.4      E  \n",
       "9     26.93      0.63      0.28         0.47           NaN        NaN    NaN  "
      ]
     },
     "execution_count": 4,
     "metadata": {},
     "output_type": "execute_result"
    }
   ],
   "source": [
    "games.head(10) # первые 10 строк таблицы"
   ]
  },
  {
   "cell_type": "code",
   "execution_count": 5,
   "id": "79b9d71f",
   "metadata": {},
   "outputs": [
    {
     "data": {
      "text/html": [
       "<div>\n",
       "<style scoped>\n",
       "    .dataframe tbody tr th:only-of-type {\n",
       "        vertical-align: middle;\n",
       "    }\n",
       "\n",
       "    .dataframe tbody tr th {\n",
       "        vertical-align: top;\n",
       "    }\n",
       "\n",
       "    .dataframe thead th {\n",
       "        text-align: right;\n",
       "    }\n",
       "</style>\n",
       "<table border=\"1\" class=\"dataframe\">\n",
       "  <thead>\n",
       "    <tr style=\"text-align: right;\">\n",
       "      <th></th>\n",
       "      <th>Year_of_Release</th>\n",
       "      <th>NA_sales</th>\n",
       "      <th>EU_sales</th>\n",
       "      <th>JP_sales</th>\n",
       "      <th>Other_sales</th>\n",
       "      <th>Critic_Score</th>\n",
       "    </tr>\n",
       "  </thead>\n",
       "  <tbody>\n",
       "    <tr>\n",
       "      <th>count</th>\n",
       "      <td>16446.000000</td>\n",
       "      <td>16715.000000</td>\n",
       "      <td>16715.000000</td>\n",
       "      <td>16715.000000</td>\n",
       "      <td>16715.000000</td>\n",
       "      <td>8137.000000</td>\n",
       "    </tr>\n",
       "    <tr>\n",
       "      <th>mean</th>\n",
       "      <td>2006.484616</td>\n",
       "      <td>0.263377</td>\n",
       "      <td>0.145060</td>\n",
       "      <td>0.077617</td>\n",
       "      <td>0.047342</td>\n",
       "      <td>68.967679</td>\n",
       "    </tr>\n",
       "    <tr>\n",
       "      <th>std</th>\n",
       "      <td>5.877050</td>\n",
       "      <td>0.813604</td>\n",
       "      <td>0.503339</td>\n",
       "      <td>0.308853</td>\n",
       "      <td>0.186731</td>\n",
       "      <td>13.938165</td>\n",
       "    </tr>\n",
       "    <tr>\n",
       "      <th>min</th>\n",
       "      <td>1980.000000</td>\n",
       "      <td>0.000000</td>\n",
       "      <td>0.000000</td>\n",
       "      <td>0.000000</td>\n",
       "      <td>0.000000</td>\n",
       "      <td>13.000000</td>\n",
       "    </tr>\n",
       "    <tr>\n",
       "      <th>25%</th>\n",
       "      <td>2003.000000</td>\n",
       "      <td>0.000000</td>\n",
       "      <td>0.000000</td>\n",
       "      <td>0.000000</td>\n",
       "      <td>0.000000</td>\n",
       "      <td>60.000000</td>\n",
       "    </tr>\n",
       "    <tr>\n",
       "      <th>50%</th>\n",
       "      <td>2007.000000</td>\n",
       "      <td>0.080000</td>\n",
       "      <td>0.020000</td>\n",
       "      <td>0.000000</td>\n",
       "      <td>0.010000</td>\n",
       "      <td>71.000000</td>\n",
       "    </tr>\n",
       "    <tr>\n",
       "      <th>75%</th>\n",
       "      <td>2010.000000</td>\n",
       "      <td>0.240000</td>\n",
       "      <td>0.110000</td>\n",
       "      <td>0.040000</td>\n",
       "      <td>0.030000</td>\n",
       "      <td>79.000000</td>\n",
       "    </tr>\n",
       "    <tr>\n",
       "      <th>max</th>\n",
       "      <td>2016.000000</td>\n",
       "      <td>41.360000</td>\n",
       "      <td>28.960000</td>\n",
       "      <td>10.220000</td>\n",
       "      <td>10.570000</td>\n",
       "      <td>98.000000</td>\n",
       "    </tr>\n",
       "  </tbody>\n",
       "</table>\n",
       "</div>"
      ],
      "text/plain": [
       "       Year_of_Release      NA_sales      EU_sales      JP_sales  \\\n",
       "count     16446.000000  16715.000000  16715.000000  16715.000000   \n",
       "mean       2006.484616      0.263377      0.145060      0.077617   \n",
       "std           5.877050      0.813604      0.503339      0.308853   \n",
       "min        1980.000000      0.000000      0.000000      0.000000   \n",
       "25%        2003.000000      0.000000      0.000000      0.000000   \n",
       "50%        2007.000000      0.080000      0.020000      0.000000   \n",
       "75%        2010.000000      0.240000      0.110000      0.040000   \n",
       "max        2016.000000     41.360000     28.960000     10.220000   \n",
       "\n",
       "        Other_sales  Critic_Score  \n",
       "count  16715.000000   8137.000000  \n",
       "mean       0.047342     68.967679  \n",
       "std        0.186731     13.938165  \n",
       "min        0.000000     13.000000  \n",
       "25%        0.000000     60.000000  \n",
       "50%        0.010000     71.000000  \n",
       "75%        0.030000     79.000000  \n",
       "max       10.570000     98.000000  "
      ]
     },
     "execution_count": 5,
     "metadata": {},
     "output_type": "execute_result"
    }
   ],
   "source": [
    "games.describe() # статистическая информация по количественным данным таблицы"
   ]
  },
  {
   "cell_type": "markdown",
   "id": "d997a19c",
   "metadata": {},
   "source": [
    "После изучения полученных данных отметим следующее:\n",
    "* названия столбцов не соответствуют змеиному стилю, приведем все к нижнему регистру;\n",
    "* типы данных не всегда соответствуют содержанию, год релиза `Year_of_Release` переведем в int, оценку игроков `Critic_Score` в float;\n",
    "* в категориальных данных приведем строки к нижнему регистру, на случай если есть одинаковые значения но написанные разными регистрами;\n",
    "* есть пропущенные значения, особенно много в столбцах с оценками игроков и критиков.\n",
    "\n",
    "Переводить дату релиза к типу DateTime собого смысла нет, у нас все равно нет информации о дне и месяце релиза.\n",
    "\n",
    "---"
   ]
  },
  {
   "cell_type": "markdown",
   "id": "36168fdc",
   "metadata": {},
   "source": [
    "### Замена названия столбцов"
   ]
  },
  {
   "cell_type": "markdown",
   "id": "8c7581f7",
   "metadata": {},
   "source": [
    "Начнем с замены названия столбцов."
   ]
  },
  {
   "cell_type": "code",
   "execution_count": 6,
   "id": "34a180e6",
   "metadata": {},
   "outputs": [],
   "source": [
    "games.columns = games.columns.str.lower() # приведем названия столбов к нижнему регистру"
   ]
  },
  {
   "cell_type": "code",
   "execution_count": 7,
   "id": "5208f63c",
   "metadata": {
    "scrolled": true
   },
   "outputs": [
    {
     "name": "stdout",
     "output_type": "stream",
     "text": [
      "<class 'pandas.core.frame.DataFrame'>\n",
      "RangeIndex: 16715 entries, 0 to 16714\n",
      "Data columns (total 11 columns):\n",
      " #   Column           Non-Null Count  Dtype  \n",
      "---  ------           --------------  -----  \n",
      " 0   name             16713 non-null  object \n",
      " 1   platform         16715 non-null  object \n",
      " 2   year_of_release  16446 non-null  float64\n",
      " 3   genre            16713 non-null  object \n",
      " 4   na_sales         16715 non-null  float64\n",
      " 5   eu_sales         16715 non-null  float64\n",
      " 6   jp_sales         16715 non-null  float64\n",
      " 7   other_sales      16715 non-null  float64\n",
      " 8   critic_score     8137 non-null   float64\n",
      " 9   user_score       10014 non-null  object \n",
      " 10  rating           9949 non-null   object \n",
      "dtypes: float64(6), object(5)\n",
      "memory usage: 1.4+ MB\n"
     ]
    }
   ],
   "source": [
    "games.info() # общая информация по таблице"
   ]
  },
  {
   "cell_type": "markdown",
   "id": "4a922067",
   "metadata": {},
   "source": [
    "---\n",
    "\n",
    "### Смена типов данных"
   ]
  },
  {
   "cell_type": "markdown",
   "id": "416ab0d1",
   "metadata": {},
   "source": [
    "Теперь займемся типами данных. Начнем с года."
   ]
  },
  {
   "cell_type": "code",
   "execution_count": 8,
   "id": "88393ba5",
   "metadata": {},
   "outputs": [
    {
     "data": {
      "text/plain": [
       "array([2006., 1985., 2008., 2009., 1996., 1989., 1984., 2005., 1999.,\n",
       "       2007., 2010., 2013., 2004., 1990., 1988., 2002., 2001., 2011.,\n",
       "       1998., 2015., 2012., 2014., 1992., 1997., 1993., 1994., 1982.,\n",
       "       2016., 2003., 1986., 2000.,   nan, 1995., 1991., 1981., 1987.,\n",
       "       1980., 1983.])"
      ]
     },
     "execution_count": 8,
     "metadata": {},
     "output_type": "execute_result"
    }
   ],
   "source": [
    "games['year_of_release'].unique() # все уникальные значения года релиза"
   ]
  },
  {
   "cell_type": "code",
   "execution_count": 9,
   "id": "5700e81e",
   "metadata": {},
   "outputs": [
    {
     "data": {
      "text/plain": [
       "platform              0\n",
       "na_sales              0\n",
       "eu_sales              0\n",
       "jp_sales              0\n",
       "other_sales           0\n",
       "name                  2\n",
       "genre                 2\n",
       "year_of_release     269\n",
       "user_score         6701\n",
       "rating             6766\n",
       "critic_score       8578\n",
       "dtype: int64"
      ]
     },
     "execution_count": 9,
     "metadata": {},
     "output_type": "execute_result"
    }
   ],
   "source": [
    "games.isnull().sum().sort_values() # количество пропусков по столбцам"
   ]
  },
  {
   "cell_type": "code",
   "execution_count": 10,
   "id": "32f39f42",
   "metadata": {},
   "outputs": [
    {
     "data": {
      "text/plain": [
       "1980.0"
      ]
     },
     "execution_count": 10,
     "metadata": {},
     "output_type": "execute_result"
    }
   ],
   "source": [
    "games['year_of_release'].min() # минимальное значение года релиза"
   ]
  },
  {
   "cell_type": "markdown",
   "id": "b041d03d",
   "metadata": {},
   "source": [
    "В столбце с годом релиза присутсвует 269 пропущенных значений, их нужно чем-то заменить иначе тип столбца сменить не получится. Я прредлагаю поставить число \"заглушку\" пусть этим числом будет 1900. Игр с такой датой релиза в нашей базе данных нет. Ставить какие-то даты из периода который присутствует в нашей выборке не стоит, это может потом повлиять на результаты."
   ]
  },
  {
   "cell_type": "code",
   "execution_count": 11,
   "id": "73f43158",
   "metadata": {},
   "outputs": [],
   "source": [
    "games['year_of_release'] = games['year_of_release'].fillna(1900) # замена пропусков на 1900\n",
    "games['year_of_release'] = games['year_of_release'].astype('int') # преобразование к числовому типу"
   ]
  },
  {
   "cell_type": "markdown",
   "id": "0517bdd0",
   "metadata": {},
   "source": [
    "Перейдем к оценке пользователей."
   ]
  },
  {
   "cell_type": "code",
   "execution_count": 12,
   "id": "3bef9467",
   "metadata": {},
   "outputs": [
    {
     "data": {
      "text/plain": [
       "array(['8', nan, '8.3', '8.5', '6.6', '8.4', '8.6', '7.7', '6.3', '7.4',\n",
       "       '8.2', '9', '7.9', '8.1', '8.7', '7.1', '3.4', '5.3', '4.8', '3.2',\n",
       "       '8.9', '6.4', '7.8', '7.5', '2.6', '7.2', '9.2', '7', '7.3', '4.3',\n",
       "       '7.6', '5.7', '5', '9.1', '6.5', 'tbd', '8.8', '6.9', '9.4', '6.8',\n",
       "       '6.1', '6.7', '5.4', '4', '4.9', '4.5', '9.3', '6.2', '4.2', '6',\n",
       "       '3.7', '4.1', '5.8', '5.6', '5.5', '4.4', '4.6', '5.9', '3.9',\n",
       "       '3.1', '2.9', '5.2', '3.3', '4.7', '5.1', '3.5', '2.5', '1.9', '3',\n",
       "       '2.7', '2.2', '2', '9.5', '2.1', '3.6', '2.8', '1.8', '3.8', '0',\n",
       "       '1.6', '9.6', '2.4', '1.7', '1.1', '0.3', '1.5', '0.7', '1.2',\n",
       "       '2.3', '0.5', '1.3', '0.2', '0.6', '1.4', '0.9', '1', '9.7'],\n",
       "      dtype=object)"
      ]
     },
     "execution_count": 12,
     "metadata": {},
     "output_type": "execute_result"
    }
   ],
   "source": [
    "games['user_score'].unique() # все уникальные значения оценок пользователей"
   ]
  },
  {
   "cell_type": "markdown",
   "id": "c762b13e",
   "metadata": {},
   "source": [
    "В оценках пользователей встречаются как пропуски так и значения ***tbd***, так же есть значения 0, кому-то игра не понравилась совсем, но для нас это значит что заполнять нулями пропуски не стоит. Лучше в этом столбце пропуски вообще оставим как есть.\n",
    "\n",
    "Значение ***tbd***  вероятнее всего абрревиатура и имеет несколько вариантов расшифровки применительно к играм:\n",
    "* to be deretmined - будет определено\n",
    "* to be discussed - для обсуждения\n",
    "* to be done - будет сделано \n",
    "\n",
    "посмотрим сколько таких значений всего."
   ]
  },
  {
   "cell_type": "code",
   "execution_count": 13,
   "id": "2acbe9c9",
   "metadata": {},
   "outputs": [
    {
     "data": {
      "text/plain": [
       "2424"
      ]
     },
     "execution_count": 13,
     "metadata": {},
     "output_type": "execute_result"
    }
   ],
   "source": [
    "games[games['user_score'] == 'tbd']['user_score'].count() # количество значений tbd"
   ]
  },
  {
   "cell_type": "markdown",
   "id": "33acc5ce",
   "metadata": {},
   "source": [
    "В нашем случае какое бы изначально значение не вкладывалось в аббревиатуру перевести ее в оценку мы не сможем, поэтому предлагаю заменить ее на пропуск значения, что в итоге позволит нам сменить тип данных столбца `user_score` на float."
   ]
  },
  {
   "cell_type": "code",
   "execution_count": 14,
   "id": "3a8abc93",
   "metadata": {
    "scrolled": true
   },
   "outputs": [
    {
     "name": "stdout",
     "output_type": "stream",
     "text": [
      "<class 'pandas.core.frame.DataFrame'>\n",
      "RangeIndex: 16715 entries, 0 to 16714\n",
      "Data columns (total 11 columns):\n",
      " #   Column           Non-Null Count  Dtype  \n",
      "---  ------           --------------  -----  \n",
      " 0   name             16713 non-null  object \n",
      " 1   platform         16715 non-null  object \n",
      " 2   year_of_release  16715 non-null  int64  \n",
      " 3   genre            16713 non-null  object \n",
      " 4   na_sales         16715 non-null  float64\n",
      " 5   eu_sales         16715 non-null  float64\n",
      " 6   jp_sales         16715 non-null  float64\n",
      " 7   other_sales      16715 non-null  float64\n",
      " 8   critic_score     8137 non-null   float64\n",
      " 9   user_score       7590 non-null   float64\n",
      " 10  rating           9949 non-null   object \n",
      "dtypes: float64(6), int64(1), object(4)\n",
      "memory usage: 1.4+ MB\n"
     ]
    }
   ],
   "source": [
    "games.loc[games['user_score'] == 'tbd','user_score'] = np.nan # заменим tbd на nan\n",
    "games['user_score'] = games['user_score'].astype('float') # замена типа столбца на float\n",
    "games.info()"
   ]
  },
  {
   "cell_type": "code",
   "execution_count": 15,
   "id": "9f099787",
   "metadata": {},
   "outputs": [],
   "source": [
    "# приведем все строковые значения к нижнему регистру\n",
    "games['name'] = games['name'].str.lower()\n",
    "games['platform'] = games['platform'].str.lower()\n",
    "games['genre'] = games['genre'].str.lower()\n",
    "games['rating'] = games['rating'].str.lower()"
   ]
  },
  {
   "cell_type": "code",
   "execution_count": 16,
   "id": "443843f3",
   "metadata": {},
   "outputs": [
    {
     "data": {
      "text/html": [
       "<div>\n",
       "<style scoped>\n",
       "    .dataframe tbody tr th:only-of-type {\n",
       "        vertical-align: middle;\n",
       "    }\n",
       "\n",
       "    .dataframe tbody tr th {\n",
       "        vertical-align: top;\n",
       "    }\n",
       "\n",
       "    .dataframe thead th {\n",
       "        text-align: right;\n",
       "    }\n",
       "</style>\n",
       "<table border=\"1\" class=\"dataframe\">\n",
       "  <thead>\n",
       "    <tr style=\"text-align: right;\">\n",
       "      <th></th>\n",
       "      <th>name</th>\n",
       "      <th>platform</th>\n",
       "      <th>year_of_release</th>\n",
       "      <th>genre</th>\n",
       "      <th>na_sales</th>\n",
       "      <th>eu_sales</th>\n",
       "      <th>jp_sales</th>\n",
       "      <th>other_sales</th>\n",
       "      <th>critic_score</th>\n",
       "      <th>user_score</th>\n",
       "      <th>rating</th>\n",
       "    </tr>\n",
       "  </thead>\n",
       "  <tbody>\n",
       "    <tr>\n",
       "      <th>0</th>\n",
       "      <td>wii sports</td>\n",
       "      <td>wii</td>\n",
       "      <td>2006</td>\n",
       "      <td>sports</td>\n",
       "      <td>41.36</td>\n",
       "      <td>28.96</td>\n",
       "      <td>3.77</td>\n",
       "      <td>8.45</td>\n",
       "      <td>76.0</td>\n",
       "      <td>8.0</td>\n",
       "      <td>e</td>\n",
       "    </tr>\n",
       "    <tr>\n",
       "      <th>1</th>\n",
       "      <td>super mario bros.</td>\n",
       "      <td>nes</td>\n",
       "      <td>1985</td>\n",
       "      <td>platform</td>\n",
       "      <td>29.08</td>\n",
       "      <td>3.58</td>\n",
       "      <td>6.81</td>\n",
       "      <td>0.77</td>\n",
       "      <td>NaN</td>\n",
       "      <td>NaN</td>\n",
       "      <td>NaN</td>\n",
       "    </tr>\n",
       "    <tr>\n",
       "      <th>2</th>\n",
       "      <td>mario kart wii</td>\n",
       "      <td>wii</td>\n",
       "      <td>2008</td>\n",
       "      <td>racing</td>\n",
       "      <td>15.68</td>\n",
       "      <td>12.76</td>\n",
       "      <td>3.79</td>\n",
       "      <td>3.29</td>\n",
       "      <td>82.0</td>\n",
       "      <td>8.3</td>\n",
       "      <td>e</td>\n",
       "    </tr>\n",
       "    <tr>\n",
       "      <th>3</th>\n",
       "      <td>wii sports resort</td>\n",
       "      <td>wii</td>\n",
       "      <td>2009</td>\n",
       "      <td>sports</td>\n",
       "      <td>15.61</td>\n",
       "      <td>10.93</td>\n",
       "      <td>3.28</td>\n",
       "      <td>2.95</td>\n",
       "      <td>80.0</td>\n",
       "      <td>8.0</td>\n",
       "      <td>e</td>\n",
       "    </tr>\n",
       "    <tr>\n",
       "      <th>4</th>\n",
       "      <td>pokemon red/pokemon blue</td>\n",
       "      <td>gb</td>\n",
       "      <td>1996</td>\n",
       "      <td>role-playing</td>\n",
       "      <td>11.27</td>\n",
       "      <td>8.89</td>\n",
       "      <td>10.22</td>\n",
       "      <td>1.00</td>\n",
       "      <td>NaN</td>\n",
       "      <td>NaN</td>\n",
       "      <td>NaN</td>\n",
       "    </tr>\n",
       "  </tbody>\n",
       "</table>\n",
       "</div>"
      ],
      "text/plain": [
       "                       name platform  year_of_release         genre  na_sales  \\\n",
       "0                wii sports      wii             2006        sports     41.36   \n",
       "1         super mario bros.      nes             1985      platform     29.08   \n",
       "2            mario kart wii      wii             2008        racing     15.68   \n",
       "3         wii sports resort      wii             2009        sports     15.61   \n",
       "4  pokemon red/pokemon blue       gb             1996  role-playing     11.27   \n",
       "\n",
       "   eu_sales  jp_sales  other_sales  critic_score  user_score rating  \n",
       "0     28.96      3.77         8.45          76.0         8.0      e  \n",
       "1      3.58      6.81         0.77           NaN         NaN    NaN  \n",
       "2     12.76      3.79         3.29          82.0         8.3      e  \n",
       "3     10.93      3.28         2.95          80.0         8.0      e  \n",
       "4      8.89     10.22         1.00           NaN         NaN    NaN  "
      ]
     },
     "execution_count": 16,
     "metadata": {},
     "output_type": "execute_result"
    }
   ],
   "source": [
    "games.head() # первые 5 строк таблицы"
   ]
  },
  {
   "cell_type": "markdown",
   "id": "e5e884d2",
   "metadata": {},
   "source": [
    "Посмотрим на наличие явных дубликатов"
   ]
  },
  {
   "cell_type": "code",
   "execution_count": 17,
   "id": "1093dab9",
   "metadata": {
    "scrolled": true
   },
   "outputs": [
    {
     "data": {
      "text/plain": [
       "0"
      ]
     },
     "execution_count": 17,
     "metadata": {},
     "output_type": "execute_result"
    }
   ],
   "source": [
    "games.duplicated().sum() # количество дубликатов в наборе данных"
   ]
  },
  {
   "cell_type": "markdown",
   "id": "5f84ffde",
   "metadata": {},
   "source": [
    "Дубликатов нет, и это хорошо.\n",
    "\n",
    "---"
   ]
  },
  {
   "cell_type": "markdown",
   "id": "17f2705b",
   "metadata": {},
   "source": [
    "### Заполнение пропущенных значений"
   ]
  },
  {
   "cell_type": "markdown",
   "id": "293881bb",
   "metadata": {},
   "source": [
    "Теперь посмотрим сколько пропусков в каждом из столбцов."
   ]
  },
  {
   "cell_type": "code",
   "execution_count": 18,
   "id": "fdd9eed7",
   "metadata": {},
   "outputs": [
    {
     "data": {
      "text/plain": [
       "user_score         54.591684\n",
       "critic_score       51.319174\n",
       "rating             40.478612\n",
       "name                0.011965\n",
       "genre               0.011965\n",
       "platform            0.000000\n",
       "year_of_release     0.000000\n",
       "na_sales            0.000000\n",
       "eu_sales            0.000000\n",
       "jp_sales            0.000000\n",
       "other_sales         0.000000\n",
       "dtype: float64"
      ]
     },
     "execution_count": 18,
     "metadata": {},
     "output_type": "execute_result"
    }
   ],
   "source": [
    "games.isnull().sum().sort_values(ascending=False) / games.shape[0] * 100  # процент пропусков в наборе данных по столбцам"
   ]
  },
  {
   "cell_type": "markdown",
   "id": "904cb255",
   "metadata": {},
   "source": [
    "Как уже писал выше, пропуски в столбцах с оценками критиков и пользователей заполнять 0 не станем, пусть останутся пропусками. Можно конечно заполнить выделяющимся значением вроде -1, но потом придется всегда это держать в уме при анализе.\n",
    "\n",
    "Пропуски в названии, жанре и рейтинге заполним значениями *no_name*, *no_genre* и *out_of_rating* соответственно."
   ]
  },
  {
   "cell_type": "code",
   "execution_count": 19,
   "id": "2c9ae368",
   "metadata": {},
   "outputs": [],
   "source": [
    "games['rating'] = games['rating'].fillna('out of rating') # заполнение пропусков в рэйтинге\n",
    "games['genre'] = games['genre'].fillna('no genre') # заполнение пропусков в жанре\n",
    "games['name'] = games['name'].fillna('no name') # заполнение пропусков в названии"
   ]
  },
  {
   "cell_type": "code",
   "execution_count": 20,
   "id": "74ad89ba",
   "metadata": {},
   "outputs": [
    {
     "data": {
      "text/html": [
       "<div>\n",
       "<style scoped>\n",
       "    .dataframe tbody tr th:only-of-type {\n",
       "        vertical-align: middle;\n",
       "    }\n",
       "\n",
       "    .dataframe tbody tr th {\n",
       "        vertical-align: top;\n",
       "    }\n",
       "\n",
       "    .dataframe thead th {\n",
       "        text-align: right;\n",
       "    }\n",
       "</style>\n",
       "<table border=\"1\" class=\"dataframe\">\n",
       "  <thead>\n",
       "    <tr style=\"text-align: right;\">\n",
       "      <th></th>\n",
       "      <th>name</th>\n",
       "      <th>platform</th>\n",
       "      <th>year_of_release</th>\n",
       "      <th>genre</th>\n",
       "      <th>na_sales</th>\n",
       "      <th>eu_sales</th>\n",
       "      <th>jp_sales</th>\n",
       "      <th>other_sales</th>\n",
       "      <th>critic_score</th>\n",
       "      <th>user_score</th>\n",
       "      <th>rating</th>\n",
       "    </tr>\n",
       "  </thead>\n",
       "  <tbody>\n",
       "    <tr>\n",
       "      <th>0</th>\n",
       "      <td>wii sports</td>\n",
       "      <td>wii</td>\n",
       "      <td>2006</td>\n",
       "      <td>sports</td>\n",
       "      <td>41.36</td>\n",
       "      <td>28.96</td>\n",
       "      <td>3.77</td>\n",
       "      <td>8.45</td>\n",
       "      <td>76.0</td>\n",
       "      <td>8.0</td>\n",
       "      <td>e</td>\n",
       "    </tr>\n",
       "    <tr>\n",
       "      <th>1</th>\n",
       "      <td>super mario bros.</td>\n",
       "      <td>nes</td>\n",
       "      <td>1985</td>\n",
       "      <td>platform</td>\n",
       "      <td>29.08</td>\n",
       "      <td>3.58</td>\n",
       "      <td>6.81</td>\n",
       "      <td>0.77</td>\n",
       "      <td>NaN</td>\n",
       "      <td>NaN</td>\n",
       "      <td>out of rating</td>\n",
       "    </tr>\n",
       "    <tr>\n",
       "      <th>2</th>\n",
       "      <td>mario kart wii</td>\n",
       "      <td>wii</td>\n",
       "      <td>2008</td>\n",
       "      <td>racing</td>\n",
       "      <td>15.68</td>\n",
       "      <td>12.76</td>\n",
       "      <td>3.79</td>\n",
       "      <td>3.29</td>\n",
       "      <td>82.0</td>\n",
       "      <td>8.3</td>\n",
       "      <td>e</td>\n",
       "    </tr>\n",
       "    <tr>\n",
       "      <th>3</th>\n",
       "      <td>wii sports resort</td>\n",
       "      <td>wii</td>\n",
       "      <td>2009</td>\n",
       "      <td>sports</td>\n",
       "      <td>15.61</td>\n",
       "      <td>10.93</td>\n",
       "      <td>3.28</td>\n",
       "      <td>2.95</td>\n",
       "      <td>80.0</td>\n",
       "      <td>8.0</td>\n",
       "      <td>e</td>\n",
       "    </tr>\n",
       "    <tr>\n",
       "      <th>4</th>\n",
       "      <td>pokemon red/pokemon blue</td>\n",
       "      <td>gb</td>\n",
       "      <td>1996</td>\n",
       "      <td>role-playing</td>\n",
       "      <td>11.27</td>\n",
       "      <td>8.89</td>\n",
       "      <td>10.22</td>\n",
       "      <td>1.00</td>\n",
       "      <td>NaN</td>\n",
       "      <td>NaN</td>\n",
       "      <td>out of rating</td>\n",
       "    </tr>\n",
       "    <tr>\n",
       "      <th>5</th>\n",
       "      <td>tetris</td>\n",
       "      <td>gb</td>\n",
       "      <td>1989</td>\n",
       "      <td>puzzle</td>\n",
       "      <td>23.20</td>\n",
       "      <td>2.26</td>\n",
       "      <td>4.22</td>\n",
       "      <td>0.58</td>\n",
       "      <td>NaN</td>\n",
       "      <td>NaN</td>\n",
       "      <td>out of rating</td>\n",
       "    </tr>\n",
       "    <tr>\n",
       "      <th>6</th>\n",
       "      <td>new super mario bros.</td>\n",
       "      <td>ds</td>\n",
       "      <td>2006</td>\n",
       "      <td>platform</td>\n",
       "      <td>11.28</td>\n",
       "      <td>9.14</td>\n",
       "      <td>6.50</td>\n",
       "      <td>2.88</td>\n",
       "      <td>89.0</td>\n",
       "      <td>8.5</td>\n",
       "      <td>e</td>\n",
       "    </tr>\n",
       "    <tr>\n",
       "      <th>7</th>\n",
       "      <td>wii play</td>\n",
       "      <td>wii</td>\n",
       "      <td>2006</td>\n",
       "      <td>misc</td>\n",
       "      <td>13.96</td>\n",
       "      <td>9.18</td>\n",
       "      <td>2.93</td>\n",
       "      <td>2.84</td>\n",
       "      <td>58.0</td>\n",
       "      <td>6.6</td>\n",
       "      <td>e</td>\n",
       "    </tr>\n",
       "    <tr>\n",
       "      <th>8</th>\n",
       "      <td>new super mario bros. wii</td>\n",
       "      <td>wii</td>\n",
       "      <td>2009</td>\n",
       "      <td>platform</td>\n",
       "      <td>14.44</td>\n",
       "      <td>6.94</td>\n",
       "      <td>4.70</td>\n",
       "      <td>2.24</td>\n",
       "      <td>87.0</td>\n",
       "      <td>8.4</td>\n",
       "      <td>e</td>\n",
       "    </tr>\n",
       "    <tr>\n",
       "      <th>9</th>\n",
       "      <td>duck hunt</td>\n",
       "      <td>nes</td>\n",
       "      <td>1984</td>\n",
       "      <td>shooter</td>\n",
       "      <td>26.93</td>\n",
       "      <td>0.63</td>\n",
       "      <td>0.28</td>\n",
       "      <td>0.47</td>\n",
       "      <td>NaN</td>\n",
       "      <td>NaN</td>\n",
       "      <td>out of rating</td>\n",
       "    </tr>\n",
       "  </tbody>\n",
       "</table>\n",
       "</div>"
      ],
      "text/plain": [
       "                        name platform  year_of_release         genre  \\\n",
       "0                 wii sports      wii             2006        sports   \n",
       "1          super mario bros.      nes             1985      platform   \n",
       "2             mario kart wii      wii             2008        racing   \n",
       "3          wii sports resort      wii             2009        sports   \n",
       "4   pokemon red/pokemon blue       gb             1996  role-playing   \n",
       "5                     tetris       gb             1989        puzzle   \n",
       "6      new super mario bros.       ds             2006      platform   \n",
       "7                   wii play      wii             2006          misc   \n",
       "8  new super mario bros. wii      wii             2009      platform   \n",
       "9                  duck hunt      nes             1984       shooter   \n",
       "\n",
       "   na_sales  eu_sales  jp_sales  other_sales  critic_score  user_score  \\\n",
       "0     41.36     28.96      3.77         8.45          76.0         8.0   \n",
       "1     29.08      3.58      6.81         0.77           NaN         NaN   \n",
       "2     15.68     12.76      3.79         3.29          82.0         8.3   \n",
       "3     15.61     10.93      3.28         2.95          80.0         8.0   \n",
       "4     11.27      8.89     10.22         1.00           NaN         NaN   \n",
       "5     23.20      2.26      4.22         0.58           NaN         NaN   \n",
       "6     11.28      9.14      6.50         2.88          89.0         8.5   \n",
       "7     13.96      9.18      2.93         2.84          58.0         6.6   \n",
       "8     14.44      6.94      4.70         2.24          87.0         8.4   \n",
       "9     26.93      0.63      0.28         0.47           NaN         NaN   \n",
       "\n",
       "          rating  \n",
       "0              e  \n",
       "1  out of rating  \n",
       "2              e  \n",
       "3              e  \n",
       "4  out of rating  \n",
       "5  out of rating  \n",
       "6              e  \n",
       "7              e  \n",
       "8              e  \n",
       "9  out of rating  "
      ]
     },
     "execution_count": 20,
     "metadata": {},
     "output_type": "execute_result"
    }
   ],
   "source": [
    "games.head(10) # первые 10 строк таблицы"
   ]
  },
  {
   "cell_type": "markdown",
   "id": "332dece8",
   "metadata": {},
   "source": [
    "---\n",
    "\n",
    "### Добавление данных"
   ]
  },
  {
   "cell_type": "markdown",
   "id": "528ed2dd",
   "metadata": {},
   "source": [
    "\n",
    "Добавим в таблицу данные по суммарным продажам по всем регионам."
   ]
  },
  {
   "cell_type": "code",
   "execution_count": 67,
   "id": "62b15a2b",
   "metadata": {},
   "outputs": [
    {
     "data": {
      "text/html": [
       "<div>\n",
       "<style scoped>\n",
       "    .dataframe tbody tr th:only-of-type {\n",
       "        vertical-align: middle;\n",
       "    }\n",
       "\n",
       "    .dataframe tbody tr th {\n",
       "        vertical-align: top;\n",
       "    }\n",
       "\n",
       "    .dataframe thead th {\n",
       "        text-align: right;\n",
       "    }\n",
       "</style>\n",
       "<table border=\"1\" class=\"dataframe\">\n",
       "  <thead>\n",
       "    <tr style=\"text-align: right;\">\n",
       "      <th></th>\n",
       "      <th>name</th>\n",
       "      <th>platform</th>\n",
       "      <th>year_of_release</th>\n",
       "      <th>genre</th>\n",
       "      <th>na_sales</th>\n",
       "      <th>eu_sales</th>\n",
       "      <th>jp_sales</th>\n",
       "      <th>other_sales</th>\n",
       "      <th>critic_score</th>\n",
       "      <th>user_score</th>\n",
       "      <th>rating</th>\n",
       "      <th>total_sales</th>\n",
       "      <th>text_rating</th>\n",
       "    </tr>\n",
       "  </thead>\n",
       "  <tbody>\n",
       "    <tr>\n",
       "      <th>0</th>\n",
       "      <td>wii sports</td>\n",
       "      <td>wii</td>\n",
       "      <td>2006</td>\n",
       "      <td>sports</td>\n",
       "      <td>41.36</td>\n",
       "      <td>28.96</td>\n",
       "      <td>3.77</td>\n",
       "      <td>8.45</td>\n",
       "      <td>76.0</td>\n",
       "      <td>8.0</td>\n",
       "      <td>e</td>\n",
       "      <td>82.54</td>\n",
       "      <td>Для всех</td>\n",
       "    </tr>\n",
       "    <tr>\n",
       "      <th>1</th>\n",
       "      <td>super mario bros.</td>\n",
       "      <td>nes</td>\n",
       "      <td>1985</td>\n",
       "      <td>platform</td>\n",
       "      <td>29.08</td>\n",
       "      <td>3.58</td>\n",
       "      <td>6.81</td>\n",
       "      <td>0.77</td>\n",
       "      <td>NaN</td>\n",
       "      <td>NaN</td>\n",
       "      <td>out of rating</td>\n",
       "      <td>40.24</td>\n",
       "      <td>Отсутствует</td>\n",
       "    </tr>\n",
       "    <tr>\n",
       "      <th>2</th>\n",
       "      <td>mario kart wii</td>\n",
       "      <td>wii</td>\n",
       "      <td>2008</td>\n",
       "      <td>racing</td>\n",
       "      <td>15.68</td>\n",
       "      <td>12.76</td>\n",
       "      <td>3.79</td>\n",
       "      <td>3.29</td>\n",
       "      <td>82.0</td>\n",
       "      <td>8.3</td>\n",
       "      <td>e</td>\n",
       "      <td>35.52</td>\n",
       "      <td>Для всех</td>\n",
       "    </tr>\n",
       "    <tr>\n",
       "      <th>3</th>\n",
       "      <td>wii sports resort</td>\n",
       "      <td>wii</td>\n",
       "      <td>2009</td>\n",
       "      <td>sports</td>\n",
       "      <td>15.61</td>\n",
       "      <td>10.93</td>\n",
       "      <td>3.28</td>\n",
       "      <td>2.95</td>\n",
       "      <td>80.0</td>\n",
       "      <td>8.0</td>\n",
       "      <td>e</td>\n",
       "      <td>32.77</td>\n",
       "      <td>Для всех</td>\n",
       "    </tr>\n",
       "    <tr>\n",
       "      <th>4</th>\n",
       "      <td>pokemon red/pokemon blue</td>\n",
       "      <td>gb</td>\n",
       "      <td>1996</td>\n",
       "      <td>role-playing</td>\n",
       "      <td>11.27</td>\n",
       "      <td>8.89</td>\n",
       "      <td>10.22</td>\n",
       "      <td>1.00</td>\n",
       "      <td>NaN</td>\n",
       "      <td>NaN</td>\n",
       "      <td>out of rating</td>\n",
       "      <td>31.38</td>\n",
       "      <td>Отсутствует</td>\n",
       "    </tr>\n",
       "  </tbody>\n",
       "</table>\n",
       "</div>"
      ],
      "text/plain": [
       "                       name platform  year_of_release         genre  na_sales  \\\n",
       "0                wii sports      wii             2006        sports     41.36   \n",
       "1         super mario bros.      nes             1985      platform     29.08   \n",
       "2            mario kart wii      wii             2008        racing     15.68   \n",
       "3         wii sports resort      wii             2009        sports     15.61   \n",
       "4  pokemon red/pokemon blue       gb             1996  role-playing     11.27   \n",
       "\n",
       "   eu_sales  jp_sales  other_sales  critic_score  user_score         rating  \\\n",
       "0     28.96      3.77         8.45          76.0         8.0              e   \n",
       "1      3.58      6.81         0.77           NaN         NaN  out of rating   \n",
       "2     12.76      3.79         3.29          82.0         8.3              e   \n",
       "3     10.93      3.28         2.95          80.0         8.0              e   \n",
       "4      8.89     10.22         1.00           NaN         NaN  out of rating   \n",
       "\n",
       "   total_sales  text_rating  \n",
       "0        82.54     Для всех  \n",
       "1        40.24  Отсутствует  \n",
       "2        35.52     Для всех  \n",
       "3        32.77     Для всех  \n",
       "4        31.38  Отсутствует  "
      ]
     },
     "execution_count": 67,
     "metadata": {},
     "output_type": "execute_result"
    }
   ],
   "source": [
    "# добавим столбец с общими продажами по миру\n",
    "#games['total_sales'] = games['na_sales'] + games['eu_sales'] + games['jp_sales'] + games['other_sales']\n",
    "games['total_sales'] = games[['na_sales','eu_sales','jp_sales','other_sales']].sum(axis=1)\n",
    "games.head()"
   ]
  },
  {
   "cell_type": "markdown",
   "id": "32df4cda",
   "metadata": {},
   "source": [
    "Для дальнейшего понимания влияния рейтинга на продажи, нужно понимать что этот рейтинг значит.\n",
    "\n",
    "Посмотрим какой рейтинг встречается в нашем наборе данных."
   ]
  },
  {
   "cell_type": "code",
   "execution_count": 22,
   "id": "a3fb7c6a",
   "metadata": {},
   "outputs": [
    {
     "data": {
      "text/plain": [
       "array(['e', 'out of rating', 'm', 't', 'e10+', 'k-a', 'ao', 'ec', 'rp'],\n",
       "      dtype=object)"
      ]
     },
     "execution_count": 22,
     "metadata": {},
     "output_type": "execute_result"
    }
   ],
   "source": [
    "games['rating'].unique() # все уникальные значения рейтинга игр от ESRB"
   ]
  },
  {
   "cell_type": "markdown",
   "id": "36d428bb",
   "metadata": {},
   "source": [
    "Добавим в нашу таблицу столбец с расшифрокой рейтинга:\n",
    "* *e* - Для всех;\n",
    "* *m* - От 17 лет;\n",
    "* *t* - Подросткам 13-19 лет;\n",
    "* *e10+* - Для всех старше 10 лет;\n",
    "* *k-a* - Для всех (до 1998 года);\n",
    "* *ao* - Только для взрослых;\n",
    "* *ec* - Для детей младшего возраста;\n",
    "* *rp* - Рейтинг ожидается;\n",
    "* *out of rating* - наше заполненное значение, рейтинг отсутствует.\n",
    "\n",
    "Для этого будем использовать функцию"
   ]
  },
  {
   "cell_type": "code",
   "execution_count": 23,
   "id": "7791148f",
   "metadata": {},
   "outputs": [],
   "source": [
    "# функция для получения расшифровки рейтинга\n",
    "def text_rating (row):\n",
    "    if row['rating'] == 'e':\n",
    "        return 'Для всех'\n",
    "    elif row['rating'] == 'm':\n",
    "        return 'От 17 лет'\n",
    "    elif row['rating'] == 't':\n",
    "        return 'Подросткам 13-19 лет'\n",
    "    elif row['rating'] == 'e10+':\n",
    "        return 'Для всех старше 10 лет'\n",
    "    elif row['rating'] == 'k-a':\n",
    "        return 'Для всех (до 1998 года)'\n",
    "    elif row['rating'] == 'ao':\n",
    "        return 'Только для взрослых'\n",
    "    elif row['rating'] == 'ec':\n",
    "        return 'Для детей младшего возраста'\n",
    "    elif row['rating'] == 'rp':\n",
    "        return 'Рейтинг ожидается'\n",
    "    else:\n",
    "        return 'Отсутствует'"
   ]
  },
  {
   "cell_type": "code",
   "execution_count": 24,
   "id": "c2f89292",
   "metadata": {},
   "outputs": [],
   "source": [
    "games['text_rating'] = games.apply(text_rating, axis=1) # применим функцю к каждой строке набора данных"
   ]
  },
  {
   "cell_type": "code",
   "execution_count": 25,
   "id": "f5bc61e3",
   "metadata": {
    "scrolled": true
   },
   "outputs": [
    {
     "data": {
      "text/html": [
       "<div>\n",
       "<style scoped>\n",
       "    .dataframe tbody tr th:only-of-type {\n",
       "        vertical-align: middle;\n",
       "    }\n",
       "\n",
       "    .dataframe tbody tr th {\n",
       "        vertical-align: top;\n",
       "    }\n",
       "\n",
       "    .dataframe thead th {\n",
       "        text-align: right;\n",
       "    }\n",
       "</style>\n",
       "<table border=\"1\" class=\"dataframe\">\n",
       "  <thead>\n",
       "    <tr style=\"text-align: right;\">\n",
       "      <th></th>\n",
       "      <th>name</th>\n",
       "      <th>platform</th>\n",
       "      <th>year_of_release</th>\n",
       "      <th>genre</th>\n",
       "      <th>na_sales</th>\n",
       "      <th>eu_sales</th>\n",
       "      <th>jp_sales</th>\n",
       "      <th>other_sales</th>\n",
       "      <th>critic_score</th>\n",
       "      <th>user_score</th>\n",
       "      <th>rating</th>\n",
       "      <th>total_sales</th>\n",
       "      <th>text_rating</th>\n",
       "    </tr>\n",
       "  </thead>\n",
       "  <tbody>\n",
       "    <tr>\n",
       "      <th>0</th>\n",
       "      <td>wii sports</td>\n",
       "      <td>wii</td>\n",
       "      <td>2006</td>\n",
       "      <td>sports</td>\n",
       "      <td>41.36</td>\n",
       "      <td>28.96</td>\n",
       "      <td>3.77</td>\n",
       "      <td>8.45</td>\n",
       "      <td>76.0</td>\n",
       "      <td>8.0</td>\n",
       "      <td>e</td>\n",
       "      <td>82.54</td>\n",
       "      <td>Для всех</td>\n",
       "    </tr>\n",
       "    <tr>\n",
       "      <th>1</th>\n",
       "      <td>super mario bros.</td>\n",
       "      <td>nes</td>\n",
       "      <td>1985</td>\n",
       "      <td>platform</td>\n",
       "      <td>29.08</td>\n",
       "      <td>3.58</td>\n",
       "      <td>6.81</td>\n",
       "      <td>0.77</td>\n",
       "      <td>NaN</td>\n",
       "      <td>NaN</td>\n",
       "      <td>out of rating</td>\n",
       "      <td>40.24</td>\n",
       "      <td>Отсутствует</td>\n",
       "    </tr>\n",
       "    <tr>\n",
       "      <th>2</th>\n",
       "      <td>mario kart wii</td>\n",
       "      <td>wii</td>\n",
       "      <td>2008</td>\n",
       "      <td>racing</td>\n",
       "      <td>15.68</td>\n",
       "      <td>12.76</td>\n",
       "      <td>3.79</td>\n",
       "      <td>3.29</td>\n",
       "      <td>82.0</td>\n",
       "      <td>8.3</td>\n",
       "      <td>e</td>\n",
       "      <td>35.52</td>\n",
       "      <td>Для всех</td>\n",
       "    </tr>\n",
       "    <tr>\n",
       "      <th>3</th>\n",
       "      <td>wii sports resort</td>\n",
       "      <td>wii</td>\n",
       "      <td>2009</td>\n",
       "      <td>sports</td>\n",
       "      <td>15.61</td>\n",
       "      <td>10.93</td>\n",
       "      <td>3.28</td>\n",
       "      <td>2.95</td>\n",
       "      <td>80.0</td>\n",
       "      <td>8.0</td>\n",
       "      <td>e</td>\n",
       "      <td>32.77</td>\n",
       "      <td>Для всех</td>\n",
       "    </tr>\n",
       "    <tr>\n",
       "      <th>4</th>\n",
       "      <td>pokemon red/pokemon blue</td>\n",
       "      <td>gb</td>\n",
       "      <td>1996</td>\n",
       "      <td>role-playing</td>\n",
       "      <td>11.27</td>\n",
       "      <td>8.89</td>\n",
       "      <td>10.22</td>\n",
       "      <td>1.00</td>\n",
       "      <td>NaN</td>\n",
       "      <td>NaN</td>\n",
       "      <td>out of rating</td>\n",
       "      <td>31.38</td>\n",
       "      <td>Отсутствует</td>\n",
       "    </tr>\n",
       "  </tbody>\n",
       "</table>\n",
       "</div>"
      ],
      "text/plain": [
       "                       name platform  year_of_release         genre  na_sales  \\\n",
       "0                wii sports      wii             2006        sports     41.36   \n",
       "1         super mario bros.      nes             1985      platform     29.08   \n",
       "2            mario kart wii      wii             2008        racing     15.68   \n",
       "3         wii sports resort      wii             2009        sports     15.61   \n",
       "4  pokemon red/pokemon blue       gb             1996  role-playing     11.27   \n",
       "\n",
       "   eu_sales  jp_sales  other_sales  critic_score  user_score         rating  \\\n",
       "0     28.96      3.77         8.45          76.0         8.0              e   \n",
       "1      3.58      6.81         0.77           NaN         NaN  out of rating   \n",
       "2     12.76      3.79         3.29          82.0         8.3              e   \n",
       "3     10.93      3.28         2.95          80.0         8.0              e   \n",
       "4      8.89     10.22         1.00           NaN         NaN  out of rating   \n",
       "\n",
       "   total_sales  text_rating  \n",
       "0        82.54     Для всех  \n",
       "1        40.24  Отсутствует  \n",
       "2        35.52     Для всех  \n",
       "3        32.77     Для всех  \n",
       "4        31.38  Отсутствует  "
      ]
     },
     "execution_count": 25,
     "metadata": {},
     "output_type": "execute_result"
    }
   ],
   "source": [
    "games.head(5) # первые 10 строк таблицы"
   ]
  },
  {
   "cell_type": "markdown",
   "id": "4f48b5bc",
   "metadata": {},
   "source": [
    "---\n",
    "\n",
    "## Исследовательский анализ данных"
   ]
  },
  {
   "cell_type": "markdown",
   "id": "6de174bd",
   "metadata": {},
   "source": [
    "Предобработка завершена. Перейдем к анализу имеющихся данных."
   ]
  },
  {
   "cell_type": "markdown",
   "id": "18e9d421",
   "metadata": {},
   "source": [
    "### Выпуск игр в разные годы"
   ]
  },
  {
   "cell_type": "markdown",
   "id": "341913e0",
   "metadata": {},
   "source": [
    "Построим гистограмму выпуска игр по годам. Исключим 1900 год, поскольку это значение мы использовали для заполнения пропусков."
   ]
  },
  {
   "cell_type": "code",
   "execution_count": 26,
   "id": "269c51bc",
   "metadata": {},
   "outputs": [
    {
     "data": {
      "image/png": "[encoded data removed]",
      "text/plain": [
       "<Figure size 432x288 with 1 Axes>"
      ]
     },
     "metadata": {
      "needs_background": "light"
     },
     "output_type": "display_data"
    }
   ],
   "source": [
    "# гистограмма по выпуску игр в разные годы\n",
    "plt.hist(games[games['year_of_release'] != 1900]['year_of_release'], bins=games['year_of_release'].nunique() - 1)\n",
    "plt.title('Выпуск игр по годам')\n",
    "plt.show()"
   ]
  },
  {
   "cell_type": "markdown",
   "id": "5692096d",
   "metadata": {},
   "source": [
    "В 80-ых годах игры выпускались, но крайне мало. Видно некое плато.\n",
    "С середины 90-ых, виден существенный рост, связанный с ростом производительности чипов и распространением первых массовых консолей, такой бурный рост вплоть до 2008 года. После 2008 виден некий спад количества выпускаемых игр, вероятно связанный с ростом стоимости производства игр, и соответственно с меньшей вероятностью экономического успеха выпускаемой игры. \n",
    "\n",
    "Для нашего анализа пожалуй достаточно будет взять период с 2013 по текущий год (2016). "
   ]
  },
  {
   "cell_type": "markdown",
   "id": "7efd5495",
   "metadata": {},
   "source": [
    "---\n",
    "\n",
    "\n",
    "### Продажи по платформам по годам"
   ]
  },
  {
   "cell_type": "markdown",
   "id": "0827a744",
   "metadata": {},
   "source": [
    "Посмотрим какие платформы есть в нашей базе"
   ]
  },
  {
   "cell_type": "code",
   "execution_count": 27,
   "id": "3162bbd9",
   "metadata": {},
   "outputs": [
    {
     "data": {
      "text/plain": [
       "ps2     2161\n",
       "ds      2151\n",
       "ps3     1331\n",
       "wii     1320\n",
       "x360    1262\n",
       "psp     1209\n",
       "ps      1197\n",
       "pc       974\n",
       "xb       824\n",
       "gba      822\n",
       "gc       556\n",
       "3ds      520\n",
       "psv      430\n",
       "ps4      392\n",
       "n64      319\n",
       "xone     247\n",
       "snes     239\n",
       "sat      173\n",
       "wiiu     147\n",
       "2600     133\n",
       "nes       98\n",
       "gb        98\n",
       "dc        52\n",
       "gen       29\n",
       "ng        12\n",
       "scd        6\n",
       "ws         6\n",
       "3do        3\n",
       "tg16       2\n",
       "gg         1\n",
       "pcfx       1\n",
       "Name: platform, dtype: int64"
      ]
     },
     "execution_count": 27,
     "metadata": {},
     "output_type": "execute_result"
    }
   ],
   "source": [
    "games['platform'].value_counts()"
   ]
  },
  {
   "cell_type": "markdown",
   "id": "1b192aec",
   "metadata": {},
   "source": [
    "Выберем платформы с максимальными продажами"
   ]
  },
  {
   "cell_type": "code",
   "execution_count": 28,
   "id": "49bd3d48",
   "metadata": {},
   "outputs": [
    {
     "data": {
      "text/html": [
       "<div>\n",
       "<style scoped>\n",
       "    .dataframe tbody tr th:only-of-type {\n",
       "        vertical-align: middle;\n",
       "    }\n",
       "\n",
       "    .dataframe tbody tr th {\n",
       "        vertical-align: top;\n",
       "    }\n",
       "\n",
       "    .dataframe thead th {\n",
       "        text-align: right;\n",
       "    }\n",
       "</style>\n",
       "<table border=\"1\" class=\"dataframe\">\n",
       "  <thead>\n",
       "    <tr style=\"text-align: right;\">\n",
       "      <th></th>\n",
       "      <th>total_sales</th>\n",
       "    </tr>\n",
       "    <tr>\n",
       "      <th>platform</th>\n",
       "      <th></th>\n",
       "    </tr>\n",
       "  </thead>\n",
       "  <tbody>\n",
       "    <tr>\n",
       "      <th>ps2</th>\n",
       "      <td>1255.77</td>\n",
       "    </tr>\n",
       "    <tr>\n",
       "      <th>x360</th>\n",
       "      <td>971.42</td>\n",
       "    </tr>\n",
       "    <tr>\n",
       "      <th>ps3</th>\n",
       "      <td>939.65</td>\n",
       "    </tr>\n",
       "    <tr>\n",
       "      <th>wii</th>\n",
       "      <td>907.51</td>\n",
       "    </tr>\n",
       "    <tr>\n",
       "      <th>ds</th>\n",
       "      <td>806.12</td>\n",
       "    </tr>\n",
       "    <tr>\n",
       "      <th>ps</th>\n",
       "      <td>730.86</td>\n",
       "    </tr>\n",
       "    <tr>\n",
       "      <th>gba</th>\n",
       "      <td>317.85</td>\n",
       "    </tr>\n",
       "    <tr>\n",
       "      <th>ps4</th>\n",
       "      <td>314.14</td>\n",
       "    </tr>\n",
       "    <tr>\n",
       "      <th>psp</th>\n",
       "      <td>294.05</td>\n",
       "    </tr>\n",
       "    <tr>\n",
       "      <th>pc</th>\n",
       "      <td>259.52</td>\n",
       "    </tr>\n",
       "    <tr>\n",
       "      <th>3ds</th>\n",
       "      <td>259.00</td>\n",
       "    </tr>\n",
       "    <tr>\n",
       "      <th>xb</th>\n",
       "      <td>257.74</td>\n",
       "    </tr>\n",
       "    <tr>\n",
       "      <th>gb</th>\n",
       "      <td>255.46</td>\n",
       "    </tr>\n",
       "    <tr>\n",
       "      <th>nes</th>\n",
       "      <td>251.05</td>\n",
       "    </tr>\n",
       "    <tr>\n",
       "      <th>n64</th>\n",
       "      <td>218.68</td>\n",
       "    </tr>\n",
       "    <tr>\n",
       "      <th>snes</th>\n",
       "      <td>200.04</td>\n",
       "    </tr>\n",
       "    <tr>\n",
       "      <th>gc</th>\n",
       "      <td>198.93</td>\n",
       "    </tr>\n",
       "    <tr>\n",
       "      <th>xone</th>\n",
       "      <td>159.32</td>\n",
       "    </tr>\n",
       "    <tr>\n",
       "      <th>2600</th>\n",
       "      <td>96.98</td>\n",
       "    </tr>\n",
       "    <tr>\n",
       "      <th>wiiu</th>\n",
       "      <td>82.19</td>\n",
       "    </tr>\n",
       "    <tr>\n",
       "      <th>psv</th>\n",
       "      <td>54.07</td>\n",
       "    </tr>\n",
       "    <tr>\n",
       "      <th>sat</th>\n",
       "      <td>33.59</td>\n",
       "    </tr>\n",
       "    <tr>\n",
       "      <th>gen</th>\n",
       "      <td>30.77</td>\n",
       "    </tr>\n",
       "    <tr>\n",
       "      <th>dc</th>\n",
       "      <td>15.95</td>\n",
       "    </tr>\n",
       "    <tr>\n",
       "      <th>scd</th>\n",
       "      <td>1.86</td>\n",
       "    </tr>\n",
       "    <tr>\n",
       "      <th>ng</th>\n",
       "      <td>1.44</td>\n",
       "    </tr>\n",
       "    <tr>\n",
       "      <th>ws</th>\n",
       "      <td>1.42</td>\n",
       "    </tr>\n",
       "    <tr>\n",
       "      <th>tg16</th>\n",
       "      <td>0.16</td>\n",
       "    </tr>\n",
       "    <tr>\n",
       "      <th>3do</th>\n",
       "      <td>0.10</td>\n",
       "    </tr>\n",
       "    <tr>\n",
       "      <th>gg</th>\n",
       "      <td>0.04</td>\n",
       "    </tr>\n",
       "    <tr>\n",
       "      <th>pcfx</th>\n",
       "      <td>0.03</td>\n",
       "    </tr>\n",
       "  </tbody>\n",
       "</table>\n",
       "</div>"
      ],
      "text/plain": [
       "          total_sales\n",
       "platform             \n",
       "ps2           1255.77\n",
       "x360           971.42\n",
       "ps3            939.65\n",
       "wii            907.51\n",
       "ds             806.12\n",
       "ps             730.86\n",
       "gba            317.85\n",
       "ps4            314.14\n",
       "psp            294.05\n",
       "pc             259.52\n",
       "3ds            259.00\n",
       "xb             257.74\n",
       "gb             255.46\n",
       "nes            251.05\n",
       "n64            218.68\n",
       "snes           200.04\n",
       "gc             198.93\n",
       "xone           159.32\n",
       "2600            96.98\n",
       "wiiu            82.19\n",
       "psv             54.07\n",
       "sat             33.59\n",
       "gen             30.77\n",
       "dc              15.95\n",
       "scd              1.86\n",
       "ng               1.44\n",
       "ws               1.42\n",
       "tg16             0.16\n",
       "3do              0.10\n",
       "gg               0.04\n",
       "pcfx             0.03"
      ]
     },
     "execution_count": 28,
     "metadata": {},
     "output_type": "execute_result"
    }
   ],
   "source": [
    "most_sales_platform = games.pivot_table(index='platform', values='total_sales', aggfunc='sum')\\\n",
    ".sort_values(by='total_sales', ascending=False)\n",
    "most_sales_platform"
   ]
  },
  {
   "cell_type": "code",
   "execution_count": 73,
   "id": "4f506d00",
   "metadata": {},
   "outputs": [
    {
     "data": {
      "image/png": "[encoded data removed]",
      "text/plain": [
       "<Figure size 432x288 with 1 Axes>"
      ]
     },
     "metadata": {
      "needs_background": "light"
     },
     "output_type": "display_data"
    }
   ],
   "source": [
    "plt.plot(most_sales_platform.head(10))\n",
    "plt.title('Продажи игр на ТОП-10 платформах')\n",
    "plt.show()"
   ]
  },
  {
   "cell_type": "markdown",
   "id": "a6aba091",
   "metadata": {},
   "source": [
    "Среди самых популярных платформ ps, ps2, ps3, ps4, XBox360, Nintendo Wii, WiiU, Nintendo DS, Game Boy Advanced. Есть даже персональный компьютер.\n",
    "\n",
    "Построим графики продаж по платформам, наверное сгруппируем платформы по производителям: Sony, Microsoft, Nintendo."
   ]
  },
  {
   "cell_type": "code",
   "execution_count": 29,
   "id": "908adbc2",
   "metadata": {},
   "outputs": [
    {
     "data": {
      "image/png": "[encoded data removed]",
      "text/plain": [
       "<Figure size 432x288 with 1 Axes>"
      ]
     },
     "metadata": {
      "needs_background": "light"
     },
     "output_type": "display_data"
    }
   ],
   "source": [
    "# продажи игр на консолях Play Station по годам\n",
    "plt.plot(games.query('platform == \"psp\" and year_of_release != 1900').groupby(by='year_of_release')\\\n",
    "         .agg({'total_sales':'sum'}), alpha = 0.5, label='PSP')\n",
    "plt.plot(games.query('platform == \"psv\" and year_of_release != 1900').groupby(by='year_of_release')\\\n",
    "         .agg({'total_sales':'sum'}), alpha = 0.5, label='PS Vita')\n",
    "plt.plot(games.query('platform == \"ps\" and year_of_release != 1900').groupby(by='year_of_release')\\\n",
    "         .agg({'total_sales':'sum'}), alpha = 0.5, label='PS')\n",
    "plt.plot(games.query('platform == \"ps2\" and year_of_release != 1900').groupby(by='year_of_release')\\\n",
    "         .agg({'total_sales':'sum'}), alpha = 0.5, label='PS2')\n",
    "plt.plot(games.query('platform == \"ps3\" and year_of_release != 1900').groupby(by='year_of_release')\\\n",
    "         .agg({'total_sales':'sum'}), alpha = 0.5, label='PS3')\n",
    "plt.plot(games.query('platform == \"ps4\" and year_of_release != 1900').groupby(by='year_of_release')\\\n",
    "         .agg({'total_sales':'sum'}), alpha = 0.5, label='PS4')\n",
    "plt.title('Продажи игр по годам на консолях Play Station')\n",
    "\n",
    "plt.legend(loc='upper left')\n",
    "plt.show()"
   ]
  },
  {
   "cell_type": "markdown",
   "id": "51d1a1ad",
   "metadata": {},
   "source": [
    "У сони отчетливо видны 4 основных поколения, и два поколения портативных консолей. \n",
    "Портативки конечно не могут потягаться в продажах со своими старшими братьями, но PSP была успешнее чем PS Vita.\n",
    "Срок активной жизни одного поколения около 6-7 лет: PS2 появилась в 2000, PS3  в 2007, PS4 в 2013.\n",
    "\n",
    "Рекорд продаж игр на PS2 более 200 млн. в год так и остался не побитым, своими более мощными потомками."
   ]
  },
  {
   "cell_type": "code",
   "execution_count": 30,
   "id": "8bcfcedc",
   "metadata": {},
   "outputs": [
    {
     "data": {
      "image/png": "[encoded data removed]",
      "text/plain": [
       "<Figure size 432x288 with 1 Axes>"
      ]
     },
     "metadata": {
      "needs_background": "light"
     },
     "output_type": "display_data"
    }
   ],
   "source": [
    "# продажи игр на консолях Microsoft по годам\n",
    "plt.plot(games.query('platform == \"xb\" and year_of_release != 1900').groupby(by='year_of_release')\\\n",
    "         .agg({'total_sales':'sum'}), alpha = 0.5, label='Xbox')\n",
    "plt.plot(games.query('platform == \"x360\" and year_of_release != 1900').groupby(by='year_of_release')\\\n",
    "         .agg({'total_sales':'sum'}), alpha = 0.5, label='Xbox360')\n",
    "plt.plot(games.query('platform == \"xone\" and year_of_release != 1900').groupby(by='year_of_release')\\\n",
    "         .agg({'total_sales':'sum'}), alpha = 0.5, label='XboxOne')\n",
    "plt.title('Продажи игр по годам на консолях Microsoft')\n",
    "plt.legend(loc='upper left')\n",
    "plt.show()"
   ]
  },
  {
   "cell_type": "markdown",
   "id": "09da8ae9",
   "metadata": {},
   "source": [
    "У Microsfot продажи скромнее, но сменяемость поколейний так же прослеживается четко.\n",
    "Первый Xbox вышел в 2000 году, Xbox360 в 2005, XboxOne в 2013. Средний цикл жизни получается 6-7 лет, как и у Sony."
   ]
  },
  {
   "cell_type": "code",
   "execution_count": 31,
   "id": "de6f2d1a",
   "metadata": {},
   "outputs": [
    {
     "data": {
      "image/png": "[encoded data removed]",
      "text/plain": [
       "<Figure size 432x288 with 1 Axes>"
      ]
     },
     "metadata": {
      "needs_background": "light"
     },
     "output_type": "display_data"
    }
   ],
   "source": [
    "# продажи игр на консолях Nintendo по годам wiiu\n",
    "plt.plot(games.query('platform == \"wii\" and year_of_release != 1900').groupby(by='year_of_release')\\\n",
    "         .agg({'total_sales':'sum'}), alpha = 0.5, label='Wii')\n",
    "plt.plot(games.query('platform == \"ds\" and year_of_release != 1900 and year_of_release != 1985')\\\n",
    "         .groupby(by='year_of_release').agg({'total_sales':'sum'}), alpha = 0.5, label='DS')\n",
    "plt.plot(games.query('platform == \"3ds\" and year_of_release != 1900').groupby(by='year_of_release')\\\n",
    "         .agg({'total_sales':'sum'}), alpha = 0.5, label='3DS')\n",
    "plt.plot(games.query('platform == \"gba\" and year_of_release != 1900').groupby(by='year_of_release')\\\n",
    "         .agg({'total_sales':'sum'}), alpha = 0.5, label='gba')\n",
    "plt.plot(games.query('platform == \"wiiu\" and year_of_release != 1900').groupby(by='year_of_release')\\\n",
    "         .agg({'total_sales':'sum'}), alpha = 0.5, label='WiiU')\n",
    "plt.title('Продажи игр по годам на консолях Nintendo')\n",
    "plt.legend(loc='upper right')\n",
    "plt.show()"
   ]
  },
  {
   "cell_type": "markdown",
   "id": "91e0d85f",
   "metadata": {},
   "source": [
    "У Nintendo ситуация отличается от Sony и Microsoft, очень большие продажи на портативных консолях - GBA, DS. Домашние консоли Wii и WiiU так же показывают хорошие результаты. Средний срок жизни поколения консолей так же около 6-7 лет."
   ]
  },
  {
   "cell_type": "markdown",
   "id": "42de140a",
   "metadata": {},
   "source": [
    "---\n",
    "\n",
    "\n",
    "### Продажи за актуальный период"
   ]
  },
  {
   "cell_type": "markdown",
   "id": "7d922adb",
   "metadata": {},
   "source": [
    "В качестве актуального периода предлагаю выбрать период с 2013 года включительно, потому что именно в 2013 году вышли консоли последнего поколения: PS4, XboxOne. Вторая причина выбора рубежом 2013 года - окончание снижения общих продаж игр."
   ]
  },
  {
   "cell_type": "code",
   "execution_count": 32,
   "id": "30f1f591",
   "metadata": {
    "scrolled": true
   },
   "outputs": [
    {
     "data": {
      "text/html": [
       "<div>\n",
       "<style scoped>\n",
       "    .dataframe tbody tr th:only-of-type {\n",
       "        vertical-align: middle;\n",
       "    }\n",
       "\n",
       "    .dataframe tbody tr th {\n",
       "        vertical-align: top;\n",
       "    }\n",
       "\n",
       "    .dataframe thead th {\n",
       "        text-align: right;\n",
       "    }\n",
       "</style>\n",
       "<table border=\"1\" class=\"dataframe\">\n",
       "  <thead>\n",
       "    <tr style=\"text-align: right;\">\n",
       "      <th></th>\n",
       "      <th>name</th>\n",
       "      <th>platform</th>\n",
       "      <th>year_of_release</th>\n",
       "      <th>genre</th>\n",
       "      <th>na_sales</th>\n",
       "      <th>eu_sales</th>\n",
       "      <th>jp_sales</th>\n",
       "      <th>other_sales</th>\n",
       "      <th>critic_score</th>\n",
       "      <th>user_score</th>\n",
       "      <th>rating</th>\n",
       "      <th>total_sales</th>\n",
       "      <th>text_rating</th>\n",
       "    </tr>\n",
       "  </thead>\n",
       "  <tbody>\n",
       "    <tr>\n",
       "      <th>16</th>\n",
       "      <td>grand theft auto v</td>\n",
       "      <td>ps3</td>\n",
       "      <td>2013</td>\n",
       "      <td>action</td>\n",
       "      <td>7.02</td>\n",
       "      <td>9.09</td>\n",
       "      <td>0.98</td>\n",
       "      <td>3.96</td>\n",
       "      <td>97.0</td>\n",
       "      <td>8.2</td>\n",
       "      <td>m</td>\n",
       "      <td>21.05</td>\n",
       "      <td>От 17 лет</td>\n",
       "    </tr>\n",
       "    <tr>\n",
       "      <th>23</th>\n",
       "      <td>grand theft auto v</td>\n",
       "      <td>x360</td>\n",
       "      <td>2013</td>\n",
       "      <td>action</td>\n",
       "      <td>9.66</td>\n",
       "      <td>5.14</td>\n",
       "      <td>0.06</td>\n",
       "      <td>1.41</td>\n",
       "      <td>97.0</td>\n",
       "      <td>8.1</td>\n",
       "      <td>m</td>\n",
       "      <td>16.27</td>\n",
       "      <td>От 17 лет</td>\n",
       "    </tr>\n",
       "    <tr>\n",
       "      <th>31</th>\n",
       "      <td>call of duty: black ops 3</td>\n",
       "      <td>ps4</td>\n",
       "      <td>2015</td>\n",
       "      <td>shooter</td>\n",
       "      <td>6.03</td>\n",
       "      <td>5.86</td>\n",
       "      <td>0.36</td>\n",
       "      <td>2.38</td>\n",
       "      <td>NaN</td>\n",
       "      <td>NaN</td>\n",
       "      <td>out of rating</td>\n",
       "      <td>14.63</td>\n",
       "      <td>Отсутствует</td>\n",
       "    </tr>\n",
       "    <tr>\n",
       "      <th>33</th>\n",
       "      <td>pokemon x/pokemon y</td>\n",
       "      <td>3ds</td>\n",
       "      <td>2013</td>\n",
       "      <td>role-playing</td>\n",
       "      <td>5.28</td>\n",
       "      <td>4.19</td>\n",
       "      <td>4.35</td>\n",
       "      <td>0.78</td>\n",
       "      <td>NaN</td>\n",
       "      <td>NaN</td>\n",
       "      <td>out of rating</td>\n",
       "      <td>14.60</td>\n",
       "      <td>Отсутствует</td>\n",
       "    </tr>\n",
       "    <tr>\n",
       "      <th>42</th>\n",
       "      <td>grand theft auto v</td>\n",
       "      <td>ps4</td>\n",
       "      <td>2014</td>\n",
       "      <td>action</td>\n",
       "      <td>3.96</td>\n",
       "      <td>6.31</td>\n",
       "      <td>0.38</td>\n",
       "      <td>1.97</td>\n",
       "      <td>97.0</td>\n",
       "      <td>8.3</td>\n",
       "      <td>m</td>\n",
       "      <td>12.62</td>\n",
       "      <td>От 17 лет</td>\n",
       "    </tr>\n",
       "  </tbody>\n",
       "</table>\n",
       "</div>"
      ],
      "text/plain": [
       "                         name platform  year_of_release         genre  \\\n",
       "16         grand theft auto v      ps3             2013        action   \n",
       "23         grand theft auto v     x360             2013        action   \n",
       "31  call of duty: black ops 3      ps4             2015       shooter   \n",
       "33        pokemon x/pokemon y      3ds             2013  role-playing   \n",
       "42         grand theft auto v      ps4             2014        action   \n",
       "\n",
       "    na_sales  eu_sales  jp_sales  other_sales  critic_score  user_score  \\\n",
       "16      7.02      9.09      0.98         3.96          97.0         8.2   \n",
       "23      9.66      5.14      0.06         1.41          97.0         8.1   \n",
       "31      6.03      5.86      0.36         2.38           NaN         NaN   \n",
       "33      5.28      4.19      4.35         0.78           NaN         NaN   \n",
       "42      3.96      6.31      0.38         1.97          97.0         8.3   \n",
       "\n",
       "           rating  total_sales  text_rating  \n",
       "16              m        21.05    От 17 лет  \n",
       "23              m        16.27    От 17 лет  \n",
       "31  out of rating        14.63  Отсутствует  \n",
       "33  out of rating        14.60  Отсутствует  \n",
       "42              m        12.62    От 17 лет  "
      ]
     },
     "execution_count": 32,
     "metadata": {},
     "output_type": "execute_result"
    }
   ],
   "source": [
    "actual_games = games.query('year_of_release > 2012') # данные по продажам в акутальный период\n",
    "actual_games.head() # первые 5 строк получившейся таблицы"
   ]
  },
  {
   "cell_type": "markdown",
   "id": "2c533ffd",
   "metadata": {},
   "source": [
    "Далее будем рассматривать данные только по актуальному периоду"
   ]
  },
  {
   "cell_type": "markdown",
   "id": "fbb7321b",
   "metadata": {},
   "source": [
    "---\n",
    "\n",
    "\n",
    "### Лидирующие платформы"
   ]
  },
  {
   "cell_type": "markdown",
   "id": "b80e3dc8",
   "metadata": {},
   "source": [
    "Посмотрим на актуальные платформы"
   ]
  },
  {
   "cell_type": "code",
   "execution_count": 33,
   "id": "ee6c3821",
   "metadata": {},
   "outputs": [
    {
     "data": {
      "text/plain": [
       "ps4     392\n",
       "psv     358\n",
       "ps3     345\n",
       "3ds     303\n",
       "xone    247\n",
       "pc      189\n",
       "x360    186\n",
       "wiiu    115\n",
       "psp      67\n",
       "wii      23\n",
       "ds        8\n",
       "Name: platform, dtype: int64"
      ]
     },
     "execution_count": 33,
     "metadata": {},
     "output_type": "execute_result"
    }
   ],
   "source": [
    "actual_games['platform'].value_counts()"
   ]
  },
  {
   "cell_type": "code",
   "execution_count": 34,
   "id": "5fbbb774",
   "metadata": {},
   "outputs": [
    {
     "data": {
      "text/html": [
       "<div>\n",
       "<style scoped>\n",
       "    .dataframe tbody tr th:only-of-type {\n",
       "        vertical-align: middle;\n",
       "    }\n",
       "\n",
       "    .dataframe tbody tr th {\n",
       "        vertical-align: top;\n",
       "    }\n",
       "\n",
       "    .dataframe thead th {\n",
       "        text-align: right;\n",
       "    }\n",
       "</style>\n",
       "<table border=\"1\" class=\"dataframe\">\n",
       "  <thead>\n",
       "    <tr style=\"text-align: right;\">\n",
       "      <th></th>\n",
       "      <th>total_sales</th>\n",
       "    </tr>\n",
       "    <tr>\n",
       "      <th>platform</th>\n",
       "      <th></th>\n",
       "    </tr>\n",
       "  </thead>\n",
       "  <tbody>\n",
       "    <tr>\n",
       "      <th>ps4</th>\n",
       "      <td>314.14</td>\n",
       "    </tr>\n",
       "    <tr>\n",
       "      <th>ps3</th>\n",
       "      <td>181.43</td>\n",
       "    </tr>\n",
       "    <tr>\n",
       "      <th>xone</th>\n",
       "      <td>159.32</td>\n",
       "    </tr>\n",
       "    <tr>\n",
       "      <th>3ds</th>\n",
       "      <td>143.25</td>\n",
       "    </tr>\n",
       "    <tr>\n",
       "      <th>x360</th>\n",
       "      <td>136.80</td>\n",
       "    </tr>\n",
       "    <tr>\n",
       "      <th>wiiu</th>\n",
       "      <td>64.63</td>\n",
       "    </tr>\n",
       "    <tr>\n",
       "      <th>pc</th>\n",
       "      <td>39.43</td>\n",
       "    </tr>\n",
       "    <tr>\n",
       "      <th>psv</th>\n",
       "      <td>32.99</td>\n",
       "    </tr>\n",
       "    <tr>\n",
       "      <th>wii</th>\n",
       "      <td>13.66</td>\n",
       "    </tr>\n",
       "    <tr>\n",
       "      <th>psp</th>\n",
       "      <td>3.50</td>\n",
       "    </tr>\n",
       "    <tr>\n",
       "      <th>ds</th>\n",
       "      <td>1.54</td>\n",
       "    </tr>\n",
       "  </tbody>\n",
       "</table>\n",
       "</div>"
      ],
      "text/plain": [
       "          total_sales\n",
       "platform             \n",
       "ps4            314.14\n",
       "ps3            181.43\n",
       "xone           159.32\n",
       "3ds            143.25\n",
       "x360           136.80\n",
       "wiiu            64.63\n",
       "pc              39.43\n",
       "psv             32.99\n",
       "wii             13.66\n",
       "psp              3.50\n",
       "ds               1.54"
      ]
     },
     "execution_count": 34,
     "metadata": {},
     "output_type": "execute_result"
    }
   ],
   "source": [
    "most_sales_actual_platform = actual_games.pivot_table(index='platform', values='total_sales', aggfunc='sum')\\\n",
    ".sort_values(by='total_sales', ascending=False)\n",
    "most_sales_actual_platform"
   ]
  },
  {
   "cell_type": "markdown",
   "id": "482d71fd",
   "metadata": {},
   "source": [
    "Актуальными платформами являются PS4, PS Vita у Sony, XboxOne у Microsoft, WiiU и 3DS у Nintendo ну и конечно PC всегда актуален, но не так популярен, а может дело в пиратстве на PC.\n",
    "\n",
    "Посмотрим на продажи на этих платформах."
   ]
  },
  {
   "cell_type": "code",
   "execution_count": 79,
   "id": "675c8178",
   "metadata": {
    "scrolled": true
   },
   "outputs": [
    {
     "data": {
      "image/png": "[encoded data removed]",
      "text/plain": [
       "<Figure size 432x288 with 1 Axes>"
      ]
     },
     "metadata": {
      "needs_background": "light"
     },
     "output_type": "display_data"
    }
   ],
   "source": [
    "platforms = ['wiiu','3ds','xone','ps4','psv','pc']\n",
    "for console in platforms:\n",
    "    plt.plot(actual_games.query('platform == @console').groupby(by='year_of_release')\\\n",
    "             .agg({'total_sales':'sum'}), alpha = 0.5, label=console)\n",
    "plt.title('Продажи игр по годам на актуальных платформах')\n",
    "plt.legend(loc='upper left')\n",
    "plt.show()"
   ]
  },
  {
   "cell_type": "markdown",
   "id": "826760d5",
   "metadata": {},
   "source": [
    "Их всех актуальных платформ самыми перспективными выглядят PS4 и Xbox One."
   ]
  },
  {
   "cell_type": "markdown",
   "id": "64e1c515",
   "metadata": {},
   "source": [
    "---\n",
    "\n",
    "\n",
    "### Выбивающиеся значения по глобальным продажам"
   ]
  },
  {
   "cell_type": "markdown",
   "id": "949a8dcb",
   "metadata": {},
   "source": [
    "Построим график «ящик с усами» по глобальным продажам игр в разбивке по платформам"
   ]
  },
  {
   "cell_type": "code",
   "execution_count": 36,
   "id": "abe9a5c6",
   "metadata": {},
   "outputs": [
    {
     "data": {
      "image/png": "[encoded data removed]",
      "text/plain": [
       "<Figure size 720x720 with 1 Axes>"
      ]
     },
     "metadata": {
      "needs_background": "light"
     },
     "output_type": "display_data"
    }
   ],
   "source": [
    "actual_games.boxplot('total_sales', by='platform',figsize=(10,10))\n",
    "plt.title('Ящики с усами для общих продаж в разбивке по платформам')\n",
    "plt.xlabel('Платформа')\n",
    "plt.show() "
   ]
  },
  {
   "cell_type": "markdown",
   "id": "de27a78d",
   "metadata": {},
   "source": [
    "Очень много выбросов - больших продаж выбивающихся из средних значений. Лидеры по количеству таких хитов - PS3, PS4, 3ds, Xbox One. Построим такойже график отбросив выбросы"
   ]
  },
  {
   "cell_type": "code",
   "execution_count": 37,
   "id": "d3494bce",
   "metadata": {},
   "outputs": [
    {
     "data": {
      "image/png": "[encoded data removed]",
      "text/plain": [
       "<Figure size 720x720 with 1 Axes>"
      ]
     },
     "metadata": {
      "needs_background": "light"
     },
     "output_type": "display_data"
    }
   ],
   "source": [
    "actual_games.boxplot('total_sales', by='platform',figsize=(10,10), showfliers=False)\n",
    "plt.title('Ящики с усами для общих продаж в разбивке по платформам без выбросов')\n",
    "plt.xlabel('Жанры')\n",
    "plt.show() "
   ]
  },
  {
   "cell_type": "markdown",
   "id": "06df1193",
   "metadata": {},
   "source": [
    "Средние продажи существенно скромнее на всех консолях, но максимальные на уже уходящем на пенсию Xbox360. Из актуальных платформ самые высокие средние продажи у PS4, Xbox One и WiiU."
   ]
  },
  {
   "cell_type": "markdown",
   "id": "ed9a9fc9",
   "metadata": {},
   "source": [
    "---\n",
    "\n",
    "\n",
    "### Влияние отзывов пользователей и критиков на продажи"
   ]
  },
  {
   "cell_type": "markdown",
   "id": "272c1c7c",
   "metadata": {},
   "source": [
    "На примере одной популярной платформы - PS4  посмотрим как влияют отзывы критиков и пользователей на продажи игр."
   ]
  },
  {
   "cell_type": "code",
   "execution_count": 38,
   "id": "49904a7e",
   "metadata": {},
   "outputs": [],
   "source": [
    "ps4_actual_games = actual_games[actual_games['platform'] == 'ps4'] # отфильтруем данные только для PS4"
   ]
  },
  {
   "cell_type": "code",
   "execution_count": 39,
   "id": "fd26e837",
   "metadata": {},
   "outputs": [
    {
     "data": {
      "text/html": [
       "<div>\n",
       "<style scoped>\n",
       "    .dataframe tbody tr th:only-of-type {\n",
       "        vertical-align: middle;\n",
       "    }\n",
       "\n",
       "    .dataframe tbody tr th {\n",
       "        vertical-align: top;\n",
       "    }\n",
       "\n",
       "    .dataframe thead th {\n",
       "        text-align: right;\n",
       "    }\n",
       "</style>\n",
       "<table border=\"1\" class=\"dataframe\">\n",
       "  <thead>\n",
       "    <tr style=\"text-align: right;\">\n",
       "      <th></th>\n",
       "      <th>total_sales</th>\n",
       "      <th>user_score</th>\n",
       "      <th>critic_score</th>\n",
       "    </tr>\n",
       "  </thead>\n",
       "  <tbody>\n",
       "    <tr>\n",
       "      <th>total_sales</th>\n",
       "      <td>1.00</td>\n",
       "      <td>-0.03</td>\n",
       "      <td>0.41</td>\n",
       "    </tr>\n",
       "    <tr>\n",
       "      <th>user_score</th>\n",
       "      <td>-0.03</td>\n",
       "      <td>1.00</td>\n",
       "      <td>0.56</td>\n",
       "    </tr>\n",
       "    <tr>\n",
       "      <th>critic_score</th>\n",
       "      <td>0.41</td>\n",
       "      <td>0.56</td>\n",
       "      <td>1.00</td>\n",
       "    </tr>\n",
       "  </tbody>\n",
       "</table>\n",
       "</div>"
      ],
      "text/plain": [
       "              total_sales  user_score  critic_score\n",
       "total_sales          1.00       -0.03          0.41\n",
       "user_score          -0.03        1.00          0.56\n",
       "critic_score         0.41        0.56          1.00"
      ]
     },
     "execution_count": 39,
     "metadata": {},
     "output_type": "execute_result"
    }
   ],
   "source": [
    "# матрица корреляции общих продаж,оценок критиков и оценок пользователей на PS4\n",
    "corr_matrix_ps4 = ps4_actual_games[['total_sales','user_score','critic_score']].corr().round(decimals=2)\n",
    "corr_matrix_ps4"
   ]
  },
  {
   "cell_type": "code",
   "execution_count": 40,
   "id": "8f4e36b9",
   "metadata": {},
   "outputs": [
    {
     "data": {
      "image/png": "[encoded data removed]",
      "text/plain": [
       "<Figure size 720x720 with 9 Axes>"
      ]
     },
     "metadata": {
      "needs_background": "light"
     },
     "output_type": "display_data"
    }
   ],
   "source": [
    "# диаграммы рассеяния для PS4\n",
    "pd.plotting.scatter_matrix(ps4_actual_games[['total_sales','user_score','critic_score']], figsize=(10,10))\n",
    "plt.show() "
   ]
  },
  {
   "cell_type": "markdown",
   "id": "c139b599",
   "metadata": {},
   "source": [
    "Коэффициент корреляции между оценкой критика и продажами 41 %, так что зависимость есть.\n",
    "\n",
    "С оценкой пользователями ситуация другая, тут коэффициент корреляции практически нулевой, и по диаграмме рассеяния видно что оценки пользователей не сильно влияют на продажи. \n",
    "\n",
    "Инетересно что есть зависимость между оценками критиков и оценками пользователей с корреляцией в 56 %.\n",
    "\n",
    "Проверим будут ли выводы аналогичными по другим платформам, возьмем Xbox One и WiiU."
   ]
  },
  {
   "cell_type": "code",
   "execution_count": 41,
   "id": "8d2b1b3c",
   "metadata": {},
   "outputs": [
    {
     "data": {
      "text/html": [
       "<div>\n",
       "<style scoped>\n",
       "    .dataframe tbody tr th:only-of-type {\n",
       "        vertical-align: middle;\n",
       "    }\n",
       "\n",
       "    .dataframe tbody tr th {\n",
       "        vertical-align: top;\n",
       "    }\n",
       "\n",
       "    .dataframe thead th {\n",
       "        text-align: right;\n",
       "    }\n",
       "</style>\n",
       "<table border=\"1\" class=\"dataframe\">\n",
       "  <thead>\n",
       "    <tr style=\"text-align: right;\">\n",
       "      <th></th>\n",
       "      <th>total_sales</th>\n",
       "      <th>user_score</th>\n",
       "      <th>critic_score</th>\n",
       "    </tr>\n",
       "  </thead>\n",
       "  <tbody>\n",
       "    <tr>\n",
       "      <th>total_sales</th>\n",
       "      <td>1.00</td>\n",
       "      <td>-0.07</td>\n",
       "      <td>0.42</td>\n",
       "    </tr>\n",
       "    <tr>\n",
       "      <th>user_score</th>\n",
       "      <td>-0.07</td>\n",
       "      <td>1.00</td>\n",
       "      <td>0.47</td>\n",
       "    </tr>\n",
       "    <tr>\n",
       "      <th>critic_score</th>\n",
       "      <td>0.42</td>\n",
       "      <td>0.47</td>\n",
       "      <td>1.00</td>\n",
       "    </tr>\n",
       "  </tbody>\n",
       "</table>\n",
       "</div>"
      ],
      "text/plain": [
       "              total_sales  user_score  critic_score\n",
       "total_sales          1.00       -0.07          0.42\n",
       "user_score          -0.07        1.00          0.47\n",
       "critic_score         0.42        0.47          1.00"
      ]
     },
     "execution_count": 41,
     "metadata": {},
     "output_type": "execute_result"
    }
   ],
   "source": [
    "# матрица корреляции общих продаж,оценок критиков и оценок пользователей на XboxOne\n",
    "corr_matrix_xone = actual_games.query('platform == \"xone\"')[['total_sales','user_score','critic_score']].corr().round(decimals=2)\n",
    "corr_matrix_xone"
   ]
  },
  {
   "cell_type": "code",
   "execution_count": 42,
   "id": "d3786449",
   "metadata": {},
   "outputs": [
    {
     "data": {
      "image/png": "[encoded data removed]",
      "text/plain": [
       "<Figure size 720x720 with 9 Axes>"
      ]
     },
     "metadata": {
      "needs_background": "light"
     },
     "output_type": "display_data"
    }
   ],
   "source": [
    "# диаграммы рассеяния для Xbox One\n",
    "pd.plotting.scatter_matrix(actual_games.query('platform == \"xone\"')[['total_sales','user_score','critic_score']], figsize=(10,10))\n",
    "plt.show() "
   ]
  },
  {
   "cell_type": "markdown",
   "id": "2ab5d332",
   "metadata": {},
   "source": [
    "На консоли Microsoft XboxOne ситуация очень похожа на ту что мы видели у PS4."
   ]
  },
  {
   "cell_type": "code",
   "execution_count": 43,
   "id": "d92fe6c6",
   "metadata": {},
   "outputs": [
    {
     "data": {
      "text/html": [
       "<div>\n",
       "<style scoped>\n",
       "    .dataframe tbody tr th:only-of-type {\n",
       "        vertical-align: middle;\n",
       "    }\n",
       "\n",
       "    .dataframe tbody tr th {\n",
       "        vertical-align: top;\n",
       "    }\n",
       "\n",
       "    .dataframe thead th {\n",
       "        text-align: right;\n",
       "    }\n",
       "</style>\n",
       "<table border=\"1\" class=\"dataframe\">\n",
       "  <thead>\n",
       "    <tr style=\"text-align: right;\">\n",
       "      <th></th>\n",
       "      <th>total_sales</th>\n",
       "      <th>user_score</th>\n",
       "      <th>critic_score</th>\n",
       "    </tr>\n",
       "  </thead>\n",
       "  <tbody>\n",
       "    <tr>\n",
       "      <th>total_sales</th>\n",
       "      <td>1.00</td>\n",
       "      <td>0.42</td>\n",
       "      <td>0.38</td>\n",
       "    </tr>\n",
       "    <tr>\n",
       "      <th>user_score</th>\n",
       "      <td>0.42</td>\n",
       "      <td>1.00</td>\n",
       "      <td>0.72</td>\n",
       "    </tr>\n",
       "    <tr>\n",
       "      <th>critic_score</th>\n",
       "      <td>0.38</td>\n",
       "      <td>0.72</td>\n",
       "      <td>1.00</td>\n",
       "    </tr>\n",
       "  </tbody>\n",
       "</table>\n",
       "</div>"
      ],
      "text/plain": [
       "              total_sales  user_score  critic_score\n",
       "total_sales          1.00        0.42          0.38\n",
       "user_score           0.42        1.00          0.72\n",
       "critic_score         0.38        0.72          1.00"
      ]
     },
     "execution_count": 43,
     "metadata": {},
     "output_type": "execute_result"
    }
   ],
   "source": [
    "# матрица корреляции общих продаж,оценок критиков и оценок пользователей на WiiU\n",
    "corr_matrix_wiiu = actual_games.query('platform == \"wiiu\"')[['total_sales','user_score','critic_score']].corr().round(decimals=2)\n",
    "corr_matrix_wiiu"
   ]
  },
  {
   "cell_type": "code",
   "execution_count": 44,
   "id": "73bcffb5",
   "metadata": {},
   "outputs": [
    {
     "data": {
      "image/png": "[encoded data removed]",
      "text/plain": [
       "<Figure size 720x720 with 9 Axes>"
      ]
     },
     "metadata": {
      "needs_background": "light"
     },
     "output_type": "display_data"
    }
   ],
   "source": [
    "# диаграммы рассеяния для WiiU\n",
    "pd.plotting.scatter_matrix(actual_games.query('platform == \"wiiu\"')[['total_sales','user_score','critic_score']], figsize=(10,10))\n",
    "plt.show() "
   ]
  },
  {
   "cell_type": "markdown",
   "id": "c33632e8",
   "metadata": {},
   "source": [
    "Nintendo WiiU как всегда выделяется, тут оценка пользователя влияте на продажи сильнее чем оценка критика, 42 против 38 %. При этом солидарность у критиков и пользователей в играх на Nintendo еще выше, корреляция в 72 %.\n",
    "У Nintendo всегда была своя, очень преданая аудитория.\n",
    "\n",
    "Для прогнозов продаж игр на консолях PS4, XboxOne и WiiU нужно по разному опираться на оценки критиков, консоли нинтендо - отдельный лагерь."
   ]
  },
  {
   "cell_type": "markdown",
   "id": "32da2573",
   "metadata": {},
   "source": [
    "---\n",
    "\n",
    "### Распределение игр по жанрам"
   ]
  },
  {
   "cell_type": "markdown",
   "id": "69c82a09",
   "metadata": {},
   "source": [
    "Посмотрим какие жанры игр удерживают пальму первенства по количеству игр и по продажам"
   ]
  },
  {
   "cell_type": "code",
   "execution_count": 91,
   "id": "33e3eaf1",
   "metadata": {},
   "outputs": [
    {
     "data": {
      "text/html": [
       "<div>\n",
       "<style scoped>\n",
       "    .dataframe tbody tr th:only-of-type {\n",
       "        vertical-align: middle;\n",
       "    }\n",
       "\n",
       "    .dataframe tbody tr th {\n",
       "        vertical-align: top;\n",
       "    }\n",
       "\n",
       "    .dataframe thead th {\n",
       "        text-align: right;\n",
       "    }\n",
       "</style>\n",
       "<table border=\"1\" class=\"dataframe\">\n",
       "  <thead>\n",
       "    <tr style=\"text-align: right;\">\n",
       "      <th></th>\n",
       "      <th>name</th>\n",
       "      <th>total_sales</th>\n",
       "    </tr>\n",
       "    <tr>\n",
       "      <th>genre</th>\n",
       "      <th></th>\n",
       "      <th></th>\n",
       "    </tr>\n",
       "  </thead>\n",
       "  <tbody>\n",
       "    <tr>\n",
       "      <th>action</th>\n",
       "      <td>766</td>\n",
       "      <td>321.87</td>\n",
       "    </tr>\n",
       "    <tr>\n",
       "      <th>shooter</th>\n",
       "      <td>187</td>\n",
       "      <td>232.98</td>\n",
       "    </tr>\n",
       "    <tr>\n",
       "      <th>sports</th>\n",
       "      <td>214</td>\n",
       "      <td>150.65</td>\n",
       "    </tr>\n",
       "    <tr>\n",
       "      <th>role-playing</th>\n",
       "      <td>292</td>\n",
       "      <td>145.89</td>\n",
       "    </tr>\n",
       "    <tr>\n",
       "      <th>misc</th>\n",
       "      <td>155</td>\n",
       "      <td>62.82</td>\n",
       "    </tr>\n",
       "    <tr>\n",
       "      <th>platform</th>\n",
       "      <td>74</td>\n",
       "      <td>42.63</td>\n",
       "    </tr>\n",
       "    <tr>\n",
       "      <th>racing</th>\n",
       "      <td>85</td>\n",
       "      <td>39.89</td>\n",
       "    </tr>\n",
       "    <tr>\n",
       "      <th>fighting</th>\n",
       "      <td>80</td>\n",
       "      <td>35.31</td>\n",
       "    </tr>\n",
       "    <tr>\n",
       "      <th>adventure</th>\n",
       "      <td>245</td>\n",
       "      <td>23.64</td>\n",
       "    </tr>\n",
       "    <tr>\n",
       "      <th>simulation</th>\n",
       "      <td>62</td>\n",
       "      <td>21.76</td>\n",
       "    </tr>\n",
       "    <tr>\n",
       "      <th>strategy</th>\n",
       "      <td>56</td>\n",
       "      <td>10.08</td>\n",
       "    </tr>\n",
       "    <tr>\n",
       "      <th>puzzle</th>\n",
       "      <td>17</td>\n",
       "      <td>3.17</td>\n",
       "    </tr>\n",
       "  </tbody>\n",
       "</table>\n",
       "</div>"
      ],
      "text/plain": [
       "              name  total_sales\n",
       "genre                          \n",
       "action         766       321.87\n",
       "shooter        187       232.98\n",
       "sports         214       150.65\n",
       "role-playing   292       145.89\n",
       "misc           155        62.82\n",
       "platform        74        42.63\n",
       "racing          85        39.89\n",
       "fighting        80        35.31\n",
       "adventure      245        23.64\n",
       "simulation      62        21.76\n",
       "strategy        56        10.08\n",
       "puzzle          17         3.17"
      ]
     },
     "execution_count": 91,
     "metadata": {},
     "output_type": "execute_result"
    }
   ],
   "source": [
    "# сводная таблица с самыми часто встречаемыми жанрами\n",
    "most_popular_genre = actual_games.groupby('genre').agg({'name':'count','total_sales':'sum'})\\\n",
    ".sort_values(by='total_sales', ascending=False)\n",
    "most_popular_genre"
   ]
  },
  {
   "cell_type": "code",
   "execution_count": 92,
   "id": "8c8b659c",
   "metadata": {},
   "outputs": [
    {
     "data": {
      "image/png": "[encoded data removed]",
      "text/plain": [
       "<Figure size 432x288 with 1 Axes>"
      ]
     },
     "metadata": {
      "needs_background": "light"
     },
     "output_type": "display_data"
    }
   ],
   "source": [
    "most_popular_genre.plot(kind='bar')\n",
    "plt.title('Продажи игр по жанрам на актуальных платформах')\n",
    "plt.xlabel('Жанры')\n",
    "plt.legend(loc='upper right')\n",
    "plt.show()"
   ]
  },
  {
   "cell_type": "code",
   "execution_count": 102,
   "id": "deb18a13",
   "metadata": {},
   "outputs": [
    {
     "data": {
      "text/html": [
       "<div>\n",
       "<style scoped>\n",
       "    .dataframe tbody tr th:only-of-type {\n",
       "        vertical-align: middle;\n",
       "    }\n",
       "\n",
       "    .dataframe tbody tr th {\n",
       "        vertical-align: top;\n",
       "    }\n",
       "\n",
       "    .dataframe thead th {\n",
       "        text-align: right;\n",
       "    }\n",
       "</style>\n",
       "<table border=\"1\" class=\"dataframe\">\n",
       "  <thead>\n",
       "    <tr style=\"text-align: right;\">\n",
       "      <th></th>\n",
       "      <th>total_sales</th>\n",
       "    </tr>\n",
       "    <tr>\n",
       "      <th>genre</th>\n",
       "      <th></th>\n",
       "    </tr>\n",
       "  </thead>\n",
       "  <tbody>\n",
       "    <tr>\n",
       "      <th>shooter</th>\n",
       "      <td>0.450</td>\n",
       "    </tr>\n",
       "    <tr>\n",
       "      <th>sports</th>\n",
       "      <td>0.240</td>\n",
       "    </tr>\n",
       "    <tr>\n",
       "      <th>platform</th>\n",
       "      <td>0.225</td>\n",
       "    </tr>\n",
       "    <tr>\n",
       "      <th>role-playing</th>\n",
       "      <td>0.125</td>\n",
       "    </tr>\n",
       "    <tr>\n",
       "      <th>fighting</th>\n",
       "      <td>0.125</td>\n",
       "    </tr>\n",
       "    <tr>\n",
       "      <th>racing</th>\n",
       "      <td>0.120</td>\n",
       "    </tr>\n",
       "    <tr>\n",
       "      <th>action</th>\n",
       "      <td>0.110</td>\n",
       "    </tr>\n",
       "    <tr>\n",
       "      <th>simulation</th>\n",
       "      <td>0.100</td>\n",
       "    </tr>\n",
       "    <tr>\n",
       "      <th>misc</th>\n",
       "      <td>0.100</td>\n",
       "    </tr>\n",
       "    <tr>\n",
       "      <th>strategy</th>\n",
       "      <td>0.080</td>\n",
       "    </tr>\n",
       "    <tr>\n",
       "      <th>puzzle</th>\n",
       "      <td>0.060</td>\n",
       "    </tr>\n",
       "    <tr>\n",
       "      <th>adventure</th>\n",
       "      <td>0.030</td>\n",
       "    </tr>\n",
       "  </tbody>\n",
       "</table>\n",
       "</div>"
      ],
      "text/plain": [
       "              total_sales\n",
       "genre                    \n",
       "shooter             0.450\n",
       "sports              0.240\n",
       "platform            0.225\n",
       "role-playing        0.125\n",
       "fighting            0.125\n",
       "racing              0.120\n",
       "action              0.110\n",
       "simulation          0.100\n",
       "misc                0.100\n",
       "strategy            0.080\n",
       "puzzle              0.060\n",
       "adventure           0.030"
      ]
     },
     "execution_count": 102,
     "metadata": {},
     "output_type": "execute_result"
    }
   ],
   "source": [
    "most_popular_genre_mean = actual_games.groupby('genre').agg({'total_sales':'median'})\\\n",
    ".sort_values(by='total_sales', ascending=False)\n",
    "most_popular_genre_mean"
   ]
  },
  {
   "cell_type": "code",
   "execution_count": 107,
   "id": "42637409",
   "metadata": {},
   "outputs": [
    {
     "data": {
      "image/png": "[encoded data removed]",
      "text/plain": [
       "<Figure size 720x720 with 1 Axes>"
      ]
     },
     "metadata": {
      "needs_background": "light"
     },
     "output_type": "display_data"
    }
   ],
   "source": [
    "actual_games.boxplot('total_sales', by='genre',  figsize=(10,10), showfliers=False)\n",
    "plt.title('Ящики с усами для средних продаж в разбивке по жанрам')\n",
    "plt.xlabel('Жанры')\n",
    "plt.show() "
   ]
  },
  {
   "cell_type": "markdown",
   "id": "d347f2d6",
   "metadata": {},
   "source": [
    "~~Самые популярные и самые продаваемые игры в жанре action. Самыми продаваемыми являются: action, shooter, sports и role-playing.\n",
    "При этом по количеству игр на втором месте не шутеры и ролевые игры. В целом количество выпускаемых игр в том или ином жанре часто коррелирует с продажами игр в этом жанре, но есть исключения в виде шутеров, ролевых и приключенческих игр.~~\n",
    "\n",
    "~~Самые низкие продажи у симуляторов, пазлов и стратегий.~~\n",
    "\n",
    "Самые часто выпускаемые жанры action, role-playing и adventure.\n",
    "Самыми же продаваемыми жанрвами являются игры в жанрах shooter, sports, platform далее примерно на одном уровне action, racing, role-playing. "
   ]
  },
  {
   "cell_type": "markdown",
   "id": "d8aea6b0",
   "metadata": {},
   "source": [
    "---\n",
    "\n",
    "\n",
    "## Портрет пользователя каждого из регионов (NA, EU, JP)"
   ]
  },
  {
   "cell_type": "markdown",
   "id": "3b20e44f",
   "metadata": {},
   "source": [
    "Составим портреты пользователей каждого из трех регионов:\n",
    "* NA - Северная Америка;\n",
    "* EU - Европа;\n",
    "* JP - Япония."
   ]
  },
  {
   "cell_type": "markdown",
   "id": "0748c5bc",
   "metadata": {},
   "source": [
    "---\n",
    "\n",
    "### Топ-5 самых популярных платформ"
   ]
  },
  {
   "cell_type": "markdown",
   "id": "827d3bce",
   "metadata": {},
   "source": [
    "Посмотрим для каких консолей в разных регионах игры продаются лучше всего, выберем Топ-5 консолей по продажам игр.\n",
    "\n",
    "Начнем с Северной Америки"
   ]
  },
  {
   "cell_type": "code",
   "execution_count": 122,
   "id": "7c08de3c",
   "metadata": {},
   "outputs": [
    {
     "data": {
      "image/png": "[encoded data removed]",
      "text/plain": [
       "<Figure size 432x288 with 1 Axes>"
      ]
     },
     "metadata": {
      "needs_background": "light"
     },
     "output_type": "display_data"
    }
   ],
   "source": [
    "# топ-5 самых популярных платформ в Европе\n",
    "actual_games.groupby(by='platform').sum().tail(5).plot(kind='bar', y=['na_sales','eu_sales','jp_sales'])\n",
    "plt.title('Продажи игр на консоли')\n",
    "plt.xlabel('Платформы')\n",
    "plt.show()"
   ]
  },
  {
   "cell_type": "markdown",
   "id": "7681aacb",
   "metadata": {},
   "source": [
    "В Европе лидеры консоли от Sony (PS4 с большим отрывом, PS3), консоли Microsoft (Xbox One, Xbox360) на 3 и 4 месте, 3DS от Nintendo на 5 месте."
   ]
  },
  {
   "cell_type": "markdown",
   "id": "229c561b",
   "metadata": {},
   "source": [
    "В Северной Америке лидирует PS4, консоли Microsoft (Xbox360 и Xbox One) держат 2 и 3 место, в отличие от Европы тут консоли Microsoft любят больше, PS3 на 4 месте, 3DS от Nintendo на 5 месте."
   ]
  },
  {
   "cell_type": "markdown",
   "id": "b7672df0",
   "metadata": {},
   "source": [
    "В Японии картина сильно отличается от всех остальных регионов, неожиданно портативная консоль 3DS от Nintendo в лидерах. Консоли Sony так же в почете, причем на 3 месте портативная PS Vita. Про консоли от Microsoft как-будто никто и не слышал. \n",
    "\n",
    "Промежуточный вывод:\n",
    "- В Японии явно любят Nintendo и портативный гейминг, Microsoft совсем не в почете;\n",
    "\n",
    "- В Северной Америке примерно одинковое количество покупают игры на консоли Sony и Microsoft, но все таки в текущем поколении консолей PS4 выигрывает у XboxOne даже в Северной Америке;\n",
    "\n",
    "- В Европе Sony и PS4 в частности просто доминируют. На консоли от Microsoft покупают существенно меньше игр."
   ]
  },
  {
   "cell_type": "markdown",
   "id": "9919c9b7",
   "metadata": {},
   "source": [
    "---\n",
    "\n",
    "### Топ-5 самых поулярных жанров"
   ]
  },
  {
   "cell_type": "markdown",
   "id": "ba0ed239",
   "metadata": {},
   "source": [
    "Теперь посмотрим в игры каких жанров чаще играют в разных частях света.\n",
    "\n",
    "Начнем снова с Европы"
   ]
  },
  {
   "cell_type": "code",
   "execution_count": 119,
   "id": "37f75291",
   "metadata": {},
   "outputs": [
    {
     "data": {
      "image/png": "[encoded data removed]",
      "text/plain": [
       "<Figure size 432x288 with 1 Axes>"
      ]
     },
     "metadata": {},
     "output_type": "display_data"
    }
   ],
   "source": [
    "# топ-5 самых популярных жанров в Европе\n",
    "actual_games.groupby(by='genre')['eu_sales'].sum().tail(5).plot(kind='pie')\n",
    "plt.title('Популярные жанры игр в Европе')\n",
    "plt.xlabel('Жанры')\n",
    "plt.show()"
   ]
  },
  {
   "cell_type": "markdown",
   "id": "de82ffb9",
   "metadata": {},
   "source": [
    "В Европе самые популярные жанры action, shooter и sports."
   ]
  },
  {
   "cell_type": "code",
   "execution_count": 120,
   "id": "8c95ccbd",
   "metadata": {},
   "outputs": [
    {
     "data": {
      "image/png": "[encoded data removed]",
      "text/plain": [
       "<Figure size 432x288 with 1 Axes>"
      ]
     },
     "metadata": {},
     "output_type": "display_data"
    }
   ],
   "source": [
    "# топ-5 самых популярных жанров в Северной Америке\n",
    "actual_games.groupby(by='genre')['na_sales'].sum().tail(5).plot(kind='pie')\n",
    "plt.title('Популярные жанры игр в Северной Америке')\n",
    "plt.xlabel('Жанры')\n",
    "plt.show()"
   ]
  },
  {
   "cell_type": "markdown",
   "id": "79a1a731",
   "metadata": {},
   "source": [
    "В Северной Америке самые популярные жанры action, shooter и sports. И вообще пятерка самых популярных жанров от Европы отличается только пятым местом, вместо гонок в Америке предпочитают игры жанра misc."
   ]
  },
  {
   "cell_type": "code",
   "execution_count": 121,
   "id": "410c4587",
   "metadata": {},
   "outputs": [
    {
     "data": {
      "image/png": "[encoded data removed]",
      "text/plain": [
       "<Figure size 432x288 with 1 Axes>"
      ]
     },
     "metadata": {},
     "output_type": "display_data"
    }
   ],
   "source": [
    "# топ-5 самых популярных жанров в Японии\n",
    "actual_games.groupby(by='genre')['jp_sales'].sum().tail(5).plot(kind='pie')\n",
    "plt.title('Популярные жанры игр в Японии')\n",
    "plt.xlabel('Жанры')\n",
    "plt.show()"
   ]
  },
  {
   "cell_type": "markdown",
   "id": "e80ac575",
   "metadata": {},
   "source": [
    "Япония в очередной раз выделяется, на первом месте ролевые игры на втором с небольшим отставанием action. Третье место от четвертого отделяет просто пропасть.\n",
    "Misc на третьем месте, на четвертом файтинги и шутеры только на пятом.\n",
    "\n",
    "\n",
    "Промежуточный вывод:\n",
    "   * Япония вновь выделяется, судя по всему в Японии сильно отличаются вкусы от Европы и Северной Америке;\n",
    "   * Европа и Северная Америка в плане самых популярных жанров практически идентичны;\n",
    "   * Action любят все!"
   ]
  },
  {
   "cell_type": "markdown",
   "id": "69434781",
   "metadata": {},
   "source": [
    "---\n",
    "\n",
    "\n",
    "### Влияет ли возрастной рейтинг ESRB на продажи в регионах"
   ]
  },
  {
   "cell_type": "markdown",
   "id": "bb726f29",
   "metadata": {},
   "source": [
    "Изучим влияние рейтинга на продажи в регионах."
   ]
  },
  {
   "cell_type": "code",
   "execution_count": 53,
   "id": "a912fec1",
   "metadata": {},
   "outputs": [
    {
     "data": {
      "image/png": "[encoded data removed]",
      "text/plain": [
       "<Figure size 432x288 with 1 Axes>"
      ]
     },
     "metadata": {
      "needs_background": "light"
     },
     "output_type": "display_data"
    }
   ],
   "source": [
    "# топ-5 рейтингов с наивысшими продажами в Европе\n",
    "actual_games.groupby(by='text_rating').agg({'eu_sales':'sum'}).sort_values(by='eu_sales').tail(5).plot(kind='bar')\n",
    "plt.title('Продажи игр в Европе с по рейтингам')\n",
    "plt.xlabel('Рейтинг')\n",
    "plt.show()"
   ]
  },
  {
   "cell_type": "markdown",
   "id": "f0ef7d69",
   "metadata": {},
   "source": [
    "Два самых популярных рейтинга в Европе - Для всех и От 17 лет. При чем От 17 лет сильно выбивается вперед, видимо в игры играют приемущесвтенно взрослые люди. Что интересно игры с отсутствующим рейтингом занимают третье место."
   ]
  },
  {
   "cell_type": "code",
   "execution_count": 54,
   "id": "2b97f9ca",
   "metadata": {},
   "outputs": [
    {
     "data": {
      "image/png": "[encoded data removed]",
      "text/plain": [
       "<Figure size 432x288 with 1 Axes>"
      ]
     },
     "metadata": {
      "needs_background": "light"
     },
     "output_type": "display_data"
    }
   ],
   "source": [
    "# топ-5 рейтингов с наивысшими продажами в Северной Америке\n",
    "actual_games.groupby(by='text_rating').agg({'na_sales':'sum'}).sort_values(by='na_sales').tail(5).plot(kind='bar')\n",
    "plt.title('Продажи игр в Северной Америке с по рейтингам')\n",
    "plt.xlabel('Рейтинг')\n",
    "plt.show()"
   ]
  },
  {
   "cell_type": "markdown",
   "id": "ada5eb1a",
   "metadata": {},
   "source": [
    "Рейтинг От 17 лет в Северной Америке тоже в лидерах, но игры с отсутствующим рейтингом вышли на второе место. Для всех на третьем место. Четвертое и пятое место так же как в Европе - для всех старше 10 лет и для подростков 13-19 лет соответственно."
   ]
  },
  {
   "cell_type": "code",
   "execution_count": 55,
   "id": "5f0972cd",
   "metadata": {
    "scrolled": true
   },
   "outputs": [
    {
     "data": {
      "image/png": "[encoded data removed]",
      "text/plain": [
       "<Figure size 432x288 with 1 Axes>"
      ]
     },
     "metadata": {
      "needs_background": "light"
     },
     "output_type": "display_data"
    }
   ],
   "source": [
    "# топ-5 рейтингов с наивысшими продажами в Японии\n",
    "actual_games.groupby(by='text_rating').agg({'jp_sales':'sum'}).sort_values(by='jp_sales').tail(5).plot(kind='bar')\n",
    "plt.title('Продажи игр в Японии с по рейтингам')\n",
    "plt.xlabel('Рейтинг')\n",
    "plt.show()"
   ]
  },
  {
   "cell_type": "markdown",
   "id": "09514d38",
   "metadata": {},
   "source": [
    "Япония в очередной раз доказывает. что их рынок игровой индустрии особенный! На первом месте с отрывом игры без рейтинга - вероятно в Японии на рейтинг ESRB людям без разницы, и наиболее популярны игры которые не оценивались этим рейтинговым агенством. Вообще многие игры популярные в Японии на рынки других регионов не выходят, поэтому и не оценивались. \n",
    "Что касается игр с рейтингом то второе место занимают игры для подростков 13-19 лет. Для всех на третьей строчке и рейтинг от 17 лет только на четвертой строчке.\n",
    "\n",
    "\n",
    "Портрет среднестатистического игрока в каждом регионе:\n",
    "\n",
    "**В Европе** - играет на PS4, в основном в игры жанра action, shooter и sport, либо без рейтинга либо с рейтингом для всех или выше 17 лет;\n",
    "\n",
    "**В Северной Америке** - играет примерно в равных пропорциях либо на PS4 либо на XboxOne, в основном в игры жанра action, shooter и sport либо без рейтинга либо с рейтингом для всех или выше 17 лет;\n",
    "\n",
    "**В Японии** - играет приемущественно на консоли Nintendo 3ds, в игры жанра RPG и action, чаще всего игры вообще без рейтинга или ели рейтинг все таки есть то игра либо для подростков 13-19 лет либо для всех.\n",
    "\n",
    "\n",
    "Японский рынок действительно особенный."
   ]
  },
  {
   "cell_type": "markdown",
   "id": "db2d3f6a",
   "metadata": {},
   "source": [
    "---\n",
    "\n",
    "\n",
    "## Проверка гипотез"
   ]
  },
  {
   "cell_type": "markdown",
   "id": "7c32344e",
   "metadata": {},
   "source": [
    "Перейдем к проверке статистических гипотез.\n",
    "\n",
    "Поскольку мы будем сравнивать независимые между собой выборки будем использовать t-критерий Стьюдента.\n",
    "Пороговое значение alpha примем равным 5 % (0.05)"
   ]
  },
  {
   "cell_type": "markdown",
   "id": "bb074a2f",
   "metadata": {},
   "source": [
    "---\n",
    "\n",
    "### Гипотеза \"Средние пользовательские рейтинги платформ Xbox One и PC одинаковые\""
   ]
  },
  {
   "cell_type": "markdown",
   "id": "0cf31edb",
   "metadata": {},
   "source": [
    "\n",
    "**Сформулируем нулевую и альтернативную гипотезу:**\n",
    "- H0: Средние пользовательские рейтинги у игр на платформах Xbox One и PC равны;\n",
    "- H1: Средние пользовательские рейтинги у игр на платформах Xbox One и PC не равны."
   ]
  },
  {
   "cell_type": "code",
   "execution_count": 56,
   "id": "a741c5e1",
   "metadata": {},
   "outputs": [],
   "source": [
    "# выделим данные с оценками по платформам в отдельные таблицы\n",
    "xone_user_score = actual_games[actual_games['platform'] == 'xone']['user_score']\n",
    "pc_user_score = actual_games[actual_games['platform'] == 'pc']['user_score']\n",
    "# удалим пропуски\n",
    "xone_user_score = xone_user_score.dropna()\n",
    "pc_user_score = pc_user_score.dropna()"
   ]
  },
  {
   "cell_type": "code",
   "execution_count": 57,
   "id": "b2aeea34",
   "metadata": {},
   "outputs": [],
   "source": [
    "alpha = 0.05"
   ]
  },
  {
   "cell_type": "code",
   "execution_count": 58,
   "id": "321151e4",
   "metadata": {},
   "outputs": [],
   "source": [
    "results = st.ttest_ind(xone_user_score,pc_user_score)"
   ]
  },
  {
   "cell_type": "code",
   "execution_count": 59,
   "id": "02e2ba6b",
   "metadata": {},
   "outputs": [
    {
     "name": "stdout",
     "output_type": "stream",
     "text": [
      "p-значение: 0.14012658403611647\n",
      "Не получилось отвергнуть нулевую гипотезу\n"
     ]
    }
   ],
   "source": [
    "print('p-значение:', results.pvalue)\n",
    "\n",
    "if (results.pvalue < alpha):\n",
    "    print(\"Отвергаем нулевую гипотезу\")\n",
    "else:\n",
    "    print(\"Не получилось отвергнуть нулевую гипотезу\")"
   ]
  },
  {
   "cell_type": "markdown",
   "id": "43242510",
   "metadata": {},
   "source": [
    "Нулевая гипотеза  не отвергнута, значит мы принимаем гипотезу о равенстве средних пользовательских рейтингов игр на платформах Xbox One и PC."
   ]
  },
  {
   "cell_type": "markdown",
   "id": "bc375ec1",
   "metadata": {},
   "source": [
    "---\n",
    "\n",
    "### Гипотеза \"Средние пользовательские рейтинги жанров Action и Sports разные\""
   ]
  },
  {
   "cell_type": "markdown",
   "id": "b1148aa7",
   "metadata": {},
   "source": [
    "\n",
    "**Сформулируем нулевую и альтернативную гипотезу:**\n",
    "- H0: Средние пользовательские рейтинги у игр жанров Action и Sports равны;\n",
    "- H1: Средние пользовательские рейтинги у игр жанров Action и Sports не равны."
   ]
  },
  {
   "cell_type": "code",
   "execution_count": 60,
   "id": "e4bad970",
   "metadata": {},
   "outputs": [],
   "source": [
    "# выделим данные с оценками по жанрам в отдельные таблицы\n",
    "action_user_score = actual_games[actual_games['genre'] == 'action']['user_score']\n",
    "sports_user_score = actual_games[actual_games['genre'] == 'sports']['user_score']\n",
    "# удалим пропуски\n",
    "action_user_score = action_user_score.dropna()\n",
    "sports_user_score = sports_user_score.dropna()"
   ]
  },
  {
   "cell_type": "code",
   "execution_count": 61,
   "id": "a07f3602",
   "metadata": {},
   "outputs": [],
   "source": [
    "alpha = 0.05"
   ]
  },
  {
   "cell_type": "code",
   "execution_count": 62,
   "id": "265ee731",
   "metadata": {},
   "outputs": [],
   "source": [
    "results = st.ttest_ind(action_user_score,sports_user_score)"
   ]
  },
  {
   "cell_type": "code",
   "execution_count": 63,
   "id": "b98caf2a",
   "metadata": {
    "scrolled": true
   },
   "outputs": [
    {
     "name": "stdout",
     "output_type": "stream",
     "text": [
      "p-значение: 1.0517832389140023e-27\n",
      "Отвергаем нулевую гипотезу\n"
     ]
    }
   ],
   "source": [
    "print('p-значение:', results.pvalue)\n",
    "\n",
    "if (results.pvalue < alpha):\n",
    "    print(\"Отвергаем нулевую гипотезу\")\n",
    "else:\n",
    "    print(\"Не получилось отвергнуть нулевую гипотезу\")"
   ]
  },
  {
   "cell_type": "markdown",
   "id": "108c2b1e",
   "metadata": {},
   "source": [
    "Нулевая гипотеза не потдвердилась, значит принимаем альтернативную о различии средних пользовательских оценок у жанров Action и Sports."
   ]
  },
  {
   "cell_type": "markdown",
   "id": "cc9dcb06",
   "metadata": {},
   "source": [
    "---\n",
    "\n",
    "## Общий вывод"
   ]
  },
  {
   "cell_type": "markdown",
   "id": "82d8f0d3",
   "metadata": {},
   "source": [
    "Игровая индустрия после пика 2008 года находится в некоем упадке, но продажи все равно существенные, люди играть не перестали.\n",
    "\n",
    "Для прогнозирования успеха той или иной игры, необходимо обращать внимание на рынок, на котором игра планируется выпускаться. У  Японского рынка свои правила и свои популярные платформы.\n",
    "\n",
    "Выгоднее всего делать мультиплатформенные игры, выходящие как на PS4, Xbox One, PC так и на WiiU, если это возможно.\n",
    "Игры в жанрах Action, Shooter, RPG лидеры по продажам.\n",
    "\n",
    "Чаще продаются игры либо с рейтингом для всех, либо для более взрослой аудитории 17+.\n",
    "\n",
    "На оценки критиков обращать внимание стоит, но если у консоли очень сплоченное комьюнити (например продукция Nintendo) пользовательский рейтинг окажет большее влияние чем оценка критика. \n",
    "\n",
    "Рекомендации:\n",
    "* добавить разработчика игры, думаю игры именитых разработчиков (rockstar, guerilla, blizzard, bethesda и т.д.) расходятся лучше,  на это стоит обращать внимание;\n",
    "* починить проблемы с пропусками рейтингов, может стоит брать рейтинг не из одного источника, а из нескольких;\n"
   ]
  }
 ],
 "metadata": {
  "ExecuteTimeLog": [
   {
    "duration": 210,
    "start_time": "2022-03-28T17:03:28.915Z"
   },
   {
    "duration": 201,
    "start_time": "2022-03-28T17:07:05.924Z"
   },
   {
    "duration": 226,
    "start_time": "2022-03-28T17:08:38.416Z"
   },
   {
    "duration": 192,
    "start_time": "2022-03-28T17:18:45.129Z"
   },
   {
    "duration": 203,
    "start_time": "2022-03-28T17:25:16.450Z"
   },
   {
    "duration": 290,
    "start_time": "2022-03-28T17:41:13.113Z"
   },
   {
    "duration": 208,
    "start_time": "2022-03-28T17:43:06.789Z"
   },
   {
    "duration": 359,
    "start_time": "2022-03-28T17:43:41.412Z"
   },
   {
    "duration": 197,
    "start_time": "2022-03-28T17:45:54.664Z"
   },
   {
    "duration": 192,
    "start_time": "2022-03-28T17:47:59.350Z"
   },
   {
    "duration": 220,
    "start_time": "2022-03-28T17:48:40.690Z"
   },
   {
    "duration": 205,
    "start_time": "2022-03-28T17:51:23.421Z"
   },
   {
    "duration": 200,
    "start_time": "2022-03-28T18:12:36.845Z"
   },
   {
    "duration": 122,
    "start_time": "2022-03-31T13:20:10.954Z"
   },
   {
    "duration": 258,
    "start_time": "2022-03-31T13:21:56.859Z"
   }
  ],
  "kernelspec": {
   "display_name": "Python 3 (ipykernel)",
   "language": "python",
   "name": "python3"
  },
  "language_info": {
   "codemirror_mode": {
    "name": "ipython",
    "version": 3
   },
   "file_extension": ".py",
   "mimetype": "text/x-python",
   "name": "python",
   "nbconvert_exporter": "python",
   "pygments_lexer": "ipython3",
   "version": "3.9.12"
  },
  "toc": {
   "base_numbering": 1,
   "nav_menu": {},
   "number_sections": true,
   "sideBar": true,
   "skip_h1_title": true,
   "title_cell": "Содержание",
   "title_sidebar": "Содержание",
   "toc_cell": true,
   "toc_position": {},
   "toc_section_display": true,
   "toc_window_display": true
  }
 },
 "nbformat": 4,
 "nbformat_minor": 5
}
