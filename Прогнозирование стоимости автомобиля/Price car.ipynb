{
 "cells": [
  {
   "cell_type": "markdown",
   "metadata": {},
   "source": [
    "# Определение стоимости автомобилей"
   ]
  },
  {
   "cell_type": "markdown",
   "metadata": {},
   "source": [
    "Сервис по продаже автомобилей с пробегом «Не бит, не крашен» разрабатывает приложение для привлечения новых клиентов. В нём можно быстро узнать рыночную стоимость своего автомобиля. В вашем распоряжении исторические данные: технические характеристики, комплектации и цены автомобилей. Вам нужно построить модель для определения стоимости. \n",
    "\n",
    "Заказчику важны:\n",
    "\n",
    "- качество предсказания;\n",
    "- скорость предсказания;\n",
    "- время обучения.\n",
    "\n",
    "\n",
    "**Описание данных**\n",
    "\n",
    "Признаки\n",
    "\n",
    "*\t`DateCrawled` — дата скачивания анкеты из базы;\n",
    "*\t`VehicleType` — тип автомобильного кузова;\n",
    "*\t`RegistrationYear` — год регистрации автомобиля;\n",
    "*\t`Gearbox` — тип коробки передач;\n",
    "*\t`Power` — мощность (л. с.);\n",
    "*\t`Model` — модель автомобиля;\n",
    "*\t`Kilometer` — пробег (км);\n",
    "*\t`RegistrationMonth` — месяц регистрации автомобиля;\n",
    "*\t`FuelType` — тип топлива;\n",
    "*\t`Brand` — марка автомобиля;\n",
    "*\t`NotRepaired` — была машина в ремонте или нет;\n",
    "*\t`DateCreated` — дата создания анкеты;\n",
    "*\t`NumberOfPictures` — количество фотографий автомобиля;\n",
    "*\t`PostalCode` — почтовый индекс владельца анкеты (пользователя);\n",
    "*\t`LastSeen` — дата последней активности пользователя.\n",
    "\n",
    "Целевой признак\n",
    "\n",
    "* `Price` — цена (евро)\n"
   ]
  },
  {
   "cell_type": "markdown",
   "metadata": {},
   "source": [
    "## Подготовка данных"
   ]
  },
  {
   "cell_type": "markdown",
   "metadata": {},
   "source": [
    "!pip install lightgbm"
   ]
  },
  {
   "cell_type": "code",
   "execution_count": 1,
   "metadata": {},
   "outputs": [],
   "source": [
    "import time\n",
    "import pandas as pd\n",
    "import numpy as np\n",
    "import seaborn as sns\n",
    "from matplotlib import pyplot as plt\n",
    "import sklearn\n",
    "\n",
    "from lightgbm import LGBMRegressor\n",
    "from sklearn.linear_model import LinearRegression\n",
    "from sklearn.linear_model import ElasticNet\n",
    "from sklearn.ensemble import RandomForestRegressor\n",
    "from sklearn.ensemble import GradientBoostingRegressor\n",
    "from sklearn.tree import DecisionTreeRegressor\n",
    "from sklearn.metrics import mean_squared_error\n",
    "from sklearn.model_selection import train_test_split\n",
    "from sklearn.preprocessing import LabelEncoder\n",
    "from sklearn.model_selection import GridSearchCV\n",
    "from matplotlib import pyplot as plt\n",
    "import warnings\n",
    "\n",
    "warnings.simplefilter('ignore')\n",
    "pd.set_option('display.max_columns', None)"
   ]
  },
  {
   "cell_type": "code",
   "execution_count": 2,
   "metadata": {},
   "outputs": [],
   "source": [
    "try:\n",
    "    df = pd.read_csv('/datasets/autos.csv')    \n",
    "except FileNotFoundError:\n",
    "    df = pd.read_csv('autos.csv')"
   ]
  },
  {
   "cell_type": "code",
   "execution_count": 3,
   "metadata": {},
   "outputs": [
    {
     "name": "stdout",
     "output_type": "stream",
     "text": [
      "<class 'pandas.core.frame.DataFrame'>\n",
      "RangeIndex: 354369 entries, 0 to 354368\n",
      "Data columns (total 16 columns):\n",
      " #   Column             Non-Null Count   Dtype \n",
      "---  ------             --------------   ----- \n",
      " 0   DateCrawled        354369 non-null  object\n",
      " 1   Price              354369 non-null  int64 \n",
      " 2   VehicleType        316879 non-null  object\n",
      " 3   RegistrationYear   354369 non-null  int64 \n",
      " 4   Gearbox            334536 non-null  object\n",
      " 5   Power              354369 non-null  int64 \n",
      " 6   Model              334664 non-null  object\n",
      " 7   Kilometer          354369 non-null  int64 \n",
      " 8   RegistrationMonth  354369 non-null  int64 \n",
      " 9   FuelType           321474 non-null  object\n",
      " 10  Brand              354369 non-null  object\n",
      " 11  NotRepaired        283215 non-null  object\n",
      " 12  DateCreated        354369 non-null  object\n",
      " 13  NumberOfPictures   354369 non-null  int64 \n",
      " 14  PostalCode         354369 non-null  int64 \n",
      " 15  LastSeen           354369 non-null  object\n",
      "dtypes: int64(7), object(9)\n",
      "memory usage: 43.3+ MB\n"
     ]
    }
   ],
   "source": [
    "df.info()"
   ]
  },
  {
   "cell_type": "code",
   "execution_count": 4,
   "metadata": {},
   "outputs": [
    {
     "data": {
      "text/html": [
       "<div>\n",
       "<style scoped>\n",
       "    .dataframe tbody tr th:only-of-type {\n",
       "        vertical-align: middle;\n",
       "    }\n",
       "\n",
       "    .dataframe tbody tr th {\n",
       "        vertical-align: top;\n",
       "    }\n",
       "\n",
       "    .dataframe thead th {\n",
       "        text-align: right;\n",
       "    }\n",
       "</style>\n",
       "<table border=\"1\" class=\"dataframe\">\n",
       "  <thead>\n",
       "    <tr style=\"text-align: right;\">\n",
       "      <th></th>\n",
       "      <th>DateCrawled</th>\n",
       "      <th>Price</th>\n",
       "      <th>VehicleType</th>\n",
       "      <th>RegistrationYear</th>\n",
       "      <th>Gearbox</th>\n",
       "      <th>Power</th>\n",
       "      <th>Model</th>\n",
       "      <th>Kilometer</th>\n",
       "      <th>RegistrationMonth</th>\n",
       "      <th>FuelType</th>\n",
       "      <th>Brand</th>\n",
       "      <th>NotRepaired</th>\n",
       "      <th>DateCreated</th>\n",
       "      <th>NumberOfPictures</th>\n",
       "      <th>PostalCode</th>\n",
       "      <th>LastSeen</th>\n",
       "    </tr>\n",
       "  </thead>\n",
       "  <tbody>\n",
       "    <tr>\n",
       "      <th>0</th>\n",
       "      <td>2016-03-24 11:52:17</td>\n",
       "      <td>480</td>\n",
       "      <td>NaN</td>\n",
       "      <td>1993</td>\n",
       "      <td>manual</td>\n",
       "      <td>0</td>\n",
       "      <td>golf</td>\n",
       "      <td>150000</td>\n",
       "      <td>0</td>\n",
       "      <td>petrol</td>\n",
       "      <td>volkswagen</td>\n",
       "      <td>NaN</td>\n",
       "      <td>2016-03-24 00:00:00</td>\n",
       "      <td>0</td>\n",
       "      <td>70435</td>\n",
       "      <td>2016-04-07 03:16:57</td>\n",
       "    </tr>\n",
       "    <tr>\n",
       "      <th>1</th>\n",
       "      <td>2016-03-24 10:58:45</td>\n",
       "      <td>18300</td>\n",
       "      <td>coupe</td>\n",
       "      <td>2011</td>\n",
       "      <td>manual</td>\n",
       "      <td>190</td>\n",
       "      <td>NaN</td>\n",
       "      <td>125000</td>\n",
       "      <td>5</td>\n",
       "      <td>gasoline</td>\n",
       "      <td>audi</td>\n",
       "      <td>yes</td>\n",
       "      <td>2016-03-24 00:00:00</td>\n",
       "      <td>0</td>\n",
       "      <td>66954</td>\n",
       "      <td>2016-04-07 01:46:50</td>\n",
       "    </tr>\n",
       "    <tr>\n",
       "      <th>2</th>\n",
       "      <td>2016-03-14 12:52:21</td>\n",
       "      <td>9800</td>\n",
       "      <td>suv</td>\n",
       "      <td>2004</td>\n",
       "      <td>auto</td>\n",
       "      <td>163</td>\n",
       "      <td>grand</td>\n",
       "      <td>125000</td>\n",
       "      <td>8</td>\n",
       "      <td>gasoline</td>\n",
       "      <td>jeep</td>\n",
       "      <td>NaN</td>\n",
       "      <td>2016-03-14 00:00:00</td>\n",
       "      <td>0</td>\n",
       "      <td>90480</td>\n",
       "      <td>2016-04-05 12:47:46</td>\n",
       "    </tr>\n",
       "    <tr>\n",
       "      <th>3</th>\n",
       "      <td>2016-03-17 16:54:04</td>\n",
       "      <td>1500</td>\n",
       "      <td>small</td>\n",
       "      <td>2001</td>\n",
       "      <td>manual</td>\n",
       "      <td>75</td>\n",
       "      <td>golf</td>\n",
       "      <td>150000</td>\n",
       "      <td>6</td>\n",
       "      <td>petrol</td>\n",
       "      <td>volkswagen</td>\n",
       "      <td>no</td>\n",
       "      <td>2016-03-17 00:00:00</td>\n",
       "      <td>0</td>\n",
       "      <td>91074</td>\n",
       "      <td>2016-03-17 17:40:17</td>\n",
       "    </tr>\n",
       "    <tr>\n",
       "      <th>4</th>\n",
       "      <td>2016-03-31 17:25:20</td>\n",
       "      <td>3600</td>\n",
       "      <td>small</td>\n",
       "      <td>2008</td>\n",
       "      <td>manual</td>\n",
       "      <td>69</td>\n",
       "      <td>fabia</td>\n",
       "      <td>90000</td>\n",
       "      <td>7</td>\n",
       "      <td>gasoline</td>\n",
       "      <td>skoda</td>\n",
       "      <td>no</td>\n",
       "      <td>2016-03-31 00:00:00</td>\n",
       "      <td>0</td>\n",
       "      <td>60437</td>\n",
       "      <td>2016-04-06 10:17:21</td>\n",
       "    </tr>\n",
       "  </tbody>\n",
       "</table>\n",
       "</div>"
      ],
      "text/plain": [
       "           DateCrawled  Price VehicleType  RegistrationYear Gearbox  Power  \\\n",
       "0  2016-03-24 11:52:17    480         NaN              1993  manual      0   \n",
       "1  2016-03-24 10:58:45  18300       coupe              2011  manual    190   \n",
       "2  2016-03-14 12:52:21   9800         suv              2004    auto    163   \n",
       "3  2016-03-17 16:54:04   1500       small              2001  manual     75   \n",
       "4  2016-03-31 17:25:20   3600       small              2008  manual     69   \n",
       "\n",
       "   Model  Kilometer  RegistrationMonth  FuelType       Brand NotRepaired  \\\n",
       "0   golf     150000                  0    petrol  volkswagen         NaN   \n",
       "1    NaN     125000                  5  gasoline        audi         yes   \n",
       "2  grand     125000                  8  gasoline        jeep         NaN   \n",
       "3   golf     150000                  6    petrol  volkswagen          no   \n",
       "4  fabia      90000                  7  gasoline       skoda          no   \n",
       "\n",
       "           DateCreated  NumberOfPictures  PostalCode             LastSeen  \n",
       "0  2016-03-24 00:00:00                 0       70435  2016-04-07 03:16:57  \n",
       "1  2016-03-24 00:00:00                 0       66954  2016-04-07 01:46:50  \n",
       "2  2016-03-14 00:00:00                 0       90480  2016-04-05 12:47:46  \n",
       "3  2016-03-17 00:00:00                 0       91074  2016-03-17 17:40:17  \n",
       "4  2016-03-31 00:00:00                 0       60437  2016-04-06 10:17:21  "
      ]
     },
     "execution_count": 4,
     "metadata": {},
     "output_type": "execute_result"
    }
   ],
   "source": [
    "df.head()"
   ]
  },
  {
   "cell_type": "code",
   "execution_count": 5,
   "metadata": {},
   "outputs": [
    {
     "data": {
      "text/html": [
       "<div>\n",
       "<style scoped>\n",
       "    .dataframe tbody tr th:only-of-type {\n",
       "        vertical-align: middle;\n",
       "    }\n",
       "\n",
       "    .dataframe tbody tr th {\n",
       "        vertical-align: top;\n",
       "    }\n",
       "\n",
       "    .dataframe thead th {\n",
       "        text-align: right;\n",
       "    }\n",
       "</style>\n",
       "<table border=\"1\" class=\"dataframe\">\n",
       "  <thead>\n",
       "    <tr style=\"text-align: right;\">\n",
       "      <th></th>\n",
       "      <th>Price</th>\n",
       "      <th>RegistrationYear</th>\n",
       "      <th>Power</th>\n",
       "      <th>Kilometer</th>\n",
       "      <th>RegistrationMonth</th>\n",
       "      <th>NumberOfPictures</th>\n",
       "      <th>PostalCode</th>\n",
       "    </tr>\n",
       "  </thead>\n",
       "  <tbody>\n",
       "    <tr>\n",
       "      <th>count</th>\n",
       "      <td>354369.000000</td>\n",
       "      <td>354369.000000</td>\n",
       "      <td>354369.000000</td>\n",
       "      <td>354369.000000</td>\n",
       "      <td>354369.000000</td>\n",
       "      <td>354369.0</td>\n",
       "      <td>354369.000000</td>\n",
       "    </tr>\n",
       "    <tr>\n",
       "      <th>mean</th>\n",
       "      <td>4416.656776</td>\n",
       "      <td>2004.234448</td>\n",
       "      <td>110.094337</td>\n",
       "      <td>128211.172535</td>\n",
       "      <td>5.714645</td>\n",
       "      <td>0.0</td>\n",
       "      <td>50508.689087</td>\n",
       "    </tr>\n",
       "    <tr>\n",
       "      <th>std</th>\n",
       "      <td>4514.158514</td>\n",
       "      <td>90.227958</td>\n",
       "      <td>189.850405</td>\n",
       "      <td>37905.341530</td>\n",
       "      <td>3.726421</td>\n",
       "      <td>0.0</td>\n",
       "      <td>25783.096248</td>\n",
       "    </tr>\n",
       "    <tr>\n",
       "      <th>min</th>\n",
       "      <td>0.000000</td>\n",
       "      <td>1000.000000</td>\n",
       "      <td>0.000000</td>\n",
       "      <td>5000.000000</td>\n",
       "      <td>0.000000</td>\n",
       "      <td>0.0</td>\n",
       "      <td>1067.000000</td>\n",
       "    </tr>\n",
       "    <tr>\n",
       "      <th>25%</th>\n",
       "      <td>1050.000000</td>\n",
       "      <td>1999.000000</td>\n",
       "      <td>69.000000</td>\n",
       "      <td>125000.000000</td>\n",
       "      <td>3.000000</td>\n",
       "      <td>0.0</td>\n",
       "      <td>30165.000000</td>\n",
       "    </tr>\n",
       "    <tr>\n",
       "      <th>50%</th>\n",
       "      <td>2700.000000</td>\n",
       "      <td>2003.000000</td>\n",
       "      <td>105.000000</td>\n",
       "      <td>150000.000000</td>\n",
       "      <td>6.000000</td>\n",
       "      <td>0.0</td>\n",
       "      <td>49413.000000</td>\n",
       "    </tr>\n",
       "    <tr>\n",
       "      <th>75%</th>\n",
       "      <td>6400.000000</td>\n",
       "      <td>2008.000000</td>\n",
       "      <td>143.000000</td>\n",
       "      <td>150000.000000</td>\n",
       "      <td>9.000000</td>\n",
       "      <td>0.0</td>\n",
       "      <td>71083.000000</td>\n",
       "    </tr>\n",
       "    <tr>\n",
       "      <th>max</th>\n",
       "      <td>20000.000000</td>\n",
       "      <td>9999.000000</td>\n",
       "      <td>20000.000000</td>\n",
       "      <td>150000.000000</td>\n",
       "      <td>12.000000</td>\n",
       "      <td>0.0</td>\n",
       "      <td>99998.000000</td>\n",
       "    </tr>\n",
       "  </tbody>\n",
       "</table>\n",
       "</div>"
      ],
      "text/plain": [
       "               Price  RegistrationYear          Power      Kilometer  \\\n",
       "count  354369.000000     354369.000000  354369.000000  354369.000000   \n",
       "mean     4416.656776       2004.234448     110.094337  128211.172535   \n",
       "std      4514.158514         90.227958     189.850405   37905.341530   \n",
       "min         0.000000       1000.000000       0.000000    5000.000000   \n",
       "25%      1050.000000       1999.000000      69.000000  125000.000000   \n",
       "50%      2700.000000       2003.000000     105.000000  150000.000000   \n",
       "75%      6400.000000       2008.000000     143.000000  150000.000000   \n",
       "max     20000.000000       9999.000000   20000.000000  150000.000000   \n",
       "\n",
       "       RegistrationMonth  NumberOfPictures     PostalCode  \n",
       "count      354369.000000          354369.0  354369.000000  \n",
       "mean            5.714645               0.0   50508.689087  \n",
       "std             3.726421               0.0   25783.096248  \n",
       "min             0.000000               0.0    1067.000000  \n",
       "25%             3.000000               0.0   30165.000000  \n",
       "50%             6.000000               0.0   49413.000000  \n",
       "75%             9.000000               0.0   71083.000000  \n",
       "max            12.000000               0.0   99998.000000  "
      ]
     },
     "execution_count": 5,
     "metadata": {},
     "output_type": "execute_result"
    }
   ],
   "source": [
    "df.describe()"
   ]
  },
  {
   "cell_type": "code",
   "execution_count": 6,
   "metadata": {},
   "outputs": [
    {
     "data": {
      "text/plain": [
       "NotRepaired          20.079070\n",
       "VehicleType          10.579368\n",
       "FuelType              9.282697\n",
       "Gearbox               5.596709\n",
       "Model                 5.560588\n",
       "DateCrawled           0.000000\n",
       "Price                 0.000000\n",
       "RegistrationYear      0.000000\n",
       "Power                 0.000000\n",
       "Kilometer             0.000000\n",
       "RegistrationMonth     0.000000\n",
       "Brand                 0.000000\n",
       "DateCreated           0.000000\n",
       "NumberOfPictures      0.000000\n",
       "PostalCode            0.000000\n",
       "LastSeen              0.000000\n",
       "dtype: float64"
      ]
     },
     "execution_count": 6,
     "metadata": {},
     "output_type": "execute_result"
    }
   ],
   "source": [
    "df.isnull().sum().sort_values(ascending=False) / df.shape[0] * 100  # процент пропусков в наборе данных по столбцам"
   ]
  },
  {
   "cell_type": "markdown",
   "metadata": {},
   "source": [
    "Первые выводы о данных:\n",
    "\n",
    "* В столбцах `Model`,`GearBox`,`FuelType`,`VehicleType`,`NotRepaired` присутсвуют пропуски;\n",
    "* Имена столбцов требуется привести в змеиному стилю;\n",
    "* Столбцы с датами привести к типу DateTime;\n",
    "* Столбец `NumberOfPictures` весь нулевой. Выглядит как ошибка при выгрузке данных, не представляю как можно выбирать автомобиль без фото, придется удалить;\n",
    "* Нулевые значения в целевом столбце `Price` скорее всего придется удалить, посмотрим на их количество;\n",
    "* Год регистрации `RegistrationYear` со значениями 1000 и 9999 тоже настораживает;\n",
    "* Мощность двигателя `Power` в 20000 л.с. для атомобиля? Может там объявление о продаже теплохода?\n",
    "* Пробег `Kilometer` выглядит правдоподобно, но смущает распределение квартилей больше половины значений ровно 150 000 км, может это максимум который допускает указывать сервис? \n",
    "* Месяц регистрации `RegistrationMonth` с нулевым значением тоже не верные значения;\n",
    "* Столбцы `DateCrawled`, `DateCreated`, `LastSeen` можно будет удалить, данные из этих столбцов не потребуются для обучения моделей."
   ]
  },
  {
   "cell_type": "markdown",
   "metadata": {},
   "source": [
    "Сменим названия столбцов"
   ]
  },
  {
   "cell_type": "code",
   "execution_count": 7,
   "metadata": {},
   "outputs": [
    {
     "data": {
      "text/plain": [
       "['DateCrawled',\n",
       " 'Price',\n",
       " 'VehicleType',\n",
       " 'RegistrationYear',\n",
       " 'Gearbox',\n",
       " 'Power',\n",
       " 'Model',\n",
       " 'Kilometer',\n",
       " 'RegistrationMonth',\n",
       " 'FuelType',\n",
       " 'Brand',\n",
       " 'NotRepaired',\n",
       " 'DateCreated',\n",
       " 'NumberOfPictures',\n",
       " 'PostalCode',\n",
       " 'LastSeen']"
      ]
     },
     "execution_count": 7,
     "metadata": {},
     "output_type": "execute_result"
    }
   ],
   "source": [
    "df.columns.to_list()"
   ]
  },
  {
   "cell_type": "code",
   "execution_count": 8,
   "metadata": {},
   "outputs": [],
   "source": [
    "# новые названия\n",
    "cols_name = ['date_crawled',\n",
    " 'price',\n",
    " 'vehicle_type',\n",
    " 'registration_year',\n",
    " 'gear_box',\n",
    " 'power',\n",
    " 'model',\n",
    " 'kilometer',\n",
    " 'registration_month',\n",
    " 'fuel_type',\n",
    " 'brand',\n",
    " 'not_repaired',\n",
    " 'date_created',\n",
    " 'number_of_pictures',\n",
    " 'postal_code',\n",
    " 'last_seen']\n",
    "df = df.set_axis(cols_name, axis='columns') # меняем названия"
   ]
  },
  {
   "cell_type": "code",
   "execution_count": 9,
   "metadata": {},
   "outputs": [
    {
     "name": "stdout",
     "output_type": "stream",
     "text": [
      "<class 'pandas.core.frame.DataFrame'>\n",
      "RangeIndex: 354369 entries, 0 to 354368\n",
      "Data columns (total 16 columns):\n",
      " #   Column              Non-Null Count   Dtype \n",
      "---  ------              --------------   ----- \n",
      " 0   date_crawled        354369 non-null  object\n",
      " 1   price               354369 non-null  int64 \n",
      " 2   vehicle_type        316879 non-null  object\n",
      " 3   registration_year   354369 non-null  int64 \n",
      " 4   gear_box            334536 non-null  object\n",
      " 5   power               354369 non-null  int64 \n",
      " 6   model               334664 non-null  object\n",
      " 7   kilometer           354369 non-null  int64 \n",
      " 8   registration_month  354369 non-null  int64 \n",
      " 9   fuel_type           321474 non-null  object\n",
      " 10  brand               354369 non-null  object\n",
      " 11  not_repaired        283215 non-null  object\n",
      " 12  date_created        354369 non-null  object\n",
      " 13  number_of_pictures  354369 non-null  int64 \n",
      " 14  postal_code         354369 non-null  int64 \n",
      " 15  last_seen           354369 non-null  object\n",
      "dtypes: int64(7), object(9)\n",
      "memory usage: 43.3+ MB\n"
     ]
    }
   ],
   "source": [
    "df.info()"
   ]
  },
  {
   "cell_type": "markdown",
   "metadata": {},
   "source": [
    "Посмотрим на количество явных дубликатов"
   ]
  },
  {
   "cell_type": "code",
   "execution_count": 10,
   "metadata": {},
   "outputs": [
    {
     "data": {
      "text/plain": [
       "4"
      ]
     },
     "execution_count": 10,
     "metadata": {},
     "output_type": "execute_result"
    }
   ],
   "source": [
    "df.duplicated().sum()"
   ]
  },
  {
   "cell_type": "code",
   "execution_count": 11,
   "metadata": {},
   "outputs": [
    {
     "data": {
      "text/html": [
       "<div>\n",
       "<style scoped>\n",
       "    .dataframe tbody tr th:only-of-type {\n",
       "        vertical-align: middle;\n",
       "    }\n",
       "\n",
       "    .dataframe tbody tr th {\n",
       "        vertical-align: top;\n",
       "    }\n",
       "\n",
       "    .dataframe thead th {\n",
       "        text-align: right;\n",
       "    }\n",
       "</style>\n",
       "<table border=\"1\" class=\"dataframe\">\n",
       "  <thead>\n",
       "    <tr style=\"text-align: right;\">\n",
       "      <th></th>\n",
       "      <th>date_crawled</th>\n",
       "      <th>price</th>\n",
       "      <th>vehicle_type</th>\n",
       "      <th>registration_year</th>\n",
       "      <th>gear_box</th>\n",
       "      <th>power</th>\n",
       "      <th>model</th>\n",
       "      <th>kilometer</th>\n",
       "      <th>registration_month</th>\n",
       "      <th>fuel_type</th>\n",
       "      <th>brand</th>\n",
       "      <th>not_repaired</th>\n",
       "      <th>date_created</th>\n",
       "      <th>number_of_pictures</th>\n",
       "      <th>postal_code</th>\n",
       "      <th>last_seen</th>\n",
       "    </tr>\n",
       "  </thead>\n",
       "  <tbody>\n",
       "    <tr>\n",
       "      <th>187735</th>\n",
       "      <td>2016-04-03 09:01:15</td>\n",
       "      <td>4699</td>\n",
       "      <td>coupe</td>\n",
       "      <td>2003</td>\n",
       "      <td>auto</td>\n",
       "      <td>218</td>\n",
       "      <td>clk</td>\n",
       "      <td>125000</td>\n",
       "      <td>6</td>\n",
       "      <td>petrol</td>\n",
       "      <td>mercedes_benz</td>\n",
       "      <td>yes</td>\n",
       "      <td>2016-04-03 00:00:00</td>\n",
       "      <td>0</td>\n",
       "      <td>75196</td>\n",
       "      <td>2016-04-07 09:44:54</td>\n",
       "    </tr>\n",
       "    <tr>\n",
       "      <th>258109</th>\n",
       "      <td>2016-04-03 09:01:15</td>\n",
       "      <td>4699</td>\n",
       "      <td>coupe</td>\n",
       "      <td>2003</td>\n",
       "      <td>auto</td>\n",
       "      <td>218</td>\n",
       "      <td>clk</td>\n",
       "      <td>125000</td>\n",
       "      <td>6</td>\n",
       "      <td>petrol</td>\n",
       "      <td>mercedes_benz</td>\n",
       "      <td>yes</td>\n",
       "      <td>2016-04-03 00:00:00</td>\n",
       "      <td>0</td>\n",
       "      <td>75196</td>\n",
       "      <td>2016-04-07 09:44:54</td>\n",
       "    </tr>\n",
       "    <tr>\n",
       "      <th>90964</th>\n",
       "      <td>2016-03-28 00:56:10</td>\n",
       "      <td>1000</td>\n",
       "      <td>small</td>\n",
       "      <td>2002</td>\n",
       "      <td>manual</td>\n",
       "      <td>83</td>\n",
       "      <td>other</td>\n",
       "      <td>150000</td>\n",
       "      <td>1</td>\n",
       "      <td>petrol</td>\n",
       "      <td>suzuki</td>\n",
       "      <td>no</td>\n",
       "      <td>2016-03-28 00:00:00</td>\n",
       "      <td>0</td>\n",
       "      <td>66589</td>\n",
       "      <td>2016-03-28 08:46:21</td>\n",
       "    </tr>\n",
       "    <tr>\n",
       "      <th>231258</th>\n",
       "      <td>2016-03-28 00:56:10</td>\n",
       "      <td>1000</td>\n",
       "      <td>small</td>\n",
       "      <td>2002</td>\n",
       "      <td>manual</td>\n",
       "      <td>83</td>\n",
       "      <td>other</td>\n",
       "      <td>150000</td>\n",
       "      <td>1</td>\n",
       "      <td>petrol</td>\n",
       "      <td>suzuki</td>\n",
       "      <td>no</td>\n",
       "      <td>2016-03-28 00:00:00</td>\n",
       "      <td>0</td>\n",
       "      <td>66589</td>\n",
       "      <td>2016-03-28 08:46:21</td>\n",
       "    </tr>\n",
       "    <tr>\n",
       "      <th>41529</th>\n",
       "      <td>2016-03-18 18:46:15</td>\n",
       "      <td>1999</td>\n",
       "      <td>wagon</td>\n",
       "      <td>2001</td>\n",
       "      <td>manual</td>\n",
       "      <td>131</td>\n",
       "      <td>passat</td>\n",
       "      <td>150000</td>\n",
       "      <td>7</td>\n",
       "      <td>gasoline</td>\n",
       "      <td>volkswagen</td>\n",
       "      <td>no</td>\n",
       "      <td>2016-03-18 00:00:00</td>\n",
       "      <td>0</td>\n",
       "      <td>36391</td>\n",
       "      <td>2016-03-18 18:46:15</td>\n",
       "    </tr>\n",
       "    <tr>\n",
       "      <th>325651</th>\n",
       "      <td>2016-03-18 18:46:15</td>\n",
       "      <td>1999</td>\n",
       "      <td>wagon</td>\n",
       "      <td>2001</td>\n",
       "      <td>manual</td>\n",
       "      <td>131</td>\n",
       "      <td>passat</td>\n",
       "      <td>150000</td>\n",
       "      <td>7</td>\n",
       "      <td>gasoline</td>\n",
       "      <td>volkswagen</td>\n",
       "      <td>no</td>\n",
       "      <td>2016-03-18 00:00:00</td>\n",
       "      <td>0</td>\n",
       "      <td>36391</td>\n",
       "      <td>2016-03-18 18:46:15</td>\n",
       "    </tr>\n",
       "    <tr>\n",
       "      <th>88087</th>\n",
       "      <td>2016-03-08 18:42:48</td>\n",
       "      <td>1799</td>\n",
       "      <td>coupe</td>\n",
       "      <td>1999</td>\n",
       "      <td>auto</td>\n",
       "      <td>193</td>\n",
       "      <td>clk</td>\n",
       "      <td>20000</td>\n",
       "      <td>7</td>\n",
       "      <td>petrol</td>\n",
       "      <td>mercedes_benz</td>\n",
       "      <td>no</td>\n",
       "      <td>2016-03-08 00:00:00</td>\n",
       "      <td>0</td>\n",
       "      <td>89518</td>\n",
       "      <td>2016-03-09 09:46:57</td>\n",
       "    </tr>\n",
       "    <tr>\n",
       "      <th>171088</th>\n",
       "      <td>2016-03-08 18:42:48</td>\n",
       "      <td>1799</td>\n",
       "      <td>coupe</td>\n",
       "      <td>1999</td>\n",
       "      <td>auto</td>\n",
       "      <td>193</td>\n",
       "      <td>clk</td>\n",
       "      <td>20000</td>\n",
       "      <td>7</td>\n",
       "      <td>petrol</td>\n",
       "      <td>mercedes_benz</td>\n",
       "      <td>no</td>\n",
       "      <td>2016-03-08 00:00:00</td>\n",
       "      <td>0</td>\n",
       "      <td>89518</td>\n",
       "      <td>2016-03-09 09:46:57</td>\n",
       "    </tr>\n",
       "  </tbody>\n",
       "</table>\n",
       "</div>"
      ],
      "text/plain": [
       "               date_crawled  price vehicle_type  registration_year gear_box  \\\n",
       "187735  2016-04-03 09:01:15   4699        coupe               2003     auto   \n",
       "258109  2016-04-03 09:01:15   4699        coupe               2003     auto   \n",
       "90964   2016-03-28 00:56:10   1000        small               2002   manual   \n",
       "231258  2016-03-28 00:56:10   1000        small               2002   manual   \n",
       "41529   2016-03-18 18:46:15   1999        wagon               2001   manual   \n",
       "325651  2016-03-18 18:46:15   1999        wagon               2001   manual   \n",
       "88087   2016-03-08 18:42:48   1799        coupe               1999     auto   \n",
       "171088  2016-03-08 18:42:48   1799        coupe               1999     auto   \n",
       "\n",
       "        power   model  kilometer  registration_month fuel_type          brand  \\\n",
       "187735    218     clk     125000                   6    petrol  mercedes_benz   \n",
       "258109    218     clk     125000                   6    petrol  mercedes_benz   \n",
       "90964      83   other     150000                   1    petrol         suzuki   \n",
       "231258     83   other     150000                   1    petrol         suzuki   \n",
       "41529     131  passat     150000                   7  gasoline     volkswagen   \n",
       "325651    131  passat     150000                   7  gasoline     volkswagen   \n",
       "88087     193     clk      20000                   7    petrol  mercedes_benz   \n",
       "171088    193     clk      20000                   7    petrol  mercedes_benz   \n",
       "\n",
       "       not_repaired         date_created  number_of_pictures  postal_code  \\\n",
       "187735          yes  2016-04-03 00:00:00                   0        75196   \n",
       "258109          yes  2016-04-03 00:00:00                   0        75196   \n",
       "90964            no  2016-03-28 00:00:00                   0        66589   \n",
       "231258           no  2016-03-28 00:00:00                   0        66589   \n",
       "41529            no  2016-03-18 00:00:00                   0        36391   \n",
       "325651           no  2016-03-18 00:00:00                   0        36391   \n",
       "88087            no  2016-03-08 00:00:00                   0        89518   \n",
       "171088           no  2016-03-08 00:00:00                   0        89518   \n",
       "\n",
       "                  last_seen  \n",
       "187735  2016-04-07 09:44:54  \n",
       "258109  2016-04-07 09:44:54  \n",
       "90964   2016-03-28 08:46:21  \n",
       "231258  2016-03-28 08:46:21  \n",
       "41529   2016-03-18 18:46:15  \n",
       "325651  2016-03-18 18:46:15  \n",
       "88087   2016-03-09 09:46:57  \n",
       "171088  2016-03-09 09:46:57  "
      ]
     },
     "execution_count": 11,
     "metadata": {},
     "output_type": "execute_result"
    }
   ],
   "source": [
    "df[df.duplicated(keep=False)].sort_values(by='date_crawled', ascending=False)"
   ]
  },
  {
   "cell_type": "markdown",
   "metadata": {},
   "source": [
    "Удалим дубликаты"
   ]
  },
  {
   "cell_type": "code",
   "execution_count": 12,
   "metadata": {},
   "outputs": [
    {
     "data": {
      "text/plain": [
       "0"
      ]
     },
     "execution_count": 12,
     "metadata": {},
     "output_type": "execute_result"
    }
   ],
   "source": [
    "df = df.drop_duplicates()\n",
    "df.duplicated().sum()"
   ]
  },
  {
   "cell_type": "markdown",
   "metadata": {},
   "source": [
    "Удалим столбцец `number_of_pictures`"
   ]
  },
  {
   "cell_type": "code",
   "execution_count": 13,
   "metadata": {},
   "outputs": [],
   "source": [
    "df = df.drop('number_of_pictures', axis=1)"
   ]
  },
  {
   "cell_type": "markdown",
   "metadata": {},
   "source": [
    "Приведем столбцы с датой к типу DateTime"
   ]
  },
  {
   "cell_type": "code",
   "execution_count": 14,
   "metadata": {},
   "outputs": [],
   "source": [
    "df[['date_crawled', 'date_created', 'last_seen']] = df[['date_crawled', 'date_created', 'last_seen']].apply(pd.to_datetime)"
   ]
  },
  {
   "cell_type": "code",
   "execution_count": 15,
   "metadata": {},
   "outputs": [
    {
     "data": {
      "text/plain": [
       "61207    2014-03-10\n",
       "4001     2015-03-20\n",
       "342275   2015-06-18\n",
       "86601    2015-08-07\n",
       "175103   2015-08-10\n",
       "            ...    \n",
       "184411   2016-04-07\n",
       "262340   2016-04-07\n",
       "214462   2016-04-07\n",
       "241969   2016-04-07\n",
       "260600   2016-04-07\n",
       "Name: date_created, Length: 354365, dtype: datetime64[ns]"
      ]
     },
     "execution_count": 15,
     "metadata": {},
     "output_type": "execute_result"
    }
   ],
   "source": [
    "df['date_created'].sort_values()"
   ]
  },
  {
   "cell_type": "markdown",
   "metadata": {},
   "source": [
    "Самая поздняя дата создания объявления апрель 2016 года.\n",
    "\n"
   ]
  },
  {
   "cell_type": "markdown",
   "metadata": {},
   "source": [
    "#### Начнем с целевого столбца - цена `price`\n",
    "\n",
    "Посмотрим сколько нулевых значений в столбце с ценой"
   ]
  },
  {
   "cell_type": "code",
   "execution_count": 16,
   "metadata": {},
   "outputs": [
    {
     "data": {
      "text/plain": [
       "3.0398035923412303"
      ]
     },
     "execution_count": 16,
     "metadata": {},
     "output_type": "execute_result"
    }
   ],
   "source": [
    "df[df['price'] == 0]['price'].count()/ df.shape[0] * 100"
   ]
  },
  {
   "cell_type": "markdown",
   "metadata": {},
   "source": [
    "Примерно 3 %, чем заполнять такие нули не понятно, к тому же это столбце целевого признака, нули там нам точно не нужны. Посмотрим на распределение цены!"
   ]
  },
  {
   "cell_type": "code",
   "execution_count": 17,
   "metadata": {},
   "outputs": [
    {
     "data": {
      "image/png": "[encoded data removed]",
      "text/plain": [
       "<Figure size 576x576 with 1 Axes>"
      ]
     },
     "metadata": {
      "needs_background": "light"
     },
     "output_type": "display_data"
    }
   ],
   "source": [
    "df.boxplot(['price'], figsize=(8,8), showfliers=False)\n",
    "plt.title('Ящик с усами для цены')\n",
    "plt.show()"
   ]
  },
  {
   "cell_type": "code",
   "execution_count": 18,
   "metadata": {},
   "outputs": [
    {
     "data": {
      "image/png": "[encoded data removed]",
      "text/plain": [
       "<Figure size 432x288 with 1 Axes>"
      ]
     },
     "metadata": {
      "needs_background": "light"
     },
     "output_type": "display_data"
    }
   ],
   "source": [
    "df['price'].hist(bins=50)\n",
    "plt.title('Распредеделние цены, €')\n",
    "plt.show()"
   ]
  },
  {
   "cell_type": "code",
   "execution_count": 19,
   "metadata": {
    "scrolled": true
   },
   "outputs": [
    {
     "data": {
      "text/plain": [
       "<seaborn.axisgrid.FacetGrid at 0x11f869dc0>"
      ]
     },
     "execution_count": 19,
     "metadata": {},
     "output_type": "execute_result"
    },
    {
     "data": {
      "image/png": "[encoded data removed]",
      "text/plain": [
       "<Figure size 360x360 with 1 Axes>"
      ]
     },
     "metadata": {
      "needs_background": "light"
     },
     "output_type": "display_data"
    }
   ],
   "source": [
    "sns.displot(df[df['price']<500]['price'])"
   ]
  },
  {
   "cell_type": "markdown",
   "metadata": {},
   "source": [
    "предлагаю значения цены ниже 50 удалить"
   ]
  },
  {
   "cell_type": "code",
   "execution_count": 20,
   "metadata": {},
   "outputs": [
    {
     "data": {
      "text/plain": [
       "3.505707392095721"
      ]
     },
     "execution_count": 20,
     "metadata": {},
     "output_type": "execute_result"
    }
   ],
   "source": [
    "df[df['price'] < 50]['price'].count()/ df.shape[0] * 100"
   ]
  },
  {
   "cell_type": "code",
   "execution_count": 21,
   "metadata": {},
   "outputs": [],
   "source": [
    "df = df.drop(df.query('price<50').index)"
   ]
  },
  {
   "cell_type": "markdown",
   "metadata": {},
   "source": [
    "#### Год регистрации `RegistrationYear`\n",
    "\n",
    "Посмотрим на разброс значений"
   ]
  },
  {
   "cell_type": "code",
   "execution_count": 22,
   "metadata": {},
   "outputs": [
    {
     "data": {
      "text/plain": [
       "244092    1000\n",
       "110123    1000\n",
       "183779    1000\n",
       "213499    1000\n",
       "135865    1000\n",
       "          ... \n",
       "149151    9999\n",
       "50141     9999\n",
       "62395     9999\n",
       "17271     9999\n",
       "257793    9999\n",
       "Name: registration_year, Length: 341942, dtype: int64"
      ]
     },
     "execution_count": 22,
     "metadata": {},
     "output_type": "execute_result"
    }
   ],
   "source": [
    "df['registration_year'].sort_values()"
   ]
  },
  {
   "cell_type": "markdown",
   "metadata": {},
   "source": [
    "Последняя дата создания объявления апрель 2016 года, посмотрим сколько значений больше 2016 года"
   ]
  },
  {
   "cell_type": "code",
   "execution_count": 23,
   "metadata": {},
   "outputs": [
    {
     "data": {
      "text/html": [
       "<div>\n",
       "<style scoped>\n",
       "    .dataframe tbody tr th:only-of-type {\n",
       "        vertical-align: middle;\n",
       "    }\n",
       "\n",
       "    .dataframe tbody tr th {\n",
       "        vertical-align: top;\n",
       "    }\n",
       "\n",
       "    .dataframe thead th {\n",
       "        text-align: right;\n",
       "    }\n",
       "</style>\n",
       "<table border=\"1\" class=\"dataframe\">\n",
       "  <thead>\n",
       "    <tr style=\"text-align: right;\">\n",
       "      <th></th>\n",
       "      <th>date_crawled</th>\n",
       "      <th>price</th>\n",
       "      <th>vehicle_type</th>\n",
       "      <th>registration_year</th>\n",
       "      <th>gear_box</th>\n",
       "      <th>power</th>\n",
       "      <th>model</th>\n",
       "      <th>kilometer</th>\n",
       "      <th>registration_month</th>\n",
       "      <th>fuel_type</th>\n",
       "      <th>brand</th>\n",
       "      <th>not_repaired</th>\n",
       "      <th>date_created</th>\n",
       "      <th>postal_code</th>\n",
       "      <th>last_seen</th>\n",
       "    </tr>\n",
       "  </thead>\n",
       "  <tbody>\n",
       "    <tr>\n",
       "      <th>22</th>\n",
       "      <td>2016-03-23 14:52:51</td>\n",
       "      <td>2900</td>\n",
       "      <td>NaN</td>\n",
       "      <td>2018</td>\n",
       "      <td>manual</td>\n",
       "      <td>90</td>\n",
       "      <td>meriva</td>\n",
       "      <td>150000</td>\n",
       "      <td>5</td>\n",
       "      <td>petrol</td>\n",
       "      <td>opel</td>\n",
       "      <td>no</td>\n",
       "      <td>2016-03-23</td>\n",
       "      <td>49716</td>\n",
       "      <td>2016-03-31 01:16:33</td>\n",
       "    </tr>\n",
       "    <tr>\n",
       "      <th>26</th>\n",
       "      <td>2016-03-10 19:38:18</td>\n",
       "      <td>5555</td>\n",
       "      <td>NaN</td>\n",
       "      <td>2017</td>\n",
       "      <td>manual</td>\n",
       "      <td>125</td>\n",
       "      <td>c4</td>\n",
       "      <td>125000</td>\n",
       "      <td>4</td>\n",
       "      <td>NaN</td>\n",
       "      <td>citroen</td>\n",
       "      <td>no</td>\n",
       "      <td>2016-03-10</td>\n",
       "      <td>31139</td>\n",
       "      <td>2016-03-16 09:16:46</td>\n",
       "    </tr>\n",
       "    <tr>\n",
       "      <th>48</th>\n",
       "      <td>2016-03-25 14:40:12</td>\n",
       "      <td>7750</td>\n",
       "      <td>NaN</td>\n",
       "      <td>2017</td>\n",
       "      <td>manual</td>\n",
       "      <td>80</td>\n",
       "      <td>golf</td>\n",
       "      <td>100000</td>\n",
       "      <td>1</td>\n",
       "      <td>petrol</td>\n",
       "      <td>volkswagen</td>\n",
       "      <td>NaN</td>\n",
       "      <td>2016-03-25</td>\n",
       "      <td>48499</td>\n",
       "      <td>2016-03-31 21:47:44</td>\n",
       "    </tr>\n",
       "    <tr>\n",
       "      <th>51</th>\n",
       "      <td>2016-03-07 18:57:08</td>\n",
       "      <td>2000</td>\n",
       "      <td>NaN</td>\n",
       "      <td>2017</td>\n",
       "      <td>manual</td>\n",
       "      <td>90</td>\n",
       "      <td>punto</td>\n",
       "      <td>150000</td>\n",
       "      <td>11</td>\n",
       "      <td>gasoline</td>\n",
       "      <td>fiat</td>\n",
       "      <td>yes</td>\n",
       "      <td>2016-03-07</td>\n",
       "      <td>66115</td>\n",
       "      <td>2016-03-07 18:57:08</td>\n",
       "    </tr>\n",
       "    <tr>\n",
       "      <th>57</th>\n",
       "      <td>2016-03-10 20:53:19</td>\n",
       "      <td>2399</td>\n",
       "      <td>NaN</td>\n",
       "      <td>2018</td>\n",
       "      <td>manual</td>\n",
       "      <td>64</td>\n",
       "      <td>other</td>\n",
       "      <td>125000</td>\n",
       "      <td>3</td>\n",
       "      <td>NaN</td>\n",
       "      <td>seat</td>\n",
       "      <td>no</td>\n",
       "      <td>2016-03-10</td>\n",
       "      <td>33397</td>\n",
       "      <td>2016-03-25 10:17:37</td>\n",
       "    </tr>\n",
       "    <tr>\n",
       "      <th>...</th>\n",
       "      <td>...</td>\n",
       "      <td>...</td>\n",
       "      <td>...</td>\n",
       "      <td>...</td>\n",
       "      <td>...</td>\n",
       "      <td>...</td>\n",
       "      <td>...</td>\n",
       "      <td>...</td>\n",
       "      <td>...</td>\n",
       "      <td>...</td>\n",
       "      <td>...</td>\n",
       "      <td>...</td>\n",
       "      <td>...</td>\n",
       "      <td>...</td>\n",
       "      <td>...</td>\n",
       "    </tr>\n",
       "    <tr>\n",
       "      <th>354112</th>\n",
       "      <td>2016-03-11 15:49:51</td>\n",
       "      <td>3600</td>\n",
       "      <td>NaN</td>\n",
       "      <td>2017</td>\n",
       "      <td>manual</td>\n",
       "      <td>86</td>\n",
       "      <td>transit</td>\n",
       "      <td>150000</td>\n",
       "      <td>5</td>\n",
       "      <td>gasoline</td>\n",
       "      <td>ford</td>\n",
       "      <td>NaN</td>\n",
       "      <td>2016-03-11</td>\n",
       "      <td>32339</td>\n",
       "      <td>2016-03-12 05:45:02</td>\n",
       "    </tr>\n",
       "    <tr>\n",
       "      <th>354140</th>\n",
       "      <td>2016-03-29 16:47:29</td>\n",
       "      <td>1000</td>\n",
       "      <td>NaN</td>\n",
       "      <td>2017</td>\n",
       "      <td>manual</td>\n",
       "      <td>101</td>\n",
       "      <td>a4</td>\n",
       "      <td>150000</td>\n",
       "      <td>9</td>\n",
       "      <td>NaN</td>\n",
       "      <td>audi</td>\n",
       "      <td>NaN</td>\n",
       "      <td>2016-03-29</td>\n",
       "      <td>38315</td>\n",
       "      <td>2016-04-06 02:44:27</td>\n",
       "    </tr>\n",
       "    <tr>\n",
       "      <th>354203</th>\n",
       "      <td>2016-03-17 00:56:26</td>\n",
       "      <td>2140</td>\n",
       "      <td>NaN</td>\n",
       "      <td>2018</td>\n",
       "      <td>manual</td>\n",
       "      <td>80</td>\n",
       "      <td>fiesta</td>\n",
       "      <td>150000</td>\n",
       "      <td>6</td>\n",
       "      <td>NaN</td>\n",
       "      <td>ford</td>\n",
       "      <td>no</td>\n",
       "      <td>2016-03-17</td>\n",
       "      <td>44866</td>\n",
       "      <td>2016-03-29 15:45:04</td>\n",
       "    </tr>\n",
       "    <tr>\n",
       "      <th>354253</th>\n",
       "      <td>2016-03-25 09:37:59</td>\n",
       "      <td>1250</td>\n",
       "      <td>NaN</td>\n",
       "      <td>2018</td>\n",
       "      <td>NaN</td>\n",
       "      <td>0</td>\n",
       "      <td>corsa</td>\n",
       "      <td>150000</td>\n",
       "      <td>0</td>\n",
       "      <td>petrol</td>\n",
       "      <td>opel</td>\n",
       "      <td>NaN</td>\n",
       "      <td>2016-03-25</td>\n",
       "      <td>45527</td>\n",
       "      <td>2016-04-06 07:46:13</td>\n",
       "    </tr>\n",
       "    <tr>\n",
       "      <th>354289</th>\n",
       "      <td>2016-03-05 14:55:29</td>\n",
       "      <td>5000</td>\n",
       "      <td>NaN</td>\n",
       "      <td>2017</td>\n",
       "      <td>manual</td>\n",
       "      <td>120</td>\n",
       "      <td>other</td>\n",
       "      <td>150000</td>\n",
       "      <td>7</td>\n",
       "      <td>NaN</td>\n",
       "      <td>citroen</td>\n",
       "      <td>yes</td>\n",
       "      <td>2016-03-05</td>\n",
       "      <td>15518</td>\n",
       "      <td>2016-04-05 11:48:09</td>\n",
       "    </tr>\n",
       "  </tbody>\n",
       "</table>\n",
       "<p>13704 rows × 15 columns</p>\n",
       "</div>"
      ],
      "text/plain": [
       "              date_crawled  price vehicle_type  registration_year gear_box  \\\n",
       "22     2016-03-23 14:52:51   2900          NaN               2018   manual   \n",
       "26     2016-03-10 19:38:18   5555          NaN               2017   manual   \n",
       "48     2016-03-25 14:40:12   7750          NaN               2017   manual   \n",
       "51     2016-03-07 18:57:08   2000          NaN               2017   manual   \n",
       "57     2016-03-10 20:53:19   2399          NaN               2018   manual   \n",
       "...                    ...    ...          ...                ...      ...   \n",
       "354112 2016-03-11 15:49:51   3600          NaN               2017   manual   \n",
       "354140 2016-03-29 16:47:29   1000          NaN               2017   manual   \n",
       "354203 2016-03-17 00:56:26   2140          NaN               2018   manual   \n",
       "354253 2016-03-25 09:37:59   1250          NaN               2018      NaN   \n",
       "354289 2016-03-05 14:55:29   5000          NaN               2017   manual   \n",
       "\n",
       "        power    model  kilometer  registration_month fuel_type       brand  \\\n",
       "22         90   meriva     150000                   5    petrol        opel   \n",
       "26        125       c4     125000                   4       NaN     citroen   \n",
       "48         80     golf     100000                   1    petrol  volkswagen   \n",
       "51         90    punto     150000                  11  gasoline        fiat   \n",
       "57         64    other     125000                   3       NaN        seat   \n",
       "...       ...      ...        ...                 ...       ...         ...   \n",
       "354112     86  transit     150000                   5  gasoline        ford   \n",
       "354140    101       a4     150000                   9       NaN        audi   \n",
       "354203     80   fiesta     150000                   6       NaN        ford   \n",
       "354253      0    corsa     150000                   0    petrol        opel   \n",
       "354289    120    other     150000                   7       NaN     citroen   \n",
       "\n",
       "       not_repaired date_created  postal_code           last_seen  \n",
       "22               no   2016-03-23        49716 2016-03-31 01:16:33  \n",
       "26               no   2016-03-10        31139 2016-03-16 09:16:46  \n",
       "48              NaN   2016-03-25        48499 2016-03-31 21:47:44  \n",
       "51              yes   2016-03-07        66115 2016-03-07 18:57:08  \n",
       "57               no   2016-03-10        33397 2016-03-25 10:17:37  \n",
       "...             ...          ...          ...                 ...  \n",
       "354112          NaN   2016-03-11        32339 2016-03-12 05:45:02  \n",
       "354140          NaN   2016-03-29        38315 2016-04-06 02:44:27  \n",
       "354203           no   2016-03-17        44866 2016-03-29 15:45:04  \n",
       "354253          NaN   2016-03-25        45527 2016-04-06 07:46:13  \n",
       "354289          yes   2016-03-05        15518 2016-04-05 11:48:09  \n",
       "\n",
       "[13704 rows x 15 columns]"
      ]
     },
     "execution_count": 23,
     "metadata": {},
     "output_type": "execute_result"
    }
   ],
   "source": [
    "df[df['registration_year'] > 2016]"
   ]
  },
  {
   "cell_type": "code",
   "execution_count": 24,
   "metadata": {},
   "outputs": [
    {
     "data": {
      "text/plain": [
       "4.007697211807851"
      ]
     },
     "execution_count": 24,
     "metadata": {},
     "output_type": "execute_result"
    }
   ],
   "source": [
    "df[df['registration_year'] > 2016]['registration_year'].count() / df.shape[0] * 100"
   ]
  },
  {
   "cell_type": "markdown",
   "metadata": {},
   "source": [
    "Значений очень много, 4 %. Есть как значения с реальными годами 2017, 2018, 2019 а дальше значения идут не реальные. Посмотрим сколько строк с нереальными датами. Посмотрим какие даты встречаются в наборе"
   ]
  },
  {
   "cell_type": "code",
   "execution_count": 25,
   "metadata": {},
   "outputs": [
    {
     "data": {
      "text/plain": [
       "array([1000, 1001, 1039, 1111, 1234, 1255, 1300, 1400, 1500, 1600, 1602,\n",
       "       1800, 1910, 1923, 1925, 1927, 1928, 1929, 1930, 1931, 1932, 1933,\n",
       "       1934, 1935, 1936, 1937, 1938, 1940, 1941, 1942, 1943, 1944, 1945,\n",
       "       1946, 1947, 1948, 1949, 1950, 1951, 1952, 1953, 1954, 1955, 1956,\n",
       "       1957, 1958, 1959, 1960, 1961, 1962, 1963, 1964, 1965, 1966, 1967,\n",
       "       1968, 1969, 1970, 1971, 1972, 1973, 1974, 1975, 1976, 1977, 1978,\n",
       "       1979, 1980, 1981, 1982, 1983, 1984, 1985, 1986, 1987, 1988, 1989,\n",
       "       1990, 1991, 1992, 1993, 1994, 1995, 1996, 1997, 1998, 1999, 2000,\n",
       "       2001, 2002, 2003, 2004, 2005, 2006, 2007, 2008, 2009, 2010, 2011,\n",
       "       2012, 2013, 2014, 2015, 2016, 2017, 2018, 2019, 2066, 2200, 2222,\n",
       "       2290, 2500, 2800, 2900, 3000, 3200, 3700, 3800, 4000, 4100, 4500,\n",
       "       4800, 5000, 5300, 5555, 5600, 5900, 5911, 6000, 7000, 7100, 7800,\n",
       "       8000, 8200, 8500, 8888, 9000, 9450, 9999])"
      ]
     },
     "execution_count": 25,
     "metadata": {},
     "output_type": "execute_result"
    }
   ],
   "source": [
    "df['registration_year'].sort_values().unique()"
   ]
  },
  {
   "cell_type": "markdown",
   "metadata": {},
   "source": [
    "Начало эры автомобилестроения конец XIX - начало XX веков. Так что думаю строки с годом публикации меньше 1970 и больше 2019 можно удалить, посмотрми сколько таких строк"
   ]
  },
  {
   "cell_type": "code",
   "execution_count": 26,
   "metadata": {},
   "outputs": [
    {
     "data": {
      "text/plain": [
       "0.3541536283931193"
      ]
     },
     "execution_count": 26,
     "metadata": {},
     "output_type": "execute_result"
    }
   ],
   "source": [
    "df.query('registration_year<1970 or registration_year>2019')['registration_year'].count() / df.shape[0] * 100 "
   ]
  },
  {
   "cell_type": "markdown",
   "metadata": {},
   "source": [
    "Записей совсем мало - удалим"
   ]
  },
  {
   "cell_type": "code",
   "execution_count": 27,
   "metadata": {},
   "outputs": [],
   "source": [
    "df = df.drop(df.query('registration_year<1910 or registration_year>2019').index)"
   ]
  },
  {
   "cell_type": "markdown",
   "metadata": {},
   "source": [
    "#### Мощность двигателя `Power`"
   ]
  },
  {
   "cell_type": "code",
   "execution_count": 28,
   "metadata": {},
   "outputs": [
    {
     "data": {
      "text/plain": [
       "0             0\n",
       "154303        0\n",
       "154301        0\n",
       "154288        0\n",
       "154280        0\n",
       "          ...  \n",
       "63986     17932\n",
       "132485    19208\n",
       "114106    19211\n",
       "299180    19312\n",
       "219584    20000\n",
       "Name: power, Length: 341815, dtype: int64"
      ]
     },
     "execution_count": 28,
     "metadata": {},
     "output_type": "execute_result"
    }
   ],
   "source": [
    "df['power'].sort_values()"
   ]
  },
  {
   "cell_type": "markdown",
   "metadata": {},
   "source": [
    "Есть нулевые значения и аномально высокие"
   ]
  },
  {
   "cell_type": "code",
   "execution_count": 29,
   "metadata": {},
   "outputs": [
    {
     "data": {
      "text/plain": [
       "<AxesSubplot:xlabel='power'>"
      ]
     },
     "execution_count": 29,
     "metadata": {},
     "output_type": "execute_result"
    },
    {
     "data": {
      "image/png": "[encoded data removed]",
      "text/plain": [
       "<Figure size 432x288 with 1 Axes>"
      ]
     },
     "metadata": {
      "needs_background": "light"
     },
     "output_type": "display_data"
    }
   ],
   "source": [
    "sns.boxplot(x=(df['power']))"
   ]
  },
  {
   "cell_type": "code",
   "execution_count": 30,
   "metadata": {},
   "outputs": [
    {
     "data": {
      "text/plain": [
       "volkswagen        74059\n",
       "opel              38315\n",
       "bmw               35585\n",
       "mercedes_benz     31207\n",
       "audi              28438\n",
       "ford              24353\n",
       "renault           17315\n",
       "peugeot           10741\n",
       "fiat               9295\n",
       "seat               6696\n",
       "mazda              5445\n",
       "skoda              5429\n",
       "smart              5151\n",
       "citroen            4999\n",
       "nissan             4791\n",
       "toyota             4526\n",
       "hyundai            3523\n",
       "mini               3160\n",
       "volvo              3111\n",
       "mitsubishi         2912\n",
       "honda              2704\n",
       "sonstige_autos     2702\n",
       "kia                2403\n",
       "suzuki             2269\n",
       "alfa_romeo         2215\n",
       "chevrolet          1700\n",
       "chrysler           1359\n",
       "dacia               888\n",
       "daihatsu            773\n",
       "subaru              726\n",
       "porsche             708\n",
       "jeep                653\n",
       "land_rover          533\n",
       "daewoo              530\n",
       "saab                512\n",
       "jaguar              488\n",
       "trabant             478\n",
       "rover               458\n",
       "lancia              452\n",
       "lada                213\n",
       "Name: brand, dtype: int64"
      ]
     },
     "execution_count": 30,
     "metadata": {},
     "output_type": "execute_result"
    }
   ],
   "source": [
    "df['brand'].value_counts()"
   ]
  },
  {
   "cell_type": "markdown",
   "metadata": {},
   "source": [
    "В нашем наборе нет марок автомобилей производителей суперкаров - Ferrari, Bugatti, Lamborgini  и т.д. Поэтому думаю все что выше 600 лошадинных сил, явно ошибочные данные. Посмотрим"
   ]
  },
  {
   "cell_type": "code",
   "execution_count": 31,
   "metadata": {},
   "outputs": [
    {
     "data": {
      "text/plain": [
       "array([  601,   602,   603,   604,   606,   607,   610,   612,   620,\n",
       "         640,   645,   650,   651,   671,   678,   682,   685,   696,\n",
       "         700,   702,   703,   732,   743,   750,   751,   754,   771,\n",
       "         776,   800,   805,   808,   850,   851,   871,   900,   901,\n",
       "         902,   903,   907,   909,   923,   950,   952,   953,   998,\n",
       "         999,  1000,  1001,  1002,  1003,  1004,  1005,  1011,  1012,\n",
       "        1016,  1017,  1021,  1024,  1054,  1055,  1056,  1062,  1079,\n",
       "        1082,  1090,  1100,  1103,  1105,  1115,  1120,  1149,  1151,\n",
       "        1158,  1160,  1162,  1164,  1199,  1200,  1202,  1221,  1223,\n",
       "        1230,  1239,  1240,  1241,  1250,  1252,  1256,  1275,  1288,\n",
       "        1299,  1300,  1312,  1317,  1324,  1339,  1351,  1360,  1362,\n",
       "        1363,  1367,  1390,  1394,  1398,  1399,  1400,  1401,  1403,\n",
       "        1405,  1416,  1432,  1433,  1436,  1500,  1501,  1502,  1503,\n",
       "        1506,  1521,  1548,  1595,  1596,  1597,  1598,  1600,  1625,\n",
       "        1631,  1653,  1659,  1689,  1700,  1701,  1703,  1704,  1707,\n",
       "        1753,  1771,  1779,  1780,  1781,  1783,  1793,  1796,  1799,\n",
       "        1800,  1801,  1870,  1895,  1896,  1900,  1920,  1922,  1933,\n",
       "        1937,  1968,  1986,  1988,  1992,  1993,  1995,  1998,  1999,\n",
       "        2000,  2004,  2005,  2007,  2009,  2016,  2017,  2018,  2172,\n",
       "        2331,  2340,  2389,  2402,  2461,  2598,  2729,  2789,  2792,\n",
       "        2799,  3199,  3454,  3500,  3750,  4400,  4507,  4700,  5411,\n",
       "        5420,  5575,  5809,  5815,  5867,  6006,  6010,  6011,  6012,\n",
       "        6018,  6045,  6062,  6226,  6512,  6920,  7508,  7511,  7512,\n",
       "        7515,  7518,  7529,  7544,  8259,  8404,  8500,  9000,  9007,\n",
       "        9010,  9011,  9012,  9013, 10000, 10110, 10218, 10311, 10520,\n",
       "       10522, 10710, 10910, 10912, 11011, 11025, 11111, 11509, 11530,\n",
       "       11635, 12012, 12510, 12512, 12684, 13616, 13636, 14009, 15001,\n",
       "       15017, 15020, 15033, 16011, 16051, 16311, 16312, 17011, 17019,\n",
       "       17410, 17700, 17932, 19208, 19211, 19312, 20000])"
      ]
     },
     "execution_count": 31,
     "metadata": {},
     "output_type": "execute_result"
    }
   ],
   "source": [
    "df[df['power'] > 600]['power'].sort_values().unique()"
   ]
  },
  {
   "cell_type": "markdown",
   "metadata": {},
   "source": [
    "Удалим эти записи "
   ]
  },
  {
   "cell_type": "code",
   "execution_count": 32,
   "metadata": {},
   "outputs": [],
   "source": [
    "df = df.drop(df.query('power > 600').index)"
   ]
  },
  {
   "cell_type": "markdown",
   "metadata": {},
   "source": [
    "Посмотрим сколько строк с нулевой мощностью"
   ]
  },
  {
   "cell_type": "code",
   "execution_count": 33,
   "metadata": {},
   "outputs": [
    {
     "data": {
      "text/plain": [
       "35438"
      ]
     },
     "execution_count": 33,
     "metadata": {},
     "output_type": "execute_result"
    }
   ],
   "source": [
    "df[df['power'] == 0]['brand'].count()"
   ]
  },
  {
   "cell_type": "markdown",
   "metadata": {},
   "source": [
    "Таких значений очень много, менять нули будем на значения медианы по модели, марке и году выпуска. Сделаем это после заполнения пропусков."
   ]
  },
  {
   "cell_type": "markdown",
   "metadata": {},
   "source": [
    "### Заполнение пропусков\n"
   ]
  },
  {
   "cell_type": "code",
   "execution_count": 34,
   "metadata": {},
   "outputs": [
    {
     "data": {
      "text/plain": [
       "not_repaired          18.926335\n",
       "vehicle_type           9.606227\n",
       "fuel_type              8.360422\n",
       "model                  4.999326\n",
       "gear_box               4.845578\n",
       "date_crawled           0.000000\n",
       "price                  0.000000\n",
       "registration_year      0.000000\n",
       "power                  0.000000\n",
       "kilometer              0.000000\n",
       "registration_month     0.000000\n",
       "brand                  0.000000\n",
       "date_created           0.000000\n",
       "postal_code            0.000000\n",
       "last_seen              0.000000\n",
       "dtype: float64"
      ]
     },
     "execution_count": 34,
     "metadata": {},
     "output_type": "execute_result"
    }
   ],
   "source": [
    "df.isnull().sum().sort_values(ascending=False) / df.shape[0] * 100"
   ]
  },
  {
   "cell_type": "markdown",
   "metadata": {},
   "source": [
    "#### Столбец `not_repaired`\n"
   ]
  },
  {
   "cell_type": "code",
   "execution_count": 35,
   "metadata": {},
   "outputs": [
    {
     "data": {
      "text/plain": [
       "64627"
      ]
     },
     "execution_count": 35,
     "metadata": {},
     "output_type": "execute_result"
    }
   ],
   "source": [
    "df['not_repaired'].isnull().sum()"
   ]
  },
  {
   "cell_type": "code",
   "execution_count": 36,
   "metadata": {},
   "outputs": [
    {
     "data": {
      "text/plain": [
       "<AxesSubplot:xlabel='not_repaired', ylabel='count'>"
      ]
     },
     "execution_count": 36,
     "metadata": {},
     "output_type": "execute_result"
    },
    {
     "data": {
      "image/png": "[encoded data removed]",
      "text/plain": [
       "<Figure size 432x288 with 1 Axes>"
      ]
     },
     "metadata": {
      "needs_background": "light"
     },
     "output_type": "display_data"
    }
   ],
   "source": [
    "sns.countplot(df['not_repaired'])"
   ]
  },
  {
   "cell_type": "markdown",
   "metadata": {},
   "source": [
    "Как-то заменить пропуски на был ремонт или нет, основываясь на других столбцах не получится. Предлагаю пропуски заменить на значение `other`"
   ]
  },
  {
   "cell_type": "code",
   "execution_count": 37,
   "metadata": {},
   "outputs": [],
   "source": [
    "df['not_repaired'] = df['not_repaired'].fillna('other')"
   ]
  },
  {
   "cell_type": "code",
   "execution_count": 38,
   "metadata": {},
   "outputs": [
    {
     "data": {
      "text/plain": [
       "<AxesSubplot:xlabel='not_repaired', ylabel='count'>"
      ]
     },
     "execution_count": 38,
     "metadata": {},
     "output_type": "execute_result"
    },
    {
     "data": {
      "image/png": "[encoded data removed]",
      "text/plain": [
       "<Figure size 432x288 with 1 Axes>"
      ]
     },
     "metadata": {
      "needs_background": "light"
     },
     "output_type": "display_data"
    }
   ],
   "source": [
    "sns.countplot(df['not_repaired'])"
   ]
  },
  {
   "cell_type": "markdown",
   "metadata": {},
   "source": [
    "#### Тип кузова `vehicle_type`"
   ]
  },
  {
   "cell_type": "code",
   "execution_count": 39,
   "metadata": {},
   "outputs": [
    {
     "data": {
      "text/plain": [
       "<AxesSubplot:xlabel='vehicle_type', ylabel='count'>"
      ]
     },
     "execution_count": 39,
     "metadata": {},
     "output_type": "execute_result"
    },
    {
     "data": {
      "image/png": "[encoded data removed]",
      "text/plain": [
       "<Figure size 432x288 with 1 Axes>"
      ]
     },
     "metadata": {
      "needs_background": "light"
     },
     "output_type": "display_data"
    }
   ],
   "source": [
    "sns.countplot(df['vehicle_type'])"
   ]
  },
  {
   "cell_type": "code",
   "execution_count": 40,
   "metadata": {},
   "outputs": [
    {
     "data": {
      "text/plain": [
       "32802"
      ]
     },
     "execution_count": 40,
     "metadata": {},
     "output_type": "execute_result"
    }
   ],
   "source": [
    "df['vehicle_type'].isnull().sum()"
   ]
  },
  {
   "cell_type": "markdown",
   "metadata": {},
   "source": [
    "Распределение кузовов выглядит правдоподобно. Пропуски заменим на `other`"
   ]
  },
  {
   "cell_type": "code",
   "execution_count": 41,
   "metadata": {},
   "outputs": [],
   "source": [
    "df['vehicle_type'] = df['vehicle_type'].fillna('other')"
   ]
  },
  {
   "cell_type": "code",
   "execution_count": 42,
   "metadata": {},
   "outputs": [
    {
     "data": {
      "text/plain": [
       "<AxesSubplot:xlabel='vehicle_type', ylabel='count'>"
      ]
     },
     "execution_count": 42,
     "metadata": {},
     "output_type": "execute_result"
    },
    {
     "data": {
      "image/png": "[encoded data removed]",
      "text/plain": [
       "<Figure size 432x288 with 1 Axes>"
      ]
     },
     "metadata": {
      "needs_background": "light"
     },
     "output_type": "display_data"
    }
   ],
   "source": [
    "sns.countplot(df['vehicle_type'])"
   ]
  },
  {
   "cell_type": "markdown",
   "metadata": {},
   "source": [
    "#### Тип кузова `fuel_type`"
   ]
  },
  {
   "cell_type": "code",
   "execution_count": 43,
   "metadata": {},
   "outputs": [
    {
     "data": {
      "text/plain": [
       "<AxesSubplot:xlabel='fuel_type', ylabel='count'>"
      ]
     },
     "execution_count": 43,
     "metadata": {},
     "output_type": "execute_result"
    },
    {
     "data": {
      "image/png": "[encoded data removed]",
      "text/plain": [
       "<Figure size 432x288 with 1 Axes>"
      ]
     },
     "metadata": {
      "needs_background": "light"
     },
     "output_type": "display_data"
    }
   ],
   "source": [
    "sns.countplot(df['fuel_type'])"
   ]
  },
  {
   "cell_type": "code",
   "execution_count": 44,
   "metadata": {},
   "outputs": [
    {
     "data": {
      "text/plain": [
       "28548"
      ]
     },
     "execution_count": 44,
     "metadata": {},
     "output_type": "execute_result"
    }
   ],
   "source": [
    "df['fuel_type'].isnull().sum()"
   ]
  },
  {
   "cell_type": "markdown",
   "metadata": {},
   "source": [
    "Пропуски заменим на `other`"
   ]
  },
  {
   "cell_type": "code",
   "execution_count": 45,
   "metadata": {},
   "outputs": [],
   "source": [
    "df['fuel_type'] = df['fuel_type'].fillna('other')"
   ]
  },
  {
   "cell_type": "markdown",
   "metadata": {},
   "source": [
    "Petrol и gasoline это одно и тоже - бензин, объединим в одно"
   ]
  },
  {
   "cell_type": "code",
   "execution_count": 46,
   "metadata": {},
   "outputs": [],
   "source": [
    "df['fuel_type'] = df['fuel_type'].replace('gasoline', 'petrol')"
   ]
  },
  {
   "cell_type": "code",
   "execution_count": 47,
   "metadata": {},
   "outputs": [
    {
     "data": {
      "text/plain": [
       "<AxesSubplot:xlabel='fuel_type', ylabel='count'>"
      ]
     },
     "execution_count": 47,
     "metadata": {},
     "output_type": "execute_result"
    },
    {
     "data": {
      "image/png": "[encoded data removed]",
      "text/plain": [
       "<Figure size 432x288 with 1 Axes>"
      ]
     },
     "metadata": {
      "needs_background": "light"
     },
     "output_type": "display_data"
    }
   ],
   "source": [
    "sns.countplot(df['fuel_type'])"
   ]
  },
  {
   "cell_type": "markdown",
   "metadata": {},
   "source": [
    "#### Коробка передач `gear_box`"
   ]
  },
  {
   "cell_type": "code",
   "execution_count": 48,
   "metadata": {},
   "outputs": [
    {
     "data": {
      "text/plain": [
       "<AxesSubplot:xlabel='gear_box', ylabel='count'>"
      ]
     },
     "execution_count": 48,
     "metadata": {},
     "output_type": "execute_result"
    },
    {
     "data": {
      "image/png": "[encoded data removed]",
      "text/plain": [
       "<Figure size 432x288 with 1 Axes>"
      ]
     },
     "metadata": {
      "needs_background": "light"
     },
     "output_type": "display_data"
    }
   ],
   "source": [
    "sns.countplot(df['gear_box'])"
   ]
  },
  {
   "cell_type": "code",
   "execution_count": 49,
   "metadata": {},
   "outputs": [
    {
     "data": {
      "text/plain": [
       "16546"
      ]
     },
     "execution_count": 49,
     "metadata": {},
     "output_type": "execute_result"
    }
   ],
   "source": [
    "df['gear_box'].isnull().sum()"
   ]
  },
  {
   "cell_type": "markdown",
   "metadata": {},
   "source": [
    "#### Коробка передач `model`"
   ]
  },
  {
   "cell_type": "code",
   "execution_count": 50,
   "metadata": {},
   "outputs": [
    {
     "data": {
      "text/plain": [
       "17071"
      ]
     },
     "execution_count": 50,
     "metadata": {},
     "output_type": "execute_result"
    }
   ],
   "source": [
    "df['model'].isnull().sum()"
   ]
  },
  {
   "cell_type": "code",
   "execution_count": 51,
   "metadata": {},
   "outputs": [
    {
     "data": {
      "text/plain": [
       "model                 4.999326\n",
       "gear_box              4.845578\n",
       "date_crawled          0.000000\n",
       "price                 0.000000\n",
       "vehicle_type          0.000000\n",
       "registration_year     0.000000\n",
       "power                 0.000000\n",
       "kilometer             0.000000\n",
       "registration_month    0.000000\n",
       "fuel_type             0.000000\n",
       "brand                 0.000000\n",
       "not_repaired          0.000000\n",
       "date_created          0.000000\n",
       "postal_code           0.000000\n",
       "last_seen             0.000000\n",
       "dtype: float64"
      ]
     },
     "execution_count": 51,
     "metadata": {},
     "output_type": "execute_result"
    }
   ],
   "source": [
    "df.isnull().sum().sort_values(ascending=False) / df.shape[0] * 100"
   ]
  },
  {
   "cell_type": "markdown",
   "metadata": {},
   "source": [
    "Пропуски в столбцах с коробкой передач и моделью заполним медианой после перевода категориальных признаков с помощью LabelEncoding. Выделим индексы с пропусками в столбцах и без них."
   ]
  },
  {
   "cell_type": "code",
   "execution_count": 52,
   "metadata": {},
   "outputs": [],
   "source": [
    "model_index_nan = df.query('model!=model')['model'].index\n",
    "model_index = df.query('model==model')['model'].index\n",
    "\n",
    "gear_box_index_nan = df.query('gear_box!=gear_box')['gear_box'].index\n",
    "gear_box_index = df.query('gear_box==gear_box')['gear_box'].index"
   ]
  },
  {
   "cell_type": "code",
   "execution_count": 53,
   "metadata": {},
   "outputs": [],
   "source": [
    "encoder = LabelEncoder()"
   ]
  },
  {
   "cell_type": "code",
   "execution_count": 54,
   "metadata": {},
   "outputs": [],
   "source": [
    "df.loc[model_index,'model'] = encoder.fit_transform(df.loc[model_index,'model'])\n",
    "df.loc[gear_box_index,'gear_box'] = encoder.fit_transform(df.loc[gear_box_index,'gear_box'])\n",
    "\n",
    "df['fuel_type'] = encoder.fit_transform(df['fuel_type'])\n",
    "df['brand'] = encoder.fit_transform(df['brand'])\n",
    "df['not_repaired'] = encoder.fit_transform(df['not_repaired'])\n",
    "df['vehicle_type'] = encoder.fit_transform(df['vehicle_type'])"
   ]
  },
  {
   "cell_type": "code",
   "execution_count": 55,
   "metadata": {},
   "outputs": [
    {
     "data": {
      "text/html": [
       "<div>\n",
       "<style scoped>\n",
       "    .dataframe tbody tr th:only-of-type {\n",
       "        vertical-align: middle;\n",
       "    }\n",
       "\n",
       "    .dataframe tbody tr th {\n",
       "        vertical-align: top;\n",
       "    }\n",
       "\n",
       "    .dataframe thead th {\n",
       "        text-align: right;\n",
       "    }\n",
       "</style>\n",
       "<table border=\"1\" class=\"dataframe\">\n",
       "  <thead>\n",
       "    <tr style=\"text-align: right;\">\n",
       "      <th></th>\n",
       "      <th>date_crawled</th>\n",
       "      <th>price</th>\n",
       "      <th>vehicle_type</th>\n",
       "      <th>registration_year</th>\n",
       "      <th>gear_box</th>\n",
       "      <th>power</th>\n",
       "      <th>model</th>\n",
       "      <th>kilometer</th>\n",
       "      <th>registration_month</th>\n",
       "      <th>fuel_type</th>\n",
       "      <th>brand</th>\n",
       "      <th>not_repaired</th>\n",
       "      <th>date_created</th>\n",
       "      <th>postal_code</th>\n",
       "      <th>last_seen</th>\n",
       "    </tr>\n",
       "  </thead>\n",
       "  <tbody>\n",
       "    <tr>\n",
       "      <th>0</th>\n",
       "      <td>2016-03-24 11:52:17</td>\n",
       "      <td>480</td>\n",
       "      <td>3</td>\n",
       "      <td>1993</td>\n",
       "      <td>1</td>\n",
       "      <td>0</td>\n",
       "      <td>116</td>\n",
       "      <td>150000</td>\n",
       "      <td>0</td>\n",
       "      <td>5</td>\n",
       "      <td>38</td>\n",
       "      <td>1</td>\n",
       "      <td>2016-03-24</td>\n",
       "      <td>70435</td>\n",
       "      <td>2016-04-07 03:16:57</td>\n",
       "    </tr>\n",
       "    <tr>\n",
       "      <th>1</th>\n",
       "      <td>2016-03-24 10:58:45</td>\n",
       "      <td>18300</td>\n",
       "      <td>2</td>\n",
       "      <td>2011</td>\n",
       "      <td>1</td>\n",
       "      <td>190</td>\n",
       "      <td>NaN</td>\n",
       "      <td>125000</td>\n",
       "      <td>5</td>\n",
       "      <td>5</td>\n",
       "      <td>1</td>\n",
       "      <td>2</td>\n",
       "      <td>2016-03-24</td>\n",
       "      <td>66954</td>\n",
       "      <td>2016-04-07 01:46:50</td>\n",
       "    </tr>\n",
       "    <tr>\n",
       "      <th>2</th>\n",
       "      <td>2016-03-14 12:52:21</td>\n",
       "      <td>9800</td>\n",
       "      <td>6</td>\n",
       "      <td>2004</td>\n",
       "      <td>0</td>\n",
       "      <td>163</td>\n",
       "      <td>117</td>\n",
       "      <td>125000</td>\n",
       "      <td>8</td>\n",
       "      <td>5</td>\n",
       "      <td>14</td>\n",
       "      <td>1</td>\n",
       "      <td>2016-03-14</td>\n",
       "      <td>90480</td>\n",
       "      <td>2016-04-05 12:47:46</td>\n",
       "    </tr>\n",
       "    <tr>\n",
       "      <th>3</th>\n",
       "      <td>2016-03-17 16:54:04</td>\n",
       "      <td>1500</td>\n",
       "      <td>5</td>\n",
       "      <td>2001</td>\n",
       "      <td>1</td>\n",
       "      <td>75</td>\n",
       "      <td>116</td>\n",
       "      <td>150000</td>\n",
       "      <td>6</td>\n",
       "      <td>5</td>\n",
       "      <td>38</td>\n",
       "      <td>0</td>\n",
       "      <td>2016-03-17</td>\n",
       "      <td>91074</td>\n",
       "      <td>2016-03-17 17:40:17</td>\n",
       "    </tr>\n",
       "    <tr>\n",
       "      <th>4</th>\n",
       "      <td>2016-03-31 17:25:20</td>\n",
       "      <td>3600</td>\n",
       "      <td>5</td>\n",
       "      <td>2008</td>\n",
       "      <td>1</td>\n",
       "      <td>69</td>\n",
       "      <td>101</td>\n",
       "      <td>90000</td>\n",
       "      <td>7</td>\n",
       "      <td>5</td>\n",
       "      <td>31</td>\n",
       "      <td>0</td>\n",
       "      <td>2016-03-31</td>\n",
       "      <td>60437</td>\n",
       "      <td>2016-04-06 10:17:21</td>\n",
       "    </tr>\n",
       "  </tbody>\n",
       "</table>\n",
       "</div>"
      ],
      "text/plain": [
       "         date_crawled  price  vehicle_type  registration_year gear_box  power  \\\n",
       "0 2016-03-24 11:52:17    480             3               1993        1      0   \n",
       "1 2016-03-24 10:58:45  18300             2               2011        1    190   \n",
       "2 2016-03-14 12:52:21   9800             6               2004        0    163   \n",
       "3 2016-03-17 16:54:04   1500             5               2001        1     75   \n",
       "4 2016-03-31 17:25:20   3600             5               2008        1     69   \n",
       "\n",
       "  model  kilometer  registration_month  fuel_type  brand  not_repaired  \\\n",
       "0   116     150000                   0          5     38             1   \n",
       "1   NaN     125000                   5          5      1             2   \n",
       "2   117     125000                   8          5     14             1   \n",
       "3   116     150000                   6          5     38             0   \n",
       "4   101      90000                   7          5     31             0   \n",
       "\n",
       "  date_created  postal_code           last_seen  \n",
       "0   2016-03-24        70435 2016-04-07 03:16:57  \n",
       "1   2016-03-24        66954 2016-04-07 01:46:50  \n",
       "2   2016-03-14        90480 2016-04-05 12:47:46  \n",
       "3   2016-03-17        91074 2016-03-17 17:40:17  \n",
       "4   2016-03-31        60437 2016-04-06 10:17:21  "
      ]
     },
     "execution_count": 55,
     "metadata": {},
     "output_type": "execute_result"
    }
   ],
   "source": [
    "df.head(5)"
   ]
  },
  {
   "cell_type": "markdown",
   "metadata": {},
   "source": [
    "Для замены пропусков будем использовать функцию, которая вычисляет медиану по сгруппированному по столбцам набору данных и меняет пропуски на медиану"
   ]
  },
  {
   "cell_type": "code",
   "execution_count": 56,
   "metadata": {},
   "outputs": [],
   "source": [
    "def replace_nan(df,col,cols,index,key='nan'):\n",
    "    if key == 'nan':\n",
    "        median = df.groupby(cols)[col].apply(lambda x: x.fillna(x.median()))\n",
    "    elif key == 'zero':\n",
    "        median = df.groupby(cols)[col].apply(lambda x: x.replace(0,x.median()))\n",
    "    df.loc[index,col] = median.loc[index]\n",
    "    return df"
   ]
  },
  {
   "cell_type": "markdown",
   "metadata": {},
   "source": [
    "Модель заполним по марке, мощности и году выпуска."
   ]
  },
  {
   "cell_type": "code",
   "execution_count": 57,
   "metadata": {},
   "outputs": [],
   "source": [
    "df = replace_nan(df,'model',['brand','power','registration_year'],model_index_nan)"
   ]
  },
  {
   "cell_type": "code",
   "execution_count": 58,
   "metadata": {},
   "outputs": [
    {
     "data": {
      "text/plain": [
       "gear_box    4.845578\n",
       "model       1.109627\n",
       "dtype: float64"
      ]
     },
     "execution_count": 58,
     "metadata": {},
     "output_type": "execute_result"
    }
   ],
   "source": [
    "df[['model','gear_box']].isnull().sum().sort_values(ascending=False) / df.shape[0] * 100"
   ]
  },
  {
   "cell_type": "markdown",
   "metadata": {},
   "source": [
    "Попробуем заполнить оставшиеся пропуски по двум столбцам."
   ]
  },
  {
   "cell_type": "code",
   "execution_count": 59,
   "metadata": {},
   "outputs": [],
   "source": [
    "model_index_nan = df.query('model!=model')['model'].index\n",
    "gear_box_index_nan = df.query('gear_box!=gear_box')['gear_box'].index"
   ]
  },
  {
   "cell_type": "code",
   "execution_count": 60,
   "metadata": {},
   "outputs": [],
   "source": [
    "df = replace_nan(df,'model',['brand','registration_year'],model_index_nan)\n",
    "df = replace_nan(df,'gear_box',['brand','registration_year'],gear_box_index_nan)"
   ]
  },
  {
   "cell_type": "code",
   "execution_count": 61,
   "metadata": {
    "scrolled": true
   },
   "outputs": [
    {
     "data": {
      "text/plain": [
       "model       0.798030\n",
       "gear_box    0.023136\n",
       "dtype: float64"
      ]
     },
     "execution_count": 61,
     "metadata": {},
     "output_type": "execute_result"
    }
   ],
   "source": [
    "df[['model','gear_box']].isnull().sum().sort_values(ascending=False) / df.shape[0] * 100"
   ]
  },
  {
   "cell_type": "markdown",
   "metadata": {},
   "source": [
    "Осталось совсем немного пропусков, думаю можно удалить."
   ]
  },
  {
   "cell_type": "code",
   "execution_count": 62,
   "metadata": {},
   "outputs": [],
   "source": [
    "index_nan = df.query('model!=model or gear_box!=gear_box').index"
   ]
  },
  {
   "cell_type": "code",
   "execution_count": 63,
   "metadata": {},
   "outputs": [],
   "source": [
    "df = df.drop(index_nan)"
   ]
  },
  {
   "cell_type": "code",
   "execution_count": 64,
   "metadata": {},
   "outputs": [
    {
     "data": {
      "text/plain": [
       "(338673, 15)"
      ]
     },
     "execution_count": 64,
     "metadata": {},
     "output_type": "execute_result"
    }
   ],
   "source": [
    "df.shape"
   ]
  },
  {
   "cell_type": "code",
   "execution_count": 65,
   "metadata": {},
   "outputs": [
    {
     "data": {
      "text/plain": [
       "date_crawled          0.0\n",
       "price                 0.0\n",
       "vehicle_type          0.0\n",
       "registration_year     0.0\n",
       "gear_box              0.0\n",
       "power                 0.0\n",
       "model                 0.0\n",
       "kilometer             0.0\n",
       "registration_month    0.0\n",
       "fuel_type             0.0\n",
       "brand                 0.0\n",
       "not_repaired          0.0\n",
       "date_created          0.0\n",
       "postal_code           0.0\n",
       "last_seen             0.0\n",
       "dtype: float64"
      ]
     },
     "execution_count": 65,
     "metadata": {},
     "output_type": "execute_result"
    }
   ],
   "source": [
    "df.isnull().sum().sort_values(ascending=False) / df.shape[0] * 100"
   ]
  },
  {
   "cell_type": "markdown",
   "metadata": {},
   "source": [
    "С пропусками разобрались, заодно преобразовали категориальные признаки."
   ]
  },
  {
   "cell_type": "markdown",
   "metadata": {},
   "source": [
    "### Количественные признаки\n",
    "Перейдем к работе с количественными признаками\n",
    "\n"
   ]
  },
  {
   "cell_type": "code",
   "execution_count": 66,
   "metadata": {},
   "outputs": [
    {
     "name": "stdout",
     "output_type": "stream",
     "text": [
      "<class 'pandas.core.frame.DataFrame'>\n",
      "Int64Index: 338673 entries, 0 to 354368\n",
      "Data columns (total 15 columns):\n",
      " #   Column              Non-Null Count   Dtype         \n",
      "---  ------              --------------   -----         \n",
      " 0   date_crawled        338673 non-null  datetime64[ns]\n",
      " 1   price               338673 non-null  int64         \n",
      " 2   vehicle_type        338673 non-null  int64         \n",
      " 3   registration_year   338673 non-null  int64         \n",
      " 4   gear_box            338673 non-null  object        \n",
      " 5   power               338673 non-null  int64         \n",
      " 6   model               338673 non-null  object        \n",
      " 7   kilometer           338673 non-null  int64         \n",
      " 8   registration_month  338673 non-null  int64         \n",
      " 9   fuel_type           338673 non-null  int64         \n",
      " 10  brand               338673 non-null  int64         \n",
      " 11  not_repaired        338673 non-null  int64         \n",
      " 12  date_created        338673 non-null  datetime64[ns]\n",
      " 13  postal_code         338673 non-null  int64         \n",
      " 14  last_seen           338673 non-null  datetime64[ns]\n",
      "dtypes: datetime64[ns](3), int64(10), object(2)\n",
      "memory usage: 41.3+ MB\n"
     ]
    }
   ],
   "source": [
    "df.info()"
   ]
  },
  {
   "cell_type": "code",
   "execution_count": 67,
   "metadata": {},
   "outputs": [
    {
     "data": {
      "text/html": [
       "<div>\n",
       "<style scoped>\n",
       "    .dataframe tbody tr th:only-of-type {\n",
       "        vertical-align: middle;\n",
       "    }\n",
       "\n",
       "    .dataframe tbody tr th {\n",
       "        vertical-align: top;\n",
       "    }\n",
       "\n",
       "    .dataframe thead th {\n",
       "        text-align: right;\n",
       "    }\n",
       "</style>\n",
       "<table border=\"1\" class=\"dataframe\">\n",
       "  <thead>\n",
       "    <tr style=\"text-align: right;\">\n",
       "      <th></th>\n",
       "      <th>power</th>\n",
       "      <th>kilometer</th>\n",
       "      <th>registration_month</th>\n",
       "    </tr>\n",
       "  </thead>\n",
       "  <tbody>\n",
       "    <tr>\n",
       "      <th>count</th>\n",
       "      <td>338673.000000</td>\n",
       "      <td>338673.000000</td>\n",
       "      <td>338673.000000</td>\n",
       "    </tr>\n",
       "    <tr>\n",
       "      <th>mean</th>\n",
       "      <td>107.792484</td>\n",
       "      <td>128794.604235</td>\n",
       "      <td>5.800740</td>\n",
       "    </tr>\n",
       "    <tr>\n",
       "      <th>std</th>\n",
       "      <td>62.278809</td>\n",
       "      <td>36915.272843</td>\n",
       "      <td>3.689429</td>\n",
       "    </tr>\n",
       "    <tr>\n",
       "      <th>min</th>\n",
       "      <td>0.000000</td>\n",
       "      <td>5000.000000</td>\n",
       "      <td>0.000000</td>\n",
       "    </tr>\n",
       "    <tr>\n",
       "      <th>25%</th>\n",
       "      <td>70.000000</td>\n",
       "      <td>125000.000000</td>\n",
       "      <td>3.000000</td>\n",
       "    </tr>\n",
       "    <tr>\n",
       "      <th>50%</th>\n",
       "      <td>105.000000</td>\n",
       "      <td>150000.000000</td>\n",
       "      <td>6.000000</td>\n",
       "    </tr>\n",
       "    <tr>\n",
       "      <th>75%</th>\n",
       "      <td>143.000000</td>\n",
       "      <td>150000.000000</td>\n",
       "      <td>9.000000</td>\n",
       "    </tr>\n",
       "    <tr>\n",
       "      <th>max</th>\n",
       "      <td>600.000000</td>\n",
       "      <td>150000.000000</td>\n",
       "      <td>12.000000</td>\n",
       "    </tr>\n",
       "  </tbody>\n",
       "</table>\n",
       "</div>"
      ],
      "text/plain": [
       "               power      kilometer  registration_month\n",
       "count  338673.000000  338673.000000       338673.000000\n",
       "mean      107.792484  128794.604235            5.800740\n",
       "std        62.278809   36915.272843            3.689429\n",
       "min         0.000000    5000.000000            0.000000\n",
       "25%        70.000000  125000.000000            3.000000\n",
       "50%       105.000000  150000.000000            6.000000\n",
       "75%       143.000000  150000.000000            9.000000\n",
       "max       600.000000  150000.000000           12.000000"
      ]
     },
     "execution_count": 67,
     "metadata": {},
     "output_type": "execute_result"
    }
   ],
   "source": [
    "df[['power','kilometer','registration_month']].describe()"
   ]
  },
  {
   "cell_type": "markdown",
   "metadata": {},
   "source": [
    "#### Мощность двигателя `Power`"
   ]
  },
  {
   "cell_type": "markdown",
   "metadata": {},
   "source": [
    "Посмотрим сколько строк с нулевой мощностью, осталось"
   ]
  },
  {
   "cell_type": "code",
   "execution_count": 68,
   "metadata": {},
   "outputs": [
    {
     "data": {
      "text/plain": [
       "34556"
      ]
     },
     "execution_count": 68,
     "metadata": {},
     "output_type": "execute_result"
    }
   ],
   "source": [
    "df[df['power'] == 0]['brand'].count()"
   ]
  },
  {
   "cell_type": "markdown",
   "metadata": {},
   "source": [
    "Заполним медианой по модели, марке и году выпуска"
   ]
  },
  {
   "cell_type": "code",
   "execution_count": 69,
   "metadata": {},
   "outputs": [],
   "source": [
    "power_zero_index = df[df['power'] == 0].index\n",
    "df = replace_nan(df,'power',['brand','registration_year','model'],power_zero_index,'zero')"
   ]
  },
  {
   "cell_type": "markdown",
   "metadata": {},
   "source": [
    "Теперь попробуем только по модели и году выпуска, а потом по модели и типу топлива"
   ]
  },
  {
   "cell_type": "code",
   "execution_count": 70,
   "metadata": {},
   "outputs": [],
   "source": [
    "df = replace_nan(df,'power',['registration_year','model'],power_zero_index,'zero')\n",
    "df = replace_nan(df,'power',['fuel_type','model'],power_zero_index,'zero')"
   ]
  },
  {
   "cell_type": "code",
   "execution_count": 71,
   "metadata": {},
   "outputs": [
    {
     "data": {
      "text/plain": [
       "117"
      ]
     },
     "execution_count": 71,
     "metadata": {},
     "output_type": "execute_result"
    }
   ],
   "source": [
    "df[df['power'] == 0]['brand'].count()"
   ]
  },
  {
   "cell_type": "markdown",
   "metadata": {},
   "source": [
    "Осталось 117 нулевых значений, можно удалить"
   ]
  },
  {
   "cell_type": "code",
   "execution_count": 72,
   "metadata": {},
   "outputs": [],
   "source": [
    "df = df.drop(df.query('power == 0').index)"
   ]
  },
  {
   "cell_type": "markdown",
   "metadata": {},
   "source": [
    "#### Пробег `kilometer`"
   ]
  },
  {
   "cell_type": "code",
   "execution_count": 73,
   "metadata": {},
   "outputs": [
    {
     "data": {
      "image/png": "[encoded data removed]",
      "text/plain": [
       "<Figure size 432x288 with 1 Axes>"
      ]
     },
     "metadata": {
      "needs_background": "light"
     },
     "output_type": "display_data"
    }
   ],
   "source": [
    "df['kilometer'].hist(bins=15)\n",
    "plt.title('Распредеделние пробега, км')\n",
    "plt.show()"
   ]
  },
  {
   "cell_type": "markdown",
   "metadata": {},
   "source": [
    "У пробега подозрительно, только что максимальный пробег ограничен 150 000 км, и при этом таких объявлений подавляющее большинство."
   ]
  },
  {
   "cell_type": "markdown",
   "metadata": {},
   "source": [
    "#### Месяц регистрации `registration_month`"
   ]
  },
  {
   "cell_type": "code",
   "execution_count": 74,
   "metadata": {},
   "outputs": [
    {
     "data": {
      "text/plain": [
       "<seaborn.axisgrid.FacetGrid at 0x11f9babe0>"
      ]
     },
     "execution_count": 74,
     "metadata": {},
     "output_type": "execute_result"
    },
    {
     "data": {
      "image/png": "[encoded data removed]",
      "text/plain": [
       "<Figure size 360x360 with 1 Axes>"
      ]
     },
     "metadata": {
      "needs_background": "light"
     },
     "output_type": "display_data"
    }
   ],
   "source": [
    "sns.displot(df['registration_month'])"
   ]
  },
  {
   "cell_type": "code",
   "execution_count": 75,
   "metadata": {},
   "outputs": [
    {
     "data": {
      "text/plain": [
       "31326"
      ]
     },
     "execution_count": 75,
     "metadata": {},
     "output_type": "execute_result"
    }
   ],
   "source": [
    "df[df['registration_month']==0]['registration_month'].count()"
   ]
  },
  {
   "cell_type": "markdown",
   "metadata": {},
   "source": [
    "По месяцам регистрации выбивается только нулевое значение. Видимо при выгрузке ошибка возникла или при заполнении объявления человеком не был указан месяц.\n",
    "\n",
    "Эти записи распределим равномерно по 12 месяцам, с учетом доли по месяцам. "
   ]
  },
  {
   "cell_type": "code",
   "execution_count": 76,
   "metadata": {},
   "outputs": [],
   "source": [
    "month_list = []\n",
    "for i in range(1,13):\n",
    "    num = df.query('registration_month == @i').shape[0]/(df.shape[0]-df.query('registration_month == 0').shape[0])\n",
    "    num_size = round(df.query('registration_month == 0').shape[0]*num)\n",
    "    month_list.append(num_size)"
   ]
  },
  {
   "cell_type": "code",
   "execution_count": 77,
   "metadata": {},
   "outputs": [
    {
     "data": {
      "text/plain": [
       "31326"
      ]
     },
     "execution_count": 77,
     "metadata": {},
     "output_type": "execute_result"
    }
   ],
   "source": [
    "sum(month_list)"
   ]
  },
  {
   "cell_type": "code",
   "execution_count": 78,
   "metadata": {},
   "outputs": [
    {
     "data": {
      "text/plain": [
       "[2266, 2100, 3416, 2898, 2881, 3107, 2674, 2233, 2359, 2592, 2403, 2397]"
      ]
     },
     "execution_count": 78,
     "metadata": {},
     "output_type": "execute_result"
    }
   ],
   "source": [
    "month_list"
   ]
  },
  {
   "cell_type": "markdown",
   "metadata": {},
   "source": [
    "Столько записей с нулем в месяце отнесем к каждому из 12 месяцем"
   ]
  },
  {
   "cell_type": "code",
   "execution_count": 79,
   "metadata": {},
   "outputs": [],
   "source": [
    "month_zero_index = df.query('registration_month==0').index # список индексов с нулями в столбце с месяцем\n",
    "for i, n in enumerate(month_list):  \n",
    "    index_month = np.random.choice(month_zero_index,size = n,replace=False) \n",
    "    df.loc[index_month,'registration_month'] = i+1\n",
    "    month_zero_index = month_zero_index[~np.isin(month_zero_index, index_month)]"
   ]
  },
  {
   "cell_type": "code",
   "execution_count": 80,
   "metadata": {},
   "outputs": [
    {
     "data": {
      "text/plain": [
       "0"
      ]
     },
     "execution_count": 80,
     "metadata": {},
     "output_type": "execute_result"
    }
   ],
   "source": [
    "df[df['registration_month']==0]['registration_month'].count()"
   ]
  },
  {
   "cell_type": "code",
   "execution_count": 81,
   "metadata": {},
   "outputs": [
    {
     "data": {
      "text/plain": [
       "<seaborn.axisgrid.FacetGrid at 0x11fa57a30>"
      ]
     },
     "execution_count": 81,
     "metadata": {},
     "output_type": "execute_result"
    },
    {
     "data": {
      "image/png": "[encoded data removed]",
      "text/plain": [
       "<Figure size 360x360 with 1 Axes>"
      ]
     },
     "metadata": {
      "needs_background": "light"
     },
     "output_type": "display_data"
    }
   ],
   "source": [
    "sns.displot(df['registration_month'])"
   ]
  },
  {
   "cell_type": "markdown",
   "metadata": {},
   "source": [
    "Нули в месяце заменили. \n",
    "\n",
    "Проверим теперь что в итоге получили"
   ]
  },
  {
   "cell_type": "code",
   "execution_count": 82,
   "metadata": {},
   "outputs": [
    {
     "data": {
      "text/html": [
       "<div>\n",
       "<style scoped>\n",
       "    .dataframe tbody tr th:only-of-type {\n",
       "        vertical-align: middle;\n",
       "    }\n",
       "\n",
       "    .dataframe tbody tr th {\n",
       "        vertical-align: top;\n",
       "    }\n",
       "\n",
       "    .dataframe thead th {\n",
       "        text-align: right;\n",
       "    }\n",
       "</style>\n",
       "<table border=\"1\" class=\"dataframe\">\n",
       "  <thead>\n",
       "    <tr style=\"text-align: right;\">\n",
       "      <th></th>\n",
       "      <th>date_crawled</th>\n",
       "      <th>price</th>\n",
       "      <th>vehicle_type</th>\n",
       "      <th>registration_year</th>\n",
       "      <th>gear_box</th>\n",
       "      <th>power</th>\n",
       "      <th>model</th>\n",
       "      <th>kilometer</th>\n",
       "      <th>registration_month</th>\n",
       "      <th>fuel_type</th>\n",
       "      <th>brand</th>\n",
       "      <th>not_repaired</th>\n",
       "      <th>date_created</th>\n",
       "      <th>postal_code</th>\n",
       "      <th>last_seen</th>\n",
       "    </tr>\n",
       "  </thead>\n",
       "  <tbody>\n",
       "    <tr>\n",
       "      <th>0</th>\n",
       "      <td>2016-03-24 11:52:17</td>\n",
       "      <td>480</td>\n",
       "      <td>3</td>\n",
       "      <td>1993</td>\n",
       "      <td>1</td>\n",
       "      <td>75.0</td>\n",
       "      <td>116</td>\n",
       "      <td>150000</td>\n",
       "      <td>1</td>\n",
       "      <td>5</td>\n",
       "      <td>38</td>\n",
       "      <td>1</td>\n",
       "      <td>2016-03-24</td>\n",
       "      <td>70435</td>\n",
       "      <td>2016-04-07 03:16:57</td>\n",
       "    </tr>\n",
       "    <tr>\n",
       "      <th>1</th>\n",
       "      <td>2016-03-24 10:58:45</td>\n",
       "      <td>18300</td>\n",
       "      <td>2</td>\n",
       "      <td>2011</td>\n",
       "      <td>1</td>\n",
       "      <td>190.0</td>\n",
       "      <td>31.0</td>\n",
       "      <td>125000</td>\n",
       "      <td>5</td>\n",
       "      <td>5</td>\n",
       "      <td>1</td>\n",
       "      <td>2</td>\n",
       "      <td>2016-03-24</td>\n",
       "      <td>66954</td>\n",
       "      <td>2016-04-07 01:46:50</td>\n",
       "    </tr>\n",
       "    <tr>\n",
       "      <th>2</th>\n",
       "      <td>2016-03-14 12:52:21</td>\n",
       "      <td>9800</td>\n",
       "      <td>6</td>\n",
       "      <td>2004</td>\n",
       "      <td>0</td>\n",
       "      <td>163.0</td>\n",
       "      <td>117</td>\n",
       "      <td>125000</td>\n",
       "      <td>8</td>\n",
       "      <td>5</td>\n",
       "      <td>14</td>\n",
       "      <td>1</td>\n",
       "      <td>2016-03-14</td>\n",
       "      <td>90480</td>\n",
       "      <td>2016-04-05 12:47:46</td>\n",
       "    </tr>\n",
       "    <tr>\n",
       "      <th>3</th>\n",
       "      <td>2016-03-17 16:54:04</td>\n",
       "      <td>1500</td>\n",
       "      <td>5</td>\n",
       "      <td>2001</td>\n",
       "      <td>1</td>\n",
       "      <td>75.0</td>\n",
       "      <td>116</td>\n",
       "      <td>150000</td>\n",
       "      <td>6</td>\n",
       "      <td>5</td>\n",
       "      <td>38</td>\n",
       "      <td>0</td>\n",
       "      <td>2016-03-17</td>\n",
       "      <td>91074</td>\n",
       "      <td>2016-03-17 17:40:17</td>\n",
       "    </tr>\n",
       "    <tr>\n",
       "      <th>4</th>\n",
       "      <td>2016-03-31 17:25:20</td>\n",
       "      <td>3600</td>\n",
       "      <td>5</td>\n",
       "      <td>2008</td>\n",
       "      <td>1</td>\n",
       "      <td>69.0</td>\n",
       "      <td>101</td>\n",
       "      <td>90000</td>\n",
       "      <td>7</td>\n",
       "      <td>5</td>\n",
       "      <td>31</td>\n",
       "      <td>0</td>\n",
       "      <td>2016-03-31</td>\n",
       "      <td>60437</td>\n",
       "      <td>2016-04-06 10:17:21</td>\n",
       "    </tr>\n",
       "  </tbody>\n",
       "</table>\n",
       "</div>"
      ],
      "text/plain": [
       "         date_crawled  price  vehicle_type  registration_year gear_box  power  \\\n",
       "0 2016-03-24 11:52:17    480             3               1993        1   75.0   \n",
       "1 2016-03-24 10:58:45  18300             2               2011        1  190.0   \n",
       "2 2016-03-14 12:52:21   9800             6               2004        0  163.0   \n",
       "3 2016-03-17 16:54:04   1500             5               2001        1   75.0   \n",
       "4 2016-03-31 17:25:20   3600             5               2008        1   69.0   \n",
       "\n",
       "  model  kilometer  registration_month  fuel_type  brand  not_repaired  \\\n",
       "0   116     150000                   1          5     38             1   \n",
       "1  31.0     125000                   5          5      1             2   \n",
       "2   117     125000                   8          5     14             1   \n",
       "3   116     150000                   6          5     38             0   \n",
       "4   101      90000                   7          5     31             0   \n",
       "\n",
       "  date_created  postal_code           last_seen  \n",
       "0   2016-03-24        70435 2016-04-07 03:16:57  \n",
       "1   2016-03-24        66954 2016-04-07 01:46:50  \n",
       "2   2016-03-14        90480 2016-04-05 12:47:46  \n",
       "3   2016-03-17        91074 2016-03-17 17:40:17  \n",
       "4   2016-03-31        60437 2016-04-06 10:17:21  "
      ]
     },
     "execution_count": 82,
     "metadata": {},
     "output_type": "execute_result"
    }
   ],
   "source": [
    "df.head(5)"
   ]
  },
  {
   "cell_type": "code",
   "execution_count": 83,
   "metadata": {
    "scrolled": true
   },
   "outputs": [
    {
     "data": {
      "text/html": [
       "<div>\n",
       "<style scoped>\n",
       "    .dataframe tbody tr th:only-of-type {\n",
       "        vertical-align: middle;\n",
       "    }\n",
       "\n",
       "    .dataframe tbody tr th {\n",
       "        vertical-align: top;\n",
       "    }\n",
       "\n",
       "    .dataframe thead th {\n",
       "        text-align: right;\n",
       "    }\n",
       "</style>\n",
       "<table border=\"1\" class=\"dataframe\">\n",
       "  <thead>\n",
       "    <tr style=\"text-align: right;\">\n",
       "      <th></th>\n",
       "      <th>price</th>\n",
       "      <th>vehicle_type</th>\n",
       "      <th>registration_year</th>\n",
       "      <th>power</th>\n",
       "      <th>kilometer</th>\n",
       "      <th>registration_month</th>\n",
       "      <th>fuel_type</th>\n",
       "      <th>brand</th>\n",
       "      <th>not_repaired</th>\n",
       "      <th>postal_code</th>\n",
       "    </tr>\n",
       "  </thead>\n",
       "  <tbody>\n",
       "    <tr>\n",
       "      <th>count</th>\n",
       "      <td>338556.000000</td>\n",
       "      <td>338556.000000</td>\n",
       "      <td>338556.000000</td>\n",
       "      <td>338556.000000</td>\n",
       "      <td>338556.000000</td>\n",
       "      <td>338556.000000</td>\n",
       "      <td>338556.000000</td>\n",
       "      <td>338556.000000</td>\n",
       "      <td>338556.000000</td>\n",
       "      <td>338556.000000</td>\n",
       "    </tr>\n",
       "    <tr>\n",
       "      <th>mean</th>\n",
       "      <td>4566.517040</td>\n",
       "      <td>4.158875</td>\n",
       "      <td>2003.282323</td>\n",
       "      <td>117.729904</td>\n",
       "      <td>128795.723603</td>\n",
       "      <td>6.393400</td>\n",
       "      <td>4.877199</td>\n",
       "      <td>20.778007</td>\n",
       "      <td>0.385936</td>\n",
       "      <td>50720.319232</td>\n",
       "    </tr>\n",
       "    <tr>\n",
       "      <th>std</th>\n",
       "      <td>4504.413595</td>\n",
       "      <td>2.036970</td>\n",
       "      <td>7.100662</td>\n",
       "      <td>52.705652</td>\n",
       "      <td>36912.243136</td>\n",
       "      <td>3.348671</td>\n",
       "      <td>0.418437</td>\n",
       "      <td>13.299304</td>\n",
       "      <td>0.659354</td>\n",
       "      <td>25722.528430</td>\n",
       "    </tr>\n",
       "    <tr>\n",
       "      <th>min</th>\n",
       "      <td>50.000000</td>\n",
       "      <td>0.000000</td>\n",
       "      <td>1910.000000</td>\n",
       "      <td>0.500000</td>\n",
       "      <td>5000.000000</td>\n",
       "      <td>1.000000</td>\n",
       "      <td>0.000000</td>\n",
       "      <td>0.000000</td>\n",
       "      <td>0.000000</td>\n",
       "      <td>1067.000000</td>\n",
       "    </tr>\n",
       "    <tr>\n",
       "      <th>25%</th>\n",
       "      <td>1200.000000</td>\n",
       "      <td>3.000000</td>\n",
       "      <td>1999.000000</td>\n",
       "      <td>75.000000</td>\n",
       "      <td>125000.000000</td>\n",
       "      <td>4.000000</td>\n",
       "      <td>5.000000</td>\n",
       "      <td>9.000000</td>\n",
       "      <td>0.000000</td>\n",
       "      <td>30455.000000</td>\n",
       "    </tr>\n",
       "    <tr>\n",
       "      <th>50%</th>\n",
       "      <td>2900.000000</td>\n",
       "      <td>4.000000</td>\n",
       "      <td>2003.000000</td>\n",
       "      <td>109.000000</td>\n",
       "      <td>150000.000000</td>\n",
       "      <td>6.000000</td>\n",
       "      <td>5.000000</td>\n",
       "      <td>24.000000</td>\n",
       "      <td>0.000000</td>\n",
       "      <td>49545.000000</td>\n",
       "    </tr>\n",
       "    <tr>\n",
       "      <th>75%</th>\n",
       "      <td>6500.000000</td>\n",
       "      <td>5.000000</td>\n",
       "      <td>2008.000000</td>\n",
       "      <td>143.000000</td>\n",
       "      <td>150000.000000</td>\n",
       "      <td>9.000000</td>\n",
       "      <td>5.000000</td>\n",
       "      <td>34.000000</td>\n",
       "      <td>1.000000</td>\n",
       "      <td>71254.000000</td>\n",
       "    </tr>\n",
       "    <tr>\n",
       "      <th>max</th>\n",
       "      <td>20000.000000</td>\n",
       "      <td>7.000000</td>\n",
       "      <td>2019.000000</td>\n",
       "      <td>600.000000</td>\n",
       "      <td>150000.000000</td>\n",
       "      <td>12.000000</td>\n",
       "      <td>5.000000</td>\n",
       "      <td>39.000000</td>\n",
       "      <td>2.000000</td>\n",
       "      <td>99998.000000</td>\n",
       "    </tr>\n",
       "  </tbody>\n",
       "</table>\n",
       "</div>"
      ],
      "text/plain": [
       "               price   vehicle_type  registration_year          power  \\\n",
       "count  338556.000000  338556.000000      338556.000000  338556.000000   \n",
       "mean     4566.517040       4.158875        2003.282323     117.729904   \n",
       "std      4504.413595       2.036970           7.100662      52.705652   \n",
       "min        50.000000       0.000000        1910.000000       0.500000   \n",
       "25%      1200.000000       3.000000        1999.000000      75.000000   \n",
       "50%      2900.000000       4.000000        2003.000000     109.000000   \n",
       "75%      6500.000000       5.000000        2008.000000     143.000000   \n",
       "max     20000.000000       7.000000        2019.000000     600.000000   \n",
       "\n",
       "           kilometer  registration_month      fuel_type          brand  \\\n",
       "count  338556.000000       338556.000000  338556.000000  338556.000000   \n",
       "mean   128795.723603            6.393400       4.877199      20.778007   \n",
       "std     36912.243136            3.348671       0.418437      13.299304   \n",
       "min      5000.000000            1.000000       0.000000       0.000000   \n",
       "25%    125000.000000            4.000000       5.000000       9.000000   \n",
       "50%    150000.000000            6.000000       5.000000      24.000000   \n",
       "75%    150000.000000            9.000000       5.000000      34.000000   \n",
       "max    150000.000000           12.000000       5.000000      39.000000   \n",
       "\n",
       "        not_repaired    postal_code  \n",
       "count  338556.000000  338556.000000  \n",
       "mean        0.385936   50720.319232  \n",
       "std         0.659354   25722.528430  \n",
       "min         0.000000    1067.000000  \n",
       "25%         0.000000   30455.000000  \n",
       "50%         0.000000   49545.000000  \n",
       "75%         1.000000   71254.000000  \n",
       "max         2.000000   99998.000000  "
      ]
     },
     "execution_count": 83,
     "metadata": {},
     "output_type": "execute_result"
    }
   ],
   "source": [
    "df.describe()"
   ]
  },
  {
   "cell_type": "code",
   "execution_count": 84,
   "metadata": {},
   "outputs": [
    {
     "name": "stdout",
     "output_type": "stream",
     "text": [
      "<class 'pandas.core.frame.DataFrame'>\n",
      "Int64Index: 338556 entries, 0 to 354368\n",
      "Data columns (total 15 columns):\n",
      " #   Column              Non-Null Count   Dtype         \n",
      "---  ------              --------------   -----         \n",
      " 0   date_crawled        338556 non-null  datetime64[ns]\n",
      " 1   price               338556 non-null  int64         \n",
      " 2   vehicle_type        338556 non-null  int64         \n",
      " 3   registration_year   338556 non-null  int64         \n",
      " 4   gear_box            338556 non-null  object        \n",
      " 5   power               338556 non-null  float64       \n",
      " 6   model               338556 non-null  object        \n",
      " 7   kilometer           338556 non-null  int64         \n",
      " 8   registration_month  338556 non-null  int64         \n",
      " 9   fuel_type           338556 non-null  int64         \n",
      " 10  brand               338556 non-null  int64         \n",
      " 11  not_repaired        338556 non-null  int64         \n",
      " 12  date_created        338556 non-null  datetime64[ns]\n",
      " 13  postal_code         338556 non-null  int64         \n",
      " 14  last_seen           338556 non-null  datetime64[ns]\n",
      "dtypes: datetime64[ns](3), float64(1), int64(9), object(2)\n",
      "memory usage: 49.4+ MB\n"
     ]
    }
   ],
   "source": [
    "df.info()"
   ]
  },
  {
   "cell_type": "code",
   "execution_count": 85,
   "metadata": {},
   "outputs": [
    {
     "data": {
      "text/plain": [
       "0"
      ]
     },
     "execution_count": 85,
     "metadata": {},
     "output_type": "execute_result"
    }
   ],
   "source": [
    "df.duplicated().sum()"
   ]
  },
  {
   "cell_type": "markdown",
   "metadata": {},
   "source": [
    "Сменим тип данных у столбцов `gear_box`, `model` на int32"
   ]
  },
  {
   "cell_type": "code",
   "execution_count": 86,
   "metadata": {},
   "outputs": [],
   "source": [
    "df = df.astype({'gear_box':'int32','model': 'int32'})"
   ]
  },
  {
   "cell_type": "code",
   "execution_count": 87,
   "metadata": {},
   "outputs": [
    {
     "name": "stdout",
     "output_type": "stream",
     "text": [
      "<class 'pandas.core.frame.DataFrame'>\n",
      "Int64Index: 338556 entries, 0 to 354368\n",
      "Data columns (total 15 columns):\n",
      " #   Column              Non-Null Count   Dtype         \n",
      "---  ------              --------------   -----         \n",
      " 0   date_crawled        338556 non-null  datetime64[ns]\n",
      " 1   price               338556 non-null  int64         \n",
      " 2   vehicle_type        338556 non-null  int64         \n",
      " 3   registration_year   338556 non-null  int64         \n",
      " 4   gear_box            338556 non-null  int32         \n",
      " 5   power               338556 non-null  float64       \n",
      " 6   model               338556 non-null  int32         \n",
      " 7   kilometer           338556 non-null  int64         \n",
      " 8   registration_month  338556 non-null  int64         \n",
      " 9   fuel_type           338556 non-null  int64         \n",
      " 10  brand               338556 non-null  int64         \n",
      " 11  not_repaired        338556 non-null  int64         \n",
      " 12  date_created        338556 non-null  datetime64[ns]\n",
      " 13  postal_code         338556 non-null  int64         \n",
      " 14  last_seen           338556 non-null  datetime64[ns]\n",
      "dtypes: datetime64[ns](3), float64(1), int32(2), int64(9)\n",
      "memory usage: 46.8 MB\n"
     ]
    }
   ],
   "source": [
    "df.info()"
   ]
  },
  {
   "cell_type": "markdown",
   "metadata": {},
   "source": [
    "Предобработку данных на этом можно закончить"
   ]
  },
  {
   "cell_type": "markdown",
   "metadata": {},
   "source": [
    "## Обучение моделей"
   ]
  },
  {
   "cell_type": "markdown",
   "metadata": {},
   "source": [
    "### Подготовка признаков\n",
    "\n",
    "Поделим исходный датасет на признаки и таргет "
   ]
  },
  {
   "cell_type": "code",
   "execution_count": 88,
   "metadata": {},
   "outputs": [],
   "source": [
    "X = df.drop(['date_crawled','date_created','last_seen','price','postal_code','registration_month'],axis=1)\n",
    "y = df['price']"
   ]
  },
  {
   "cell_type": "code",
   "execution_count": 89,
   "metadata": {},
   "outputs": [],
   "source": [
    "x_train, x_test, y_train, y_test = train_test_split(X, y, test_size = 0.25, random_state = 314)"
   ]
  },
  {
   "cell_type": "markdown",
   "metadata": {},
   "source": [
    "Для обучения моделей и предсказания результатов с подсчетом затрачиваемого времени, будем использовать следующие функции"
   ]
  },
  {
   "cell_type": "code",
   "execution_count": 90,
   "metadata": {},
   "outputs": [],
   "source": [
    "def learn_model(model,x_train,y_train):\n",
    "    start = time.time()\n",
    "    model.fit(x_train,y_train)\n",
    "    end = time.time()\n",
    "    return model, end - start\n",
    "\n",
    "def predict_model(model,x_test,y_test):\n",
    "    start = time.time()\n",
    "    pred = model.predict(x_test)\n",
    "    end = time.time()\n",
    "    rmse = mean_squared_error(y_test,pred,squared=False)\n",
    "    return end - start, rmse"
   ]
  },
  {
   "cell_type": "code",
   "execution_count": 91,
   "metadata": {},
   "outputs": [],
   "source": [
    "compare_models = pd.DataFrame(columns=['Learning time','Predict time','RMSE'])"
   ]
  },
  {
   "cell_type": "code",
   "execution_count": 92,
   "metadata": {},
   "outputs": [],
   "source": [
    "def add_model(learn_time,pred_time,rmse,model_name,df): #функция для добавления строчки \n",
    "    df.loc[model_name,'RMSE'] = rmse\n",
    "    df.loc[model_name,'Learning time'] = learn_time\n",
    "    df.loc[model_name,'Predict time'] = pred_time"
   ]
  },
  {
   "cell_type": "code",
   "execution_count": 93,
   "metadata": {},
   "outputs": [],
   "source": [
    "def learn_model(model,x_train,y_train):\n",
    "    start = time.time()\n",
    "    model.fit(x_train,y_train)\n",
    "    end = time.time()\n",
    "    return model, end - start\n",
    "\n",
    "def predict_model(model,x_test,y_test):\n",
    "    start = time.time()\n",
    "    pred = model.predict(x_test)\n",
    "    end = time.time()\n",
    "    rmse = mean_squared_error(y_test,pred,squared=False)\n",
    "    return end - start, rmse"
   ]
  },
  {
   "cell_type": "code",
   "execution_count": 94,
   "metadata": {},
   "outputs": [],
   "source": [
    "compare_models = pd.DataFrame(columns=['Learning time','Predict time','RMSE'])"
   ]
  },
  {
   "cell_type": "code",
   "execution_count": 95,
   "metadata": {},
   "outputs": [],
   "source": [
    "def add_model(learn_time,pred_time,rmse,model_name,df): #функция для добавления строчки \n",
    "    df.loc[model_name,'RMSE'] = rmse\n",
    "    df.loc[model_name,'Learning time'] = learn_time\n",
    "    df.loc[model_name,'Predict time'] = pred_time"
   ]
  },
  {
   "cell_type": "markdown",
   "metadata": {},
   "source": [
    "### Модели ML"
   ]
  },
  {
   "cell_type": "markdown",
   "metadata": {},
   "source": [
    "#### Линейная регрессия"
   ]
  },
  {
   "cell_type": "code",
   "execution_count": 96,
   "metadata": {},
   "outputs": [],
   "source": [
    "linear_regression_model, linear_regression_time_learn = learn_model(LinearRegression(),x_train,y_train)\n",
    "linear_regression_time_pred, linear_regression_rmse = predict_model(linear_regression_model,x_test,y_test)"
   ]
  },
  {
   "cell_type": "code",
   "execution_count": 97,
   "metadata": {},
   "outputs": [
    {
     "data": {
      "text/plain": [
       "3053.9935297240045"
      ]
     },
     "execution_count": 97,
     "metadata": {},
     "output_type": "execute_result"
    }
   ],
   "source": [
    "linear_regression_rmse"
   ]
  },
  {
   "cell_type": "code",
   "execution_count": 98,
   "metadata": {},
   "outputs": [],
   "source": [
    "add_model(linear_regression_time_learn,linear_regression_time_pred,linear_regression_rmse,'Linear regression',compare_models)"
   ]
  },
  {
   "cell_type": "markdown",
   "metadata": {},
   "source": [
    "#### ElasticNet"
   ]
  },
  {
   "cell_type": "code",
   "execution_count": 99,
   "metadata": {},
   "outputs": [],
   "source": [
    "elastic_net_model, elastic_net_time_learn = learn_model(ElasticNet(random_state = 314),x_train,y_train)\n",
    "elastic_net_time_pred, elastic_net_rmse = predict_model(elastic_net_model,x_test,y_test)"
   ]
  },
  {
   "cell_type": "code",
   "execution_count": 100,
   "metadata": {},
   "outputs": [
    {
     "data": {
      "text/plain": [
       "3090.850213336822"
      ]
     },
     "execution_count": 100,
     "metadata": {},
     "output_type": "execute_result"
    }
   ],
   "source": [
    "elastic_net_rmse"
   ]
  },
  {
   "cell_type": "markdown",
   "metadata": {},
   "source": [
    "Попробуем с помощью GridSearch подобрать гиперпараметры для модели ElasticNet что бы добиться лучшего значения метрики"
   ]
  },
  {
   "cell_type": "code",
   "execution_count": 101,
   "metadata": {},
   "outputs": [
    {
     "name": "stdout",
     "output_type": "stream",
     "text": [
      "CPU times: user 1min 4s, sys: 15.2 s, total: 1min 19s\n",
      "Wall time: 34.7 s\n"
     ]
    },
    {
     "data": {
      "text/plain": [
       "{'alpha': 0.1, 'l1_ratio': 0.5}"
      ]
     },
     "execution_count": 101,
     "metadata": {},
     "output_type": "execute_result"
    }
   ],
   "source": [
    "%%time\n",
    "param_grid_en = [{'alpha': [0.1, 0.2, 0.3, 0.4, 0.5, 0.6, 0.7, 0.8, 0.9 ,1], 'l1_ratio': [0.1, 0.2, 0.3, 0.4, 0.5]}]\n",
    "en = ElasticNet()\n",
    "grid_search_en = GridSearchCV(en, param_grid_en, cv=5, scoring='neg_root_mean_squared_error', refit=True)\n",
    "grid_search_en.fit(X, y)\n",
    "grid_search_en.best_params_"
   ]
  },
  {
   "cell_type": "code",
   "execution_count": 102,
   "metadata": {},
   "outputs": [
    {
     "data": {
      "text/plain": [
       "-3059.4640800404572"
      ]
     },
     "execution_count": 102,
     "metadata": {},
     "output_type": "execute_result"
    }
   ],
   "source": [
    "grid_search_en.best_score_"
   ]
  },
  {
   "cell_type": "code",
   "execution_count": 103,
   "metadata": {},
   "outputs": [],
   "source": [
    "elastic_net_gs_model, elastic_net_gs_time_learn = learn_model(ElasticNet(random_state = 314, alpha=0.1, l1_ratio=0.5),x_train,y_train)\n",
    "elastic_net_gs_time_pred, elastic_net_gs_rmse = predict_model(elastic_net_gs_model,x_test,y_test)"
   ]
  },
  {
   "cell_type": "code",
   "execution_count": 104,
   "metadata": {},
   "outputs": [
    {
     "data": {
      "text/plain": [
       "3056.173663561671"
      ]
     },
     "execution_count": 104,
     "metadata": {},
     "output_type": "execute_result"
    }
   ],
   "source": [
    "elastic_net_gs_rmse"
   ]
  },
  {
   "cell_type": "code",
   "execution_count": 105,
   "metadata": {},
   "outputs": [],
   "source": [
    "add_model(elastic_net_gs_time_learn,elastic_net_gs_time_pred,elastic_net_gs_rmse,'Elastic net',compare_models)"
   ]
  },
  {
   "cell_type": "markdown",
   "metadata": {},
   "source": [
    "Подбор гиперпараметров позовлил немного улучшить значение метрики RMSE"
   ]
  },
  {
   "cell_type": "markdown",
   "metadata": {},
   "source": [
    "#### Дерево решений"
   ]
  },
  {
   "cell_type": "code",
   "execution_count": 106,
   "metadata": {},
   "outputs": [],
   "source": [
    "decision_tree_model, decision_tree_time_learn = learn_model(DecisionTreeRegressor(random_state=314),x_train,y_train)\n",
    "decision_tree_time_pred, decision_tree_rmse = predict_model(decision_tree_model,x_test,y_test)"
   ]
  },
  {
   "cell_type": "code",
   "execution_count": 107,
   "metadata": {},
   "outputs": [
    {
     "data": {
      "text/plain": [
       "1959.1386503141584"
      ]
     },
     "execution_count": 107,
     "metadata": {},
     "output_type": "execute_result"
    }
   ],
   "source": [
    "decision_tree_rmse"
   ]
  },
  {
   "cell_type": "markdown",
   "metadata": {},
   "source": [
    "Попробуем с помощью GridSearch подобрать гиперпараметры для модели дерева решений что бы добиться лучшего значения метрики"
   ]
  },
  {
   "cell_type": "code",
   "execution_count": 108,
   "metadata": {
    "scrolled": true
   },
   "outputs": [
    {
     "name": "stdout",
     "output_type": "stream",
     "text": [
      "CPU times: user 19.2 s, sys: 2.22 s, total: 21.4 s\n",
      "Wall time: 23.8 s\n"
     ]
    },
    {
     "data": {
      "text/plain": [
       "{'max_depth': 7, 'max_features': 8}"
      ]
     },
     "execution_count": 108,
     "metadata": {},
     "output_type": "execute_result"
    }
   ],
   "source": [
    "%%time\n",
    "param_grid_dt = [{'max_depth': range (3,8,1), 'max_features': range(1,9,1)}]\n",
    "dt = DecisionTreeRegressor(random_state=314)\n",
    "grid_search_dt = GridSearchCV(dt, param_grid_dt, cv=3, scoring='neg_root_mean_squared_error', refit=True)\n",
    "grid_search_dt.fit(X, y)\n",
    "grid_search_dt.best_params_"
   ]
  },
  {
   "cell_type": "code",
   "execution_count": 109,
   "metadata": {},
   "outputs": [
    {
     "data": {
      "text/plain": [
       "-2209.1710789002504"
      ]
     },
     "execution_count": 109,
     "metadata": {},
     "output_type": "execute_result"
    }
   ],
   "source": [
    "grid_search_dt.best_score_"
   ]
  },
  {
   "cell_type": "code",
   "execution_count": 110,
   "metadata": {},
   "outputs": [],
   "source": [
    "decision_tree_model_gs, decision_tree_time_learn_gs = learn_model(DecisionTreeRegressor(random_state=314, max_depth=7, max_features=8),x_train,y_train)\n",
    "decision_treet_time_pred_gs, decision_tree_rmse_gs = predict_model(decision_tree_model_gs,x_test,y_test)"
   ]
  },
  {
   "cell_type": "code",
   "execution_count": 111,
   "metadata": {},
   "outputs": [
    {
     "data": {
      "text/plain": [
       "2213.8877896945028"
      ]
     },
     "execution_count": 111,
     "metadata": {},
     "output_type": "execute_result"
    }
   ],
   "source": [
    "decision_tree_rmse_gs"
   ]
  },
  {
   "cell_type": "code",
   "execution_count": 112,
   "metadata": {},
   "outputs": [],
   "source": [
    "add_model(decision_tree_time_learn,decision_tree_time_pred,decision_tree_rmse,'Decision tree',compare_models)"
   ]
  },
  {
   "cell_type": "markdown",
   "metadata": {},
   "source": [
    "Для дерева решения подбор гиперпараметров не улучшил значение метрики RMSE"
   ]
  },
  {
   "cell_type": "markdown",
   "metadata": {},
   "source": [
    "#### Случайный лес "
   ]
  },
  {
   "cell_type": "code",
   "execution_count": 113,
   "metadata": {},
   "outputs": [],
   "source": [
    "random_forest_model, random_forest_time_learn = learn_model(RandomForestRegressor(random_state=314),x_train,y_train)\n",
    "random_forest_time_pred, random_forest_rmse = predict_model(random_forest_model,x_test,y_test)"
   ]
  },
  {
   "cell_type": "code",
   "execution_count": 114,
   "metadata": {},
   "outputs": [
    {
     "data": {
      "text/plain": [
       "1626.0902303932348"
      ]
     },
     "execution_count": 114,
     "metadata": {},
     "output_type": "execute_result"
    }
   ],
   "source": [
    "random_forest_rmse"
   ]
  },
  {
   "cell_type": "markdown",
   "metadata": {},
   "source": [
    "Попробуем с помощью GridSearch подобрать гиперпараметры для модели случайного леса что бы добиться лучшего значения метрики"
   ]
  },
  {
   "cell_type": "code",
   "execution_count": 115,
   "metadata": {},
   "outputs": [
    {
     "name": "stdout",
     "output_type": "stream",
     "text": [
      "CPU times: user 3min 27s, sys: 3.56 s, total: 3min 31s\n",
      "Wall time: 3min 55s\n"
     ]
    },
    {
     "data": {
      "text/plain": [
       "{'max_depth': 7, 'n_estimators': 40}"
      ]
     },
     "execution_count": 115,
     "metadata": {},
     "output_type": "execute_result"
    }
   ],
   "source": [
    "%%time\n",
    "param_grid_rf = [{'max_depth': range (5,8,1), 'n_estimators': range(10,50,10)}]\n",
    "rf = RandomForestRegressor(random_state=314)\n",
    "grid_search_rf = GridSearchCV(rf, param_grid_rf, cv=3, scoring='neg_root_mean_squared_error', refit=True)\n",
    "grid_search_rf.fit(X, y)\n",
    "grid_search_rf.best_params_"
   ]
  },
  {
   "cell_type": "code",
   "execution_count": 116,
   "metadata": {},
   "outputs": [
    {
     "data": {
      "text/plain": [
       "-2136.262191262533"
      ]
     },
     "execution_count": 116,
     "metadata": {},
     "output_type": "execute_result"
    }
   ],
   "source": [
    "grid_search_rf.best_score_"
   ]
  },
  {
   "cell_type": "code",
   "execution_count": 117,
   "metadata": {},
   "outputs": [],
   "source": [
    "random_forest_model_gs, random_forest_time_learn_gs = learn_model(RandomForestRegressor(max_depth=7, n_estimators=40, random_state=314),x_train,y_train)\n",
    "random_forest_time_pred_gs, random_forest_rmse_gs = predict_model(random_forest_model_gs,x_test,y_test)"
   ]
  },
  {
   "cell_type": "code",
   "execution_count": 118,
   "metadata": {},
   "outputs": [
    {
     "data": {
      "text/plain": [
       "2137.018384696954"
      ]
     },
     "execution_count": 118,
     "metadata": {},
     "output_type": "execute_result"
    }
   ],
   "source": [
    "random_forest_rmse_gs"
   ]
  },
  {
   "cell_type": "code",
   "execution_count": 119,
   "metadata": {},
   "outputs": [],
   "source": [
    "add_model(random_forest_time_learn,random_forest_time_pred,random_forest_rmse,'Random forest',compare_models)"
   ]
  },
  {
   "cell_type": "markdown",
   "metadata": {},
   "source": [
    "Для случайного леса подбор гиперпараметров не улучшил значение метрики RMSE"
   ]
  },
  {
   "cell_type": "markdown",
   "metadata": {},
   "source": [
    "#### Градиентный спуск"
   ]
  },
  {
   "cell_type": "code",
   "execution_count": 120,
   "metadata": {},
   "outputs": [],
   "source": [
    "gradient_boosting_model, gradient_boosting_time_learn = learn_model(GradientBoostingRegressor(random_state=314),x_train,y_train)\n",
    "gradient_boosting_time_pred, gradient_boosting_rmse = predict_model(gradient_boosting_model,x_test,y_test)"
   ]
  },
  {
   "cell_type": "code",
   "execution_count": 121,
   "metadata": {},
   "outputs": [
    {
     "data": {
      "text/plain": [
       "1956.0262608565047"
      ]
     },
     "execution_count": 121,
     "metadata": {},
     "output_type": "execute_result"
    }
   ],
   "source": [
    "gradient_boosting_rmse"
   ]
  },
  {
   "cell_type": "code",
   "execution_count": 122,
   "metadata": {},
   "outputs": [],
   "source": [
    "add_model(gradient_boosting_time_learn,gradient_boosting_time_pred,gradient_boosting_rmse,'Gradient boosting',compare_models)"
   ]
  },
  {
   "cell_type": "markdown",
   "metadata": {},
   "source": [
    "#### Итерационные модели - LightGBM"
   ]
  },
  {
   "cell_type": "code",
   "execution_count": 123,
   "metadata": {},
   "outputs": [],
   "source": [
    "light_gbm_model, light_gbm_time_learn = learn_model(LGBMRegressor(random_state=314),x_train,y_train)\n",
    "light_gbm_time_pred, light_gbm_rmse = predict_model(light_gbm_model,x_test,y_test)"
   ]
  },
  {
   "cell_type": "code",
   "execution_count": 124,
   "metadata": {},
   "outputs": [
    {
     "data": {
      "text/plain": [
       "1740.2248820526247"
      ]
     },
     "execution_count": 124,
     "metadata": {},
     "output_type": "execute_result"
    }
   ],
   "source": [
    "light_gbm_rmse"
   ]
  },
  {
   "cell_type": "code",
   "execution_count": 125,
   "metadata": {},
   "outputs": [],
   "source": [
    "add_model(light_gbm_time_learn,light_gbm_time_pred,light_gbm_rmse,'Light GBM',compare_models)"
   ]
  },
  {
   "cell_type": "markdown",
   "metadata": {},
   "source": [
    "Попробуем поменять гиперпараметры для модели Light GBM.\n",
    "\n",
    "Менять будем три гиперпараметра: количество деревьев,глубину каждого дерева и скорость обучения (learning_rate)\n",
    "\n",
    "По умолчанию количество деревьев равно 100, попробуем увеличить до 500 с шагом в 100\n",
    "\n",
    "Глубину дерева будем менять от 2 до 9\n",
    "\n",
    "По умолчанию learning_rate 0.1 попробуем увеличить с шагом 0.1 до 0.8"
   ]
  },
  {
   "cell_type": "code",
   "execution_count": 126,
   "metadata": {},
   "outputs": [],
   "source": [
    "for i in range(200,600,100):\n",
    "    light_gbm_model_i, light_gbm_time_learn_i = learn_model(LGBMRegressor(random_state=314,n_estimators=i),x_train,y_train)\n",
    "    light_gbm_time_pred_i, light_gbm_rmse_i = predict_model(light_gbm_model_i,x_test,y_test)\n",
    "    name = 'Light GBM ' + str(i) + ' деревьев'\n",
    "    add_model(light_gbm_time_learn_i,light_gbm_time_pred_i,light_gbm_rmse_i,name,compare_models)"
   ]
  },
  {
   "cell_type": "code",
   "execution_count": 127,
   "metadata": {},
   "outputs": [
    {
     "data": {
      "text/html": [
       "<div>\n",
       "<style scoped>\n",
       "    .dataframe tbody tr th:only-of-type {\n",
       "        vertical-align: middle;\n",
       "    }\n",
       "\n",
       "    .dataframe tbody tr th {\n",
       "        vertical-align: top;\n",
       "    }\n",
       "\n",
       "    .dataframe thead th {\n",
       "        text-align: right;\n",
       "    }\n",
       "</style>\n",
       "<table border=\"1\" class=\"dataframe\">\n",
       "  <thead>\n",
       "    <tr style=\"text-align: right;\">\n",
       "      <th></th>\n",
       "      <th>Learning time</th>\n",
       "      <th>Predict time</th>\n",
       "      <th>RMSE</th>\n",
       "    </tr>\n",
       "  </thead>\n",
       "  <tbody>\n",
       "    <tr>\n",
       "      <th>Light GBM</th>\n",
       "      <td>0.972543</td>\n",
       "      <td>0.262852</td>\n",
       "      <td>1740.224882</td>\n",
       "    </tr>\n",
       "    <tr>\n",
       "      <th>Light GBM 200 деревьев</th>\n",
       "      <td>1.63764</td>\n",
       "      <td>0.593787</td>\n",
       "      <td>1678.180951</td>\n",
       "    </tr>\n",
       "    <tr>\n",
       "      <th>Light GBM 300 деревьев</th>\n",
       "      <td>2.008636</td>\n",
       "      <td>0.64438</td>\n",
       "      <td>1650.438144</td>\n",
       "    </tr>\n",
       "    <tr>\n",
       "      <th>Light GBM 400 деревьев</th>\n",
       "      <td>2.479706</td>\n",
       "      <td>0.860663</td>\n",
       "      <td>1633.482672</td>\n",
       "    </tr>\n",
       "    <tr>\n",
       "      <th>Light GBM 500 деревьев</th>\n",
       "      <td>3.095687</td>\n",
       "      <td>1.01947</td>\n",
       "      <td>1620.936481</td>\n",
       "    </tr>\n",
       "  </tbody>\n",
       "</table>\n",
       "</div>"
      ],
      "text/plain": [
       "                       Learning time Predict time         RMSE\n",
       "Light GBM                   0.972543     0.262852  1740.224882\n",
       "Light GBM 200 деревьев       1.63764     0.593787  1678.180951\n",
       "Light GBM 300 деревьев      2.008636      0.64438  1650.438144\n",
       "Light GBM 400 деревьев      2.479706     0.860663  1633.482672\n",
       "Light GBM 500 деревьев      3.095687      1.01947  1620.936481"
      ]
     },
     "execution_count": 127,
     "metadata": {},
     "output_type": "execute_result"
    }
   ],
   "source": [
    "compare_models.tail(5)"
   ]
  },
  {
   "cell_type": "markdown",
   "metadata": {},
   "source": [
    "Увеличение числа деревьев дает прирост в качестве метрики, но и увеличивает время на обучения и предсказание, при чем быстрее чем линейно."
   ]
  },
  {
   "cell_type": "code",
   "execution_count": 128,
   "metadata": {},
   "outputs": [],
   "source": [
    "for i in range(2,10,1):\n",
    "    light_gbm_model_i, light_gbm_time_learn_i = learn_model(LGBMRegressor(random_state=314,max_depth=i),x_train,y_train)\n",
    "    light_gbm_time_pred_i, light_gbm_rmse_i = predict_model(light_gbm_model_i,x_test,y_test)\n",
    "    name = 'Light GBM max глубина дерева ' + str(i)\n",
    "    add_model(light_gbm_time_learn_i,light_gbm_time_pred_i,light_gbm_rmse_i,name,compare_models)"
   ]
  },
  {
   "cell_type": "code",
   "execution_count": 129,
   "metadata": {},
   "outputs": [
    {
     "data": {
      "text/html": [
       "<div>\n",
       "<style scoped>\n",
       "    .dataframe tbody tr th:only-of-type {\n",
       "        vertical-align: middle;\n",
       "    }\n",
       "\n",
       "    .dataframe tbody tr th {\n",
       "        vertical-align: top;\n",
       "    }\n",
       "\n",
       "    .dataframe thead th {\n",
       "        text-align: right;\n",
       "    }\n",
       "</style>\n",
       "<table border=\"1\" class=\"dataframe\">\n",
       "  <thead>\n",
       "    <tr style=\"text-align: right;\">\n",
       "      <th></th>\n",
       "      <th>Learning time</th>\n",
       "      <th>Predict time</th>\n",
       "      <th>RMSE</th>\n",
       "    </tr>\n",
       "  </thead>\n",
       "  <tbody>\n",
       "    <tr>\n",
       "      <th>Light GBM max глубина дерева 2</th>\n",
       "      <td>0.596555</td>\n",
       "      <td>0.103343</td>\n",
       "      <td>2106.996657</td>\n",
       "    </tr>\n",
       "    <tr>\n",
       "      <th>Light GBM max глубина дерева 3</th>\n",
       "      <td>0.668595</td>\n",
       "      <td>0.189326</td>\n",
       "      <td>1963.85348</td>\n",
       "    </tr>\n",
       "    <tr>\n",
       "      <th>Light GBM max глубина дерева 4</th>\n",
       "      <td>0.71472</td>\n",
       "      <td>0.245551</td>\n",
       "      <td>1844.723228</td>\n",
       "    </tr>\n",
       "    <tr>\n",
       "      <th>Light GBM max глубина дерева 5</th>\n",
       "      <td>1.049546</td>\n",
       "      <td>0.217323</td>\n",
       "      <td>1775.789065</td>\n",
       "    </tr>\n",
       "    <tr>\n",
       "      <th>Light GBM max глубина дерева 6</th>\n",
       "      <td>1.02196</td>\n",
       "      <td>0.237313</td>\n",
       "      <td>1749.034768</td>\n",
       "    </tr>\n",
       "    <tr>\n",
       "      <th>Light GBM max глубина дерева 7</th>\n",
       "      <td>1.092061</td>\n",
       "      <td>0.227415</td>\n",
       "      <td>1742.341103</td>\n",
       "    </tr>\n",
       "    <tr>\n",
       "      <th>Light GBM max глубина дерева 8</th>\n",
       "      <td>1.1951</td>\n",
       "      <td>0.289254</td>\n",
       "      <td>1741.370785</td>\n",
       "    </tr>\n",
       "    <tr>\n",
       "      <th>Light GBM max глубина дерева 9</th>\n",
       "      <td>1.056426</td>\n",
       "      <td>0.255637</td>\n",
       "      <td>1737.606833</td>\n",
       "    </tr>\n",
       "  </tbody>\n",
       "</table>\n",
       "</div>"
      ],
      "text/plain": [
       "                               Learning time Predict time         RMSE\n",
       "Light GBM max глубина дерева 2      0.596555     0.103343  2106.996657\n",
       "Light GBM max глубина дерева 3      0.668595     0.189326   1963.85348\n",
       "Light GBM max глубина дерева 4       0.71472     0.245551  1844.723228\n",
       "Light GBM max глубина дерева 5      1.049546     0.217323  1775.789065\n",
       "Light GBM max глубина дерева 6       1.02196     0.237313  1749.034768\n",
       "Light GBM max глубина дерева 7      1.092061     0.227415  1742.341103\n",
       "Light GBM max глубина дерева 8        1.1951     0.289254  1741.370785\n",
       "Light GBM max глубина дерева 9      1.056426     0.255637  1737.606833"
      ]
     },
     "execution_count": 129,
     "metadata": {},
     "output_type": "execute_result"
    }
   ],
   "source": [
    "compare_models.tail(8)"
   ]
  },
  {
   "cell_type": "markdown",
   "metadata": {},
   "source": [
    "Изменение глубины дерева не сильно влияет на скорость, но и метрику улучшить нам не удалось - этот гиперпараметр лучше будем оставлять по умолчанию."
   ]
  },
  {
   "cell_type": "code",
   "execution_count": 130,
   "metadata": {},
   "outputs": [],
   "source": [
    "for i in [0.1,0.2,0.3,0.4,0.5,0.6,0.7,0.8]:\n",
    "    light_gbm_model_i, light_gbm_time_learn_i = learn_model(LGBMRegressor(random_state=314,learning_rate=i),x_train,y_train)\n",
    "    light_gbm_time_pred_i, light_gbm_rmse_i = predict_model(light_gbm_model_i,x_test,y_test)\n",
    "    name = 'Light GBM скорость обучения ' + str(i)\n",
    "    add_model(light_gbm_time_learn_i,light_gbm_time_pred_i,light_gbm_rmse_i,name,compare_models)"
   ]
  },
  {
   "cell_type": "code",
   "execution_count": 131,
   "metadata": {},
   "outputs": [
    {
     "data": {
      "text/html": [
       "<div>\n",
       "<style scoped>\n",
       "    .dataframe tbody tr th:only-of-type {\n",
       "        vertical-align: middle;\n",
       "    }\n",
       "\n",
       "    .dataframe tbody tr th {\n",
       "        vertical-align: top;\n",
       "    }\n",
       "\n",
       "    .dataframe thead th {\n",
       "        text-align: right;\n",
       "    }\n",
       "</style>\n",
       "<table border=\"1\" class=\"dataframe\">\n",
       "  <thead>\n",
       "    <tr style=\"text-align: right;\">\n",
       "      <th></th>\n",
       "      <th>Learning time</th>\n",
       "      <th>Predict time</th>\n",
       "      <th>RMSE</th>\n",
       "    </tr>\n",
       "  </thead>\n",
       "  <tbody>\n",
       "    <tr>\n",
       "      <th>Light GBM скорость обучения 0.1</th>\n",
       "      <td>1.053702</td>\n",
       "      <td>0.267139</td>\n",
       "      <td>1740.224882</td>\n",
       "    </tr>\n",
       "    <tr>\n",
       "      <th>Light GBM скорость обучения 0.2</th>\n",
       "      <td>0.948062</td>\n",
       "      <td>0.213421</td>\n",
       "      <td>1687.973794</td>\n",
       "    </tr>\n",
       "    <tr>\n",
       "      <th>Light GBM скорость обучения 0.3</th>\n",
       "      <td>0.907464</td>\n",
       "      <td>0.203054</td>\n",
       "      <td>1666.508285</td>\n",
       "    </tr>\n",
       "    <tr>\n",
       "      <th>Light GBM скорость обучения 0.4</th>\n",
       "      <td>0.916851</td>\n",
       "      <td>0.187194</td>\n",
       "      <td>1658.957574</td>\n",
       "    </tr>\n",
       "    <tr>\n",
       "      <th>Light GBM скорость обучения 0.5</th>\n",
       "      <td>0.802073</td>\n",
       "      <td>0.180952</td>\n",
       "      <td>1661.498183</td>\n",
       "    </tr>\n",
       "    <tr>\n",
       "      <th>Light GBM скорость обучения 0.6</th>\n",
       "      <td>0.783632</td>\n",
       "      <td>0.166343</td>\n",
       "      <td>1661.863494</td>\n",
       "    </tr>\n",
       "    <tr>\n",
       "      <th>Light GBM скорость обучения 0.7</th>\n",
       "      <td>0.778876</td>\n",
       "      <td>0.158323</td>\n",
       "      <td>1668.267381</td>\n",
       "    </tr>\n",
       "    <tr>\n",
       "      <th>Light GBM скорость обучения 0.8</th>\n",
       "      <td>0.820945</td>\n",
       "      <td>0.345479</td>\n",
       "      <td>1677.003868</td>\n",
       "    </tr>\n",
       "  </tbody>\n",
       "</table>\n",
       "</div>"
      ],
      "text/plain": [
       "                                Learning time Predict time         RMSE\n",
       "Light GBM скорость обучения 0.1      1.053702     0.267139  1740.224882\n",
       "Light GBM скорость обучения 0.2      0.948062     0.213421  1687.973794\n",
       "Light GBM скорость обучения 0.3      0.907464     0.203054  1666.508285\n",
       "Light GBM скорость обучения 0.4      0.916851     0.187194  1658.957574\n",
       "Light GBM скорость обучения 0.5      0.802073     0.180952  1661.498183\n",
       "Light GBM скорость обучения 0.6      0.783632     0.166343  1661.863494\n",
       "Light GBM скорость обучения 0.7      0.778876     0.158323  1668.267381\n",
       "Light GBM скорость обучения 0.8      0.820945     0.345479  1677.003868"
      ]
     },
     "execution_count": 131,
     "metadata": {},
     "output_type": "execute_result"
    }
   ],
   "source": [
    "compare_models.tail(8)"
   ]
  },
  {
   "cell_type": "markdown",
   "metadata": {},
   "source": [
    "Лучшие показатели метрики получились при скорости обучения 0.4, увеличение времени на обучение двукратное, но все равно достаточно мало - 2 секунды"
   ]
  },
  {
   "cell_type": "markdown",
   "metadata": {},
   "source": [
    "Посмотрим на показатели модели со следующими гиперпараметрами количество деревьев = 500, скорость обучения 0.4"
   ]
  },
  {
   "cell_type": "code",
   "execution_count": 132,
   "metadata": {},
   "outputs": [],
   "source": [
    "light_gbm_model_best, light_gbm_time_learn_best = learn_model(LGBMRegressor(random_state=314,learning_rate=0.4,n_estimators=500),x_train,y_train)\n",
    "light_gbm_time_pred_best, light_gbm_rmse_best = predict_model(light_gbm_model_best,x_test,y_test)\n",
    "add_model(light_gbm_time_learn_best,light_gbm_time_pred_best,light_gbm_rmse_best,'Light GBM best',compare_models)"
   ]
  },
  {
   "cell_type": "markdown",
   "metadata": {},
   "source": [
    "## Анализ моделей"
   ]
  },
  {
   "cell_type": "markdown",
   "metadata": {},
   "source": [
    "Посмотрим на получившиеся результаты"
   ]
  },
  {
   "cell_type": "code",
   "execution_count": 133,
   "metadata": {},
   "outputs": [
    {
     "data": {
      "text/html": [
       "<div>\n",
       "<style scoped>\n",
       "    .dataframe tbody tr th:only-of-type {\n",
       "        vertical-align: middle;\n",
       "    }\n",
       "\n",
       "    .dataframe tbody tr th {\n",
       "        vertical-align: top;\n",
       "    }\n",
       "\n",
       "    .dataframe thead th {\n",
       "        text-align: right;\n",
       "    }\n",
       "</style>\n",
       "<table border=\"1\" class=\"dataframe\">\n",
       "  <thead>\n",
       "    <tr style=\"text-align: right;\">\n",
       "      <th></th>\n",
       "      <th>Learning time</th>\n",
       "      <th>Predict time</th>\n",
       "      <th>RMSE</th>\n",
       "    </tr>\n",
       "  </thead>\n",
       "  <tbody>\n",
       "    <tr>\n",
       "      <th>Light GBM best</th>\n",
       "      <td>3.386078</td>\n",
       "      <td>0.761166</td>\n",
       "      <td>1587.241948</td>\n",
       "    </tr>\n",
       "    <tr>\n",
       "      <th>Light GBM 500 деревьев</th>\n",
       "      <td>3.095687</td>\n",
       "      <td>1.01947</td>\n",
       "      <td>1620.936481</td>\n",
       "    </tr>\n",
       "    <tr>\n",
       "      <th>Random forest</th>\n",
       "      <td>84.723752</td>\n",
       "      <td>8.093325</td>\n",
       "      <td>1626.09023</td>\n",
       "    </tr>\n",
       "    <tr>\n",
       "      <th>Light GBM 400 деревьев</th>\n",
       "      <td>2.479706</td>\n",
       "      <td>0.860663</td>\n",
       "      <td>1633.482672</td>\n",
       "    </tr>\n",
       "    <tr>\n",
       "      <th>Light GBM 300 деревьев</th>\n",
       "      <td>2.008636</td>\n",
       "      <td>0.64438</td>\n",
       "      <td>1650.438144</td>\n",
       "    </tr>\n",
       "  </tbody>\n",
       "</table>\n",
       "</div>"
      ],
      "text/plain": [
       "                       Learning time Predict time         RMSE\n",
       "Light GBM best              3.386078     0.761166  1587.241948\n",
       "Light GBM 500 деревьев      3.095687      1.01947  1620.936481\n",
       "Random forest              84.723752     8.093325   1626.09023\n",
       "Light GBM 400 деревьев      2.479706     0.860663  1633.482672\n",
       "Light GBM 300 деревьев      2.008636      0.64438  1650.438144"
      ]
     },
     "execution_count": 133,
     "metadata": {},
     "output_type": "execute_result"
    }
   ],
   "source": [
    "compare_models.sort_values(by='RMSE').head(5)"
   ]
  },
  {
   "cell_type": "markdown",
   "metadata": {},
   "source": [
    "Лучшие показатели по качеству метрики остались Light GBM \n",
    "\n",
    "Модель Light GBM с подобраными гиперпараметрами позволила по метрике подобраться вплотную к лесу деревьев при этом имея внушительное приемущество по быстродействию!"
   ]
  },
  {
   "cell_type": "markdown",
   "metadata": {},
   "source": [
    "### Вывод\n",
    "\n",
    "* Выполнили предобработку полученных данных, стоит отметить множество пропусков и неверных значений нужно с этим что-то делать! Так же не плохо бы добавить к дате выпуска, текущий возраст авто, либо что бы при выгрузке из БД этот параметр расчитывался - это совсем не сложно!\n",
    "*  Построили несколько различных моделей машинного обучения: линейные модели быстрые, но очень не точные! Лучшую метрику показала модель случайного леса, но она и оказалась самой медленной. Самой быстрой и второй по метрике оказалась модель Light GBM с подобраными гиперпараметрами. Ее и рекомендую использовать\n",
    "\n"
   ]
  },
  {
   "cell_type": "markdown",
   "metadata": {},
   "source": [
    "## Чек-лист проверки"
   ]
  },
  {
   "cell_type": "markdown",
   "metadata": {},
   "source": [
    "Поставьте 'x' в выполненных пунктах. Далее нажмите Shift+Enter."
   ]
  },
  {
   "cell_type": "markdown",
   "metadata": {},
   "source": [
    "- [x]  Jupyter Notebook открыт\n",
    "- [x]  Весь код выполняется без ошибок\n",
    "- [x]  Ячейки с кодом расположены в порядке исполнения\n",
    "- [x]  Выполнена загрузка и подготовка данных\n",
    "- [x]  Выполнено обучение моделей\n",
    "- [x]  Есть анализ скорости работы и качества моделей"
   ]
  },
  {
   "cell_type": "code",
   "execution_count": null,
   "metadata": {},
   "outputs": [],
   "source": []
  }
 ],
 "metadata": {
  "ExecuteTimeLog": [
   {
    "duration": 158,
    "start_time": "2022-06-23T13:36:14.053Z"
   },
   {
    "duration": 1822,
    "start_time": "2022-06-23T15:20:57.355Z"
   },
   {
    "duration": 1336,
    "start_time": "2022-06-23T15:20:59.180Z"
   },
   {
    "duration": 120,
    "start_time": "2022-06-23T15:21:00.518Z"
   },
   {
    "duration": 27,
    "start_time": "2022-06-23T15:21:00.640Z"
   },
   {
    "duration": 152,
    "start_time": "2022-06-23T15:21:00.670Z"
   },
   {
    "duration": 129,
    "start_time": "2022-06-23T15:21:00.824Z"
   },
   {
    "duration": 34,
    "start_time": "2022-06-23T15:21:00.955Z"
   },
   {
    "duration": 64,
    "start_time": "2022-06-23T15:21:00.991Z"
   },
   {
    "duration": 140,
    "start_time": "2022-06-23T15:21:01.057Z"
   },
   {
    "duration": 510,
    "start_time": "2022-06-23T15:21:01.200Z"
   },
   {
    "duration": 474,
    "start_time": "2022-06-23T15:21:01.711Z"
   },
   {
    "duration": 982,
    "start_time": "2022-06-23T15:21:02.190Z"
   },
   {
    "duration": 51,
    "start_time": "2022-06-23T15:21:03.174Z"
   },
   {
    "duration": 292,
    "start_time": "2022-06-23T15:21:03.228Z"
   },
   {
    "duration": 32,
    "start_time": "2022-06-23T15:21:03.521Z"
   },
   {
    "duration": 25,
    "start_time": "2022-06-23T15:21:03.555Z"
   },
   {
    "duration": 474,
    "start_time": "2022-06-23T15:21:03.582Z"
   },
   {
    "duration": 264,
    "start_time": "2022-06-23T15:21:04.057Z"
   },
   {
    "duration": 427,
    "start_time": "2022-06-23T15:21:04.322Z"
   },
   {
    "duration": 11,
    "start_time": "2022-06-23T15:21:04.751Z"
   },
   {
    "duration": 68,
    "start_time": "2022-06-23T15:21:04.763Z"
   },
   {
    "duration": 29,
    "start_time": "2022-06-23T15:21:04.832Z"
   },
   {
    "duration": 122,
    "start_time": "2022-06-23T15:21:04.867Z"
   },
   {
    "duration": 13,
    "start_time": "2022-06-23T15:21:04.991Z"
   },
   {
    "duration": 27,
    "start_time": "2022-06-23T15:21:05.006Z"
   },
   {
    "duration": 11,
    "start_time": "2022-06-23T15:21:14.998Z"
   },
   {
    "duration": 53,
    "start_time": "2022-06-23T15:21:21.220Z"
   },
   {
    "duration": 29,
    "start_time": "2022-06-23T15:21:22.894Z"
   },
   {
    "duration": 130,
    "start_time": "2022-06-23T15:21:23.930Z"
   },
   {
    "duration": 32,
    "start_time": "2022-06-23T15:21:24.289Z"
   },
   {
    "duration": 7,
    "start_time": "2022-06-23T15:21:25.022Z"
   },
   {
    "duration": 56,
    "start_time": "2022-06-23T15:21:25.345Z"
   },
   {
    "duration": 13,
    "start_time": "2022-06-23T15:21:25.636Z"
   },
   {
    "duration": 11,
    "start_time": "2022-06-23T15:22:33.836Z"
   },
   {
    "duration": 10,
    "start_time": "2022-06-23T15:22:41.189Z"
   },
   {
    "duration": 54,
    "start_time": "2022-06-23T15:22:42.302Z"
   },
   {
    "duration": 37,
    "start_time": "2022-06-23T15:22:43.219Z"
   },
   {
    "duration": 153,
    "start_time": "2022-06-23T15:22:46.757Z"
   },
   {
    "duration": 1514,
    "start_time": "2022-06-23T15:23:08.335Z"
   },
   {
    "duration": 834,
    "start_time": "2022-06-23T15:23:09.851Z"
   },
   {
    "duration": 134,
    "start_time": "2022-06-23T15:23:10.687Z"
   },
   {
    "duration": 18,
    "start_time": "2022-06-23T15:23:10.823Z"
   },
   {
    "duration": 112,
    "start_time": "2022-06-23T15:23:10.843Z"
   },
   {
    "duration": 128,
    "start_time": "2022-06-23T15:23:10.957Z"
   },
   {
    "duration": 13,
    "start_time": "2022-06-23T15:23:11.086Z"
   },
   {
    "duration": 50,
    "start_time": "2022-06-23T15:23:11.101Z"
   },
   {
    "duration": 133,
    "start_time": "2022-06-23T15:23:11.152Z"
   },
   {
    "duration": 531,
    "start_time": "2022-06-23T15:23:11.288Z"
   },
   {
    "duration": 515,
    "start_time": "2022-06-23T15:23:11.821Z"
   },
   {
    "duration": 1039,
    "start_time": "2022-06-23T15:23:12.338Z"
   },
   {
    "duration": 47,
    "start_time": "2022-06-23T15:23:13.381Z"
   },
   {
    "duration": 308,
    "start_time": "2022-06-23T15:23:13.433Z"
   },
   {
    "duration": 38,
    "start_time": "2022-06-23T15:23:13.743Z"
   },
   {
    "duration": 18,
    "start_time": "2022-06-23T15:23:13.784Z"
   },
   {
    "duration": 610,
    "start_time": "2022-06-23T15:23:13.804Z"
   },
   {
    "duration": 268,
    "start_time": "2022-06-23T15:23:14.417Z"
   },
   {
    "duration": 358,
    "start_time": "2022-06-23T15:23:14.687Z"
   },
   {
    "duration": 19,
    "start_time": "2022-06-23T15:23:15.047Z"
   },
   {
    "duration": 88,
    "start_time": "2022-06-23T15:23:15.072Z"
   },
   {
    "duration": 37,
    "start_time": "2022-06-23T15:23:15.161Z"
   },
   {
    "duration": 161,
    "start_time": "2022-06-23T15:23:15.201Z"
   },
   {
    "duration": 14,
    "start_time": "2022-06-23T15:23:15.364Z"
   },
   {
    "duration": 64,
    "start_time": "2022-06-23T15:23:15.380Z"
   },
   {
    "duration": 12,
    "start_time": "2022-06-23T15:23:15.446Z"
   },
   {
    "duration": 53,
    "start_time": "2022-06-23T15:23:15.461Z"
   },
   {
    "duration": 32,
    "start_time": "2022-06-23T15:23:15.516Z"
   },
   {
    "duration": 175,
    "start_time": "2022-06-23T15:23:15.550Z"
   },
   {
    "duration": 40,
    "start_time": "2022-06-23T15:23:15.728Z"
   },
   {
    "duration": 33,
    "start_time": "2022-06-23T15:23:15.770Z"
   },
   {
    "duration": 65,
    "start_time": "2022-06-23T15:23:15.805Z"
   },
   {
    "duration": 17,
    "start_time": "2022-06-23T15:23:15.872Z"
   },
   {
    "duration": 21,
    "start_time": "2022-06-23T15:25:48.105Z"
   },
   {
    "duration": 104,
    "start_time": "2022-06-23T15:25:52.538Z"
   },
   {
    "duration": 21,
    "start_time": "2022-06-23T15:25:54.349Z"
   },
   {
    "duration": 271,
    "start_time": "2022-06-23T15:25:54.586Z"
   },
   {
    "duration": 32,
    "start_time": "2022-06-23T15:25:58.785Z"
   },
   {
    "duration": 357,
    "start_time": "2022-06-23T15:25:58.940Z"
   },
   {
    "duration": 296,
    "start_time": "2022-06-23T15:26:01.498Z"
   },
   {
    "duration": 21,
    "start_time": "2022-06-23T15:26:01.796Z"
   },
   {
    "duration": 1514,
    "start_time": "2022-06-23T15:26:45.969Z"
   },
   {
    "duration": 849,
    "start_time": "2022-06-23T15:26:47.486Z"
   },
   {
    "duration": 130,
    "start_time": "2022-06-23T15:26:48.337Z"
   },
   {
    "duration": 23,
    "start_time": "2022-06-23T15:26:48.470Z"
   },
   {
    "duration": 115,
    "start_time": "2022-06-23T15:26:48.496Z"
   },
   {
    "duration": 119,
    "start_time": "2022-06-23T15:26:48.613Z"
   },
   {
    "duration": 27,
    "start_time": "2022-06-23T15:26:48.733Z"
   },
   {
    "duration": 106,
    "start_time": "2022-06-23T15:26:48.761Z"
   },
   {
    "duration": 142,
    "start_time": "2022-06-23T15:26:48.870Z"
   },
   {
    "duration": 568,
    "start_time": "2022-06-23T15:26:49.015Z"
   },
   {
    "duration": 469,
    "start_time": "2022-06-23T15:26:49.585Z"
   },
   {
    "duration": 954,
    "start_time": "2022-06-23T15:26:50.056Z"
   },
   {
    "duration": 39,
    "start_time": "2022-06-23T15:26:51.012Z"
   },
   {
    "duration": 275,
    "start_time": "2022-06-23T15:26:51.053Z"
   },
   {
    "duration": 46,
    "start_time": "2022-06-23T15:26:51.330Z"
   },
   {
    "duration": 17,
    "start_time": "2022-06-23T15:26:51.378Z"
   },
   {
    "duration": 509,
    "start_time": "2022-06-23T15:26:51.397Z"
   },
   {
    "duration": 227,
    "start_time": "2022-06-23T15:26:51.907Z"
   },
   {
    "duration": 344,
    "start_time": "2022-06-23T15:26:52.136Z"
   },
   {
    "duration": 14,
    "start_time": "2022-06-23T15:26:52.482Z"
   },
   {
    "duration": 73,
    "start_time": "2022-06-23T15:26:52.498Z"
   },
   {
    "duration": 30,
    "start_time": "2022-06-23T15:26:52.572Z"
   },
   {
    "duration": 136,
    "start_time": "2022-06-23T15:26:52.604Z"
   },
   {
    "duration": 13,
    "start_time": "2022-06-23T15:26:52.743Z"
   },
   {
    "duration": 37,
    "start_time": "2022-06-23T15:26:52.769Z"
   },
   {
    "duration": 13,
    "start_time": "2022-06-23T15:26:52.808Z"
   },
   {
    "duration": 89,
    "start_time": "2022-06-23T15:26:52.823Z"
   },
   {
    "duration": 32,
    "start_time": "2022-06-23T15:26:52.914Z"
   },
   {
    "duration": 156,
    "start_time": "2022-06-23T15:26:52.948Z"
   },
   {
    "duration": 34,
    "start_time": "2022-06-23T15:26:53.107Z"
   },
   {
    "duration": 14,
    "start_time": "2022-06-23T15:26:53.144Z"
   },
   {
    "duration": 53,
    "start_time": "2022-06-23T15:26:53.168Z"
   },
   {
    "duration": 16,
    "start_time": "2022-06-23T15:26:53.223Z"
   },
   {
    "duration": 93,
    "start_time": "2022-06-23T15:26:53.240Z"
   },
   {
    "duration": 16,
    "start_time": "2022-06-23T15:26:53.335Z"
   },
   {
    "duration": 278,
    "start_time": "2022-06-23T15:26:53.367Z"
   },
   {
    "duration": 26,
    "start_time": "2022-06-23T15:26:53.646Z"
   },
   {
    "duration": 256,
    "start_time": "2022-06-23T15:26:53.674Z"
   },
   {
    "duration": 287,
    "start_time": "2022-06-23T15:26:53.932Z"
   },
   {
    "duration": 15,
    "start_time": "2022-06-23T15:26:54.221Z"
   },
   {
    "duration": 36,
    "start_time": "2022-06-23T15:26:54.241Z"
   },
   {
    "duration": 309,
    "start_time": "2022-06-23T15:26:54.278Z"
   },
   {
    "duration": 339,
    "start_time": "2022-06-23T15:26:54.590Z"
   },
   {
    "duration": 22,
    "start_time": "2022-06-23T15:26:54.932Z"
   },
   {
    "duration": 54,
    "start_time": "2022-06-23T15:26:54.955Z"
   },
   {
    "duration": 21,
    "start_time": "2022-06-23T15:26:55.011Z"
   },
   {
    "duration": 294,
    "start_time": "2022-06-23T15:26:55.034Z"
   },
   {
    "duration": 274,
    "start_time": "2022-06-23T15:26:55.330Z"
   },
   {
    "duration": 22,
    "start_time": "2022-06-23T15:26:55.606Z"
   },
   {
    "duration": 29,
    "start_time": "2022-06-23T15:26:55.630Z"
   },
   {
    "duration": 92,
    "start_time": "2022-06-23T15:26:55.661Z"
   },
   {
    "duration": 164,
    "start_time": "2022-06-23T15:26:55.755Z"
   },
   {
    "duration": 3,
    "start_time": "2022-06-23T15:26:55.921Z"
   },
   {
    "duration": 492,
    "start_time": "2022-06-23T15:26:55.925Z"
   },
   {
    "duration": 14,
    "start_time": "2022-06-23T15:26:56.419Z"
   },
   {
    "duration": 14,
    "start_time": "2022-06-23T15:26:56.434Z"
   },
   {
    "duration": 14813,
    "start_time": "2022-06-23T15:26:56.450Z"
   },
   {
    "duration": 50,
    "start_time": "2022-06-23T15:27:11.264Z"
   },
   {
    "duration": 81,
    "start_time": "2022-06-23T15:27:11.316Z"
   },
   {
    "duration": 2295,
    "start_time": "2022-06-23T15:27:11.399Z"
   },
   {
    "duration": 30,
    "start_time": "2022-06-23T15:27:13.696Z"
   },
   {
    "duration": 50,
    "start_time": "2022-06-23T15:27:13.727Z"
   },
   {
    "duration": 26,
    "start_time": "2022-06-23T15:27:13.779Z"
   },
   {
    "duration": 4,
    "start_time": "2022-06-23T15:27:13.806Z"
   },
   {
    "duration": 33,
    "start_time": "2022-06-23T15:27:13.811Z"
   },
   {
    "duration": 42,
    "start_time": "2022-06-23T15:27:13.867Z"
   },
   {
    "duration": 58,
    "start_time": "2022-06-23T15:27:13.910Z"
   },
   {
    "duration": 14,
    "start_time": "2022-06-23T15:27:13.970Z"
   },
   {
    "duration": 4016,
    "start_time": "2022-06-23T15:27:13.986Z"
   },
   {
    "duration": 3940,
    "start_time": "2022-06-23T15:27:18.004Z"
   },
   {
    "duration": 6,
    "start_time": "2022-06-23T15:27:21.945Z"
   },
   {
    "duration": 47,
    "start_time": "2022-06-23T15:27:21.953Z"
   },
   {
    "duration": 156,
    "start_time": "2022-06-23T15:27:22.001Z"
   },
   {
    "duration": 543,
    "start_time": "2022-06-23T15:27:22.159Z"
   },
   {
    "duration": 14,
    "start_time": "2022-06-23T15:27:22.704Z"
   },
   {
    "duration": 380,
    "start_time": "2022-06-23T15:27:22.721Z"
   },
   {
    "duration": 4,
    "start_time": "2022-06-23T15:27:23.103Z"
   },
   {
    "duration": 6,
    "start_time": "2022-06-23T15:27:23.109Z"
   },
   {
    "duration": 76,
    "start_time": "2022-06-23T15:27:23.117Z"
   },
   {
    "duration": 6,
    "start_time": "2022-06-23T15:27:23.195Z"
   },
   {
    "duration": 526,
    "start_time": "2022-06-23T15:27:23.202Z"
   },
   {
    "duration": 13,
    "start_time": "2022-06-23T15:27:23.730Z"
   },
   {
    "duration": 163,
    "start_time": "2022-06-23T15:27:32.019Z"
   },
   {
    "duration": 40,
    "start_time": "2022-06-23T15:29:30.119Z"
   },
   {
    "duration": 178,
    "start_time": "2022-06-23T15:29:34.116Z"
   },
   {
    "duration": 92,
    "start_time": "2022-06-23T15:29:35.012Z"
   },
   {
    "duration": 17,
    "start_time": "2022-06-23T15:29:35.898Z"
   },
   {
    "duration": 9,
    "start_time": "2022-06-23T15:31:08.046Z"
   },
   {
    "duration": 69,
    "start_time": "2022-06-23T15:31:09.093Z"
   },
   {
    "duration": 15,
    "start_time": "2022-06-23T15:31:15.143Z"
   },
   {
    "duration": 5,
    "start_time": "2022-06-23T15:31:41.414Z"
   },
   {
    "duration": 7,
    "start_time": "2022-06-23T15:31:41.827Z"
   },
   {
    "duration": 3,
    "start_time": "2022-06-23T15:31:42.246Z"
   },
   {
    "duration": 78,
    "start_time": "2022-06-23T15:31:44.113Z"
   },
   {
    "duration": 4,
    "start_time": "2022-06-23T15:31:44.372Z"
   },
   {
    "duration": 5,
    "start_time": "2022-06-23T15:31:44.436Z"
   },
   {
    "duration": 688,
    "start_time": "2022-06-23T15:31:46.183Z"
   },
   {
    "duration": 9,
    "start_time": "2022-06-23T15:31:46.878Z"
   },
   {
    "duration": 174103,
    "start_time": "2022-06-23T15:31:46.889Z"
   },
   {
    "duration": 13,
    "start_time": "2022-06-23T15:34:41.072Z"
   },
   {
    "duration": 482,
    "start_time": "2022-06-23T15:34:41.094Z"
   },
   {
    "duration": 12,
    "start_time": "2022-06-23T15:34:41.583Z"
   },
   {
    "duration": 93,
    "start_time": "2022-06-23T15:34:41.597Z"
   },
   {
    "duration": 928,
    "start_time": "2022-06-23T15:34:41.692Z"
   },
   {
    "duration": 5,
    "start_time": "2022-06-23T15:34:42.622Z"
   },
   {
    "duration": 19208,
    "start_time": "2022-06-23T15:34:42.630Z"
   },
   {
    "duration": 4,
    "start_time": "2022-06-23T15:35:01.839Z"
   },
   {
    "duration": 416,
    "start_time": "2022-06-23T15:35:01.845Z"
   },
   {
    "duration": 8,
    "start_time": "2022-06-23T15:35:02.262Z"
   },
   {
    "duration": 17,
    "start_time": "2022-06-23T15:35:02.273Z"
   },
   {
    "duration": 76589,
    "start_time": "2022-06-23T15:35:02.293Z"
   },
   {
    "duration": 7,
    "start_time": "2022-06-23T15:36:18.884Z"
   },
   {
    "duration": 36,
    "start_time": "2022-06-23T15:36:18.893Z"
   },
   {
    "duration": 7,
    "start_time": "2022-06-23T15:36:18.931Z"
   },
   {
    "duration": 12119,
    "start_time": "2022-06-23T15:36:18.940Z"
   },
   {
    "duration": 4,
    "start_time": "2022-06-23T15:36:31.061Z"
   },
   {
    "duration": 13,
    "start_time": "2022-06-23T15:36:31.067Z"
   },
   {
    "duration": 24940,
    "start_time": "2022-06-23T15:36:31.082Z"
   },
   {
    "duration": 7,
    "start_time": "2022-06-23T15:36:56.024Z"
   },
   {
    "duration": 11,
    "start_time": "2022-06-23T15:36:56.033Z"
   }
  ],
  "kernelspec": {
   "display_name": "Python 3 (ipykernel)",
   "language": "python",
   "name": "python3"
  },
  "language_info": {
   "codemirror_mode": {
    "name": "ipython",
    "version": 3
   },
   "file_extension": ".py",
   "mimetype": "text/x-python",
   "name": "python",
   "nbconvert_exporter": "python",
   "pygments_lexer": "ipython3",
   "version": "3.9.12"
  },
  "toc": {
   "base_numbering": 1,
   "nav_menu": {},
   "number_sections": true,
   "sideBar": true,
   "skip_h1_title": true,
   "title_cell": "Table of Contents",
   "title_sidebar": "Contents",
   "toc_cell": false,
   "toc_position": {},
   "toc_section_display": true,
   "toc_window_display": true
  }
 },
 "nbformat": 4,
 "nbformat_minor": 2
}
