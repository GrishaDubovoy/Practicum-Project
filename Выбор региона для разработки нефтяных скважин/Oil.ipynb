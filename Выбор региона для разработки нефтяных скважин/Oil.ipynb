{
 "cells": [
  {
   "cell_type": "markdown",
   "metadata": {},
   "source": [
    "# Выбор локации для скважины"
   ]
  },
  {
   "cell_type": "markdown",
   "metadata": {},
   "source": [
    "Допустим, мы работаем в добывающей компании «ГлавРосГосНефть». Нужно решить, где бурить новую скважину.\n",
    "\n",
    "Нам предоставлены пробы нефти в трёх регионах: в каждом 10 000 месторождений, где измерили качество нефти и объём её запасов. Построим модель машинного обучения, которая поможет определить регион, где добыча принесёт наибольшую прибыль. Проанализируем возможную прибыль и риски техникой *Bootstrap.*\n",
    "\n",
    "Шаги для выбора локации:\n",
    "\n",
    "План выполнения работы:\n",
    "- В избранном регионе ищем месторождения, для каждого определяем значения признаков;\n",
    "- Строим модель и оцениваем объём запасов;\n",
    "- Выбираем месторождения с самым высокими оценками значений. Количество месторождений зависит от бюджета компании и стоимости разработки одной скважины;\n",
    "- Прибыль равна суммарной прибыли отобранных месторождений."
   ]
  },
  {
   "cell_type": "markdown",
   "metadata": {},
   "source": [
    "**Описание данных**\n",
    "\n",
    "Данные геологоразведки трёх регионов находятся в трех файлах:\n",
    "- */datasets/geo_data_0.csv*\n",
    "- */datasets/geo_data_1.csv*\n",
    "- */datasets/geo_data_2.csv*\n",
    "\n",
    "Столбцы в файлах:\n",
    "- `id` — уникальный идентификатор скважины;\n",
    "- `f0`, `f1`, `f2` — три признака точек (неважно, что они означают, но сами признаки значимы);\n",
    "- `product` — объём запасов в скважине (тыс. баррелей).\n",
    "\n",
    "**Условия задачи:**\n",
    "\n",
    "- Для обучения модели подходит только линейная регрессия (остальные — недостаточно предсказуемые).\n",
    "- При разведке региона исследуют 500 точек, из которых с помощью машинного обучения выбирают 200 лучших для разработки.\n",
    "- Бюджет на разработку скважин в регионе — 10 млрд рублей.\n",
    "- При нынешних ценах один баррель сырья приносит 450 рублей дохода. Доход с каждой единицы продукта составляет 450 тыс. рублей, поскольку объём указан в тысячах баррелей.\n",
    "- После оценки рисков нужно оставить лишь те регионы, в которых вероятность убытков меньше 2.5%. Среди них выбирают регион с наибольшей средней прибылью.\n",
    "\n",
    "Данные синтетические: детали контрактов и характеристики месторождений не разглашаются."
   ]
  },
  {
   "cell_type": "markdown",
   "metadata": {},
   "source": [
    "## Загрузка и подготовка данных"
   ]
  },
  {
   "cell_type": "markdown",
   "metadata": {},
   "source": [
    "Импортируем необходимые библиотеки"
   ]
  },
  {
   "cell_type": "code",
   "execution_count": 1,
   "metadata": {},
   "outputs": [],
   "source": [
    "import pandas as pd\n",
    "import numpy as np\n",
    "\n",
    "from sklearn.model_selection import train_test_split\n",
    "from sklearn.linear_model import LinearRegression\n",
    "from sklearn.metrics import mean_squared_error\n",
    "from numpy.random import RandomState"
   ]
  },
  {
   "cell_type": "markdown",
   "metadata": {},
   "source": [
    "Прочитаем файлы с данными о скважинах"
   ]
  },
  {
   "cell_type": "code",
   "execution_count": 2,
   "metadata": {},
   "outputs": [],
   "source": [
    "try:\n",
    "    df_region_1 = pd.read_csv('/datasets/geo_data_0.csv')\n",
    "    df_region_2 = pd.read_csv('/datasets/geo_data_1.csv')\n",
    "    df_region_3 = pd.read_csv('/datasets/geo_data_2.csv')\n",
    "except FileNotFoundError:\n",
    "    df_region_1 = pd.read_csv('geo_data_0.csv')\n",
    "    df_region_2 = pd.read_csv('geo_data_1.csv')\n",
    "    df_region_3 = pd.read_csv('geo_data_2.csv')    "
   ]
  },
  {
   "cell_type": "markdown",
   "metadata": {},
   "source": [
    "Посмотрим на некоторые данные о наборах данных"
   ]
  },
  {
   "cell_type": "code",
   "execution_count": 3,
   "metadata": {},
   "outputs": [
    {
     "name": "stdout",
     "output_type": "stream",
     "text": [
      "<class 'pandas.core.frame.DataFrame'>\n",
      "RangeIndex: 100000 entries, 0 to 99999\n",
      "Data columns (total 5 columns):\n",
      " #   Column   Non-Null Count   Dtype  \n",
      "---  ------   --------------   -----  \n",
      " 0   id       100000 non-null  object \n",
      " 1   f0       100000 non-null  float64\n",
      " 2   f1       100000 non-null  float64\n",
      " 3   f2       100000 non-null  float64\n",
      " 4   product  100000 non-null  float64\n",
      "dtypes: float64(4), object(1)\n",
      "memory usage: 3.8+ MB\n",
      "<class 'pandas.core.frame.DataFrame'>\n",
      "RangeIndex: 100000 entries, 0 to 99999\n",
      "Data columns (total 5 columns):\n",
      " #   Column   Non-Null Count   Dtype  \n",
      "---  ------   --------------   -----  \n",
      " 0   id       100000 non-null  object \n",
      " 1   f0       100000 non-null  float64\n",
      " 2   f1       100000 non-null  float64\n",
      " 3   f2       100000 non-null  float64\n",
      " 4   product  100000 non-null  float64\n",
      "dtypes: float64(4), object(1)\n",
      "memory usage: 3.8+ MB\n",
      "<class 'pandas.core.frame.DataFrame'>\n",
      "RangeIndex: 100000 entries, 0 to 99999\n",
      "Data columns (total 5 columns):\n",
      " #   Column   Non-Null Count   Dtype  \n",
      "---  ------   --------------   -----  \n",
      " 0   id       100000 non-null  object \n",
      " 1   f0       100000 non-null  float64\n",
      " 2   f1       100000 non-null  float64\n",
      " 3   f2       100000 non-null  float64\n",
      " 4   product  100000 non-null  float64\n",
      "dtypes: float64(4), object(1)\n",
      "memory usage: 3.8+ MB\n"
     ]
    }
   ],
   "source": [
    "df_region_1.info()\n",
    "df_region_2.info()\n",
    "df_region_3.info()"
   ]
  },
  {
   "cell_type": "code",
   "execution_count": 4,
   "metadata": {},
   "outputs": [
    {
     "data": {
      "text/html": [
       "<div>\n",
       "<style scoped>\n",
       "    .dataframe tbody tr th:only-of-type {\n",
       "        vertical-align: middle;\n",
       "    }\n",
       "\n",
       "    .dataframe tbody tr th {\n",
       "        vertical-align: top;\n",
       "    }\n",
       "\n",
       "    .dataframe thead th {\n",
       "        text-align: right;\n",
       "    }\n",
       "</style>\n",
       "<table border=\"1\" class=\"dataframe\">\n",
       "  <thead>\n",
       "    <tr style=\"text-align: right;\">\n",
       "      <th></th>\n",
       "      <th>f0</th>\n",
       "      <th>f1</th>\n",
       "      <th>f2</th>\n",
       "      <th>product</th>\n",
       "    </tr>\n",
       "  </thead>\n",
       "  <tbody>\n",
       "    <tr>\n",
       "      <th>count</th>\n",
       "      <td>100000.000000</td>\n",
       "      <td>100000.000000</td>\n",
       "      <td>100000.000000</td>\n",
       "      <td>100000.000000</td>\n",
       "    </tr>\n",
       "    <tr>\n",
       "      <th>mean</th>\n",
       "      <td>0.500419</td>\n",
       "      <td>0.250143</td>\n",
       "      <td>2.502647</td>\n",
       "      <td>92.500000</td>\n",
       "    </tr>\n",
       "    <tr>\n",
       "      <th>std</th>\n",
       "      <td>0.871832</td>\n",
       "      <td>0.504433</td>\n",
       "      <td>3.248248</td>\n",
       "      <td>44.288691</td>\n",
       "    </tr>\n",
       "    <tr>\n",
       "      <th>min</th>\n",
       "      <td>-1.408605</td>\n",
       "      <td>-0.848218</td>\n",
       "      <td>-12.088328</td>\n",
       "      <td>0.000000</td>\n",
       "    </tr>\n",
       "    <tr>\n",
       "      <th>25%</th>\n",
       "      <td>-0.072580</td>\n",
       "      <td>-0.200881</td>\n",
       "      <td>0.287748</td>\n",
       "      <td>56.497507</td>\n",
       "    </tr>\n",
       "    <tr>\n",
       "      <th>50%</th>\n",
       "      <td>0.502360</td>\n",
       "      <td>0.250252</td>\n",
       "      <td>2.515969</td>\n",
       "      <td>91.849972</td>\n",
       "    </tr>\n",
       "    <tr>\n",
       "      <th>75%</th>\n",
       "      <td>1.073581</td>\n",
       "      <td>0.700646</td>\n",
       "      <td>4.715088</td>\n",
       "      <td>128.564089</td>\n",
       "    </tr>\n",
       "    <tr>\n",
       "      <th>max</th>\n",
       "      <td>2.362331</td>\n",
       "      <td>1.343769</td>\n",
       "      <td>16.003790</td>\n",
       "      <td>185.364347</td>\n",
       "    </tr>\n",
       "  </tbody>\n",
       "</table>\n",
       "</div>"
      ],
      "text/plain": [
       "                  f0             f1             f2        product\n",
       "count  100000.000000  100000.000000  100000.000000  100000.000000\n",
       "mean        0.500419       0.250143       2.502647      92.500000\n",
       "std         0.871832       0.504433       3.248248      44.288691\n",
       "min        -1.408605      -0.848218     -12.088328       0.000000\n",
       "25%        -0.072580      -0.200881       0.287748      56.497507\n",
       "50%         0.502360       0.250252       2.515969      91.849972\n",
       "75%         1.073581       0.700646       4.715088     128.564089\n",
       "max         2.362331       1.343769      16.003790     185.364347"
      ]
     },
     "execution_count": 4,
     "metadata": {},
     "output_type": "execute_result"
    }
   ],
   "source": [
    "df_region_1.describe()"
   ]
  },
  {
   "cell_type": "code",
   "execution_count": 5,
   "metadata": {},
   "outputs": [
    {
     "data": {
      "text/html": [
       "<div>\n",
       "<style scoped>\n",
       "    .dataframe tbody tr th:only-of-type {\n",
       "        vertical-align: middle;\n",
       "    }\n",
       "\n",
       "    .dataframe tbody tr th {\n",
       "        vertical-align: top;\n",
       "    }\n",
       "\n",
       "    .dataframe thead th {\n",
       "        text-align: right;\n",
       "    }\n",
       "</style>\n",
       "<table border=\"1\" class=\"dataframe\">\n",
       "  <thead>\n",
       "    <tr style=\"text-align: right;\">\n",
       "      <th></th>\n",
       "      <th>f0</th>\n",
       "      <th>f1</th>\n",
       "      <th>f2</th>\n",
       "      <th>product</th>\n",
       "    </tr>\n",
       "  </thead>\n",
       "  <tbody>\n",
       "    <tr>\n",
       "      <th>count</th>\n",
       "      <td>100000.000000</td>\n",
       "      <td>100000.000000</td>\n",
       "      <td>100000.000000</td>\n",
       "      <td>100000.000000</td>\n",
       "    </tr>\n",
       "    <tr>\n",
       "      <th>mean</th>\n",
       "      <td>1.141296</td>\n",
       "      <td>-4.796579</td>\n",
       "      <td>2.494541</td>\n",
       "      <td>68.825000</td>\n",
       "    </tr>\n",
       "    <tr>\n",
       "      <th>std</th>\n",
       "      <td>8.965932</td>\n",
       "      <td>5.119872</td>\n",
       "      <td>1.703572</td>\n",
       "      <td>45.944423</td>\n",
       "    </tr>\n",
       "    <tr>\n",
       "      <th>min</th>\n",
       "      <td>-31.609576</td>\n",
       "      <td>-26.358598</td>\n",
       "      <td>-0.018144</td>\n",
       "      <td>0.000000</td>\n",
       "    </tr>\n",
       "    <tr>\n",
       "      <th>25%</th>\n",
       "      <td>-6.298551</td>\n",
       "      <td>-8.267985</td>\n",
       "      <td>1.000021</td>\n",
       "      <td>26.953261</td>\n",
       "    </tr>\n",
       "    <tr>\n",
       "      <th>50%</th>\n",
       "      <td>1.153055</td>\n",
       "      <td>-4.813172</td>\n",
       "      <td>2.011479</td>\n",
       "      <td>57.085625</td>\n",
       "    </tr>\n",
       "    <tr>\n",
       "      <th>75%</th>\n",
       "      <td>8.621015</td>\n",
       "      <td>-1.332816</td>\n",
       "      <td>3.999904</td>\n",
       "      <td>107.813044</td>\n",
       "    </tr>\n",
       "    <tr>\n",
       "      <th>max</th>\n",
       "      <td>29.421755</td>\n",
       "      <td>18.734063</td>\n",
       "      <td>5.019721</td>\n",
       "      <td>137.945408</td>\n",
       "    </tr>\n",
       "  </tbody>\n",
       "</table>\n",
       "</div>"
      ],
      "text/plain": [
       "                  f0             f1             f2        product\n",
       "count  100000.000000  100000.000000  100000.000000  100000.000000\n",
       "mean        1.141296      -4.796579       2.494541      68.825000\n",
       "std         8.965932       5.119872       1.703572      45.944423\n",
       "min       -31.609576     -26.358598      -0.018144       0.000000\n",
       "25%        -6.298551      -8.267985       1.000021      26.953261\n",
       "50%         1.153055      -4.813172       2.011479      57.085625\n",
       "75%         8.621015      -1.332816       3.999904     107.813044\n",
       "max        29.421755      18.734063       5.019721     137.945408"
      ]
     },
     "execution_count": 5,
     "metadata": {},
     "output_type": "execute_result"
    }
   ],
   "source": [
    "df_region_2.describe()"
   ]
  },
  {
   "cell_type": "code",
   "execution_count": 6,
   "metadata": {},
   "outputs": [
    {
     "data": {
      "text/html": [
       "<div>\n",
       "<style scoped>\n",
       "    .dataframe tbody tr th:only-of-type {\n",
       "        vertical-align: middle;\n",
       "    }\n",
       "\n",
       "    .dataframe tbody tr th {\n",
       "        vertical-align: top;\n",
       "    }\n",
       "\n",
       "    .dataframe thead th {\n",
       "        text-align: right;\n",
       "    }\n",
       "</style>\n",
       "<table border=\"1\" class=\"dataframe\">\n",
       "  <thead>\n",
       "    <tr style=\"text-align: right;\">\n",
       "      <th></th>\n",
       "      <th>f0</th>\n",
       "      <th>f1</th>\n",
       "      <th>f2</th>\n",
       "      <th>product</th>\n",
       "    </tr>\n",
       "  </thead>\n",
       "  <tbody>\n",
       "    <tr>\n",
       "      <th>count</th>\n",
       "      <td>100000.000000</td>\n",
       "      <td>100000.000000</td>\n",
       "      <td>100000.000000</td>\n",
       "      <td>100000.000000</td>\n",
       "    </tr>\n",
       "    <tr>\n",
       "      <th>mean</th>\n",
       "      <td>0.002023</td>\n",
       "      <td>-0.002081</td>\n",
       "      <td>2.495128</td>\n",
       "      <td>95.000000</td>\n",
       "    </tr>\n",
       "    <tr>\n",
       "      <th>std</th>\n",
       "      <td>1.732045</td>\n",
       "      <td>1.730417</td>\n",
       "      <td>3.473445</td>\n",
       "      <td>44.749921</td>\n",
       "    </tr>\n",
       "    <tr>\n",
       "      <th>min</th>\n",
       "      <td>-8.760004</td>\n",
       "      <td>-7.084020</td>\n",
       "      <td>-11.970335</td>\n",
       "      <td>0.000000</td>\n",
       "    </tr>\n",
       "    <tr>\n",
       "      <th>25%</th>\n",
       "      <td>-1.162288</td>\n",
       "      <td>-1.174820</td>\n",
       "      <td>0.130359</td>\n",
       "      <td>59.450441</td>\n",
       "    </tr>\n",
       "    <tr>\n",
       "      <th>50%</th>\n",
       "      <td>0.009424</td>\n",
       "      <td>-0.009482</td>\n",
       "      <td>2.484236</td>\n",
       "      <td>94.925613</td>\n",
       "    </tr>\n",
       "    <tr>\n",
       "      <th>75%</th>\n",
       "      <td>1.158535</td>\n",
       "      <td>1.163678</td>\n",
       "      <td>4.858794</td>\n",
       "      <td>130.595027</td>\n",
       "    </tr>\n",
       "    <tr>\n",
       "      <th>max</th>\n",
       "      <td>7.238262</td>\n",
       "      <td>7.844801</td>\n",
       "      <td>16.739402</td>\n",
       "      <td>190.029838</td>\n",
       "    </tr>\n",
       "  </tbody>\n",
       "</table>\n",
       "</div>"
      ],
      "text/plain": [
       "                  f0             f1             f2        product\n",
       "count  100000.000000  100000.000000  100000.000000  100000.000000\n",
       "mean        0.002023      -0.002081       2.495128      95.000000\n",
       "std         1.732045       1.730417       3.473445      44.749921\n",
       "min        -8.760004      -7.084020     -11.970335       0.000000\n",
       "25%        -1.162288      -1.174820       0.130359      59.450441\n",
       "50%         0.009424      -0.009482       2.484236      94.925613\n",
       "75%         1.158535       1.163678       4.858794     130.595027\n",
       "max         7.238262       7.844801      16.739402     190.029838"
      ]
     },
     "execution_count": 6,
     "metadata": {},
     "output_type": "execute_result"
    }
   ],
   "source": [
    "df_region_3.describe()"
   ]
  },
  {
   "cell_type": "code",
   "execution_count": 7,
   "metadata": {},
   "outputs": [
    {
     "data": {
      "text/plain": [
       "0"
      ]
     },
     "execution_count": 7,
     "metadata": {},
     "output_type": "execute_result"
    }
   ],
   "source": [
    "df_region_1.duplicated().sum()"
   ]
  },
  {
   "cell_type": "code",
   "execution_count": 8,
   "metadata": {},
   "outputs": [
    {
     "data": {
      "text/plain": [
       "0"
      ]
     },
     "execution_count": 8,
     "metadata": {},
     "output_type": "execute_result"
    }
   ],
   "source": [
    "df_region_2.duplicated().sum()"
   ]
  },
  {
   "cell_type": "code",
   "execution_count": 9,
   "metadata": {},
   "outputs": [
    {
     "data": {
      "text/plain": [
       "0"
      ]
     },
     "execution_count": 9,
     "metadata": {},
     "output_type": "execute_result"
    }
   ],
   "source": [
    "df_region_3.duplicated().sum()"
   ]
  },
  {
   "cell_type": "markdown",
   "metadata": {},
   "source": [
    "Пропусков в данных нет, дубликатов тоже нет. Есть три признака f0, f1, f2 которые похоже уже прошли процедуру масштабирования. Так же есть ключевой признак - объём запасов в скважине. Столбец с id для обучния модели нам не понадобится."
   ]
  },
  {
   "cell_type": "code",
   "execution_count": 10,
   "metadata": {},
   "outputs": [],
   "source": [
    "FEATURES_COLUMNS = ['f0','f1','f2'] # имена колонок с признаками для обучения модели\n",
    "TARGET_COLUMN = 'product' # ключевой признак"
   ]
  },
  {
   "cell_type": "markdown",
   "metadata": {},
   "source": [
    "## Обучение и проверка модели"
   ]
  },
  {
   "cell_type": "markdown",
   "metadata": {},
   "source": [
    "По условиям задачи будем использовать модель линейной регрессии "
   ]
  },
  {
   "cell_type": "code",
   "execution_count": 11,
   "metadata": {},
   "outputs": [],
   "source": [
    "# функция для обучения модели\n",
    "def linear_model(df, ratio, features_col, target_col):   \n",
    "    features = df[features_col] # берем признаки для обучения\n",
    "    target = df[target_col] # ключевой признак\n",
    "    # делим df на обучающую и валидационную выборки\n",
    "    features_train, features_valid, target_train, target_valid = train_test_split(features, target, test_size=ratio, random_state=314)\n",
    "    model = LinearRegression() # создаем модель\n",
    "    model.fit(features_train,target_train) # обучаем модель \n",
    "    predictions = model.predict(features_valid) # делаем предсказание \n",
    "    rmse = mean_squared_error(target_valid,predictions,squared=False) # считаем RMSE\n",
    "    return model, rmse, predictions"
   ]
  },
  {
   "cell_type": "code",
   "execution_count": 12,
   "metadata": {},
   "outputs": [],
   "source": [
    "model_reg_1, rmse_reg_1, predict_reg_1 = linear_model(df_region_1, 0.25, FEATURES_COLUMNS, TARGET_COLUMN)\n",
    "model_reg_2, rmse_reg_2, predict_reg_2 = linear_model(df_region_2, 0.25, FEATURES_COLUMNS, TARGET_COLUMN)\n",
    "model_reg_3, rmse_reg_3, predict_reg_3 = linear_model(df_region_3, 0.25, FEATURES_COLUMNS, TARGET_COLUMN)"
   ]
  },
  {
   "cell_type": "code",
   "execution_count": 13,
   "metadata": {},
   "outputs": [
    {
     "name": "stdout",
     "output_type": "stream",
     "text": [
      "Средний запас предсказанного сырья по скважинам в первом регионе 92.78 и среднеквадратичная ошибка модели 37.73\n",
      "Средний запас предсказанного сырья по скважинам во втором регионе 68.75 и среднеквадратичная ошибка модели 0.89\n",
      "Средний запас предсказанного сырья по скважинам в третьем регионе 94.95 и среднеквадратичная ошибка модели 39.96\n"
     ]
    }
   ],
   "source": [
    "print('Средний запас предсказанного сырья по скважинам в первом регионе', round(predict_reg_1.mean(),2),'и среднеквадратичная ошибка модели',round(rmse_reg_1,2))\n",
    "print('Средний запас предсказанного сырья по скважинам во втором регионе', round(predict_reg_2.mean(),2),'и среднеквадратичная ошибка модели',round(rmse_reg_2,2))\n",
    "print('Средний запас предсказанного сырья по скважинам в третьем регионе', round(predict_reg_3.mean(),2),'и среднеквадратичная ошибка модели',round(rmse_reg_3,2))"
   ]
  },
  {
   "cell_type": "markdown",
   "metadata": {},
   "source": [
    "В первом и третьем регионах модели машинного обучения показывают примерно одинаковые результаты. Среднеквадратичная ошибка получилась около 40 единиц. Во втором регионе ошибка близка к значению в 1 единицу. Также стоит отметит, что в 1 и 3 регионах средней запас сырья предсказанноо моделью больше чем во втором регионе. \n",
    "\n",
    "Во втором регионе модель предсказывает точнее."
   ]
  },
  {
   "cell_type": "markdown",
   "metadata": {},
   "source": [
    "## Подготовка к расчёту прибыли"
   ]
  },
  {
   "cell_type": "markdown",
   "metadata": {},
   "source": [
    "Для расчета прибыли нам понадобиться значение затрачиваемое на разработку скважин в регионе — 10 млрд рублей. И стоимость продукта. При нынешних ценах один баррель сырья приносит 450 рублей дохода. Доход с каждой единицы продукта составляет 450 тыс. рублей, поскольку объём указан в тысячах баррелей. \n",
    "\n",
    "Затраты на разработку скважин в регионе - 10 000 000 000 рублей.\n",
    "\n",
    "Доход с единицы продукат - 450 000 рублей.\n",
    "\n",
    "Так же для расчета прибыли необходимы значения количества скважит которые разведуют и количество которое выбирают с помощью прогноза по запасам с помощью модели машинного обучения.\n",
    "\n",
    "Разведуют скважин - 500 штук.\n",
    "\n",
    "Выбирают лучших по результатам прогноза запасов для разработки - 200 штук."
   ]
  },
  {
   "cell_type": "code",
   "execution_count": 14,
   "metadata": {},
   "outputs": [],
   "source": [
    "INVEST_REG = 10_000_000_000 # размер инвестиций в разработку скважин одного региона\n",
    "PRICE_OIL = 450_000 # стоимость одной единицы продукции\n",
    "NUM_HOLE = 500 # кол-во разведываемых скважин\n",
    "NUM_BEST_HOLE = 200 # кол-во лучших из разведанных скважин выбранных для разработки"
   ]
  },
  {
   "cell_type": "markdown",
   "metadata": {},
   "source": [
    "Напишем функцию которая будет по заданному набору запасов в скважинах расчитывать прибыль"
   ]
  },
  {
   "cell_type": "code",
   "execution_count": 15,
   "metadata": {},
   "outputs": [],
   "source": [
    "# функция для расчета прибыли\n",
    "def profit(df, num_best, price, invest):\n",
    "    result = - invest  # учет инвестиций\n",
    "    df = df.sort_values(by='predictions', ascending=False) # сортируем в порядке убывания\n",
    "    for i in range(0,num_best): # для первых 200 скважин, с максимальными запасами, считаем прибыль\n",
    "        result += df['product'].values[i] * price\n",
    "    return result"
   ]
  },
  {
   "cell_type": "markdown",
   "metadata": {},
   "source": [
    "Посчитаем необходимый средний запас сырья в каждой из 200 разрабатываемых скважин для получения прибыли.\n",
    "\n",
    "Получим простую формулу \n",
    "\n",
    "Средний запас >  Инвестиции / (Кол-во скважин * стоимость ед. запаса) "
   ]
  },
  {
   "cell_type": "code",
   "execution_count": 16,
   "metadata": {},
   "outputs": [
    {
     "name": "stdout",
     "output_type": "stream",
     "text": [
      "Минимальное среднее кол-во запасов в разрабатываемой скважине для получения прибыли 111.11\n"
     ]
    }
   ],
   "source": [
    "print('Минимальное среднее кол-во запасов в разрабатываемой скважине для получения прибыли',round(INVEST_REG / (NUM_BEST_HOLE * PRICE_OIL),2)) "
   ]
  },
  {
   "cell_type": "markdown",
   "metadata": {},
   "source": [
    "Учитывая наши предсказания наших моделей по средним запасам в трех регионах, получить прибыль будет не так-то просто. Второй регион выглядит наименее выигрышным, но зато в нем разброс точности предсказания существенно выше чем в 1 и 3 регионе."
   ]
  },
  {
   "cell_type": "markdown",
   "metadata": {},
   "source": [
    "## Расчёт прибыли и рисков "
   ]
  },
  {
   "cell_type": "markdown",
   "metadata": {},
   "source": [
    "Для расчета возможных прибыли и убытков воспользуемся методом бутсрапа. \n",
    "Будем делать 1000 выборок по 500 элементов в каждой, из 500 выбранных скважин обученной моделью получим предсказание запасов и выберем 200 скважин с наибольшими запасами, после чего посчитаем прибыль при разработке этих 200 скважин."
   ]
  },
  {
   "cell_type": "code",
   "execution_count": 17,
   "metadata": {},
   "outputs": [],
   "source": [
    "state = RandomState(314)\n",
    "num_samples = 1000 # количество выборок для bootstrap"
   ]
  },
  {
   "cell_type": "code",
   "execution_count": 18,
   "metadata": {},
   "outputs": [],
   "source": [
    "# функция для проведения процедуры bootstrap\n",
    "def bootstrap(df, samples, num , model): \n",
    "    global NUM_BEST_HOLE \n",
    "    global PRICE_OIL\n",
    "    global INVEST_REG\n",
    "    global FEATURES_COLUMNS\n",
    "    values = [] # пустой список для значений выручки в каждой из выборок\n",
    "    for i in range(samples): # цикл для проведения выборок\n",
    "        sub_df = df.sample(n=num, replace=True, random_state=state) # формируем выборку\n",
    "        pred = model.predict(sub_df[FEATURES_COLUMNS]) # делаем для выборки предсказание запасов \n",
    "        sub_df['predictions'] = pred\n",
    "        prof = profit(sub_df, NUM_BEST_HOLE,  PRICE_OIL, INVEST_REG) # считаем для лучших 200 скважин из выборки прибыль\n",
    "        values.append(prof) # добавляет прибыль в список\n",
    "    values = pd.Series(values)\n",
    "    q_25 = values.quantile(0.025) # считаем квантиль 2.5%\n",
    "    q_975 = values.quantile(0.975) # считаем квантиль 97.5%\n",
    "    print('Средняя прибыль: {:.0f} млн. рублей'.format(values.mean()/1000))\n",
    "    print('Максимальная прибыль: {:.0f} млн. рублей' .format(values.max()/1000))\n",
    "    print('Максимальный убыток: {:.0f} млн. рублей'.format(values.min()/1000))\n",
    "    print('Квантиль 2.5% : {:.0f} млн. рублей'.format(q_25/1000))\n",
    "    print('Квантиль 97.5% : {:.0f} млн. рублей'.format(q_975/1000))\n",
    "    print('95% интервал прибыли: {:.0f} - {:.0f} млн. рублей'.format(q_25/1000,q_975/1000))\n",
    "    print('Вероятность убытков', (values<0).mean())"
   ]
  },
  {
   "cell_type": "markdown",
   "metadata": {},
   "source": [
    "Регион № 1"
   ]
  },
  {
   "cell_type": "code",
   "execution_count": 19,
   "metadata": {},
   "outputs": [
    {
     "name": "stdout",
     "output_type": "stream",
     "text": [
      "Средняя прибыль: 429069 млн. рублей\n",
      "Максимальная прибыль: 1336758 млн. рублей\n",
      "Максимальный убыток: -395126 млн. рублей\n",
      "Квантиль 2.5% : -108960 млн. рублей\n",
      "Квантиль 97.5% : 907243 млн. рублей\n",
      "95% интервал прибыли: -108960 - 907243 млн. рублей\n",
      "Вероятность убытков 0.049\n"
     ]
    }
   ],
   "source": [
    "bootstrap(df_region_1, num_samples, NUM_HOLE, model_reg_1)"
   ]
  },
  {
   "cell_type": "markdown",
   "metadata": {},
   "source": [
    "Регион № 2"
   ]
  },
  {
   "cell_type": "code",
   "execution_count": 20,
   "metadata": {},
   "outputs": [
    {
     "name": "stdout",
     "output_type": "stream",
     "text": [
      "Средняя прибыль: 461932 млн. рублей\n",
      "Максимальная прибыль: 1043518 млн. рублей\n",
      "Максимальный убыток: -135853 млн. рублей\n",
      "Квантиль 2.5% : 35798 млн. рублей\n",
      "Квантиль 97.5% : 860304 млн. рублей\n",
      "95% интервал прибыли: 35798 - 860304 млн. рублей\n",
      "Вероятность убытков 0.016\n"
     ]
    }
   ],
   "source": [
    "bootstrap(df_region_2, num_samples, NUM_HOLE, model_reg_2)"
   ]
  },
  {
   "cell_type": "markdown",
   "metadata": {},
   "source": [
    "Регион № 3"
   ]
  },
  {
   "cell_type": "code",
   "execution_count": 21,
   "metadata": {},
   "outputs": [
    {
     "name": "stdout",
     "output_type": "stream",
     "text": [
      "Средняя прибыль: 372174 млн. рублей\n",
      "Максимальная прибыль: 1288918 млн. рублей\n",
      "Максимальный убыток: -397454 млн. рублей\n",
      "Квантиль 2.5% : -137383 млн. рублей\n",
      "Квантиль 97.5% : 878302 млн. рублей\n",
      "95% интервал прибыли: -137383 - 878302 млн. рублей\n",
      "Вероятность убытков 0.074\n"
     ]
    }
   ],
   "source": [
    "bootstrap(df_region_3, num_samples, NUM_HOLE, model_reg_3)"
   ]
  },
  {
   "cell_type": "markdown",
   "metadata": {},
   "source": [
    "\n",
    "Регион № 1 с наибольшей максимальной прибылью, но со вторым значением средний прибыли.\n",
    "Регион № 2 выглядит самым прибыльным, и с наименьшей вероятностью убытков\n",
    "Регион № 3 самым рискованным.\n",
    "\n",
    "Из трех регионов только второй соответствует критерию убыточности менее 2.5% \n",
    "Если смотреть на среднюю прибыль то стоит остановиться на втором регионе. Так же стоит учесть, что именно модель для второго региона показана наилучший результат для точности предсказания запасов, менее 1 единицы."
   ]
  },
  {
   "cell_type": "markdown",
   "metadata": {},
   "source": [
    "## Вывод"
   ]
  },
  {
   "cell_type": "markdown",
   "metadata": {},
   "source": [
    "Обучили модели для каждого региона.\n",
    "\n",
    "С помощью метода bootstrap посчитали среднюю выручку, 95 % доверительный интервал и вероятность убытков.\n",
    "В итоге учитывая постановку задачи для разведки и разработки скважин лучшим выглядит второй регион."
   ]
  },
  {
   "cell_type": "markdown",
   "metadata": {},
   "source": [
    "## Чек-лист готовности проекта"
   ]
  },
  {
   "cell_type": "markdown",
   "metadata": {},
   "source": [
    "Поставьте 'x' в выполненных пунктах. Далее нажмите Shift+Enter."
   ]
  },
  {
   "cell_type": "markdown",
   "metadata": {},
   "source": [
    "- [x]  Jupyter Notebook открыт\n",
    "- [x]  Весь код выполняется без ошибок\n",
    "- [X]  Ячейки с кодом расположены в порядке исполнения\n",
    "- [X]  Выполнен шаг 1: данные подготовлены\n",
    "- [X]  Выполнен шаг 2: модели обучены и проверены\n",
    "    - [X]  Данные корректно разбиты на обучающую и валидационную выборки\n",
    "    - [X]  Модели обучены, предсказания сделаны\n",
    "    - [X]  Предсказания и правильные ответы на валидационной выборке сохранены\n",
    "    - [X]  На экране напечатаны результаты\n",
    "    - [X]  Сделаны выводы\n",
    "- [x]  Выполнен шаг 3: проведена подготовка к расчёту прибыли\n",
    "    - [x]  Для всех ключевых значений созданы константы Python\n",
    "    - [x]  Посчитано минимальное среднее количество продукта в месторождениях региона, достаточное для разработки\n",
    "    - [x]  По предыдущему пункту сделаны выводы\n",
    "    - [x]  Написана функция расчёта прибыли\n",
    "- [x]  Выполнен шаг 4: посчитаны риски и прибыль\n",
    "    - [x]  Проведена процедура *Bootstrap*\n",
    "    - [x]  Все параметры бутстрепа соответствуют условию\n",
    "    - [x]  Найдены все нужные величины\n",
    "    - [x]  Предложен регион для разработки месторождения\n",
    "    - [x]  Выбор региона обоснован"
   ]
  },
  {
   "cell_type": "code",
   "execution_count": null,
   "metadata": {},
   "outputs": [],
   "source": []
  }
 ],
 "metadata": {
  "ExecuteTimeLog": [
   {
    "duration": 343,
    "start_time": "2022-05-10T08:32:08.830Z"
   },
   {
    "duration": 134,
    "start_time": "2022-05-10T08:32:35.900Z"
   },
   {
    "duration": 16,
    "start_time": "2022-05-10T08:32:51.939Z"
   },
   {
    "duration": 38,
    "start_time": "2022-05-10T08:37:11.449Z"
   },
   {
    "duration": 345,
    "start_time": "2022-05-10T08:38:26.203Z"
   },
   {
    "duration": 752,
    "start_time": "2022-05-10T08:42:12.061Z"
   },
   {
    "duration": 16,
    "start_time": "2022-05-10T08:42:37.412Z"
   },
   {
    "duration": 15,
    "start_time": "2022-05-10T08:42:42.223Z"
   },
   {
    "duration": 33,
    "start_time": "2022-05-10T08:42:55.356Z"
   },
   {
    "duration": 95,
    "start_time": "2022-05-10T08:51:01.822Z"
   },
   {
    "duration": 34,
    "start_time": "2022-05-10T08:51:20.170Z"
   },
   {
    "duration": 32,
    "start_time": "2022-05-10T08:51:27.750Z"
   },
   {
    "duration": 34,
    "start_time": "2022-05-10T08:51:28.158Z"
   },
   {
    "duration": 155,
    "start_time": "2022-05-10T08:53:50.698Z"
   },
   {
    "duration": 111,
    "start_time": "2022-05-10T08:54:02.459Z"
   },
   {
    "duration": 339,
    "start_time": "2022-05-10T08:55:27.182Z"
   },
   {
    "duration": 46,
    "start_time": "2022-05-10T08:55:30.101Z"
   },
   {
    "duration": 3,
    "start_time": "2022-05-10T09:02:28.928Z"
   },
   {
    "duration": 10,
    "start_time": "2022-05-10T09:07:25.991Z"
   },
   {
    "duration": 17,
    "start_time": "2022-05-10T09:09:28.992Z"
   },
   {
    "duration": 31,
    "start_time": "2022-05-10T09:10:40.683Z"
   },
   {
    "duration": 3,
    "start_time": "2022-05-10T09:16:49.638Z"
   },
   {
    "duration": 3,
    "start_time": "2022-05-10T09:17:46.100Z"
   },
   {
    "duration": 29,
    "start_time": "2022-05-10T09:17:47.482Z"
   },
   {
    "duration": 3,
    "start_time": "2022-05-10T09:18:20.319Z"
   },
   {
    "duration": 4,
    "start_time": "2022-05-10T09:23:31.251Z"
   },
   {
    "duration": 3,
    "start_time": "2022-05-10T09:23:52.886Z"
   },
   {
    "duration": 16,
    "start_time": "2022-05-10T09:24:13.294Z"
   },
   {
    "duration": 15,
    "start_time": "2022-05-10T09:24:45.923Z"
   },
   {
    "duration": 9,
    "start_time": "2022-05-10T09:28:06.097Z"
   },
   {
    "duration": 3,
    "start_time": "2022-05-10T09:28:09.789Z"
   },
   {
    "duration": 15,
    "start_time": "2022-05-10T09:28:10.888Z"
   },
   {
    "duration": 3,
    "start_time": "2022-05-10T09:31:22.396Z"
   },
   {
    "duration": 16,
    "start_time": "2022-05-10T09:31:40.963Z"
   },
   {
    "duration": 3,
    "start_time": "2022-05-10T09:33:02.001Z"
   },
   {
    "duration": 10,
    "start_time": "2022-05-10T09:33:19.681Z"
   },
   {
    "duration": 22,
    "start_time": "2022-05-10T09:34:01.123Z"
   },
   {
    "duration": 3,
    "start_time": "2022-05-10T09:34:39.303Z"
   },
   {
    "duration": 18,
    "start_time": "2022-05-10T09:34:39.684Z"
   },
   {
    "duration": 4,
    "start_time": "2022-05-10T09:40:47.845Z"
   },
   {
    "duration": 20,
    "start_time": "2022-05-10T09:40:49.087Z"
   },
   {
    "duration": 40,
    "start_time": "2022-05-10T09:41:21.546Z"
   },
   {
    "duration": 305,
    "start_time": "2022-05-10T09:41:27.073Z"
   },
   {
    "duration": 4,
    "start_time": "2022-05-10T09:41:49.941Z"
   },
   {
    "duration": 4,
    "start_time": "2022-05-10T09:42:48.959Z"
   },
   {
    "duration": 9,
    "start_time": "2022-05-10T09:45:42.888Z"
   },
   {
    "duration": 8,
    "start_time": "2022-05-10T09:46:58.698Z"
   },
   {
    "duration": 95,
    "start_time": "2022-05-10T09:47:13.492Z"
   },
   {
    "duration": 110,
    "start_time": "2022-05-10T09:47:44.897Z"
   },
   {
    "duration": 4,
    "start_time": "2022-05-10T09:47:50.032Z"
   },
   {
    "duration": 101,
    "start_time": "2022-05-10T09:48:09.651Z"
   },
   {
    "duration": 110,
    "start_time": "2022-05-10T09:48:14.682Z"
   },
   {
    "duration": 4,
    "start_time": "2022-05-10T09:48:24.004Z"
   },
   {
    "duration": 5,
    "start_time": "2022-05-10T09:48:44.292Z"
   },
   {
    "duration": 5,
    "start_time": "2022-05-10T09:49:31.189Z"
   },
   {
    "duration": 6,
    "start_time": "2022-05-10T09:52:23.307Z"
   },
   {
    "duration": 6,
    "start_time": "2022-05-10T09:52:33.681Z"
   },
   {
    "duration": 5,
    "start_time": "2022-05-10T09:52:38.052Z"
   },
   {
    "duration": 41,
    "start_time": "2022-05-10T09:54:18.271Z"
   },
   {
    "duration": 29,
    "start_time": "2022-05-10T09:54:25.439Z"
   },
   {
    "duration": 39,
    "start_time": "2022-05-10T09:54:29.403Z"
   },
   {
    "duration": 30,
    "start_time": "2022-05-10T09:54:36.323Z"
   },
   {
    "duration": 28,
    "start_time": "2022-05-10T09:54:39.981Z"
   },
   {
    "duration": 27,
    "start_time": "2022-05-10T09:54:42.919Z"
   },
   {
    "duration": 34,
    "start_time": "2022-05-10T09:54:50.691Z"
   },
   {
    "duration": 4,
    "start_time": "2022-05-10T09:55:25.156Z"
   },
   {
    "duration": 85,
    "start_time": "2022-05-10T09:55:25.494Z"
   },
   {
    "duration": 7,
    "start_time": "2022-05-10T09:55:26.717Z"
   },
   {
    "duration": 1386,
    "start_time": "2022-05-10T16:09:02.427Z"
   },
   {
    "duration": 1389,
    "start_time": "2022-05-10T16:09:05.103Z"
   },
   {
    "duration": 37,
    "start_time": "2022-05-10T16:09:08.455Z"
   },
   {
    "duration": 45,
    "start_time": "2022-05-10T16:09:10.212Z"
   },
   {
    "duration": 37,
    "start_time": "2022-05-10T16:09:10.888Z"
   },
   {
    "duration": 35,
    "start_time": "2022-05-10T16:09:11.389Z"
   },
   {
    "duration": 3,
    "start_time": "2022-05-10T16:09:13.036Z"
   },
   {
    "duration": 34,
    "start_time": "2022-05-10T16:09:13.395Z"
   },
   {
    "duration": 3,
    "start_time": "2022-05-10T16:09:15.720Z"
   },
   {
    "duration": 147,
    "start_time": "2022-05-10T16:09:16.390Z"
   },
   {
    "duration": 6,
    "start_time": "2022-05-10T16:09:17.655Z"
   },
   {
    "duration": 18,
    "start_time": "2022-05-13T12:38:44.970Z"
   },
   {
    "duration": 1892,
    "start_time": "2022-05-13T12:38:51.040Z"
   },
   {
    "duration": 1277,
    "start_time": "2022-05-13T12:38:52.934Z"
   },
   {
    "duration": 40,
    "start_time": "2022-05-13T12:38:54.213Z"
   },
   {
    "duration": 50,
    "start_time": "2022-05-13T12:38:54.257Z"
   },
   {
    "duration": 40,
    "start_time": "2022-05-13T12:38:54.309Z"
   },
   {
    "duration": 36,
    "start_time": "2022-05-13T12:38:54.351Z"
   },
   {
    "duration": 55,
    "start_time": "2022-05-13T12:38:54.389Z"
   },
   {
    "duration": 57,
    "start_time": "2022-05-13T12:38:54.446Z"
   },
   {
    "duration": 69,
    "start_time": "2022-05-13T12:38:54.505Z"
   },
   {
    "duration": 10,
    "start_time": "2022-05-13T12:38:54.577Z"
   },
   {
    "duration": 22,
    "start_time": "2022-05-13T12:38:54.589Z"
   },
   {
    "duration": 440,
    "start_time": "2022-05-13T12:38:54.613Z"
   },
   {
    "duration": 20,
    "start_time": "2022-05-13T12:38:55.056Z"
   },
   {
    "duration": 107,
    "start_time": "2022-05-13T12:38:55.079Z"
   },
   {
    "duration": 13,
    "start_time": "2022-05-13T12:38:55.188Z"
   },
   {
    "duration": 28,
    "start_time": "2022-05-13T12:38:55.203Z"
   },
   {
    "duration": 54,
    "start_time": "2022-05-13T12:38:55.233Z"
   },
   {
    "duration": 24,
    "start_time": "2022-05-13T12:38:55.289Z"
   },
   {
    "duration": 132,
    "start_time": "2022-05-13T12:38:55.314Z"
   },
   {
    "duration": 0,
    "start_time": "2022-05-13T12:38:55.451Z"
   },
   {
    "duration": 0,
    "start_time": "2022-05-13T12:38:55.453Z"
   },
   {
    "duration": 6,
    "start_time": "2022-05-13T12:41:34.894Z"
   },
   {
    "duration": 2938,
    "start_time": "2022-05-13T12:41:37.520Z"
   },
   {
    "duration": 7,
    "start_time": "2022-05-13T12:42:35.119Z"
   },
   {
    "duration": 76,
    "start_time": "2022-05-13T12:42:37.146Z"
   },
   {
    "duration": 7,
    "start_time": "2022-05-13T12:43:58.539Z"
   },
   {
    "duration": 8,
    "start_time": "2022-05-13T12:44:03.270Z"
   },
   {
    "duration": 19,
    "start_time": "2022-05-13T12:44:05.318Z"
   },
   {
    "duration": 3,
    "start_time": "2022-05-13T12:44:16.016Z"
   },
   {
    "duration": 13,
    "start_time": "2022-05-13T12:44:18.470Z"
   },
   {
    "duration": 42,
    "start_time": "2022-05-13T12:44:20.170Z"
   },
   {
    "duration": 3518,
    "start_time": "2022-05-13T12:44:23.378Z"
   },
   {
    "duration": 3401,
    "start_time": "2022-05-13T12:44:30.557Z"
   },
   {
    "duration": 3327,
    "start_time": "2022-05-13T12:44:35.533Z"
   },
   {
    "duration": 205,
    "start_time": "2022-05-13T12:52:55.436Z"
   },
   {
    "duration": 5,
    "start_time": "2022-05-13T12:53:00.095Z"
   },
   {
    "duration": 3360,
    "start_time": "2022-05-13T12:53:02.489Z"
   },
   {
    "duration": 3,
    "start_time": "2022-05-13T12:56:02.821Z"
   },
   {
    "duration": 9,
    "start_time": "2022-05-13T12:56:39.521Z"
   },
   {
    "duration": 4,
    "start_time": "2022-05-13T12:56:49.422Z"
   },
   {
    "duration": 3,
    "start_time": "2022-05-13T12:58:56.581Z"
   },
   {
    "duration": 4,
    "start_time": "2022-05-13T12:58:58.891Z"
   },
   {
    "duration": 367,
    "start_time": "2022-05-13T12:58:59.280Z"
   },
   {
    "duration": 6,
    "start_time": "2022-05-13T12:59:00.796Z"
   },
   {
    "duration": 4,
    "start_time": "2022-05-13T12:59:04.512Z"
   },
   {
    "duration": 4,
    "start_time": "2022-05-13T12:59:05.730Z"
   },
   {
    "duration": 3,
    "start_time": "2022-05-13T12:59:09.827Z"
   },
   {
    "duration": 9,
    "start_time": "2022-05-13T12:59:10.740Z"
   },
   {
    "duration": 3504,
    "start_time": "2022-05-13T12:59:14.415Z"
   },
   {
    "duration": 3337,
    "start_time": "2022-05-13T12:59:22.668Z"
   },
   {
    "duration": 3347,
    "start_time": "2022-05-13T12:59:28.278Z"
   },
   {
    "duration": 1253,
    "start_time": "2022-05-13T13:03:09.762Z"
   },
   {
    "duration": 397,
    "start_time": "2022-05-13T13:03:11.017Z"
   },
   {
    "duration": 39,
    "start_time": "2022-05-13T13:03:11.416Z"
   },
   {
    "duration": 43,
    "start_time": "2022-05-13T13:03:11.457Z"
   },
   {
    "duration": 50,
    "start_time": "2022-05-13T13:03:11.502Z"
   },
   {
    "duration": 36,
    "start_time": "2022-05-13T13:03:11.553Z"
   },
   {
    "duration": 59,
    "start_time": "2022-05-13T13:03:11.590Z"
   },
   {
    "duration": 52,
    "start_time": "2022-05-13T13:03:11.655Z"
   },
   {
    "duration": 75,
    "start_time": "2022-05-13T13:03:11.708Z"
   },
   {
    "duration": 3,
    "start_time": "2022-05-13T13:03:11.785Z"
   },
   {
    "duration": 8,
    "start_time": "2022-05-13T13:03:11.790Z"
   },
   {
    "duration": 365,
    "start_time": "2022-05-13T13:03:11.799Z"
   },
   {
    "duration": 9,
    "start_time": "2022-05-13T13:03:12.167Z"
   },
   {
    "duration": 110,
    "start_time": "2022-05-13T13:03:12.181Z"
   },
   {
    "duration": 61,
    "start_time": "2022-05-13T13:03:12.293Z"
   },
   {
    "duration": 25,
    "start_time": "2022-05-13T13:03:12.361Z"
   },
   {
    "duration": 8,
    "start_time": "2022-05-13T13:03:12.387Z"
   },
   {
    "duration": 7,
    "start_time": "2022-05-13T13:03:12.397Z"
   },
   {
    "duration": 3342,
    "start_time": "2022-05-13T13:03:12.406Z"
   },
   {
    "duration": 124,
    "start_time": "2022-05-13T13:03:15.752Z"
   },
   {
    "duration": 0,
    "start_time": "2022-05-13T13:03:15.877Z"
   },
   {
    "duration": 1247,
    "start_time": "2022-05-13T13:03:37.976Z"
   },
   {
    "duration": 390,
    "start_time": "2022-05-13T13:03:39.225Z"
   },
   {
    "duration": 63,
    "start_time": "2022-05-13T13:03:39.617Z"
   },
   {
    "duration": 45,
    "start_time": "2022-05-13T13:03:39.683Z"
   },
   {
    "duration": 37,
    "start_time": "2022-05-13T13:03:39.743Z"
   },
   {
    "duration": 34,
    "start_time": "2022-05-13T13:03:39.782Z"
   },
   {
    "duration": 66,
    "start_time": "2022-05-13T13:03:39.817Z"
   },
   {
    "duration": 43,
    "start_time": "2022-05-13T13:03:39.887Z"
   },
   {
    "duration": 63,
    "start_time": "2022-05-13T13:03:39.932Z"
   },
   {
    "duration": 8,
    "start_time": "2022-05-13T13:03:39.998Z"
   },
   {
    "duration": 23,
    "start_time": "2022-05-13T13:03:40.007Z"
   },
   {
    "duration": 343,
    "start_time": "2022-05-13T13:03:40.032Z"
   },
   {
    "duration": 9,
    "start_time": "2022-05-13T13:03:40.380Z"
   },
   {
    "duration": 120,
    "start_time": "2022-05-13T13:03:40.462Z"
   },
   {
    "duration": 18,
    "start_time": "2022-05-13T13:03:40.583Z"
   },
   {
    "duration": 29,
    "start_time": "2022-05-13T13:03:40.602Z"
   },
   {
    "duration": 62,
    "start_time": "2022-05-13T13:03:40.633Z"
   },
   {
    "duration": 19,
    "start_time": "2022-05-13T13:03:40.697Z"
   },
   {
    "duration": 3464,
    "start_time": "2022-05-13T13:03:40.718Z"
   },
   {
    "duration": 3368,
    "start_time": "2022-05-13T13:03:44.189Z"
   },
   {
    "duration": 3272,
    "start_time": "2022-05-13T13:03:47.561Z"
   }
  ],
  "kernelspec": {
   "display_name": "Python 3 (ipykernel)",
   "language": "python",
   "name": "python3"
  },
  "language_info": {
   "codemirror_mode": {
    "name": "ipython",
    "version": 3
   },
   "file_extension": ".py",
   "mimetype": "text/x-python",
   "name": "python",
   "nbconvert_exporter": "python",
   "pygments_lexer": "ipython3",
   "version": "3.9.12"
  },
  "toc": {
   "base_numbering": 1,
   "nav_menu": {},
   "number_sections": true,
   "sideBar": true,
   "skip_h1_title": true,
   "title_cell": "Table of Contents",
   "title_sidebar": "Contents",
   "toc_cell": false,
   "toc_position": {},
   "toc_section_display": true,
   "toc_window_display": false
  }
 },
 "nbformat": 4,
 "nbformat_minor": 2
}
