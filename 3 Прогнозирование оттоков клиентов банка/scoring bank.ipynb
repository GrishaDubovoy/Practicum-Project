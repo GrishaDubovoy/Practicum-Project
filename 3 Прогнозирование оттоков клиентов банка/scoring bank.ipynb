{
 "cells": [
  {
   "cell_type": "markdown",
   "metadata": {
    "toc": true
   },
   "source": [
    "<h1>Содержание<span class=\"tocSkip\"></span></h1>\n",
    "<div class=\"toc\"><ul class=\"toc-item\"><li><span><a href=\"#Подготовка-данных\" data-toc-modified-id=\"Подготовка-данных-1\"><span class=\"toc-item-num\">1&nbsp;&nbsp;</span>Подготовка данных</a></span></li><li><span><a href=\"#Исследование-задачи\" data-toc-modified-id=\"Исследование-задачи-2\"><span class=\"toc-item-num\">2&nbsp;&nbsp;</span>Исследование задачи</a></span><ul class=\"toc-item\"><li><span><a href=\"#Случайное-дерево\" data-toc-modified-id=\"Случайное-дерево-2.1\"><span class=\"toc-item-num\">2.1&nbsp;&nbsp;</span>Случайное дерево</a></span></li><li><span><a href=\"#Случайный-лес-деревьев\" data-toc-modified-id=\"Случайный-лес-деревьев-2.2\"><span class=\"toc-item-num\">2.2&nbsp;&nbsp;</span>Случайный лес деревьев</a></span></li><li><span><a href=\"#Логистическая-регрессия\" data-toc-modified-id=\"Логистическая-регрессия-2.3\"><span class=\"toc-item-num\">2.3&nbsp;&nbsp;</span>Логистическая регрессия</a></span></li></ul></li><li><span><a href=\"#Борьба-с-дисбалансом\" data-toc-modified-id=\"Борьба-с-дисбалансом-3\"><span class=\"toc-item-num\">3&nbsp;&nbsp;</span>Борьба с дисбалансом</a></span><ul class=\"toc-item\"><li><span><a href=\"#Взвешивание-классов\" data-toc-modified-id=\"Взвешивание-классов-3.1\"><span class=\"toc-item-num\">3.1&nbsp;&nbsp;</span>Взвешивание классов</a></span></li><li><span><a href=\"#Метод--upsampling\" data-toc-modified-id=\"Метод--upsampling-3.2\"><span class=\"toc-item-num\">3.2&nbsp;&nbsp;</span>Метод  upsampling</a></span></li><li><span><a href=\"#Метод-downsampling\" data-toc-modified-id=\"Метод-downsampling-3.3\"><span class=\"toc-item-num\">3.3&nbsp;&nbsp;</span>Метод downsampling</a></span></li><li><span><a href=\"#Метод-изменения-порога\" data-toc-modified-id=\"Метод-изменения-порога-3.4\"><span class=\"toc-item-num\">3.4&nbsp;&nbsp;</span>Метод изменения порога</a></span></li></ul></li><li><span><a href=\"#Тестирование-модели\" data-toc-modified-id=\"Тестирование-модели-4\"><span class=\"toc-item-num\">4&nbsp;&nbsp;</span>Тестирование модели</a></span></li><li><span><a href=\"#Вывод\" data-toc-modified-id=\"Вывод-5\"><span class=\"toc-item-num\">5&nbsp;&nbsp;</span>Вывод</a></span></li><li><span><a href=\"#Чек-лист-готовности-проекта\" data-toc-modified-id=\"Чек-лист-готовности-проекта-6\"><span class=\"toc-item-num\">6&nbsp;&nbsp;</span>Чек-лист готовности проекта</a></span></li></ul></div>"
   ]
  },
  {
   "cell_type": "markdown",
   "metadata": {},
   "source": [
    "# Отток клиентов"
   ]
  },
  {
   "cell_type": "markdown",
   "metadata": {},
   "source": [
    "Из «Бета-Банка» стали уходить клиенты. Каждый месяц. Немного, но заметно. Банковские маркетологи посчитали: сохранять текущих клиентов дешевле, чем привлекать новых.\n",
    "\n",
    "Нужно спрогнозировать, уйдёт клиент из банка в ближайшее время или нет. Вам предоставлены исторические данные о поведении клиентов и расторжении договоров с банком. \n",
    "\n",
    "Построим модель с предельно большим значением *F1*-меры. Нужно довести метрику до 0.59. Проверим *F1*-меру на тестовой выборке.\n",
    "\n",
    "Дополнительно измерим *AUC-ROC*, сравним её значение с *F1*-мерой.\n",
    "\n",
    "Источник данных: [https://www.kaggle.com/barelydedicated/bank-customer-churn-modeling](https://www.kaggle.com/barelydedicated/bank-customer-churn-modeling)"
   ]
  },
  {
   "cell_type": "markdown",
   "metadata": {},
   "source": [
    "## Подготовка данных"
   ]
  },
  {
   "cell_type": "markdown",
   "metadata": {},
   "source": [
    "Описание данных:\n",
    "\n",
    "\n",
    "Признаки\n",
    "*\t`RowNumber` — индекс строки в данных\n",
    "*\t`CustomerId` — уникальный идентификатор клиента\n",
    "*\t`Surname` — фамилия\n",
    "*\t`CreditScore` — кредитный рейтинг\n",
    "*\t`Geography` — страна проживания\n",
    "*\t`Gender` — пол\n",
    "*\t`Age` — возраст\n",
    "*\t`Tenure` — сколько лет человек является клиентом банка\n",
    "*\t`Balance` — баланс на счёте\n",
    "*\t`NumOfProducts` — количество продуктов банка, используемых клиентом\n",
    "*\t`HasCrCard` — наличие кредитной карты\n",
    "*\t`IsActiveMember` — активность клиента\n",
    "*\t`EstimatedSalary` — предполагаемая зарплата\n",
    "\n",
    "Целевой признак\n",
    "*\t`Exited` — факт ухода клиента\n",
    "\n"
   ]
  },
  {
   "cell_type": "code",
   "execution_count": 1,
   "metadata": {},
   "outputs": [],
   "source": [
    "# импортируем необходимые библиотеки\n",
    "import pandas as pd\n",
    "import numpy as np\n",
    "import matplotlib.pyplot as plt\n",
    "\n",
    "from sklearn.preprocessing import StandardScaler\n",
    "from sklearn.model_selection import train_test_split\n",
    "from sklearn.tree import DecisionTreeClassifier\n",
    "from sklearn.ensemble import RandomForestClassifier \n",
    "from sklearn.linear_model import LogisticRegression\n",
    "from sklearn.metrics import roc_curve, roc_auc_score, f1_score\n",
    "from sklearn.utils import shuffle\n",
    "import warnings\n",
    "\n",
    "warnings.simplefilter('ignore')"
   ]
  },
  {
   "cell_type": "code",
   "execution_count": 2,
   "metadata": {},
   "outputs": [],
   "source": [
    "# считаем файл с данными\n",
    "try:\n",
    "    df = pd.read_csv('/datasets/Churn.csv', index_col='RowNumber')\n",
    "except FileNotFoundError:\n",
    "    df = pd.read_csv('Churn.csv', index_col='RowNumber')    "
   ]
  },
  {
   "cell_type": "code",
   "execution_count": 3,
   "metadata": {},
   "outputs": [
    {
     "name": "stdout",
     "output_type": "stream",
     "text": [
      "<class 'pandas.core.frame.DataFrame'>\n",
      "Int64Index: 10000 entries, 1 to 10000\n",
      "Data columns (total 13 columns):\n",
      " #   Column           Non-Null Count  Dtype  \n",
      "---  ------           --------------  -----  \n",
      " 0   CustomerId       10000 non-null  int64  \n",
      " 1   Surname          10000 non-null  object \n",
      " 2   CreditScore      10000 non-null  int64  \n",
      " 3   Geography        10000 non-null  object \n",
      " 4   Gender           10000 non-null  object \n",
      " 5   Age              10000 non-null  int64  \n",
      " 6   Tenure           9091 non-null   float64\n",
      " 7   Balance          10000 non-null  float64\n",
      " 8   NumOfProducts    10000 non-null  int64  \n",
      " 9   HasCrCard        10000 non-null  int64  \n",
      " 10  IsActiveMember   10000 non-null  int64  \n",
      " 11  EstimatedSalary  10000 non-null  float64\n",
      " 12  Exited           10000 non-null  int64  \n",
      "dtypes: float64(3), int64(7), object(3)\n",
      "memory usage: 1.1+ MB\n"
     ]
    }
   ],
   "source": [
    "df.info() # общая информаци о данных"
   ]
  },
  {
   "cell_type": "code",
   "execution_count": 4,
   "metadata": {},
   "outputs": [
    {
     "data": {
      "text/html": [
       "<div>\n",
       "<style scoped>\n",
       "    .dataframe tbody tr th:only-of-type {\n",
       "        vertical-align: middle;\n",
       "    }\n",
       "\n",
       "    .dataframe tbody tr th {\n",
       "        vertical-align: top;\n",
       "    }\n",
       "\n",
       "    .dataframe thead th {\n",
       "        text-align: right;\n",
       "    }\n",
       "</style>\n",
       "<table border=\"1\" class=\"dataframe\">\n",
       "  <thead>\n",
       "    <tr style=\"text-align: right;\">\n",
       "      <th></th>\n",
       "      <th>CustomerId</th>\n",
       "      <th>Surname</th>\n",
       "      <th>CreditScore</th>\n",
       "      <th>Geography</th>\n",
       "      <th>Gender</th>\n",
       "      <th>Age</th>\n",
       "      <th>Tenure</th>\n",
       "      <th>Balance</th>\n",
       "      <th>NumOfProducts</th>\n",
       "      <th>HasCrCard</th>\n",
       "      <th>IsActiveMember</th>\n",
       "      <th>EstimatedSalary</th>\n",
       "      <th>Exited</th>\n",
       "    </tr>\n",
       "    <tr>\n",
       "      <th>RowNumber</th>\n",
       "      <th></th>\n",
       "      <th></th>\n",
       "      <th></th>\n",
       "      <th></th>\n",
       "      <th></th>\n",
       "      <th></th>\n",
       "      <th></th>\n",
       "      <th></th>\n",
       "      <th></th>\n",
       "      <th></th>\n",
       "      <th></th>\n",
       "      <th></th>\n",
       "      <th></th>\n",
       "    </tr>\n",
       "  </thead>\n",
       "  <tbody>\n",
       "    <tr>\n",
       "      <th>1</th>\n",
       "      <td>15634602</td>\n",
       "      <td>Hargrave</td>\n",
       "      <td>619</td>\n",
       "      <td>France</td>\n",
       "      <td>Female</td>\n",
       "      <td>42</td>\n",
       "      <td>2.0</td>\n",
       "      <td>0.00</td>\n",
       "      <td>1</td>\n",
       "      <td>1</td>\n",
       "      <td>1</td>\n",
       "      <td>101348.88</td>\n",
       "      <td>1</td>\n",
       "    </tr>\n",
       "    <tr>\n",
       "      <th>2</th>\n",
       "      <td>15647311</td>\n",
       "      <td>Hill</td>\n",
       "      <td>608</td>\n",
       "      <td>Spain</td>\n",
       "      <td>Female</td>\n",
       "      <td>41</td>\n",
       "      <td>1.0</td>\n",
       "      <td>83807.86</td>\n",
       "      <td>1</td>\n",
       "      <td>0</td>\n",
       "      <td>1</td>\n",
       "      <td>112542.58</td>\n",
       "      <td>0</td>\n",
       "    </tr>\n",
       "    <tr>\n",
       "      <th>3</th>\n",
       "      <td>15619304</td>\n",
       "      <td>Onio</td>\n",
       "      <td>502</td>\n",
       "      <td>France</td>\n",
       "      <td>Female</td>\n",
       "      <td>42</td>\n",
       "      <td>8.0</td>\n",
       "      <td>159660.80</td>\n",
       "      <td>3</td>\n",
       "      <td>1</td>\n",
       "      <td>0</td>\n",
       "      <td>113931.57</td>\n",
       "      <td>1</td>\n",
       "    </tr>\n",
       "    <tr>\n",
       "      <th>4</th>\n",
       "      <td>15701354</td>\n",
       "      <td>Boni</td>\n",
       "      <td>699</td>\n",
       "      <td>France</td>\n",
       "      <td>Female</td>\n",
       "      <td>39</td>\n",
       "      <td>1.0</td>\n",
       "      <td>0.00</td>\n",
       "      <td>2</td>\n",
       "      <td>0</td>\n",
       "      <td>0</td>\n",
       "      <td>93826.63</td>\n",
       "      <td>0</td>\n",
       "    </tr>\n",
       "    <tr>\n",
       "      <th>5</th>\n",
       "      <td>15737888</td>\n",
       "      <td>Mitchell</td>\n",
       "      <td>850</td>\n",
       "      <td>Spain</td>\n",
       "      <td>Female</td>\n",
       "      <td>43</td>\n",
       "      <td>2.0</td>\n",
       "      <td>125510.82</td>\n",
       "      <td>1</td>\n",
       "      <td>1</td>\n",
       "      <td>1</td>\n",
       "      <td>79084.10</td>\n",
       "      <td>0</td>\n",
       "    </tr>\n",
       "  </tbody>\n",
       "</table>\n",
       "</div>"
      ],
      "text/plain": [
       "           CustomerId   Surname  CreditScore Geography  Gender  Age  Tenure  \\\n",
       "RowNumber                                                                     \n",
       "1            15634602  Hargrave          619    France  Female   42     2.0   \n",
       "2            15647311      Hill          608     Spain  Female   41     1.0   \n",
       "3            15619304      Onio          502    France  Female   42     8.0   \n",
       "4            15701354      Boni          699    France  Female   39     1.0   \n",
       "5            15737888  Mitchell          850     Spain  Female   43     2.0   \n",
       "\n",
       "             Balance  NumOfProducts  HasCrCard  IsActiveMember  \\\n",
       "RowNumber                                                        \n",
       "1               0.00              1          1               1   \n",
       "2           83807.86              1          0               1   \n",
       "3          159660.80              3          1               0   \n",
       "4               0.00              2          0               0   \n",
       "5          125510.82              1          1               1   \n",
       "\n",
       "           EstimatedSalary  Exited  \n",
       "RowNumber                           \n",
       "1                101348.88       1  \n",
       "2                112542.58       0  \n",
       "3                113931.57       1  \n",
       "4                 93826.63       0  \n",
       "5                 79084.10       0  "
      ]
     },
     "execution_count": 4,
     "metadata": {},
     "output_type": "execute_result"
    }
   ],
   "source": [
    "df.head(5) # первые 5 строк"
   ]
  },
  {
   "cell_type": "code",
   "execution_count": 5,
   "metadata": {},
   "outputs": [
    {
     "data": {
      "text/html": [
       "<div>\n",
       "<style scoped>\n",
       "    .dataframe tbody tr th:only-of-type {\n",
       "        vertical-align: middle;\n",
       "    }\n",
       "\n",
       "    .dataframe tbody tr th {\n",
       "        vertical-align: top;\n",
       "    }\n",
       "\n",
       "    .dataframe thead th {\n",
       "        text-align: right;\n",
       "    }\n",
       "</style>\n",
       "<table border=\"1\" class=\"dataframe\">\n",
       "  <thead>\n",
       "    <tr style=\"text-align: right;\">\n",
       "      <th></th>\n",
       "      <th>CustomerId</th>\n",
       "      <th>CreditScore</th>\n",
       "      <th>Age</th>\n",
       "      <th>Tenure</th>\n",
       "      <th>Balance</th>\n",
       "      <th>NumOfProducts</th>\n",
       "      <th>HasCrCard</th>\n",
       "      <th>IsActiveMember</th>\n",
       "      <th>EstimatedSalary</th>\n",
       "      <th>Exited</th>\n",
       "    </tr>\n",
       "  </thead>\n",
       "  <tbody>\n",
       "    <tr>\n",
       "      <th>count</th>\n",
       "      <td>1.000000e+04</td>\n",
       "      <td>10000.000000</td>\n",
       "      <td>10000.000000</td>\n",
       "      <td>9091.000000</td>\n",
       "      <td>10000.000000</td>\n",
       "      <td>10000.000000</td>\n",
       "      <td>10000.00000</td>\n",
       "      <td>10000.000000</td>\n",
       "      <td>10000.000000</td>\n",
       "      <td>10000.000000</td>\n",
       "    </tr>\n",
       "    <tr>\n",
       "      <th>mean</th>\n",
       "      <td>1.569094e+07</td>\n",
       "      <td>650.528800</td>\n",
       "      <td>38.921800</td>\n",
       "      <td>4.997690</td>\n",
       "      <td>76485.889288</td>\n",
       "      <td>1.530200</td>\n",
       "      <td>0.70550</td>\n",
       "      <td>0.515100</td>\n",
       "      <td>100090.239881</td>\n",
       "      <td>0.203700</td>\n",
       "    </tr>\n",
       "    <tr>\n",
       "      <th>std</th>\n",
       "      <td>7.193619e+04</td>\n",
       "      <td>96.653299</td>\n",
       "      <td>10.487806</td>\n",
       "      <td>2.894723</td>\n",
       "      <td>62397.405202</td>\n",
       "      <td>0.581654</td>\n",
       "      <td>0.45584</td>\n",
       "      <td>0.499797</td>\n",
       "      <td>57510.492818</td>\n",
       "      <td>0.402769</td>\n",
       "    </tr>\n",
       "    <tr>\n",
       "      <th>min</th>\n",
       "      <td>1.556570e+07</td>\n",
       "      <td>350.000000</td>\n",
       "      <td>18.000000</td>\n",
       "      <td>0.000000</td>\n",
       "      <td>0.000000</td>\n",
       "      <td>1.000000</td>\n",
       "      <td>0.00000</td>\n",
       "      <td>0.000000</td>\n",
       "      <td>11.580000</td>\n",
       "      <td>0.000000</td>\n",
       "    </tr>\n",
       "    <tr>\n",
       "      <th>25%</th>\n",
       "      <td>1.562853e+07</td>\n",
       "      <td>584.000000</td>\n",
       "      <td>32.000000</td>\n",
       "      <td>2.000000</td>\n",
       "      <td>0.000000</td>\n",
       "      <td>1.000000</td>\n",
       "      <td>0.00000</td>\n",
       "      <td>0.000000</td>\n",
       "      <td>51002.110000</td>\n",
       "      <td>0.000000</td>\n",
       "    </tr>\n",
       "    <tr>\n",
       "      <th>50%</th>\n",
       "      <td>1.569074e+07</td>\n",
       "      <td>652.000000</td>\n",
       "      <td>37.000000</td>\n",
       "      <td>5.000000</td>\n",
       "      <td>97198.540000</td>\n",
       "      <td>1.000000</td>\n",
       "      <td>1.00000</td>\n",
       "      <td>1.000000</td>\n",
       "      <td>100193.915000</td>\n",
       "      <td>0.000000</td>\n",
       "    </tr>\n",
       "    <tr>\n",
       "      <th>75%</th>\n",
       "      <td>1.575323e+07</td>\n",
       "      <td>718.000000</td>\n",
       "      <td>44.000000</td>\n",
       "      <td>7.000000</td>\n",
       "      <td>127644.240000</td>\n",
       "      <td>2.000000</td>\n",
       "      <td>1.00000</td>\n",
       "      <td>1.000000</td>\n",
       "      <td>149388.247500</td>\n",
       "      <td>0.000000</td>\n",
       "    </tr>\n",
       "    <tr>\n",
       "      <th>max</th>\n",
       "      <td>1.581569e+07</td>\n",
       "      <td>850.000000</td>\n",
       "      <td>92.000000</td>\n",
       "      <td>10.000000</td>\n",
       "      <td>250898.090000</td>\n",
       "      <td>4.000000</td>\n",
       "      <td>1.00000</td>\n",
       "      <td>1.000000</td>\n",
       "      <td>199992.480000</td>\n",
       "      <td>1.000000</td>\n",
       "    </tr>\n",
       "  </tbody>\n",
       "</table>\n",
       "</div>"
      ],
      "text/plain": [
       "         CustomerId   CreditScore           Age       Tenure        Balance  \\\n",
       "count  1.000000e+04  10000.000000  10000.000000  9091.000000   10000.000000   \n",
       "mean   1.569094e+07    650.528800     38.921800     4.997690   76485.889288   \n",
       "std    7.193619e+04     96.653299     10.487806     2.894723   62397.405202   \n",
       "min    1.556570e+07    350.000000     18.000000     0.000000       0.000000   \n",
       "25%    1.562853e+07    584.000000     32.000000     2.000000       0.000000   \n",
       "50%    1.569074e+07    652.000000     37.000000     5.000000   97198.540000   \n",
       "75%    1.575323e+07    718.000000     44.000000     7.000000  127644.240000   \n",
       "max    1.581569e+07    850.000000     92.000000    10.000000  250898.090000   \n",
       "\n",
       "       NumOfProducts    HasCrCard  IsActiveMember  EstimatedSalary  \\\n",
       "count   10000.000000  10000.00000    10000.000000     10000.000000   \n",
       "mean        1.530200      0.70550        0.515100    100090.239881   \n",
       "std         0.581654      0.45584        0.499797     57510.492818   \n",
       "min         1.000000      0.00000        0.000000        11.580000   \n",
       "25%         1.000000      0.00000        0.000000     51002.110000   \n",
       "50%         1.000000      1.00000        1.000000    100193.915000   \n",
       "75%         2.000000      1.00000        1.000000    149388.247500   \n",
       "max         4.000000      1.00000        1.000000    199992.480000   \n",
       "\n",
       "             Exited  \n",
       "count  10000.000000  \n",
       "mean       0.203700  \n",
       "std        0.402769  \n",
       "min        0.000000  \n",
       "25%        0.000000  \n",
       "50%        0.000000  \n",
       "75%        0.000000  \n",
       "max        1.000000  "
      ]
     },
     "execution_count": 5,
     "metadata": {},
     "output_type": "execute_result"
    }
   ],
   "source": [
    "df.describe() # некоторая статистика по нашим данным"
   ]
  },
  {
   "cell_type": "markdown",
   "metadata": {},
   "source": [
    "Первые выводы по полученным данным:\n",
    "* В столбце `Tenure` есть пропуски;\n",
    "* Названия столбцов необходимо привести к змеиному стилю;\n",
    "* Некоторые столбцы выглядят излишними для обучения модели, например фамилия `Surname` у нас есть уникальный идентификатор, проверим что они действительно уникальны.\n",
    "* В количественных столбцах выбросов не наблюдается, возраст и \"стаж клиента\" выглядят разумными, отрицательных зар. плат и балансов так же нет.\n",
    "\n",
    "Начнем с переименовывания столбцов"
   ]
  },
  {
   "cell_type": "code",
   "execution_count": 6,
   "metadata": {},
   "outputs": [
    {
     "data": {
      "text/plain": [
       "['CustomerId',\n",
       " 'Surname',\n",
       " 'CreditScore',\n",
       " 'Geography',\n",
       " 'Gender',\n",
       " 'Age',\n",
       " 'Tenure',\n",
       " 'Balance',\n",
       " 'NumOfProducts',\n",
       " 'HasCrCard',\n",
       " 'IsActiveMember',\n",
       " 'EstimatedSalary',\n",
       " 'Exited']"
      ]
     },
     "execution_count": 6,
     "metadata": {},
     "output_type": "execute_result"
    }
   ],
   "source": [
    "df.columns.to_list() # список с названиями столбцов"
   ]
  },
  {
   "cell_type": "code",
   "execution_count": 7,
   "metadata": {},
   "outputs": [
    {
     "name": "stdout",
     "output_type": "stream",
     "text": [
      "<class 'pandas.core.frame.DataFrame'>\n",
      "Int64Index: 10000 entries, 1 to 10000\n",
      "Data columns (total 13 columns):\n",
      " #   Column            Non-Null Count  Dtype  \n",
      "---  ------            --------------  -----  \n",
      " 0   customer_id       10000 non-null  int64  \n",
      " 1   surname           10000 non-null  object \n",
      " 2   credit_score      10000 non-null  int64  \n",
      " 3   geography         10000 non-null  object \n",
      " 4   gender            10000 non-null  object \n",
      " 5   age               10000 non-null  int64  \n",
      " 6   tenure            9091 non-null   float64\n",
      " 7   balance           10000 non-null  float64\n",
      " 8   num_of_products   10000 non-null  int64  \n",
      " 9   has_credit_card   10000 non-null  int64  \n",
      " 10  is_active_member  10000 non-null  int64  \n",
      " 11  estimated_salary  10000 non-null  float64\n",
      " 12  exited            10000 non-null  int64  \n",
      "dtypes: float64(3), int64(7), object(3)\n",
      "memory usage: 1.1+ MB\n"
     ]
    }
   ],
   "source": [
    "# новые названия\n",
    "cols_name = ['customer_id',\n",
    " 'surname',\n",
    " 'credit_score',\n",
    " 'geography',\n",
    " 'gender',\n",
    " 'age',\n",
    " 'tenure',\n",
    " 'balance',\n",
    " 'num_of_products',\n",
    " 'has_credit_card',\n",
    " 'is_active_member',\n",
    " 'estimated_salary',\n",
    " 'exited']\n",
    "df = df.set_axis(cols_name, axis='columns') # меняем названия\n",
    "df.info() # смотрим общую информацию о таблице"
   ]
  },
  {
   "cell_type": "markdown",
   "metadata": {},
   "source": [
    "Наpвания столбцов поправили. Gерейдем к пропускам в столбце `tenure`. Посмотрим на количество таких пропусков и на возраст людей с пропуском в данном столбце. \n",
    "\n",
    "Заменять пропуски будем на среднее значение для данного столбца 5 лет, но если возраст клиента меньше чем 18+5=23. то будем пропуски менять на величину получаемую как возраст клиента - 18 лет."
   ]
  },
  {
   "cell_type": "code",
   "execution_count": 8,
   "metadata": {},
   "outputs": [
    {
     "data": {
      "text/plain": [
       "909"
      ]
     },
     "execution_count": 8,
     "metadata": {},
     "output_type": "execute_result"
    }
   ],
   "source": [
    "df['tenure'].isna().sum() # количество пропусков всего"
   ]
  },
  {
   "cell_type": "code",
   "execution_count": 9,
   "metadata": {},
   "outputs": [
    {
     "data": {
      "text/plain": [
       "894"
      ]
     },
     "execution_count": 9,
     "metadata": {},
     "output_type": "execute_result"
    }
   ],
   "source": [
    "df.loc[df['age'] >= 23, 'tenure'].isna().sum() # пропуски у людей старше 22"
   ]
  },
  {
   "cell_type": "code",
   "execution_count": 10,
   "metadata": {},
   "outputs": [
    {
     "data": {
      "text/plain": [
       "15"
      ]
     },
     "execution_count": 10,
     "metadata": {},
     "output_type": "execute_result"
    }
   ],
   "source": [
    "df[df['age'] < 23]['tenure'].isna().sum() # пропуски у людей младше 23"
   ]
  },
  {
   "cell_type": "markdown",
   "metadata": {},
   "source": [
    "Всего пропусков 909, из них 894 людей с возрастом больше ибо равно 23 и соответственно 15 людей моложе 23 лет которым мы вместо среднего значения в пропуски столбца `tenure` присвоим значение возраст - 18"
   ]
  },
  {
   "cell_type": "code",
   "execution_count": 11,
   "metadata": {},
   "outputs": [],
   "source": [
    "mean_tenure = df[df['age'] > 23]['tenure'].mean() # считаем среднее для людей старше 22\n",
    "df.loc[df['age'] >= 23, 'tenure'] = mean_tenure #заменяем пропуски на среднее"
   ]
  },
  {
   "cell_type": "code",
   "execution_count": 12,
   "metadata": {},
   "outputs": [
    {
     "data": {
      "text/plain": [
       "0"
      ]
     },
     "execution_count": 12,
     "metadata": {},
     "output_type": "execute_result"
    }
   ],
   "source": [
    "df.loc[df['age'] >= 23, 'tenure'].isna().sum() # пропуски у людей старше 22"
   ]
  },
  {
   "cell_type": "markdown",
   "metadata": {},
   "source": [
    "Теперь заменим пропуски у людей моложе 23 лет"
   ]
  },
  {
   "cell_type": "code",
   "execution_count": 13,
   "metadata": {},
   "outputs": [
    {
     "data": {
      "text/plain": [
       "0"
      ]
     },
     "execution_count": 13,
     "metadata": {},
     "output_type": "execute_result"
    }
   ],
   "source": [
    "df.loc[df['age'] < 23, 'tenure'] = df.loc[df['age'] < 23, 'age'] - 18 # замена пропусков\n",
    "df[df['age'] < 23]['tenure'].isna().sum() # пропуски у людей младше 23"
   ]
  },
  {
   "cell_type": "code",
   "execution_count": 14,
   "metadata": {},
   "outputs": [
    {
     "name": "stdout",
     "output_type": "stream",
     "text": [
      "<class 'pandas.core.frame.DataFrame'>\n",
      "Int64Index: 10000 entries, 1 to 10000\n",
      "Data columns (total 13 columns):\n",
      " #   Column            Non-Null Count  Dtype  \n",
      "---  ------            --------------  -----  \n",
      " 0   customer_id       10000 non-null  int64  \n",
      " 1   surname           10000 non-null  object \n",
      " 2   credit_score      10000 non-null  int64  \n",
      " 3   geography         10000 non-null  object \n",
      " 4   gender            10000 non-null  object \n",
      " 5   age               10000 non-null  int64  \n",
      " 6   tenure            10000 non-null  float64\n",
      " 7   balance           10000 non-null  float64\n",
      " 8   num_of_products   10000 non-null  int64  \n",
      " 9   has_credit_card   10000 non-null  int64  \n",
      " 10  is_active_member  10000 non-null  int64  \n",
      " 11  estimated_salary  10000 non-null  float64\n",
      " 12  exited            10000 non-null  int64  \n",
      "dtypes: float64(3), int64(7), object(3)\n",
      "memory usage: 1.1+ MB\n"
     ]
    }
   ],
   "source": [
    "df.info() # общая информация"
   ]
  },
  {
   "cell_type": "markdown",
   "metadata": {},
   "source": [
    "Отлично! Теперь в нашем наборе данных нет пропусков. Посмотрим подробнее на некоторые категориальные данные - пол, страна проживания. Столбец с полом проверим на отсутствие пола отличного от male и female.\n",
    "Страну на наличие неявных дубликатов."
   ]
  },
  {
   "cell_type": "code",
   "execution_count": 15,
   "metadata": {},
   "outputs": [
    {
     "data": {
      "text/plain": [
       "Male      5457\n",
       "Female    4543\n",
       "Name: gender, dtype: int64"
      ]
     },
     "execution_count": 15,
     "metadata": {},
     "output_type": "execute_result"
    }
   ],
   "source": [
    "df['gender'].value_counts() # уникальные значения столбца с полом"
   ]
  },
  {
   "cell_type": "markdown",
   "metadata": {},
   "source": [
    "С полом все хорошо"
   ]
  },
  {
   "cell_type": "code",
   "execution_count": 16,
   "metadata": {},
   "outputs": [
    {
     "data": {
      "text/plain": [
       "array(['France', 'Spain', 'Germany'], dtype=object)"
      ]
     },
     "execution_count": 16,
     "metadata": {},
     "output_type": "execute_result"
    }
   ],
   "source": [
    "df['geography'].unique() # уникальные значения столбца со страной"
   ]
  },
  {
   "cell_type": "markdown",
   "metadata": {},
   "source": [
    "Со страной так же все в порядке.\n",
    "\n",
    "Проверим также, что все идентификаторы уникальные."
   ]
  },
  {
   "cell_type": "code",
   "execution_count": 17,
   "metadata": {},
   "outputs": [
    {
     "data": {
      "text/plain": [
       "10000"
      ]
     },
     "execution_count": 17,
     "metadata": {},
     "output_type": "execute_result"
    }
   ],
   "source": [
    "df['customer_id'].nunique()"
   ]
  },
  {
   "cell_type": "markdown",
   "metadata": {},
   "source": [
    "Теперь выделим необходимые данные для обучения.\n",
    "\n",
    "Столбцы с идентификатором клиента и его фамилией для обучения нам не нужны."
   ]
  },
  {
   "cell_type": "code",
   "execution_count": 18,
   "metadata": {},
   "outputs": [
    {
     "name": "stdout",
     "output_type": "stream",
     "text": [
      "<class 'pandas.core.frame.DataFrame'>\n",
      "Int64Index: 10000 entries, 1 to 10000\n",
      "Data columns (total 11 columns):\n",
      " #   Column            Non-Null Count  Dtype  \n",
      "---  ------            --------------  -----  \n",
      " 0   credit_score      10000 non-null  int64  \n",
      " 1   geography         10000 non-null  object \n",
      " 2   gender            10000 non-null  object \n",
      " 3   age               10000 non-null  int64  \n",
      " 4   tenure            10000 non-null  float64\n",
      " 5   balance           10000 non-null  float64\n",
      " 6   num_of_products   10000 non-null  int64  \n",
      " 7   has_credit_card   10000 non-null  int64  \n",
      " 8   is_active_member  10000 non-null  int64  \n",
      " 9   estimated_salary  10000 non-null  float64\n",
      " 10  exited            10000 non-null  int64  \n",
      "dtypes: float64(3), int64(6), object(2)\n",
      "memory usage: 937.5+ KB\n"
     ]
    }
   ],
   "source": [
    "df_for_learn = df.drop(['customer_id','surname'], axis=1) # удалим ненужные столбцы\n",
    "df_for_learn.info()"
   ]
  },
  {
   "cell_type": "markdown",
   "metadata": {},
   "source": [
    "Разделим наши данные на признаки и и целевой признак."
   ]
  },
  {
   "cell_type": "code",
   "execution_count": 19,
   "metadata": {},
   "outputs": [],
   "source": [
    "# разделим данные на признаки и целевой признак\n",
    "features = df_for_learn.drop('exited', axis=1)\n",
    "target = df_for_learn['exited']"
   ]
  },
  {
   "cell_type": "markdown",
   "metadata": {},
   "source": [
    "Следующий этап предобработки данных перед обучением модели :\n",
    "- кодирование категориальных признаков - пол и страна проживания;\n",
    "- масштабирование количественных признаков - возраст, \"стаж клиента\", количество банковских продуктов, баланс, зар. плата.\n",
    "\n",
    "Столбцы с данными о наличии кредитной карты и активности пользователя не количественные, а категориальные, их не трогаем.\n",
    "\n",
    "Начнем с кодирования категориальных данных, использую метод One-Hot-Encoding, что бы не попасть в дамми-ловушку первый получаемый столбец удалим"
   ]
  },
  {
   "cell_type": "code",
   "execution_count": 20,
   "metadata": {},
   "outputs": [],
   "source": [
    "features = pd.get_dummies(features, drop_first=True) # кодируем категориальные признаки"
   ]
  },
  {
   "cell_type": "code",
   "execution_count": 21,
   "metadata": {},
   "outputs": [
    {
     "data": {
      "text/html": [
       "<div>\n",
       "<style scoped>\n",
       "    .dataframe tbody tr th:only-of-type {\n",
       "        vertical-align: middle;\n",
       "    }\n",
       "\n",
       "    .dataframe tbody tr th {\n",
       "        vertical-align: top;\n",
       "    }\n",
       "\n",
       "    .dataframe thead th {\n",
       "        text-align: right;\n",
       "    }\n",
       "</style>\n",
       "<table border=\"1\" class=\"dataframe\">\n",
       "  <thead>\n",
       "    <tr style=\"text-align: right;\">\n",
       "      <th></th>\n",
       "      <th>credit_score</th>\n",
       "      <th>age</th>\n",
       "      <th>tenure</th>\n",
       "      <th>balance</th>\n",
       "      <th>num_of_products</th>\n",
       "      <th>has_credit_card</th>\n",
       "      <th>is_active_member</th>\n",
       "      <th>estimated_salary</th>\n",
       "      <th>geography_Germany</th>\n",
       "      <th>geography_Spain</th>\n",
       "      <th>gender_Male</th>\n",
       "    </tr>\n",
       "    <tr>\n",
       "      <th>RowNumber</th>\n",
       "      <th></th>\n",
       "      <th></th>\n",
       "      <th></th>\n",
       "      <th></th>\n",
       "      <th></th>\n",
       "      <th></th>\n",
       "      <th></th>\n",
       "      <th></th>\n",
       "      <th></th>\n",
       "      <th></th>\n",
       "      <th></th>\n",
       "    </tr>\n",
       "  </thead>\n",
       "  <tbody>\n",
       "    <tr>\n",
       "      <th>1</th>\n",
       "      <td>619</td>\n",
       "      <td>42</td>\n",
       "      <td>4.988735</td>\n",
       "      <td>0.00</td>\n",
       "      <td>1</td>\n",
       "      <td>1</td>\n",
       "      <td>1</td>\n",
       "      <td>101348.88</td>\n",
       "      <td>0</td>\n",
       "      <td>0</td>\n",
       "      <td>0</td>\n",
       "    </tr>\n",
       "    <tr>\n",
       "      <th>2</th>\n",
       "      <td>608</td>\n",
       "      <td>41</td>\n",
       "      <td>4.988735</td>\n",
       "      <td>83807.86</td>\n",
       "      <td>1</td>\n",
       "      <td>0</td>\n",
       "      <td>1</td>\n",
       "      <td>112542.58</td>\n",
       "      <td>0</td>\n",
       "      <td>1</td>\n",
       "      <td>0</td>\n",
       "    </tr>\n",
       "    <tr>\n",
       "      <th>3</th>\n",
       "      <td>502</td>\n",
       "      <td>42</td>\n",
       "      <td>4.988735</td>\n",
       "      <td>159660.80</td>\n",
       "      <td>3</td>\n",
       "      <td>1</td>\n",
       "      <td>0</td>\n",
       "      <td>113931.57</td>\n",
       "      <td>0</td>\n",
       "      <td>0</td>\n",
       "      <td>0</td>\n",
       "    </tr>\n",
       "    <tr>\n",
       "      <th>4</th>\n",
       "      <td>699</td>\n",
       "      <td>39</td>\n",
       "      <td>4.988735</td>\n",
       "      <td>0.00</td>\n",
       "      <td>2</td>\n",
       "      <td>0</td>\n",
       "      <td>0</td>\n",
       "      <td>93826.63</td>\n",
       "      <td>0</td>\n",
       "      <td>0</td>\n",
       "      <td>0</td>\n",
       "    </tr>\n",
       "    <tr>\n",
       "      <th>5</th>\n",
       "      <td>850</td>\n",
       "      <td>43</td>\n",
       "      <td>4.988735</td>\n",
       "      <td>125510.82</td>\n",
       "      <td>1</td>\n",
       "      <td>1</td>\n",
       "      <td>1</td>\n",
       "      <td>79084.10</td>\n",
       "      <td>0</td>\n",
       "      <td>1</td>\n",
       "      <td>0</td>\n",
       "    </tr>\n",
       "    <tr>\n",
       "      <th>6</th>\n",
       "      <td>645</td>\n",
       "      <td>44</td>\n",
       "      <td>4.988735</td>\n",
       "      <td>113755.78</td>\n",
       "      <td>2</td>\n",
       "      <td>1</td>\n",
       "      <td>0</td>\n",
       "      <td>149756.71</td>\n",
       "      <td>0</td>\n",
       "      <td>1</td>\n",
       "      <td>1</td>\n",
       "    </tr>\n",
       "    <tr>\n",
       "      <th>7</th>\n",
       "      <td>822</td>\n",
       "      <td>50</td>\n",
       "      <td>4.988735</td>\n",
       "      <td>0.00</td>\n",
       "      <td>2</td>\n",
       "      <td>1</td>\n",
       "      <td>1</td>\n",
       "      <td>10062.80</td>\n",
       "      <td>0</td>\n",
       "      <td>0</td>\n",
       "      <td>1</td>\n",
       "    </tr>\n",
       "    <tr>\n",
       "      <th>8</th>\n",
       "      <td>376</td>\n",
       "      <td>29</td>\n",
       "      <td>4.988735</td>\n",
       "      <td>115046.74</td>\n",
       "      <td>4</td>\n",
       "      <td>1</td>\n",
       "      <td>0</td>\n",
       "      <td>119346.88</td>\n",
       "      <td>1</td>\n",
       "      <td>0</td>\n",
       "      <td>0</td>\n",
       "    </tr>\n",
       "    <tr>\n",
       "      <th>9</th>\n",
       "      <td>501</td>\n",
       "      <td>44</td>\n",
       "      <td>4.988735</td>\n",
       "      <td>142051.07</td>\n",
       "      <td>2</td>\n",
       "      <td>0</td>\n",
       "      <td>1</td>\n",
       "      <td>74940.50</td>\n",
       "      <td>0</td>\n",
       "      <td>0</td>\n",
       "      <td>1</td>\n",
       "    </tr>\n",
       "    <tr>\n",
       "      <th>10</th>\n",
       "      <td>684</td>\n",
       "      <td>27</td>\n",
       "      <td>4.988735</td>\n",
       "      <td>134603.88</td>\n",
       "      <td>1</td>\n",
       "      <td>1</td>\n",
       "      <td>1</td>\n",
       "      <td>71725.73</td>\n",
       "      <td>0</td>\n",
       "      <td>0</td>\n",
       "      <td>1</td>\n",
       "    </tr>\n",
       "  </tbody>\n",
       "</table>\n",
       "</div>"
      ],
      "text/plain": [
       "           credit_score  age    tenure    balance  num_of_products  \\\n",
       "RowNumber                                                            \n",
       "1                   619   42  4.988735       0.00                1   \n",
       "2                   608   41  4.988735   83807.86                1   \n",
       "3                   502   42  4.988735  159660.80                3   \n",
       "4                   699   39  4.988735       0.00                2   \n",
       "5                   850   43  4.988735  125510.82                1   \n",
       "6                   645   44  4.988735  113755.78                2   \n",
       "7                   822   50  4.988735       0.00                2   \n",
       "8                   376   29  4.988735  115046.74                4   \n",
       "9                   501   44  4.988735  142051.07                2   \n",
       "10                  684   27  4.988735  134603.88                1   \n",
       "\n",
       "           has_credit_card  is_active_member  estimated_salary  \\\n",
       "RowNumber                                                        \n",
       "1                        1                 1         101348.88   \n",
       "2                        0                 1         112542.58   \n",
       "3                        1                 0         113931.57   \n",
       "4                        0                 0          93826.63   \n",
       "5                        1                 1          79084.10   \n",
       "6                        1                 0         149756.71   \n",
       "7                        1                 1          10062.80   \n",
       "8                        1                 0         119346.88   \n",
       "9                        0                 1          74940.50   \n",
       "10                       1                 1          71725.73   \n",
       "\n",
       "           geography_Germany  geography_Spain  gender_Male  \n",
       "RowNumber                                                   \n",
       "1                          0                0            0  \n",
       "2                          0                1            0  \n",
       "3                          0                0            0  \n",
       "4                          0                0            0  \n",
       "5                          0                1            0  \n",
       "6                          0                1            1  \n",
       "7                          0                0            1  \n",
       "8                          1                0            0  \n",
       "9                          0                0            1  \n",
       "10                         0                0            1  "
      ]
     },
     "execution_count": 21,
     "metadata": {},
     "output_type": "execute_result"
    }
   ],
   "source": [
    "features.head(10)"
   ]
  },
  {
   "cell_type": "markdown",
   "metadata": {},
   "source": [
    "Займемся масштабированием количественных признаков. \n",
    "\n",
    "Для начала разделим выборку на обучающую, валидационну и тестовую выборки в соотношении 3:1:1"
   ]
  },
  {
   "cell_type": "code",
   "execution_count": 22,
   "metadata": {},
   "outputs": [],
   "source": [
    "features_train, features_test, target_train, target_test = train_test_split(features, target, test_size=0.2, random_state=314)\n",
    "features_train, features_valid, target_train, target_valid = train_test_split(features_train, target_train, test_size=0.25, random_state=314)"
   ]
  },
  {
   "cell_type": "code",
   "execution_count": 23,
   "metadata": {},
   "outputs": [
    {
     "name": "stdout",
     "output_type": "stream",
     "text": [
      "(6000, 11) 6000\n",
      "(2000, 11) 2000\n",
      "(2000, 11) 2000\n"
     ]
    }
   ],
   "source": [
    "print(features_train.shape, target_train.shape[0]) # обучающая выборка\n",
    "print(features_valid.shape, target_valid.shape[0]) # валидационная выборка\n",
    "print(features_test.shape, target_test.shape[0]) #  тестовая выборка"
   ]
  },
  {
   "cell_type": "markdown",
   "metadata": {},
   "source": [
    "Теперь займемся масштабированием количественных признаков"
   ]
  },
  {
   "cell_type": "code",
   "execution_count": 24,
   "metadata": {},
   "outputs": [
    {
     "data": {
      "text/plain": [
       "StandardScaler()"
      ]
     },
     "execution_count": 24,
     "metadata": {},
     "output_type": "execute_result"
    }
   ],
   "source": [
    "scaler = StandardScaler()\n",
    "scaler.fit(features_train[['credit_score','age','tenure','balance','num_of_products','estimated_salary']])"
   ]
  },
  {
   "cell_type": "code",
   "execution_count": 25,
   "metadata": {},
   "outputs": [],
   "source": [
    "features_train[['credit_score','age','tenure','balance','num_of_products','estimated_salary']] =\\\n",
    "scaler.transform(features_train[['credit_score','age','tenure','balance','num_of_products','estimated_salary']])"
   ]
  },
  {
   "cell_type": "code",
   "execution_count": 26,
   "metadata": {},
   "outputs": [],
   "source": [
    "features_valid[['credit_score','age','tenure','balance','num_of_products','estimated_salary']] =\\\n",
    "scaler.transform(features_valid[['credit_score','age','tenure','balance','num_of_products','estimated_salary']])"
   ]
  },
  {
   "cell_type": "code",
   "execution_count": 27,
   "metadata": {},
   "outputs": [],
   "source": [
    "features_test[['credit_score','age','tenure','balance','num_of_products','estimated_salary']] =\\\n",
    "scaler.transform(features_test[['credit_score','age','tenure','balance','num_of_products','estimated_salary']])"
   ]
  },
  {
   "cell_type": "code",
   "execution_count": 28,
   "metadata": {},
   "outputs": [
    {
     "data": {
      "text/html": [
       "<div>\n",
       "<style scoped>\n",
       "    .dataframe tbody tr th:only-of-type {\n",
       "        vertical-align: middle;\n",
       "    }\n",
       "\n",
       "    .dataframe tbody tr th {\n",
       "        vertical-align: top;\n",
       "    }\n",
       "\n",
       "    .dataframe thead th {\n",
       "        text-align: right;\n",
       "    }\n",
       "</style>\n",
       "<table border=\"1\" class=\"dataframe\">\n",
       "  <thead>\n",
       "    <tr style=\"text-align: right;\">\n",
       "      <th></th>\n",
       "      <th>credit_score</th>\n",
       "      <th>age</th>\n",
       "      <th>tenure</th>\n",
       "      <th>balance</th>\n",
       "      <th>num_of_products</th>\n",
       "      <th>has_credit_card</th>\n",
       "      <th>is_active_member</th>\n",
       "      <th>estimated_salary</th>\n",
       "      <th>geography_Germany</th>\n",
       "      <th>geography_Spain</th>\n",
       "      <th>gender_Male</th>\n",
       "    </tr>\n",
       "    <tr>\n",
       "      <th>RowNumber</th>\n",
       "      <th></th>\n",
       "      <th></th>\n",
       "      <th></th>\n",
       "      <th></th>\n",
       "      <th></th>\n",
       "      <th></th>\n",
       "      <th></th>\n",
       "      <th></th>\n",
       "      <th></th>\n",
       "      <th></th>\n",
       "      <th></th>\n",
       "    </tr>\n",
       "  </thead>\n",
       "  <tbody>\n",
       "    <tr>\n",
       "      <th>3985</th>\n",
       "      <td>1.904722</td>\n",
       "      <td>-0.082605</td>\n",
       "      <td>0.129643</td>\n",
       "      <td>-1.219919</td>\n",
       "      <td>0.813700</td>\n",
       "      <td>1</td>\n",
       "      <td>1</td>\n",
       "      <td>-0.593759</td>\n",
       "      <td>0</td>\n",
       "      <td>1</td>\n",
       "      <td>1</td>\n",
       "    </tr>\n",
       "    <tr>\n",
       "      <th>1770</th>\n",
       "      <td>-0.440927</td>\n",
       "      <td>0.012289</td>\n",
       "      <td>0.129643</td>\n",
       "      <td>0.137704</td>\n",
       "      <td>0.813700</td>\n",
       "      <td>1</td>\n",
       "      <td>1</td>\n",
       "      <td>0.376132</td>\n",
       "      <td>1</td>\n",
       "      <td>0</td>\n",
       "      <td>1</td>\n",
       "    </tr>\n",
       "    <tr>\n",
       "      <th>515</th>\n",
       "      <td>-0.461593</td>\n",
       "      <td>1.151011</td>\n",
       "      <td>0.129643</td>\n",
       "      <td>0.968976</td>\n",
       "      <td>-0.914512</td>\n",
       "      <td>1</td>\n",
       "      <td>1</td>\n",
       "      <td>-0.582823</td>\n",
       "      <td>0</td>\n",
       "      <td>0</td>\n",
       "      <td>0</td>\n",
       "    </tr>\n",
       "    <tr>\n",
       "      <th>4224</th>\n",
       "      <td>0.788730</td>\n",
       "      <td>1.151011</td>\n",
       "      <td>0.129643</td>\n",
       "      <td>0.507793</td>\n",
       "      <td>0.813700</td>\n",
       "      <td>1</td>\n",
       "      <td>0</td>\n",
       "      <td>0.708274</td>\n",
       "      <td>1</td>\n",
       "      <td>0</td>\n",
       "      <td>0</td>\n",
       "    </tr>\n",
       "    <tr>\n",
       "      <th>2805</th>\n",
       "      <td>-0.017263</td>\n",
       "      <td>0.486756</td>\n",
       "      <td>0.129643</td>\n",
       "      <td>-1.219919</td>\n",
       "      <td>0.813700</td>\n",
       "      <td>1</td>\n",
       "      <td>1</td>\n",
       "      <td>-0.730743</td>\n",
       "      <td>0</td>\n",
       "      <td>0</td>\n",
       "      <td>0</td>\n",
       "    </tr>\n",
       "  </tbody>\n",
       "</table>\n",
       "</div>"
      ],
      "text/plain": [
       "           credit_score       age    tenure   balance  num_of_products  \\\n",
       "RowNumber                                                                \n",
       "3985           1.904722 -0.082605  0.129643 -1.219919         0.813700   \n",
       "1770          -0.440927  0.012289  0.129643  0.137704         0.813700   \n",
       "515           -0.461593  1.151011  0.129643  0.968976        -0.914512   \n",
       "4224           0.788730  1.151011  0.129643  0.507793         0.813700   \n",
       "2805          -0.017263  0.486756  0.129643 -1.219919         0.813700   \n",
       "\n",
       "           has_credit_card  is_active_member  estimated_salary  \\\n",
       "RowNumber                                                        \n",
       "3985                     1                 1         -0.593759   \n",
       "1770                     1                 1          0.376132   \n",
       "515                      1                 1         -0.582823   \n",
       "4224                     1                 0          0.708274   \n",
       "2805                     1                 1         -0.730743   \n",
       "\n",
       "           geography_Germany  geography_Spain  gender_Male  \n",
       "RowNumber                                                   \n",
       "3985                       0                1            1  \n",
       "1770                       1                0            1  \n",
       "515                        0                0            0  \n",
       "4224                       1                0            0  \n",
       "2805                       0                0            0  "
      ]
     },
     "execution_count": 28,
     "metadata": {},
     "output_type": "execute_result"
    }
   ],
   "source": [
    "features_test.head(5)"
   ]
  },
  {
   "cell_type": "markdown",
   "metadata": {},
   "source": [
    "Данные подготовлены, можно приступать к обучению модели"
   ]
  },
  {
   "cell_type": "markdown",
   "metadata": {},
   "source": [
    "## Исследование задачи"
   ]
  },
  {
   "cell_type": "markdown",
   "metadata": {},
   "source": [
    "Перед обучением моделей, посмотрим на баланс встречаемых целевых признаков в исходных данных и данных для обучения"
   ]
  },
  {
   "cell_type": "code",
   "execution_count": 29,
   "metadata": {},
   "outputs": [
    {
     "data": {
      "text/plain": [
       "0    79.63\n",
       "1    20.37\n",
       "Name: exited, dtype: float64"
      ]
     },
     "execution_count": 29,
     "metadata": {},
     "output_type": "execute_result"
    }
   ],
   "source": [
    "target.value_counts() / target.shape[0] * 100"
   ]
  },
  {
   "cell_type": "code",
   "execution_count": 30,
   "metadata": {},
   "outputs": [
    {
     "data": {
      "text/plain": [
       "0    79.4\n",
       "1    20.6\n",
       "Name: exited, dtype: float64"
      ]
     },
     "execution_count": 30,
     "metadata": {},
     "output_type": "execute_result"
    }
   ],
   "source": [
    "target_train.value_counts() / target_train.shape[0] * 100"
   ]
  },
  {
   "cell_type": "markdown",
   "metadata": {},
   "source": [
    "В наших данных присутствует дисбаланс, людей которые ушли из банка (целевой признак 1) примерно 20 процентов. \n",
    "\n",
    "Пока будем обучать модели без учета дисбаланса. Посмотрми какие результатаы метрик F1 и AUC ROC будут давать модели на валидационной выборке"
   ]
  },
  {
   "cell_type": "markdown",
   "metadata": {},
   "source": [
    "Начнем с модели случайного дерева решений"
   ]
  },
  {
   "cell_type": "markdown",
   "metadata": {},
   "source": [
    "### Случайное дерево"
   ]
  },
  {
   "cell_type": "code",
   "execution_count": 31,
   "metadata": {},
   "outputs": [
    {
     "name": "stdout",
     "output_type": "stream",
     "text": [
      "Глубина дерева 2 F1-мера 0.5138 AUC_ROC 0.7403\n",
      "Глубина дерева 3 F1-мера 0.5437 AUC_ROC 0.8051\n",
      "Глубина дерева 4 F1-мера 0.521 AUC_ROC 0.8274\n",
      "Глубина дерева 5 F1-мера 0.5377 AUC_ROC 0.8341\n",
      "Глубина дерева 6 F1-мера 0.5298 AUC_ROC 0.8378\n",
      "Глубина дерева 7 F1-мера 0.5515 AUC_ROC 0.8345\n",
      "Глубина дерева 8 F1-мера 0.54 AUC_ROC 0.823\n",
      "Глубина дерева 9 F1-мера 0.585 AUC_ROC 0.8064\n",
      "Глубина дерева 10 F1-мера 0.561 AUC_ROC 0.7845\n",
      "Глубина дерева 11 F1-мера 0.5426 AUC_ROC 0.7624\n",
      "Глубина дерева 12 F1-мера 0.5413 AUC_ROC 0.7409\n",
      "Глубина дерева 13 F1-мера 0.5282 AUC_ROC 0.7134\n",
      "Глубина дерева 14 F1-мера 0.5321 AUC_ROC 0.7253\n",
      "Глубина дерева 15 F1-мера 0.5368 AUC_ROC 0.7159\n",
      "Wall time: 369 ms\n"
     ]
    }
   ],
   "source": [
    "%%time\n",
    "for depth in range(2, 16):\n",
    "    model_tree = DecisionTreeClassifier(random_state=314, max_depth=depth) # создаем модель с заданной глубиной\n",
    "    model_tree.fit(features_train,target_train) # обучаем модель\n",
    "    predictions = model_tree.predict(features_valid) # получаем предсказание модели\n",
    "    predictions_one_valid = model_tree.predict_proba(features_valid) # получаем вероятность отнесения к классу\n",
    "    result_f1 = f1_score(target_valid,predictions) # считаем F1 меру\n",
    "    result_auc_roc = roc_auc_score(target_valid,predictions_one_valid[:,1]) # считаем AUC ROC меру\n",
    "    # выведем результаты для каждого варианта модели\n",
    "    print('Глубина дерева',depth,'F1-мера', round(result_f1,4), 'AUC_ROC', round(result_auc_roc,4)) "
   ]
  },
  {
   "cell_type": "markdown",
   "metadata": {},
   "source": [
    "Лучшее значение меры F1 у дерева с глубиной 9 равное 0.585, при этом значения метрики AUC ROC 0.8064\n",
    "\n",
    "Запомним лучшее дерево решений"
   ]
  },
  {
   "cell_type": "code",
   "execution_count": 32,
   "metadata": {},
   "outputs": [
    {
     "data": {
      "text/plain": [
       "DecisionTreeClassifier(max_depth=9, random_state=314)"
      ]
     },
     "execution_count": 32,
     "metadata": {},
     "output_type": "execute_result"
    }
   ],
   "source": [
    "model_tree = DecisionTreeClassifier(random_state=314, max_depth=9)\n",
    "model_tree.fit(features_train,target_train) # обучаем модель"
   ]
  },
  {
   "cell_type": "markdown",
   "metadata": {},
   "source": [
    "Перейдем к случайному лесу деревьев"
   ]
  },
  {
   "cell_type": "markdown",
   "metadata": {},
   "source": [
    "### Случайный лес деревьев"
   ]
  },
  {
   "cell_type": "code",
   "execution_count": 33,
   "metadata": {},
   "outputs": [
    {
     "name": "stdout",
     "output_type": "stream",
     "text": [
      "Лучшая модель леса деревьев с количеством деревьев 45 глубиной дерева 14 и F1 0.5975 и AUC ROC 0.8588\n",
      "Wall time: 1min 6s\n"
     ]
    }
   ],
   "source": [
    "%%time\n",
    "best_result_f1 = 0\n",
    "best_result_auc_roc = 0\n",
    "best_forest = None\n",
    "best_est = 0 \n",
    "best_depth = 0\n",
    "for est in np.arange(10, 100, 5):\n",
    "    for depth in range (2, 16):\n",
    "        # создаем модель с заданными гиперпараметрами\n",
    "        model_forest = RandomForestClassifier(random_state=314, max_depth=depth, n_estimators=est)\n",
    "        model_forest.fit(features_train,target_train) # обучаем модель\n",
    "        predictions = model_forest.predict(features_valid) # получаем предсказание модели\n",
    "        predictions_one_valid = model_forest.predict_proba(features_valid) # получаем вероятность отнесения к классу\n",
    "        result_f1 = f1_score(target_valid,predictions) # считаем F1 меру\n",
    "        result_auc_roc = roc_auc_score(target_valid,predictions_one_valid[:,1]) # считаем AUC ROC меру\n",
    "        # найдем лучшую\n",
    "        if result_f1 > best_result_f1:\n",
    "            best_result_f1 = result_f1\n",
    "            best_result_auc_roc = result_auc_roc\n",
    "            best_forest = model_forest\n",
    "            best_est = est\n",
    "            best_depth = depth\n",
    "print('Лучшая модель леса деревьев с количеством деревьев', best_est,'глубиной дерева',\\\n",
    "      best_depth,'и F1',round(best_result_f1,4),'и AUC ROC',round(best_result_auc_roc,4)) "
   ]
  },
  {
   "cell_type": "markdown",
   "metadata": {},
   "source": [
    "У случайного леса деревьев F1 немного повыше чем у одного дерева 0.5975, и метрика AUC ROC выше 0.8588.\n",
    "\n",
    "Посмотрим как себя покажет логистическая регрессия"
   ]
  },
  {
   "cell_type": "markdown",
   "metadata": {},
   "source": [
    "### Логистическая регрессия"
   ]
  },
  {
   "cell_type": "code",
   "execution_count": 34,
   "metadata": {},
   "outputs": [
    {
     "name": "stdout",
     "output_type": "stream",
     "text": [
      "F1 логистической регрессии 0.3071 , AUC ROC логистической регрессии 0.7698\n"
     ]
    }
   ],
   "source": [
    "model_logic = LogisticRegression(random_state=314) # создаем модель типа логическая регрессия\n",
    "model_logic.fit(features_train,target_train) # обучаем модель на тренировочном наборе данных\n",
    "predictions = model_logic.predict(features_valid) # получаем предсказание модели\n",
    "predictions_one_valid = model_logic.predict_proba(features_valid)  # получаем вероятность отнесения к классу\n",
    "result_f1 = f1_score(target_valid,predictions) # считаем F1 меру\n",
    "result_auc_roc = roc_auc_score(target_valid,predictions_one_valid[:,1]) # считаем AUC ROC меру\n",
    "print('F1 логистической регрессии', round(result_f1,4), ', AUC ROC логистической регрессии', round(result_auc_roc,4))"
   ]
  },
  {
   "cell_type": "markdown",
   "metadata": {},
   "source": [
    "У логистической регрессии F1 самый низкий 0.3071, и AUC ROC самый низкий 0.7698"
   ]
  },
  {
   "cell_type": "code",
   "execution_count": 35,
   "metadata": {},
   "outputs": [
    {
     "data": {
      "image/png": "[encoded data removed]",
      "text/plain": [
       "<Figure size 432x288 with 1 Axes>"
      ]
     },
     "metadata": {
      "needs_background": "light"
     },
     "output_type": "display_data"
    }
   ],
   "source": [
    "predictions_one_valid = model_tree.predict_proba(features_valid)\n",
    "fpr_tree, tpr_tree, thresholds_tree = roc_curve(target_valid,predictions_one_valid[:,1])\n",
    "predictions_one_valid = best_forest.predict_proba(features_valid)\n",
    "fpr_forest, tpr_forest, thresholds_forest = roc_curve(target_valid,predictions_one_valid[:,1])\n",
    "predictions_one_valid = model_logic.predict_proba(features_valid) \n",
    "fpr_logic, tpr_logic, thresholds_logic = roc_curve(target_valid,predictions_one_valid[:,1])\n",
    "plt.plot(fpr_tree, tpr_tree, label='tree')\n",
    "plt.plot(fpr_forest, tpr_forest, label='forest')\n",
    "plt.plot(fpr_logic, tpr_logic, label='logistic reg')\n",
    "plt.title('AUC ROC')\n",
    "plt.ylabel('True Positive Rate')\n",
    "plt.xlabel('False Positive Rate')\n",
    "plt.legend(loc='lower right')\n",
    "plt.show()"
   ]
  },
  {
   "cell_type": "markdown",
   "metadata": {},
   "source": [
    "По метрике F1 лучшая модель - случайный лес деревьев с результатом 0.5975. Попробуем некоторые методы борьбы с дисблансом."
   ]
  },
  {
   "cell_type": "markdown",
   "metadata": {},
   "source": [
    "## Борьба с дисбалансом"
   ]
  },
  {
   "cell_type": "markdown",
   "metadata": {},
   "source": [
    "Для борьбы с дисбалансом будем использовать следующие методы:\n",
    " - взвешивание классов;\n",
    " - увеличение выборки со значением класса 1;\n",
    " - уменьшение выборки со значением класса 0;\n",
    " - изменение порога для логистической регрессии.\n",
    " \n",
    "Начнем со взвешивания классов"
   ]
  },
  {
   "cell_type": "markdown",
   "metadata": {},
   "source": [
    "### Взвешивание классов"
   ]
  },
  {
   "cell_type": "code",
   "execution_count": 36,
   "metadata": {},
   "outputs": [
    {
     "name": "stdout",
     "output_type": "stream",
     "text": [
      "Глубина дерева 2 F1-мера 0.5234 AUC_ROC 0.7539\n",
      "Глубина дерева 3 F1-мера 0.5439 AUC_ROC 0.8084\n",
      "Глубина дерева 4 F1-мера 0.5372 AUC_ROC 0.82\n",
      "Глубина дерева 5 F1-мера 0.5471 AUC_ROC 0.8363\n",
      "Глубина дерева 6 F1-мера 0.5908 AUC_ROC 0.8436\n",
      "Глубина дерева 7 F1-мера 0.5696 AUC_ROC 0.8428\n",
      "Глубина дерева 8 F1-мера 0.5694 AUC_ROC 0.8064\n",
      "Глубина дерева 9 F1-мера 0.554 AUC_ROC 0.7751\n",
      "Глубина дерева 10 F1-мера 0.5385 AUC_ROC 0.7524\n",
      "Глубина дерева 11 F1-мера 0.5026 AUC_ROC 0.7257\n",
      "Глубина дерева 12 F1-мера 0.5028 AUC_ROC 0.7083\n",
      "Глубина дерева 13 F1-мера 0.5028 AUC_ROC 0.7058\n",
      "Глубина дерева 14 F1-мера 0.4988 AUC_ROC 0.6992\n",
      "Глубина дерева 15 F1-мера 0.481 AUC_ROC 0.686\n",
      "Wall time: 333 ms\n"
     ]
    }
   ],
   "source": [
    "%%time\n",
    "for depth in range(2, 16):\n",
    "    model_tree = DecisionTreeClassifier(random_state=314, max_depth=depth, class_weight='balanced') # создаем модель с заданной глубиной\n",
    "    model_tree.fit(features_train,target_train) # обучаем модель\n",
    "    predictions = model_tree.predict(features_valid) # получаем предсказание модели\n",
    "    predictions_one_valid = model_tree.predict_proba(features_valid) # получаем вероятность отнесения к классу\n",
    "    result_f1 = f1_score(target_valid,predictions) # считаем F1 меру\n",
    "    result_auc_roc = roc_auc_score(target_valid,predictions_one_valid[:,1]) # считаем AUC ROC меру\n",
    "    # выведем результаты для каждого варианта модели\n",
    "    print('Глубина дерева',depth,'F1-мера', round(result_f1,4), 'AUC_ROC', round(result_auc_roc,4)) "
   ]
  },
  {
   "cell_type": "markdown",
   "metadata": {},
   "source": [
    "Запомним лучшее дерево: глубина 6, F1 0.5905, AUC ROC 0.8436"
   ]
  },
  {
   "cell_type": "code",
   "execution_count": 37,
   "metadata": {},
   "outputs": [
    {
     "data": {
      "text/plain": [
       "DecisionTreeClassifier(max_depth=6, random_state=314)"
      ]
     },
     "execution_count": 37,
     "metadata": {},
     "output_type": "execute_result"
    }
   ],
   "source": [
    "model_tree = DecisionTreeClassifier(random_state=314, max_depth=6)\n",
    "model_tree.fit(features_train,target_train) # обучаем модель"
   ]
  },
  {
   "cell_type": "code",
   "execution_count": 38,
   "metadata": {},
   "outputs": [
    {
     "name": "stdout",
     "output_type": "stream",
     "text": [
      "Лучшая модель леса деревьев с количеством деревьев 95 глубиной дерева 8 и F1 0.6244 и AUC ROC 0.8684\n",
      "Wall time: 1min 6s\n"
     ]
    }
   ],
   "source": [
    "%%time\n",
    "best_result_f1 = 0\n",
    "best_result_auc_roc = 0\n",
    "best_forest = None\n",
    "best_est = 0 \n",
    "best_depth = 0\n",
    "for est in np.arange(10, 100, 5):\n",
    "    for depth in range (2, 16):\n",
    "        # создаем модель с заданными гиперпараметрами\n",
    "        model_forest = RandomForestClassifier(class_weight='balanced', random_state=314, max_depth=depth, n_estimators=est)\n",
    "        model_forest.fit(features_train,target_train) # обучаем модель\n",
    "        predictions = model_forest.predict(features_valid) # получаем предсказание модели\n",
    "        predictions_one_valid = model_forest.predict_proba(features_valid) # получаем вероятность отнесения к классу\n",
    "        result_f1 = f1_score(target_valid,predictions) # считаем F1 меру\n",
    "        result_auc_roc = roc_auc_score(target_valid,predictions_one_valid[:,1]) # считаем AUC ROC меру\n",
    "        # найдем лучшую\n",
    "        if result_f1 > best_result_f1:\n",
    "            best_result_f1 = result_f1\n",
    "            best_result_auc_roc = result_auc_roc\n",
    "            best_forest = model_forest\n",
    "            best_est = est\n",
    "            best_depth = depth\n",
    "print('Лучшая модель леса деревьев с количеством деревьев', best_est,'глубиной дерева',\\\n",
    "      best_depth,'и F1',round(best_result_f1,4),'и AUC ROC',round(best_result_auc_roc,4)) "
   ]
  },
  {
   "cell_type": "code",
   "execution_count": 39,
   "metadata": {},
   "outputs": [
    {
     "name": "stdout",
     "output_type": "stream",
     "text": [
      "F1 логистической регрессии 0.4895 , AUC ROC логистической регрессии 0.7732\n"
     ]
    }
   ],
   "source": [
    "model_logic = LogisticRegression(random_state=314, class_weight='balanced') # создаем модель типа логическая регрессия\n",
    "model_logic.fit(features_train,target_train) # обучаем модель на тренировочном наборе данных\n",
    "predictions = model_logic.predict(features_valid) # получаем предсказание модели\n",
    "predictions_one_valid = model_logic.predict_proba(features_valid)  # получаем вероятность отнесения к классу\n",
    "result_f1 = f1_score(target_valid,predictions) # считаем F1 меру\n",
    "result_auc_roc = roc_auc_score(target_valid,predictions_one_valid[:,1]) # считаем AUC ROC меру\n",
    "print('F1 логистической регрессии', round(result_f1,4), ', AUC ROC логистической регрессии', round(result_auc_roc,4))"
   ]
  },
  {
   "cell_type": "code",
   "execution_count": 40,
   "metadata": {},
   "outputs": [
    {
     "data": {
      "image/png": "[encoded data removed]",
      "text/plain": [
       "<Figure size 432x288 with 1 Axes>"
      ]
     },
     "metadata": {
      "needs_background": "light"
     },
     "output_type": "display_data"
    }
   ],
   "source": [
    "predictions_one_valid = model_tree.predict_proba(features_valid)\n",
    "fpr_tree, tpr_tree, thresholds_tree = roc_curve(target_valid,predictions_one_valid[:,1])\n",
    "predictions_one_valid = best_forest.predict_proba(features_valid)\n",
    "fpr_forest, tpr_forest, thresholds_forest = roc_curve(target_valid,predictions_one_valid[:,1])\n",
    "predictions_one_valid = model_logic.predict_proba(features_valid) \n",
    "fpr_logic, tpr_logic, thresholds_logic = roc_curve(target_valid,predictions_one_valid[:,1])\n",
    "plt.plot(fpr_tree, tpr_tree, label='tree')\n",
    "plt.plot(fpr_forest, tpr_forest, label='forest')\n",
    "plt.plot(fpr_logic, tpr_logic, label='logistic reg')\n",
    "plt.title('AUC ROC')\n",
    "plt.ylabel('True Positive Rate')\n",
    "plt.xlabel('False Positive Rate')\n",
    "plt.legend(loc='lower right')\n",
    "plt.show()"
   ]
  },
  {
   "cell_type": "markdown",
   "metadata": {},
   "source": [
    "Взвешивание классов позволило увеличить F1 и AUC ROC у всех моделей. Максимальное значение F1 и AUC ROC у леса деревьев 0.6244 и 0.8684 соответственно.\n",
    "\n",
    "Попробуем увеличить выборку со значением класса 1, техника `upsampling`"
   ]
  },
  {
   "cell_type": "markdown",
   "metadata": {},
   "source": [
    "### Метод  upsampling"
   ]
  },
  {
   "cell_type": "code",
   "execution_count": 41,
   "metadata": {},
   "outputs": [],
   "source": [
    "# напишем функцию для увеличения выборки с 1\n",
    "def upsample(features, target, repeat):\n",
    "    features_zeros = features[target == 0]\n",
    "    features_ones = features[target == 1]\n",
    "    target_zeros = target[target == 0]\n",
    "    target_ones = target[target == 1]\n",
    "    features_upsampled = pd.concat([features_zeros] + [features_ones] * repeat)\n",
    "    target_upsampled = pd.concat([target_zeros] + [target_ones] * repeat)\n",
    "    features_upsampled, target_upsampled = shuffle(features_upsampled, target_upsampled, random_state=314)\n",
    "    return features_upsampled, target_upsampled"
   ]
  },
  {
   "cell_type": "markdown",
   "metadata": {},
   "source": [
    "Приведем баланс к значению 1:1."
   ]
  },
  {
   "cell_type": "code",
   "execution_count": 42,
   "metadata": {},
   "outputs": [
    {
     "data": {
      "text/plain": [
       "0    79.4\n",
       "1    20.6\n",
       "Name: exited, dtype: float64"
      ]
     },
     "execution_count": 42,
     "metadata": {},
     "output_type": "execute_result"
    }
   ],
   "source": [
    "target_train.value_counts() / target_train.shape[0] * 100"
   ]
  },
  {
   "cell_type": "markdown",
   "metadata": {},
   "source": [
    "Текущий баланс примерно 4:1"
   ]
  },
  {
   "cell_type": "code",
   "execution_count": 43,
   "metadata": {},
   "outputs": [],
   "source": [
    "features_train_upsampled, target_train_upsampled = upsample(features_train, target_train, 4)"
   ]
  },
  {
   "cell_type": "markdown",
   "metadata": {},
   "source": [
    "Проверим какой баланс у новых обучающих данных"
   ]
  },
  {
   "cell_type": "code",
   "execution_count": 44,
   "metadata": {},
   "outputs": [
    {
     "data": {
      "text/plain": [
       "1    50.92707\n",
       "0    49.07293\n",
       "Name: exited, dtype: float64"
      ]
     },
     "execution_count": 44,
     "metadata": {},
     "output_type": "execute_result"
    }
   ],
   "source": [
    "target_train_upsampled.value_counts() / target_train_upsampled.shape[0] * 100"
   ]
  },
  {
   "cell_type": "code",
   "execution_count": 45,
   "metadata": {},
   "outputs": [
    {
     "name": "stdout",
     "output_type": "stream",
     "text": [
      "Глубина дерева 2 F1-мера 0.5234 AUC_ROC 0.7539\n",
      "Глубина дерева 3 F1-мера 0.5439 AUC_ROC 0.8082\n",
      "Глубина дерева 4 F1-мера 0.5372 AUC_ROC 0.8203\n",
      "Глубина дерева 5 F1-мера 0.5485 AUC_ROC 0.8372\n",
      "Глубина дерева 6 F1-мера 0.5914 AUC_ROC 0.8432\n",
      "Глубина дерева 7 F1-мера 0.5712 AUC_ROC 0.8404\n",
      "Глубина дерева 8 F1-мера 0.5824 AUC_ROC 0.8224\n",
      "Глубина дерева 9 F1-мера 0.5706 AUC_ROC 0.7974\n",
      "Глубина дерева 10 F1-мера 0.5557 AUC_ROC 0.7703\n",
      "Глубина дерева 11 F1-мера 0.5281 AUC_ROC 0.749\n",
      "Глубина дерева 12 F1-мера 0.5206 AUC_ROC 0.724\n",
      "Глубина дерева 13 F1-мера 0.5196 AUC_ROC 0.7154\n",
      "Глубина дерева 14 F1-мера 0.507 AUC_ROC 0.7047\n",
      "Глубина дерева 15 F1-мера 0.4825 AUC_ROC 0.6931\n",
      "Wall time: 384 ms\n"
     ]
    }
   ],
   "source": [
    "%%time\n",
    "for depth in range(2, 16):\n",
    "    model_tree = DecisionTreeClassifier(random_state=314, max_depth=depth) # создаем модель с заданной глубиной\n",
    "    model_tree.fit(features_train_upsampled,target_train_upsampled) # обучаем модель\n",
    "    predictions = model_tree.predict(features_valid) # получаем предсказание модели\n",
    "    predictions_one_valid = model_tree.predict_proba(features_valid) # получаем вероятность отнесения к классу\n",
    "    result_f1 = f1_score(target_valid,predictions) # считаем F1 меру\n",
    "    result_auc_roc = roc_auc_score(target_valid,predictions_one_valid[:,1]) # считаем AUC ROC меру\n",
    "    # выведем результаты для каждого варианта модели\n",
    "    print('Глубина дерева',depth,'F1-мера', round(result_f1,4), 'AUC_ROC', round(result_auc_roc,4)) "
   ]
  },
  {
   "cell_type": "markdown",
   "metadata": {},
   "source": [
    "Запомним лучшее дерево: глубина 6, F1 0.5914, AUC ROC 0.8432"
   ]
  },
  {
   "cell_type": "code",
   "execution_count": 46,
   "metadata": {},
   "outputs": [
    {
     "data": {
      "text/plain": [
       "DecisionTreeClassifier(max_depth=6, random_state=314)"
      ]
     },
     "execution_count": 46,
     "metadata": {},
     "output_type": "execute_result"
    }
   ],
   "source": [
    "model_tree = DecisionTreeClassifier(random_state=314, max_depth=6)\n",
    "model_tree.fit(features_train_upsampled,target_train_upsampled) # обучаем модель"
   ]
  },
  {
   "cell_type": "code",
   "execution_count": 47,
   "metadata": {},
   "outputs": [
    {
     "name": "stdout",
     "output_type": "stream",
     "text": [
      "Лучшая модель леса деревьев с количеством деревьев 75 глубиной дерева 12 и F1 0.623 и AUC ROC 0.8629\n",
      "Wall time: 1min 28s\n"
     ]
    }
   ],
   "source": [
    "%%time\n",
    "best_result_f1 = 0\n",
    "best_result_auc_roc = 0\n",
    "best_forest = None\n",
    "best_est = 0 \n",
    "best_depth = 0\n",
    "for est in np.arange(10, 100, 5):\n",
    "    for depth in range (2, 16):\n",
    "        # создаем модель с заданными гиперпараметрами\n",
    "        model_forest = RandomForestClassifier(random_state=314, max_depth=depth, n_estimators=est)\n",
    "        model_forest.fit(features_train_upsampled,target_train_upsampled) # обучаем модель\n",
    "        predictions = model_forest.predict(features_valid) # получаем предсказание модели\n",
    "        predictions_one_valid = model_forest.predict_proba(features_valid) # получаем вероятность отнесения к классу\n",
    "        result_f1 = f1_score(target_valid,predictions) # считаем F1 меру\n",
    "        result_auc_roc = roc_auc_score(target_valid,predictions_one_valid[:,1]) # считаем AUC ROC меру\n",
    "        # найдем лучшую\n",
    "        if result_f1 > best_result_f1:\n",
    "            best_result_f1 = result_f1\n",
    "            best_result_auc_roc = result_auc_roc\n",
    "            best_forest = model_forest\n",
    "            best_est = est\n",
    "            best_depth = depth\n",
    "print('Лучшая модель леса деревьев с количеством деревьев', best_est,'глубиной дерева',\\\n",
    "      best_depth,'и F1',round(best_result_f1,4),'и AUC ROC',round(best_result_auc_roc,4)) "
   ]
  },
  {
   "cell_type": "code",
   "execution_count": 48,
   "metadata": {},
   "outputs": [
    {
     "name": "stdout",
     "output_type": "stream",
     "text": [
      "F1 логистической регрессии 0.4836 , AUC ROC логистической регрессии 0.7733\n"
     ]
    }
   ],
   "source": [
    "model_logic = LogisticRegression(random_state=314) # создаем модель типа логическая регрессия\n",
    "model_logic.fit(features_train_upsampled,target_train_upsampled) # обучаем модель на тренировочном наборе данных\n",
    "predictions = model_logic.predict(features_valid) # получаем предсказание модели\n",
    "predictions_one_valid = model_logic.predict_proba(features_valid)  # получаем вероятность отнесения к классу\n",
    "result_f1 = f1_score(target_valid,predictions) # считаем F1 меру\n",
    "result_auc_roc = roc_auc_score(target_valid,predictions_one_valid[:,1]) # считаем AUC ROC меру\n",
    "print('F1 логистической регрессии', round(result_f1,4), ', AUC ROC логистической регрессии', round(result_auc_roc,4))"
   ]
  },
  {
   "cell_type": "code",
   "execution_count": 49,
   "metadata": {},
   "outputs": [
    {
     "data": {
      "image/png": "[encoded data removed]",
      "text/plain": [
       "<Figure size 432x288 with 1 Axes>"
      ]
     },
     "metadata": {
      "needs_background": "light"
     },
     "output_type": "display_data"
    }
   ],
   "source": [
    "predictions_one_valid = model_tree.predict_proba(features_valid)\n",
    "fpr_tree, tpr_tree, thresholds_tree = roc_curve(target_valid,predictions_one_valid[:,1])\n",
    "predictions_one_valid = best_forest.predict_proba(features_valid)\n",
    "fpr_forest, tpr_forest, thresholds_forest = roc_curve(target_valid,predictions_one_valid[:,1])\n",
    "predictions_one_valid = model_logic.predict_proba(features_valid) \n",
    "fpr_logic, tpr_logic, thresholds_logic = roc_curve(target_valid,predictions_one_valid[:,1])\n",
    "plt.plot(fpr_tree, tpr_tree, label='tree')\n",
    "plt.plot(fpr_forest, tpr_forest, label='forest')\n",
    "plt.plot(fpr_logic, tpr_logic, label='logistic reg')\n",
    "plt.title('AUC ROC')\n",
    "plt.ylabel('True Positive Rate')\n",
    "plt.xlabel('False Positive Rate')\n",
    "plt.legend(loc='lower right')\n",
    "plt.show()"
   ]
  },
  {
   "cell_type": "markdown",
   "metadata": {},
   "source": [
    "Наилучший результат снова показывает модель случайного леса деревьев: F1 - 0.6223, AUC ROC - 0.8629.\n",
    "\n",
    "\n",
    "Попробуем вариант с уменьшением выборки со значением 0. Техника `downsamping`"
   ]
  },
  {
   "cell_type": "markdown",
   "metadata": {},
   "source": [
    "### Метод downsampling"
   ]
  },
  {
   "cell_type": "code",
   "execution_count": 50,
   "metadata": {},
   "outputs": [],
   "source": [
    "# напишем функцию для уменьшения выборки с 0\n",
    "def downsample(features, target, fraction):\n",
    "    features_zeros = features[target == 0]\n",
    "    features_ones = features[target == 1]\n",
    "    target_zeros = target[target == 0]\n",
    "    target_ones = target[target == 1]\n",
    "    features_downsampled = pd.concat([features_zeros.sample(frac=fraction, random_state=314)] + [features_ones])\n",
    "    target_downsampled = pd.concat([target_zeros.sample(frac=fraction, random_state=314)] + [target_ones])\n",
    "    features_downsampled, target_downsampled = shuffle(features_downsampled, target_downsampled, random_state=314)\n",
    "    return features_downsampled, target_downsampled"
   ]
  },
  {
   "cell_type": "code",
   "execution_count": 51,
   "metadata": {},
   "outputs": [],
   "source": [
    "features_train_downsampled, target_train_downsampled = downsample(features_train, target_train, 0.25) #новые обучающие выборки"
   ]
  },
  {
   "cell_type": "code",
   "execution_count": 52,
   "metadata": {},
   "outputs": [
    {
     "data": {
      "text/plain": [
       "1    50.92707\n",
       "0    49.07293\n",
       "Name: exited, dtype: float64"
      ]
     },
     "execution_count": 52,
     "metadata": {},
     "output_type": "execute_result"
    }
   ],
   "source": [
    "target_train_downsampled.value_counts() / target_train_downsampled.shape[0] * 100"
   ]
  },
  {
   "cell_type": "code",
   "execution_count": 53,
   "metadata": {},
   "outputs": [
    {
     "name": "stdout",
     "output_type": "stream",
     "text": [
      "Глубина дерева 2 F1-мера 0.5234 AUC_ROC 0.7539\n",
      "Глубина дерева 3 F1-мера 0.5234 AUC_ROC 0.8015\n",
      "Глубина дерева 4 F1-мера 0.5372 AUC_ROC 0.815\n",
      "Глубина дерева 5 F1-мера 0.5442 AUC_ROC 0.8362\n",
      "Глубина дерева 6 F1-мера 0.537 AUC_ROC 0.8279\n",
      "Глубина дерева 7 F1-мера 0.5748 AUC_ROC 0.8368\n",
      "Глубина дерева 8 F1-мера 0.5397 AUC_ROC 0.8062\n",
      "Глубина дерева 9 F1-мера 0.5231 AUC_ROC 0.7715\n",
      "Глубина дерева 10 F1-мера 0.5049 AUC_ROC 0.7519\n",
      "Глубина дерева 11 F1-мера 0.4874 AUC_ROC 0.7363\n",
      "Глубина дерева 12 F1-мера 0.5 AUC_ROC 0.7242\n",
      "Глубина дерева 13 F1-мера 0.4798 AUC_ROC 0.7068\n",
      "Глубина дерева 14 F1-мера 0.4581 AUC_ROC 0.695\n",
      "Глубина дерева 15 F1-мера 0.4588 AUC_ROC 0.6984\n",
      "Wall time: 202 ms\n"
     ]
    }
   ],
   "source": [
    "%%time\n",
    "for depth in range(2, 16):\n",
    "    model_tree = DecisionTreeClassifier(random_state=314, max_depth=depth) # создаем модель с заданной глубиной\n",
    "    model_tree.fit(features_train_downsampled,target_train_downsampled) # обучаем модель\n",
    "    predictions = model_tree.predict(features_valid) # получаем предсказание модели\n",
    "    predictions_one_valid = model_tree.predict_proba(features_valid) # получаем вероятность отнесения к классу\n",
    "    result_f1 = f1_score(target_valid,predictions) # считаем F1 меру\n",
    "    result_auc_roc = roc_auc_score(target_valid,predictions_one_valid[:,1]) # считаем AUC ROC меру\n",
    "    # выведем результаты для каждого варианта модели\n",
    "    print('Глубина дерева',depth,'F1-мера', round(result_f1,4), 'AUC_ROC', round(result_auc_roc,4)) "
   ]
  },
  {
   "cell_type": "markdown",
   "metadata": {},
   "source": [
    "Запомним лучшее дерево: глубина 7, F1 0.5748, AUC ROC 0.8368"
   ]
  },
  {
   "cell_type": "code",
   "execution_count": 54,
   "metadata": {},
   "outputs": [
    {
     "data": {
      "text/plain": [
       "DecisionTreeClassifier(max_depth=7, random_state=314)"
      ]
     },
     "execution_count": 54,
     "metadata": {},
     "output_type": "execute_result"
    }
   ],
   "source": [
    "model_tree = DecisionTreeClassifier(random_state=314, max_depth=7)\n",
    "model_tree.fit(features_train_downsampled,target_train_downsampled) # обучаем модель"
   ]
  },
  {
   "cell_type": "code",
   "execution_count": 55,
   "metadata": {},
   "outputs": [
    {
     "name": "stdout",
     "output_type": "stream",
     "text": [
      "Лучшая модель леса деревьев с количеством деревьев 20 глубиной дерева 8 и F1 0.5938 и AUC ROC 0.8616\n",
      "Wall time: 43.4 s\n"
     ]
    }
   ],
   "source": [
    "%%time\n",
    "best_result_f1 = 0\n",
    "best_result_auc_roc = 0\n",
    "best_forest = None\n",
    "best_est = 0 \n",
    "best_depth = 0\n",
    "for est in np.arange(10, 100, 5):\n",
    "    for depth in range (2, 16):\n",
    "        # создаем модель с заданными гиперпараметрами\n",
    "        model_forest = RandomForestClassifier(random_state=314, max_depth=depth, n_estimators=est)\n",
    "        model_forest.fit(features_train_downsampled,target_train_downsampled) # обучаем модель\n",
    "        predictions = model_forest.predict(features_valid) # получаем предсказание модели\n",
    "        predictions_one_valid = model_forest.predict_proba(features_valid) # получаем вероятность отнесения к классу\n",
    "        result_f1 = f1_score(target_valid,predictions) # считаем F1 меру\n",
    "        result_auc_roc = roc_auc_score(target_valid,predictions_one_valid[:,1]) # считаем AUC ROC меру\n",
    "        # найдем лучшую\n",
    "        if result_f1 > best_result_f1:\n",
    "            best_result_f1 = result_f1\n",
    "            best_result_auc_roc = result_auc_roc\n",
    "            best_forest = model_forest\n",
    "            best_est = est\n",
    "            best_depth = depth\n",
    "print('Лучшая модель леса деревьев с количеством деревьев', best_est,'глубиной дерева',\\\n",
    "      best_depth,'и F1',round(best_result_f1,4),'и AUC ROC',round(best_result_auc_roc,4)) "
   ]
  },
  {
   "cell_type": "code",
   "execution_count": 56,
   "metadata": {},
   "outputs": [
    {
     "name": "stdout",
     "output_type": "stream",
     "text": [
      "F1 логистической регрессии 0.4932 , AUC ROC логистической регрессии 0.7739\n"
     ]
    }
   ],
   "source": [
    "model_logic = LogisticRegression(random_state=314) # создаем модель типа логическая регрессия\n",
    "model_logic.fit(features_train_downsampled,target_train_downsampled) # обучаем модель на тренировочном наборе данных\n",
    "predictions = model_logic.predict(features_valid) # получаем предсказание модели\n",
    "predictions_one_valid = model_logic.predict_proba(features_valid)  # получаем вероятность отнесения к классу\n",
    "result_f1 = f1_score(target_valid,predictions) # считаем F1 меру\n",
    "result_auc_roc = roc_auc_score(target_valid,predictions_one_valid[:,1]) # считаем AUC ROC меру\n",
    "print('F1 логистической регрессии', round(result_f1,4), ', AUC ROC логистической регрессии', round(result_auc_roc,4))"
   ]
  },
  {
   "cell_type": "code",
   "execution_count": 57,
   "metadata": {},
   "outputs": [
    {
     "data": {
      "image/png": "[encoded data removed]",
      "text/plain": [
       "<Figure size 432x288 with 1 Axes>"
      ]
     },
     "metadata": {
      "needs_background": "light"
     },
     "output_type": "display_data"
    }
   ],
   "source": [
    "predictions_one_valid = model_tree.predict_proba(features_valid)\n",
    "fpr_tree, tpr_tree, thresholds_tree = roc_curve(target_valid,predictions_one_valid[:,1])\n",
    "predictions_one_valid = best_forest.predict_proba(features_valid)\n",
    "fpr_forest, tpr_forest, thresholds_forest = roc_curve(target_valid,predictions_one_valid[:,1])\n",
    "predictions_one_valid = model_logic.predict_proba(features_valid) \n",
    "fpr_logic, tpr_logic, thresholds_logic = roc_curve(target_valid,predictions_one_valid[:,1])\n",
    "plt.plot(fpr_tree, tpr_tree, label='tree')\n",
    "plt.plot(fpr_forest, tpr_forest, label='forest')\n",
    "plt.plot(fpr_logic, tpr_logic, label='logistic reg')\n",
    "plt.title('AUC ROC')\n",
    "plt.ylabel('True Positive Rate')\n",
    "plt.xlabel('False Positive Rate')\n",
    "plt.legend(loc='lower right')\n",
    "plt.show()"
   ]
  },
  {
   "cell_type": "markdown",
   "metadata": {},
   "source": [
    "Наилучший результат снова показывает модель случайного леса деревьев: F1 - 0.5938, AUC ROC - 0.8616. "
   ]
  },
  {
   "cell_type": "markdown",
   "metadata": {},
   "source": [
    "### Метод изменения порога"
   ]
  },
  {
   "cell_type": "markdown",
   "metadata": {},
   "source": [
    "Попробуем изменять порог `threshold` для принятия решения об отнесении к классу 1.\n",
    "\n",
    "Начнем снова с решающего дерева,  лучшие показатели были у дерева с глубиной 9"
   ]
  },
  {
   "cell_type": "code",
   "execution_count": 58,
   "metadata": {},
   "outputs": [
    {
     "name": "stdout",
     "output_type": "stream",
     "text": [
      "Порог = 0.00 | F1 = 0.3320, AUC ROC = 0.8064\n",
      "Порог = 0.05 | F1 = 0.4331, AUC ROC = 0.8064\n",
      "Порог = 0.10 | F1 = 0.5294, AUC ROC = 0.8064\n",
      "Порог = 0.15 | F1 = 0.5420, AUC ROC = 0.8064\n",
      "Порог = 0.20 | F1 = 0.5676, AUC ROC = 0.8064\n",
      "Порог = 0.25 | F1 = 0.6014, AUC ROC = 0.8064\n",
      "Порог = 0.30 | F1 = 0.5815, AUC ROC = 0.8064\n",
      "Порог = 0.35 | F1 = 0.5976, AUC ROC = 0.8064\n",
      "Порог = 0.40 | F1 = 0.5994, AUC ROC = 0.8064\n",
      "Порог = 0.45 | F1 = 0.5986, AUC ROC = 0.8064\n",
      "Порог = 0.50 | F1 = 0.5850, AUC ROC = 0.8064\n",
      "Порог = 0.55 | F1 = 0.5452, AUC ROC = 0.8064\n",
      "Порог = 0.60 | F1 = 0.5415, AUC ROC = 0.8064\n",
      "Порог = 0.65 | F1 = 0.5320, AUC ROC = 0.8064\n",
      "Порог = 0.70 | F1 = 0.5226, AUC ROC = 0.8064\n",
      "Порог = 0.75 | F1 = 0.5169, AUC ROC = 0.8064\n",
      "Порог = 0.80 | F1 = 0.5102, AUC ROC = 0.8064\n",
      "Порог = 0.85 | F1 = 0.4764, AUC ROC = 0.8064\n",
      "Порог = 0.90 | F1 = 0.4485, AUC ROC = 0.8064\n",
      "Порог = 0.95 | F1 = 0.3793, AUC ROC = 0.8064\n"
     ]
    }
   ],
   "source": [
    "model_tree = DecisionTreeClassifier(random_state=314, max_depth=9) # создаем модель с заданной глубиной\n",
    "model_tree.fit(features_train,target_train) # обучаем модель\n",
    "probabilities_valid = model_tree.predict_proba(features_valid)\n",
    "probabilities_one_valid = probabilities_valid[:, 1]\n",
    "for threshold in np.arange(0, 1, 0.05):\n",
    "    predicted_valid = probabilities_one_valid > threshold\n",
    "    result_f1 = f1_score(target_valid,predicted_valid) # считаем F1 меру\n",
    "    result_auc_roc = roc_auc_score(target_valid,probabilities_one_valid) # считаем AUC ROC меру\n",
    "    print(\"Порог = {:.2f} | F1 = {:.4f}, AUC ROC = {:.4f}\".format(threshold, result_f1, result_auc_roc))"
   ]
  },
  {
   "cell_type": "markdown",
   "metadata": {},
   "source": [
    "Лучшее значение F1 - 0.6014 у дерева решений при пороге 0.25. AUC ROC соответственно не меняется, по определению.\n",
    "\n",
    "Далее попробуем поработать со случайным лесом деревьев, лучшие покзатели на дизбалансных данных были у леса из 45 деревьев глубиной 14"
   ]
  },
  {
   "cell_type": "code",
   "execution_count": 59,
   "metadata": {},
   "outputs": [
    {
     "name": "stdout",
     "output_type": "stream",
     "text": [
      "Порог = 0.00 | F1 = 0.3254, AUC ROC = 0.8588\n",
      "Порог = 0.05 | F1 = 0.4074, AUC ROC = 0.8588\n",
      "Порог = 0.10 | F1 = 0.4773, AUC ROC = 0.8588\n",
      "Порог = 0.15 | F1 = 0.5242, AUC ROC = 0.8588\n",
      "Порог = 0.20 | F1 = 0.5748, AUC ROC = 0.8588\n",
      "Порог = 0.25 | F1 = 0.6051, AUC ROC = 0.8588\n",
      "Порог = 0.30 | F1 = 0.6154, AUC ROC = 0.8588\n",
      "Порог = 0.35 | F1 = 0.6296, AUC ROC = 0.8588\n",
      "Порог = 0.40 | F1 = 0.6176, AUC ROC = 0.8588\n",
      "Порог = 0.45 | F1 = 0.6045, AUC ROC = 0.8588\n",
      "Порог = 0.50 | F1 = 0.5975, AUC ROC = 0.8588\n",
      "Порог = 0.55 | F1 = 0.5647, AUC ROC = 0.8588\n",
      "Порог = 0.60 | F1 = 0.5308, AUC ROC = 0.8588\n",
      "Порог = 0.65 | F1 = 0.4964, AUC ROC = 0.8588\n",
      "Порог = 0.70 | F1 = 0.4630, AUC ROC = 0.8588\n",
      "Порог = 0.75 | F1 = 0.4213, AUC ROC = 0.8588\n",
      "Порог = 0.80 | F1 = 0.3466, AUC ROC = 0.8588\n",
      "Порог = 0.85 | F1 = 0.2693, AUC ROC = 0.8588\n",
      "Порог = 0.90 | F1 = 0.1553, AUC ROC = 0.8588\n",
      "Порог = 0.95 | F1 = 0.0551, AUC ROC = 0.8588\n"
     ]
    }
   ],
   "source": [
    "model_forest = RandomForestClassifier(random_state=314, max_depth=14, n_estimators=45) # создаем модель с заданной глубиной и количеством деревьев\n",
    "model_forest.fit(features_train,target_train) # обучаем модель\n",
    "probabilities_valid = model_forest.predict_proba(features_valid)\n",
    "probabilities_one_valid = probabilities_valid[:, 1]\n",
    "for threshold in np.arange(0, 1, 0.05):\n",
    "    predicted_valid = probabilities_one_valid > threshold\n",
    "    result_f1 = f1_score(target_valid,predicted_valid) # считаем F1 меру\n",
    "    result_auc_roc = roc_auc_score(target_valid,probabilities_one_valid) # считаем AUC ROC меру\n",
    "    print(\"Порог = {:.2f} | F1 = {:.4f}, AUC ROC = {:.4f}\".format(threshold, result_f1, result_auc_roc))"
   ]
  },
  {
   "cell_type": "markdown",
   "metadata": {},
   "source": [
    "Для модели случайного леса лучшее значение F1 0.6296 при пороге 0.35.\n",
    "\n",
    "Теперь посмотрим на результаты логистической регрессии"
   ]
  },
  {
   "cell_type": "code",
   "execution_count": 60,
   "metadata": {},
   "outputs": [
    {
     "name": "stdout",
     "output_type": "stream",
     "text": [
      "Порог = 0.00 | F1 = 0.3250, AUC ROC = 0.7698\n",
      "Порог = 0.05 | F1 = 0.3487, AUC ROC = 0.7698\n",
      "Порог = 0.10 | F1 = 0.4021, AUC ROC = 0.7698\n",
      "Порог = 0.15 | F1 = 0.4600, AUC ROC = 0.7698\n",
      "Порог = 0.20 | F1 = 0.4759, AUC ROC = 0.7698\n",
      "Порог = 0.25 | F1 = 0.4872, AUC ROC = 0.7698\n",
      "Порог = 0.30 | F1 = 0.4734, AUC ROC = 0.7698\n",
      "Порог = 0.35 | F1 = 0.4432, AUC ROC = 0.7698\n",
      "Порог = 0.40 | F1 = 0.3790, AUC ROC = 0.7698\n",
      "Порог = 0.45 | F1 = 0.3617, AUC ROC = 0.7698\n",
      "Порог = 0.50 | F1 = 0.3071, AUC ROC = 0.7698\n",
      "Порог = 0.55 | F1 = 0.2759, AUC ROC = 0.7698\n",
      "Порог = 0.60 | F1 = 0.2110, AUC ROC = 0.7698\n",
      "Порог = 0.65 | F1 = 0.1358, AUC ROC = 0.7698\n",
      "Порог = 0.70 | F1 = 0.0878, AUC ROC = 0.7698\n",
      "Порог = 0.75 | F1 = 0.0549, AUC ROC = 0.7698\n",
      "Порог = 0.80 | F1 = 0.0204, AUC ROC = 0.7698\n",
      "Порог = 0.85 | F1 = 0.0153, AUC ROC = 0.7698\n",
      "Порог = 0.90 | F1 = 0.0051, AUC ROC = 0.7698\n",
      "Порог = 0.95 | F1 = 0.0000, AUC ROC = 0.7698\n"
     ]
    }
   ],
   "source": [
    "model_logic = LogisticRegression(random_state=314) # создаем модель с заданной глубиной и количеством деревьев\n",
    "model_logic.fit(features_train,target_train) # обучаем модель\n",
    "probabilities_valid = model_logic.predict_proba(features_valid)\n",
    "probabilities_one_valid = probabilities_valid[:, 1]\n",
    "for threshold in np.arange(0, 1, 0.05):\n",
    "    predicted_valid = probabilities_one_valid > threshold\n",
    "    result_f1 = f1_score(target_valid,predicted_valid) # считаем F1 меру\n",
    "    result_auc_roc = roc_auc_score(target_valid,probabilities_one_valid) # считаем AUC ROC меру\n",
    "    print(\"Порог = {:.2f} | F1 = {:.4f}, AUC ROC = {:.4f}\".format(threshold, result_f1, result_auc_roc))"
   ]
  },
  {
   "cell_type": "markdown",
   "metadata": {},
   "source": [
    "Для модели логистической регрессии лучшее значение F1 0.4872 при пороге 0.25"
   ]
  },
  {
   "cell_type": "markdown",
   "metadata": {},
   "source": [
    "Лучшие показатели F1 0.6244 и AUC ROC 0.8684 дает модель случайного леса из 95 деревьев с макисмальной глубиной 8 при обучении модели со взвешиванием классов. Сохраним модель"
   ]
  },
  {
   "cell_type": "code",
   "execution_count": 61,
   "metadata": {},
   "outputs": [
    {
     "data": {
      "text/plain": [
       "RandomForestClassifier(class_weight='balanced', max_depth=8, n_estimators=95,\n",
       "                       random_state=314)"
      ]
     },
     "execution_count": 61,
     "metadata": {},
     "output_type": "execute_result"
    }
   ],
   "source": [
    "best_model = RandomForestClassifier(class_weight='balanced', random_state=314, max_depth=8, n_estimators=95)\n",
    "best_model.fit(features_train, target_train)"
   ]
  },
  {
   "cell_type": "markdown",
   "metadata": {},
   "source": [
    "## Тестирование модели"
   ]
  },
  {
   "cell_type": "markdown",
   "metadata": {},
   "source": [
    "Проверим нашу лучшую модель на тестовой выборке и посчитаем F1 и AUC ROC метрики"
   ]
  },
  {
   "cell_type": "code",
   "execution_count": 62,
   "metadata": {},
   "outputs": [
    {
     "name": "stdout",
     "output_type": "stream",
     "text": [
      "F1 0.6243 и AUC ROC 0.8595\n"
     ]
    },
    {
     "data": {
      "image/png": "[encoded data removed]",
      "text/plain": [
       "<Figure size 432x288 with 1 Axes>"
      ]
     },
     "metadata": {
      "needs_background": "light"
     },
     "output_type": "display_data"
    }
   ],
   "source": [
    "predictions = best_model.predict(features_test) # получаем предсказание модели\n",
    "predictions_one_valid = best_model.predict_proba(features_test) # получаем вероятность отнесения к классу\n",
    "result_f1 = f1_score(target_test,predictions) # считаем F1 меру\n",
    "result_auc_roc = roc_auc_score(target_test,predictions_one_valid[:,1]) # считаем AUC ROC меру\n",
    "fpr_forest, tpr_forest, thresholds_forest = roc_curve(target_test,predictions_one_valid[:,1])\n",
    "print('F1',round(result_f1,4),'и AUC ROC',round(result_auc_roc,4))\n",
    "plt.plot(fpr_forest, tpr_forest, label='forest')\n",
    "plt.title('AUC ROC')\n",
    "plt.ylabel('True Positive Rate')\n",
    "plt.xlabel('False Positive Rate')\n",
    "plt.legend(loc='lower right')\n",
    "plt.show()"
   ]
  },
  {
   "cell_type": "markdown",
   "metadata": {},
   "source": [
    "Не тестовых данных значения чуть ниже чем на проверочных:\n",
    "- F1 0.6243 против 0.6244;\n",
    "- AUC ROC 0.8595 против 0.8683.\n",
    "\n",
    "Цель получить метрику F1 выше 0.59 мы достигли."
   ]
  },
  {
   "cell_type": "markdown",
   "metadata": {},
   "source": [
    "## Вывод"
   ]
  },
  {
   "cell_type": "markdown",
   "metadata": {},
   "source": [
    "Мы построили модель для предсказания уйдет ли клиент из банка в ближайшее время или нет. \n",
    "Для получения заданного значения метрики F1 0.59 выполнили следующие шаги:\n",
    "- провели предобработку данных, были пропуске в столбце `Tenure` — сколько лет человек является клиентом банка;\n",
    "- удалили лишние данные, не нужные для обучния модели;\n",
    "- провели подготовительную обработку признаков (категориальные методом прямого кодирования, количественные с помощью масштабирования);\n",
    "- построили модели различного типа с разными гиперпараметрами;\n",
    "- для повышения метрик полученных моделей использовали методы борьбы с дисбалансом классов, такие как: взвешивание классов, upscaling и downscaling.\n",
    "\n",
    "Лучшие результаты показала модель случайного леса деревьев с использование метода масштабирования классов F1 - 0.6244."
   ]
  },
  {
   "cell_type": "markdown",
   "metadata": {},
   "source": [
    "## Чек-лист готовности проекта"
   ]
  },
  {
   "cell_type": "markdown",
   "metadata": {},
   "source": [
    "Поставьте 'x' в выполненных пунктах. Далее нажмите Shift+Enter."
   ]
  },
  {
   "cell_type": "markdown",
   "metadata": {},
   "source": [
    "- [x]  Jupyter Notebook открыт\n",
    "- [x]  Весь код выполняется без ошибок\n",
    "- [x]  Ячейки с кодом расположены в порядке исполнения\n",
    "- [x]  Выполнен шаг 1: данные подготовлены\n",
    "- [x]  Выполнен шаг 2: задача исследована\n",
    "    - [x]  Исследован баланс классов\n",
    "    - [x]  Изучены модели без учёта дисбаланса\n",
    "    - [x]  Написаны выводы по результатам исследования\n",
    "- [X]  Выполнен шаг 3: учтён дисбаланс\n",
    "    - [X]  Применено несколько способов борьбы с дисбалансом\n",
    "    - [X]  Написаны выводы по результатам исследования\n",
    "- [X]  Выполнен шаг 4: проведено тестирование\n",
    "- [X]  Удалось достичь *F1*-меры не менее 0.59\n",
    "- [X]  Исследована метрика *AUC-ROC*"
   ]
  },
  {
   "cell_type": "code",
   "execution_count": null,
   "metadata": {},
   "outputs": [],
   "source": []
  }
 ],
 "metadata": {
  "ExecuteTimeLog": [
   {
    "duration": 143,
    "start_time": "2022-04-28T09:30:50.052Z"
   },
   {
    "duration": 134,
    "start_time": "2022-04-28T09:47:56.019Z"
   },
   {
    "duration": 1474,
    "start_time": "2022-04-28T12:57:58.285Z"
   },
   {
    "duration": 32,
    "start_time": "2022-04-28T12:58:01.299Z"
   },
   {
    "duration": 13,
    "start_time": "2022-04-28T12:58:02.823Z"
   },
   {
    "duration": 15,
    "start_time": "2022-04-28T12:58:05.429Z"
   },
   {
    "duration": 32,
    "start_time": "2022-04-28T12:58:06.299Z"
   },
   {
    "duration": 5,
    "start_time": "2022-04-28T12:58:07.603Z"
   },
   {
    "duration": 13,
    "start_time": "2022-04-28T12:58:08.340Z"
   },
   {
    "duration": 4,
    "start_time": "2022-04-28T12:58:11.414Z"
   },
   {
    "duration": 7,
    "start_time": "2022-04-28T12:58:11.865Z"
   },
   {
    "duration": 5,
    "start_time": "2022-04-28T12:58:12.276Z"
   },
   {
    "duration": 7,
    "start_time": "2022-04-28T12:58:13.149Z"
   },
   {
    "duration": 5,
    "start_time": "2022-04-28T12:58:13.540Z"
   },
   {
    "duration": 8,
    "start_time": "2022-04-28T12:58:16.333Z"
   },
   {
    "duration": 13,
    "start_time": "2022-04-28T12:58:17.584Z"
   },
   {
    "duration": 6,
    "start_time": "2022-04-28T12:58:19.920Z"
   },
   {
    "duration": 5,
    "start_time": "2022-04-28T12:58:20.877Z"
   },
   {
    "duration": 5,
    "start_time": "2022-04-28T12:58:27.962Z"
   },
   {
    "duration": 12,
    "start_time": "2022-04-28T13:01:28.801Z"
   },
   {
    "duration": 4,
    "start_time": "2022-04-28T13:01:33.465Z"
   },
   {
    "duration": 10,
    "start_time": "2022-04-28T13:01:37.272Z"
   },
   {
    "duration": 11,
    "start_time": "2022-04-28T13:01:38.215Z"
   },
   {
    "duration": 10,
    "start_time": "2022-04-28T13:01:43.557Z"
   },
   {
    "duration": 4,
    "start_time": "2022-04-28T13:01:53.143Z"
   },
   {
    "duration": 113,
    "start_time": "2022-04-28T13:02:32.736Z"
   },
   {
    "duration": 10,
    "start_time": "2022-04-28T13:02:54.241Z"
   },
   {
    "duration": 13,
    "start_time": "2022-04-28T13:02:55.037Z"
   },
   {
    "duration": 10,
    "start_time": "2022-04-28T13:02:55.951Z"
   },
   {
    "duration": 7,
    "start_time": "2022-04-28T13:03:53.024Z"
   },
   {
    "duration": 109,
    "start_time": "2022-04-28T13:04:52.987Z"
   },
   {
    "duration": 12,
    "start_time": "2022-04-28T13:05:01.502Z"
   },
   {
    "duration": 10,
    "start_time": "2022-04-28T13:05:16.736Z"
   },
   {
    "duration": 10,
    "start_time": "2022-04-28T13:05:32.058Z"
   },
   {
    "duration": 17,
    "start_time": "2022-04-28T13:05:49.495Z"
   },
   {
    "duration": 6,
    "start_time": "2022-04-28T13:07:29.642Z"
   },
   {
    "duration": 6,
    "start_time": "2022-04-28T13:07:31.010Z"
   },
   {
    "duration": 375,
    "start_time": "2022-04-28T13:08:11.576Z"
   },
   {
    "duration": 23,
    "start_time": "2022-04-28T13:08:43.533Z"
   },
   {
    "duration": 60927,
    "start_time": "2022-04-28T13:08:46.498Z"
   },
   {
    "duration": 127,
    "start_time": "2022-04-28T13:10:23.922Z"
   },
   {
    "duration": 339,
    "start_time": "2022-04-28T13:10:39.931Z"
   },
   {
    "duration": 328,
    "start_time": "2022-04-28T13:11:08.949Z"
   },
   {
    "duration": 19,
    "start_time": "2022-04-28T13:11:52.276Z"
   },
   {
    "duration": 61365,
    "start_time": "2022-04-28T13:11:53.710Z"
   },
   {
    "duration": 164,
    "start_time": "2022-04-28T13:13:45.885Z"
   },
   {
    "duration": 289,
    "start_time": "2022-04-28T13:14:00.884Z"
   },
   {
    "duration": 4,
    "start_time": "2022-04-28T13:14:22.857Z"
   },
   {
    "duration": 6,
    "start_time": "2022-04-28T13:14:24.268Z"
   },
   {
    "duration": 10,
    "start_time": "2022-04-28T13:14:26.404Z"
   },
   {
    "duration": 6,
    "start_time": "2022-04-28T13:14:27.596Z"
   },
   {
    "duration": 386,
    "start_time": "2022-04-28T13:14:29.132Z"
   },
   {
    "duration": 18,
    "start_time": "2022-04-28T13:15:04.986Z"
   },
   {
    "duration": 85167,
    "start_time": "2022-04-28T13:15:08.194Z"
   },
   {
    "duration": 216,
    "start_time": "2022-04-28T13:16:52.531Z"
   },
   {
    "duration": 346,
    "start_time": "2022-04-28T13:17:03.320Z"
   },
   {
    "duration": 5,
    "start_time": "2022-04-28T13:17:21.186Z"
   },
   {
    "duration": 9,
    "start_time": "2022-04-28T13:17:23.465Z"
   },
   {
    "duration": 7,
    "start_time": "2022-04-28T13:17:24.032Z"
   },
   {
    "duration": 189,
    "start_time": "2022-04-28T13:17:25.927Z"
   },
   {
    "duration": 20,
    "start_time": "2022-04-28T13:17:56.825Z"
   },
   {
    "duration": 38041,
    "start_time": "2022-04-28T13:17:57.651Z"
   },
   {
    "duration": 60,
    "start_time": "2022-04-28T13:19:03.296Z"
   },
   {
    "duration": 345,
    "start_time": "2022-04-28T13:19:12.930Z"
   },
   {
    "duration": 74,
    "start_time": "2022-04-28T13:21:43.910Z"
   },
   {
    "duration": 329,
    "start_time": "2022-04-28T13:22:17.932Z"
   },
   {
    "duration": 74,
    "start_time": "2022-04-28T13:22:53.411Z"
   },
   {
    "duration": 328,
    "start_time": "2022-04-28T13:23:01.748Z"
   },
   {
    "duration": 280,
    "start_time": "2022-04-28T13:23:06.714Z"
   },
   {
    "duration": 395,
    "start_time": "2022-04-28T13:23:44.671Z"
   },
   {
    "duration": 171,
    "start_time": "2022-04-28T13:23:47.741Z"
   }
  ],
  "kernelspec": {
   "display_name": "Python 3 (ipykernel)",
   "language": "python",
   "name": "python3"
  },
  "language_info": {
   "codemirror_mode": {
    "name": "ipython",
    "version": 3
   },
   "file_extension": ".py",
   "mimetype": "text/x-python",
   "name": "python",
   "nbconvert_exporter": "python",
   "pygments_lexer": "ipython3",
   "version": "3.9.12"
  },
  "toc": {
   "base_numbering": 1,
   "nav_menu": {},
   "number_sections": true,
   "sideBar": true,
   "skip_h1_title": true,
   "title_cell": "Содержание",
   "title_sidebar": "Содержание",
   "toc_cell": true,
   "toc_position": {
    "height": "calc(100% - 180px)",
    "left": "10px",
    "top": "150px",
    "width": "287.391px"
   },
   "toc_section_display": true,
   "toc_window_display": true
  }
 },
 "nbformat": 4,
 "nbformat_minor": 2
}
