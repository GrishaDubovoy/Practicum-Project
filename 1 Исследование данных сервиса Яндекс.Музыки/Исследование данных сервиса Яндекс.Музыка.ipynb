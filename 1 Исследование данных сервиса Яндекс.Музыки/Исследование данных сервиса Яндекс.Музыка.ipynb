{
 "cells": [
  {
   "cell_type": "markdown",
   "metadata": {
    "id": "E0vqbgi9ay0H"
   },
   "source": [
    "# Яндекс.Музыка"
   ]
  },
  {
   "cell_type": "markdown",
   "metadata": {
    "id": "VUC88oWjTJw2"
   },
   "source": [
    "Сравнение Москвы и Петербурга окружено мифами. Например:\n",
    " * Москва — мегаполис, подчинённый жёсткому ритму рабочей недели;\n",
    " * Петербург — культурная столица, со своими вкусами.\n",
    "\n",
    "На данных Яндекс.Музыки вы сравните поведение пользователей двух столиц.\n",
    "\n",
    "**Цель исследования** — проверьте три гипотезы:\n",
    "1. Активность пользователей зависит от дня недели. Причём в Москве и Петербурге это проявляется по-разному.\n",
    "2. В понедельник утром в Москве преобладают одни жанры, а в Петербурге — другие. Так же и вечером пятницы преобладают разные жанры — в зависимости от города. \n",
    "3. Москва и Петербург предпочитают разные жанры музыки. В Москве чаще слушают поп-музыку, в Петербурге — русский рэп.\n",
    "\n",
    "**Ход исследования**\n",
    "\n",
    "Данные о поведении пользователей вы получите из файла `yandex_music_project.csv`. О качестве данных ничего не известно. Поэтому перед проверкой гипотез понадобится обзор данных. \n",
    "\n",
    "Вы проверите данные на ошибки и оцените их влияние на исследование. Затем, на этапе предобработки вы поищете возможность исправить самые критичные ошибки данных.\n",
    " \n",
    "Таким образом, исследование пройдёт в три этапа:\n",
    " 1. Обзор данных.\n",
    " 2. Предобработка данных.\n",
    " 3. Проверка гипотез.\n",
    "\n"
   ]
  },
  {
   "cell_type": "markdown",
   "metadata": {
    "id": "Ml1hmfXC_Zcs"
   },
   "source": [
    "## Обзор данных\n",
    "\n",
    "Составьте первое представление о данных Яндекс.Музыки.\n",
    "\n",
    "\n"
   ]
  },
  {
   "cell_type": "markdown",
   "metadata": {
    "id": "57eAOGIz_Zcs"
   },
   "source": [
    "Основной инструмент аналитика — `pandas`. Импортируйте эту библиотеку."
   ]
  },
  {
   "cell_type": "code",
   "execution_count": 1,
   "metadata": {
    "id": "AXN7PHPN_Zcs"
   },
   "outputs": [],
   "source": [
    "import pandas as pd # импорт библиотеки pandas"
   ]
  },
  {
   "cell_type": "markdown",
   "metadata": {
    "id": "SG23P8tt_Zcs"
   },
   "source": [
    "Прочитаем файл с данными и сохраним его в переменной `df`:"
   ]
  },
  {
   "cell_type": "code",
   "execution_count": 2,
   "metadata": {
    "id": "fFVu7vqh_Zct"
   },
   "outputs": [],
   "source": [
    "df = pd.read_csv('yandex_music_project.csv') # чтение файла с данными и сохранение в df"
   ]
  },
  {
   "cell_type": "markdown",
   "metadata": {
    "id": "rDoOMd3uTqnZ"
   },
   "source": [
    "Выведем на экран первые десять строк таблицы:"
   ]
  },
  {
   "cell_type": "code",
   "execution_count": 3,
   "metadata": {
    "id": "oWTVX3gW_Zct",
    "scrolled": true
   },
   "outputs": [
    {
     "data": {
      "text/html": [
       "<div>\n",
       "<style scoped>\n",
       "    .dataframe tbody tr th:only-of-type {\n",
       "        vertical-align: middle;\n",
       "    }\n",
       "\n",
       "    .dataframe tbody tr th {\n",
       "        vertical-align: top;\n",
       "    }\n",
       "\n",
       "    .dataframe thead th {\n",
       "        text-align: right;\n",
       "    }\n",
       "</style>\n",
       "<table border=\"1\" class=\"dataframe\">\n",
       "  <thead>\n",
       "    <tr style=\"text-align: right;\">\n",
       "      <th></th>\n",
       "      <th>userID</th>\n",
       "      <th>Track</th>\n",
       "      <th>artist</th>\n",
       "      <th>genre</th>\n",
       "      <th>City</th>\n",
       "      <th>time</th>\n",
       "      <th>Day</th>\n",
       "    </tr>\n",
       "  </thead>\n",
       "  <tbody>\n",
       "    <tr>\n",
       "      <td>0</td>\n",
       "      <td>FFB692EC</td>\n",
       "      <td>Kamigata To Boots</td>\n",
       "      <td>The Mass Missile</td>\n",
       "      <td>rock</td>\n",
       "      <td>Saint-Petersburg</td>\n",
       "      <td>20:28:33</td>\n",
       "      <td>Wednesday</td>\n",
       "    </tr>\n",
       "    <tr>\n",
       "      <td>1</td>\n",
       "      <td>55204538</td>\n",
       "      <td>Delayed Because of Accident</td>\n",
       "      <td>Andreas Rönnberg</td>\n",
       "      <td>rock</td>\n",
       "      <td>Moscow</td>\n",
       "      <td>14:07:09</td>\n",
       "      <td>Friday</td>\n",
       "    </tr>\n",
       "    <tr>\n",
       "      <td>2</td>\n",
       "      <td>20EC38</td>\n",
       "      <td>Funiculì funiculà</td>\n",
       "      <td>Mario Lanza</td>\n",
       "      <td>pop</td>\n",
       "      <td>Saint-Petersburg</td>\n",
       "      <td>20:58:07</td>\n",
       "      <td>Wednesday</td>\n",
       "    </tr>\n",
       "    <tr>\n",
       "      <td>3</td>\n",
       "      <td>A3DD03C9</td>\n",
       "      <td>Dragons in the Sunset</td>\n",
       "      <td>Fire + Ice</td>\n",
       "      <td>folk</td>\n",
       "      <td>Saint-Petersburg</td>\n",
       "      <td>08:37:09</td>\n",
       "      <td>Monday</td>\n",
       "    </tr>\n",
       "    <tr>\n",
       "      <td>4</td>\n",
       "      <td>E2DC1FAE</td>\n",
       "      <td>Soul People</td>\n",
       "      <td>Space Echo</td>\n",
       "      <td>dance</td>\n",
       "      <td>Moscow</td>\n",
       "      <td>08:34:34</td>\n",
       "      <td>Monday</td>\n",
       "    </tr>\n",
       "    <tr>\n",
       "      <td>5</td>\n",
       "      <td>842029A1</td>\n",
       "      <td>Преданная</td>\n",
       "      <td>IMPERVTOR</td>\n",
       "      <td>rusrap</td>\n",
       "      <td>Saint-Petersburg</td>\n",
       "      <td>13:09:41</td>\n",
       "      <td>Friday</td>\n",
       "    </tr>\n",
       "    <tr>\n",
       "      <td>6</td>\n",
       "      <td>4CB90AA5</td>\n",
       "      <td>True</td>\n",
       "      <td>Roman Messer</td>\n",
       "      <td>dance</td>\n",
       "      <td>Moscow</td>\n",
       "      <td>13:00:07</td>\n",
       "      <td>Wednesday</td>\n",
       "    </tr>\n",
       "    <tr>\n",
       "      <td>7</td>\n",
       "      <td>F03E1C1F</td>\n",
       "      <td>Feeling This Way</td>\n",
       "      <td>Polina Griffith</td>\n",
       "      <td>dance</td>\n",
       "      <td>Moscow</td>\n",
       "      <td>20:47:49</td>\n",
       "      <td>Wednesday</td>\n",
       "    </tr>\n",
       "    <tr>\n",
       "      <td>8</td>\n",
       "      <td>8FA1D3BE</td>\n",
       "      <td>И вновь продолжается бой</td>\n",
       "      <td>NaN</td>\n",
       "      <td>ruspop</td>\n",
       "      <td>Moscow</td>\n",
       "      <td>09:17:40</td>\n",
       "      <td>Friday</td>\n",
       "    </tr>\n",
       "    <tr>\n",
       "      <td>9</td>\n",
       "      <td>E772D5C0</td>\n",
       "      <td>Pessimist</td>\n",
       "      <td>NaN</td>\n",
       "      <td>dance</td>\n",
       "      <td>Saint-Petersburg</td>\n",
       "      <td>21:20:49</td>\n",
       "      <td>Wednesday</td>\n",
       "    </tr>\n",
       "  </tbody>\n",
       "</table>\n",
       "</div>"
      ],
      "text/plain": [
       "     userID                        Track            artist   genre  \\\n",
       "0  FFB692EC            Kamigata To Boots  The Mass Missile    rock   \n",
       "1  55204538  Delayed Because of Accident  Andreas Rönnberg    rock   \n",
       "2    20EC38            Funiculì funiculà       Mario Lanza     pop   \n",
       "3  A3DD03C9        Dragons in the Sunset        Fire + Ice    folk   \n",
       "4  E2DC1FAE                  Soul People        Space Echo   dance   \n",
       "5  842029A1                    Преданная         IMPERVTOR  rusrap   \n",
       "6  4CB90AA5                         True      Roman Messer   dance   \n",
       "7  F03E1C1F             Feeling This Way   Polina Griffith   dance   \n",
       "8  8FA1D3BE     И вновь продолжается бой               NaN  ruspop   \n",
       "9  E772D5C0                    Pessimist               NaN   dance   \n",
       "\n",
       "             City        time        Day  \n",
       "0  Saint-Petersburg  20:28:33  Wednesday  \n",
       "1            Moscow  14:07:09     Friday  \n",
       "2  Saint-Petersburg  20:58:07  Wednesday  \n",
       "3  Saint-Petersburg  08:37:09     Monday  \n",
       "4            Moscow  08:34:34     Monday  \n",
       "5  Saint-Petersburg  13:09:41     Friday  \n",
       "6            Moscow  13:00:07  Wednesday  \n",
       "7            Moscow  20:47:49  Wednesday  \n",
       "8            Moscow  09:17:40     Friday  \n",
       "9  Saint-Petersburg  21:20:49  Wednesday  "
      ]
     },
     "execution_count": 3,
     "metadata": {},
     "output_type": "execute_result"
    }
   ],
   "source": [
    "df.head(10) # получение первых 10 строк таблицы df"
   ]
  },
  {
   "cell_type": "markdown",
   "metadata": {
    "id": "EO73Kwic_Zct"
   },
   "source": [
    "Одной командой получить общую информацию о таблице:"
   ]
  },
  {
   "cell_type": "code",
   "execution_count": 4,
   "metadata": {
    "id": "DSf2kIb-_Zct",
    "scrolled": true
   },
   "outputs": [
    {
     "name": "stdout",
     "output_type": "stream",
     "text": [
      "<class 'pandas.core.frame.DataFrame'>\n",
      "RangeIndex: 65079 entries, 0 to 65078\n",
      "Data columns (total 7 columns):\n",
      "  userID    65079 non-null object\n",
      "Track       63848 non-null object\n",
      "artist      57876 non-null object\n",
      "genre       63881 non-null object\n",
      "  City      65079 non-null object\n",
      "time        65079 non-null object\n",
      "Day         65079 non-null object\n",
      "dtypes: object(7)\n",
      "memory usage: 3.5+ MB\n"
     ]
    }
   ],
   "source": [
    "df.info() # получение общей информации о данных в таблице df"
   ]
  },
  {
   "cell_type": "markdown",
   "metadata": {
    "id": "TaQ2Iwbr_Zct"
   },
   "source": [
    "Итак, в таблице семь столбцов. Тип данных во всех столбцах — `object`.\n",
    "\n",
    "Согласно документации к данным:\n",
    "* `userID` — идентификатор пользователя;\n",
    "* `Track` — название трека;  \n",
    "* `artist` — имя исполнителя;\n",
    "* `genre` — название жанра;\n",
    "* `City` — город пользователя;\n",
    "* `time` — время начала прослушивания;\n",
    "* `Day` — день недели.\n",
    "\n",
    "В названиях колонок видны три нарушения стиля:\n",
    "1. Строчные буквы сочетаются с прописными.\n",
    "2. Встречаются пробелы.\n",
    "3. Название столбцов 'userID', 'Track', '  City  ', 'Day' так же необходимо привести к змеиному стилю - 'user_id', 'track', 'city', 'day'.\n",
    "\n",
    "\n",
    "\n",
    "Количество значений в столбцах различается. Значит, в данных есть пропущенные значения.\n"
   ]
  },
  {
   "cell_type": "markdown",
   "metadata": {
    "id": "MCB6-dXG_Zct"
   },
   "source": [
    "**Выводы**\n",
    "\n",
    "В каждой строке таблицы — данные о прослушанном треке. Часть колонок описывает саму композицию: название, исполнителя и жанр. Остальные данные рассказывают о пользователе: из какого он города, когда он слушал музыку. \n",
    "\n",
    "Предварительно можно утверждать, что, данных достаточно для проверки гипотез. Но встречаются пропуски в данных, а в названиях колонок — расхождения с хорошим стилем.\n",
    "\n",
    "Чтобы двигаться дальше, нужно устранить проблемы в данных."
   ]
  },
  {
   "cell_type": "markdown",
   "metadata": {
    "id": "SjYF6Ub9_Zct"
   },
   "source": [
    "## Предобработка данных\n",
    "Исправьте стиль в заголовках столбцов, исключите пропуски. Затем проверьте данные на дубликаты."
   ]
  },
  {
   "cell_type": "markdown",
   "metadata": {
    "id": "dIaKXr29_Zct"
   },
   "source": [
    "### Стиль заголовков\n",
    "Выведите на экран названия столбцов:"
   ]
  },
  {
   "cell_type": "code",
   "execution_count": 5,
   "metadata": {
    "id": "oKOTdF_Q_Zct"
   },
   "outputs": [
    {
     "data": {
      "text/plain": [
       "Index(['  userID', 'Track', 'artist', 'genre', '  City  ', 'time', 'Day'], dtype='object')"
      ]
     },
     "execution_count": 5,
     "metadata": {},
     "output_type": "execute_result"
    }
   ],
   "source": [
    "df.columns # перечень названий столбцов таблицы df"
   ]
  },
  {
   "cell_type": "markdown",
   "metadata": {
    "id": "zj5534cv_Zct"
   },
   "source": [
    "Приведите названия в соответствие с хорошим стилем:\n",
    "* несколько слов в названии запишите в «змеином_регистре»,\n",
    "* все символы сделайте строчными,\n",
    "* устраните пробелы.\n",
    "\n",
    "Для этого переименуйте колонки так:\n",
    "* `'  userID'` → `'user_id'`;\n",
    "* `'Track'` → `'track'`;\n",
    "* `'  City  '` → `'city'`;\n",
    "* `'Day'` → `'day'`."
   ]
  },
  {
   "cell_type": "code",
   "execution_count": 6,
   "metadata": {
    "id": "ISlFqs5y_Zct"
   },
   "outputs": [],
   "source": [
    "df = df.rename(\n",
    "    columns = \n",
    "    {'  userID':'user_id',\n",
    "    'Track':'track',\n",
    "    '  City  ':'city',\n",
    "    'Day':'day'}) # переименование столбцов"
   ]
  },
  {
   "cell_type": "markdown",
   "metadata": {
    "id": "1dqbh00J_Zct"
   },
   "source": [
    "Проверьте результат. Для этого ещё раз выведите на экран названия столбцов:"
   ]
  },
  {
   "cell_type": "code",
   "execution_count": 7,
   "metadata": {
    "id": "d4NOAmTW_Zct"
   },
   "outputs": [
    {
     "data": {
      "text/plain": [
       "Index(['user_id', 'track', 'artist', 'genre', 'city', 'time', 'day'], dtype='object')"
      ]
     },
     "execution_count": 7,
     "metadata": {},
     "output_type": "execute_result"
    }
   ],
   "source": [
    "df.columns # проверка результатов - перечень названий столбцов"
   ]
  },
  {
   "cell_type": "markdown",
   "metadata": {
    "id": "5ISfbcfY_Zct"
   },
   "source": [
    "### Пропуски значений\n",
    "Сначала посчитайте, сколько в таблице пропущенных значений. Для этого достаточно двух методов `pandas`:"
   ]
  },
  {
   "cell_type": "code",
   "execution_count": 8,
   "metadata": {
    "id": "RskX29qr_Zct",
    "scrolled": true
   },
   "outputs": [
    {
     "data": {
      "text/plain": [
       "user_id       0\n",
       "track      1231\n",
       "artist     7203\n",
       "genre      1198\n",
       "city          0\n",
       "time          0\n",
       "day           0\n",
       "dtype: int64"
      ]
     },
     "execution_count": 8,
     "metadata": {},
     "output_type": "execute_result"
    }
   ],
   "source": [
    "df.isna().sum() # подсчёт пропусков"
   ]
  },
  {
   "cell_type": "markdown",
   "metadata": {
    "id": "qubhgnlO_Zct"
   },
   "source": [
    "Не все пропущенные значения влияют на исследование. Так в `track` и `artist` пропуски не важны для вашей работы. Достаточно заменить их явными обозначениями.\n",
    "\n",
    "Но пропуски в `genre` могут помешать сравнению музыкальных вкусов в Москве и Санкт-Петербурге. На практике было бы правильно установить причину пропусков и восстановить данные. Такой возможности нет в учебном проекте. Придётся:\n",
    "* заполнить и эти пропуски явными обозначениями,\n",
    "* оценить, насколько они повредят расчётам. "
   ]
  },
  {
   "cell_type": "markdown",
   "metadata": {
    "id": "fSv2laPA_Zct"
   },
   "source": [
    "Замените пропущенные значения в столбцах `track`, `artist` и `genre` на строку `'unknown'`. Для этого создайте список `columns_to_replace`, переберите его элементы циклом `for` и для каждого столбца выполните замену пропущенных значений:"
   ]
  },
  {
   "cell_type": "code",
   "execution_count": 9,
   "metadata": {
    "id": "KplB5qWs_Zct"
   },
   "outputs": [],
   "source": [
    "# перебор названий столбцов в цикле и замена пропущенных значений на 'unknown'\n",
    "columns_to_replace = ['artist','track','genre'] #имена столбцов с пропусками значений\n",
    "for column in columns_to_replace:\n",
    "    df=df.fillna(value = {column:'unknown'})"
   ]
  },
  {
   "cell_type": "markdown",
   "metadata": {
    "id": "Ilsm-MZo_Zct"
   },
   "source": [
    "Убедитесь, что в таблице не осталось пропусков. Для этого ещё раз посчитайте пропущенные значения."
   ]
  },
  {
   "cell_type": "code",
   "execution_count": 10,
   "metadata": {
    "id": "Tq4nYRX4_Zct",
    "scrolled": true
   },
   "outputs": [
    {
     "data": {
      "text/plain": [
       "user_id    0\n",
       "track      0\n",
       "artist     0\n",
       "genre      0\n",
       "city       0\n",
       "time       0\n",
       "day        0\n",
       "dtype: int64"
      ]
     },
     "execution_count": 10,
     "metadata": {},
     "output_type": "execute_result"
    }
   ],
   "source": [
    "df.isna().sum()# подсчёт пропусков"
   ]
  },
  {
   "cell_type": "markdown",
   "metadata": {
    "id": "BWKRtBJ3_Zct"
   },
   "source": [
    "### Дубликаты\n",
    "Посчитайте явные дубликаты в таблице одной командой:"
   ]
  },
  {
   "cell_type": "code",
   "execution_count": 11,
   "metadata": {
    "id": "36eES_S0_Zct"
   },
   "outputs": [
    {
     "data": {
      "text/plain": [
       "3826"
      ]
     },
     "execution_count": 11,
     "metadata": {},
     "output_type": "execute_result"
    }
   ],
   "source": [
    "df.duplicated().sum() # подсчёт явных дубликатов "
   ]
  },
  {
   "cell_type": "markdown",
   "metadata": {
    "id": "Ot25h6XR_Zct"
   },
   "source": [
    "Вызовите специальный метод `pandas`, чтобы удалить явные дубликаты:"
   ]
  },
  {
   "cell_type": "code",
   "execution_count": 12,
   "metadata": {
    "id": "exFHq6tt_Zct"
   },
   "outputs": [],
   "source": [
    "df = df.drop_duplicates().reset_index(drop=True) # удаление явных дубликатов (с удалением старых индексов и формированием новых)"
   ]
  },
  {
   "cell_type": "markdown",
   "metadata": {
    "id": "Im2YwBEG_Zct"
   },
   "source": [
    "Ещё раз посчитайте явные дубликаты в таблице — убедитесь, что полностью от них избавились:"
   ]
  },
  {
   "cell_type": "code",
   "execution_count": 13,
   "metadata": {
    "id": "-8PuNWQ0_Zct"
   },
   "outputs": [
    {
     "data": {
      "text/plain": [
       "0"
      ]
     },
     "execution_count": 13,
     "metadata": {},
     "output_type": "execute_result"
    }
   ],
   "source": [
    "df.duplicated().sum() # проверка на отсутствие дубликатов"
   ]
  },
  {
   "cell_type": "markdown",
   "metadata": {
    "id": "QlFBsxAr_Zct"
   },
   "source": [
    "Теперь избавьтесь от неявных дубликатов в колонке `genre`. Например, название одного и того же жанра может быть записано немного по-разному. Такие ошибки тоже повлияют на результат исследования."
   ]
  },
  {
   "cell_type": "markdown",
   "metadata": {
    "id": "eSjWwsOh_Zct"
   },
   "source": [
    "Выведите на экран список уникальных названий жанров, отсортированный в алфавитном порядке. Для этого:\n",
    "* извлеките нужный столбец датафрейма, \n",
    "* примените к нему метод сортировки,\n",
    "* для отсортированного столбца вызовите метод, который вернёт уникальные значения из столбца."
   ]
  },
  {
   "cell_type": "code",
   "execution_count": 14,
   "metadata": {
    "id": "JIUcqzZN_Zct",
    "scrolled": true
   },
   "outputs": [
    {
     "data": {
      "text/plain": [
       "array(['acid', 'acoustic', 'action', 'adult', 'africa', 'afrikaans',\n",
       "       'alternative', 'alternativepunk', 'ambient', 'americana',\n",
       "       'animated', 'anime', 'arabesk', 'arabic', 'arena',\n",
       "       'argentinetango', 'art', 'audiobook', 'author', 'avantgarde',\n",
       "       'axé', 'baile', 'balkan', 'beats', 'bigroom', 'black', 'bluegrass',\n",
       "       'blues', 'bollywood', 'bossa', 'brazilian', 'breakbeat', 'breaks',\n",
       "       'broadway', 'cantautori', 'cantopop', 'canzone', 'caribbean',\n",
       "       'caucasian', 'celtic', 'chamber', 'chanson', 'children', 'chill',\n",
       "       'chinese', 'choral', 'christian', 'christmas', 'classical',\n",
       "       'classicmetal', 'club', 'colombian', 'comedy', 'conjazz',\n",
       "       'contemporary', 'country', 'cuban', 'dance', 'dancehall',\n",
       "       'dancepop', 'dark', 'death', 'deep', 'deutschrock', 'deutschspr',\n",
       "       'dirty', 'disco', 'dnb', 'documentary', 'downbeat', 'downtempo',\n",
       "       'drum', 'dub', 'dubstep', 'eastern', 'easy', 'electronic',\n",
       "       'electropop', 'emo', 'entehno', 'epicmetal', 'estrada', 'ethnic',\n",
       "       'eurofolk', 'european', 'experimental', 'extrememetal', 'fado',\n",
       "       'fairytail', 'film', 'fitness', 'flamenco', 'folk', 'folklore',\n",
       "       'folkmetal', 'folkrock', 'folktronica', 'forró', 'frankreich',\n",
       "       'französisch', 'french', 'funk', 'future', 'gangsta', 'garage',\n",
       "       'german', 'ghazal', 'gitarre', 'glitch', 'gospel', 'gothic',\n",
       "       'grime', 'grunge', 'gypsy', 'handsup', \"hard'n'heavy\", 'hardcore',\n",
       "       'hardstyle', 'hardtechno', 'hip', 'hip-hop', 'hiphop',\n",
       "       'historisch', 'holiday', 'hop', 'horror', 'house', 'hymn', 'idm',\n",
       "       'independent', 'indian', 'indie', 'indipop', 'industrial',\n",
       "       'inspirational', 'instrumental', 'international', 'irish', 'jam',\n",
       "       'japanese', 'jazz', 'jewish', 'jpop', 'jungle', 'k-pop',\n",
       "       'karadeniz', 'karaoke', 'kayokyoku', 'korean', 'laiko', 'latin',\n",
       "       'latino', 'leftfield', 'local', 'lounge', 'loungeelectronic',\n",
       "       'lovers', 'malaysian', 'mandopop', 'marschmusik', 'meditative',\n",
       "       'mediterranean', 'melodic', 'metal', 'metalcore', 'mexican',\n",
       "       'middle', 'minimal', 'miscellaneous', 'modern', 'mood', 'mpb',\n",
       "       'muslim', 'native', 'neoklassik', 'neue', 'new', 'newage',\n",
       "       'newwave', 'nu', 'nujazz', 'numetal', 'oceania', 'old', 'opera',\n",
       "       'orchestral', 'other', 'piano', 'podcasts', 'pop', 'popdance',\n",
       "       'popelectronic', 'popeurodance', 'poprussian', 'post',\n",
       "       'posthardcore', 'postrock', 'power', 'progmetal', 'progressive',\n",
       "       'psychedelic', 'punjabi', 'punk', 'quebecois', 'ragga', 'ram',\n",
       "       'rancheras', 'rap', 'rave', 'reggae', 'reggaeton', 'regional',\n",
       "       'relax', 'religious', 'retro', 'rhythm', 'rnb', 'rnr', 'rock',\n",
       "       'rockabilly', 'rockalternative', 'rockindie', 'rockother',\n",
       "       'romance', 'roots', 'ruspop', 'rusrap', 'rusrock', 'russian',\n",
       "       'salsa', 'samba', 'scenic', 'schlager', 'self', 'sertanejo',\n",
       "       'shanson', 'shoegazing', 'showtunes', 'singer', 'ska', 'skarock',\n",
       "       'slow', 'smooth', 'soft', 'soul', 'soulful', 'sound', 'soundtrack',\n",
       "       'southern', 'specialty', 'speech', 'spiritual', 'sport',\n",
       "       'stonerrock', 'surf', 'swing', 'synthpop', 'synthrock',\n",
       "       'sängerportrait', 'tango', 'tanzorchester', 'taraftar', 'tatar',\n",
       "       'tech', 'techno', 'teen', 'thrash', 'top', 'traditional',\n",
       "       'tradjazz', 'trance', 'tribal', 'trip', 'triphop', 'tropical',\n",
       "       'türk', 'türkçe', 'ukrrock', 'unknown', 'urban', 'uzbek',\n",
       "       'variété', 'vi', 'videogame', 'vocal', 'western', 'world',\n",
       "       'worldbeat', 'ïîï', 'электроника'], dtype=object)"
      ]
     },
     "execution_count": 14,
     "metadata": {},
     "output_type": "execute_result"
    }
   ],
   "source": [
    "df['genre'].sort_values().unique() # Просмотр уникальных названий жанров"
   ]
  },
  {
   "cell_type": "markdown",
   "metadata": {
    "id": "qej-Qmuo_Zct"
   },
   "source": [
    "Просмотрите список и найдите неявные дубликаты названия `hiphop`. Это могут быть названия с ошибками или альтернативные названия того же жанра.\n",
    "\n",
    "Вы увидите следующие неявные дубликаты:\n",
    "* *hip*,\n",
    "* *hop*,\n",
    "* *hip-hop*.\n",
    "\n",
    "Так же есть неявные дубликаты:\n",
    "* *'электроника'* у жанрка *'electronic'*\n",
    "\n",
    "\n",
    "\n",
    "Чтобы очистить от них таблицу, напишите функцию `replace_wrong_genres()` с двумя параметрами: \n",
    "* `wrong_genres` — список дубликатов,\n",
    "* `correct_genre` — строка с правильным значением.\n",
    "\n",
    "Функция должна исправить колонку `genre` в таблице `df`: заменить каждое значение из списка `wrong_genres` на значение из `correct_genre`."
   ]
  },
  {
   "cell_type": "code",
   "execution_count": 15,
   "metadata": {
    "id": "ErNDkmns_Zct"
   },
   "outputs": [],
   "source": [
    "def replace_wrong_genres(wrong_genres,correct_genre): # Функция для замены неявных дубликатов    \n",
    "    for genre in wrong_genres:\n",
    "        df['genre'] = df['genre'].replace(wrong_genres,correct_genre)"
   ]
  },
  {
   "cell_type": "markdown",
   "metadata": {
    "id": "aDoBJxbA_Zct"
   },
   "source": [
    "Вызовите `replace_wrong_genres()` и передайте ей такие аргументы, чтобы она устранила неявные дубликаты: вместо `hip`, `hop` и `hip-hop` в таблице должно быть значение `hiphop`:"
   ]
  },
  {
   "cell_type": "code",
   "execution_count": 16,
   "metadata": {
    "id": "YN5i2hpmSo09"
   },
   "outputs": [],
   "source": [
    "# Устранение неявных дубликатов\n",
    "wrong_hiphop = ['hip','hop','hip-hop']\n",
    "correct_hiphop = 'hiphop'\n",
    "replace_wrong_genres(wrong_hiphop,correct_hiphop)\n",
    "replace_wrong_genres('электроника','electronic')"
   ]
  },
  {
   "cell_type": "markdown",
   "metadata": {
    "id": "zQKF16_RG15m"
   },
   "source": [
    "Проверьте, что заменили неправильные названия:\n",
    "\n",
    "*   hip\n",
    "*   hop\n",
    "*   hip-hop\n",
    "*   электроника\n",
    "\n",
    "Выведите отсортированный список уникальных значений столбца `genre`:"
   ]
  },
  {
   "cell_type": "code",
   "execution_count": 17,
   "metadata": {
    "id": "wvixALnFG15m"
   },
   "outputs": [
    {
     "data": {
      "text/plain": [
       "array(['acid', 'acoustic', 'action', 'adult', 'africa', 'afrikaans',\n",
       "       'alternative', 'alternativepunk', 'ambient', 'americana',\n",
       "       'animated', 'anime', 'arabesk', 'arabic', 'arena',\n",
       "       'argentinetango', 'art', 'audiobook', 'author', 'avantgarde',\n",
       "       'axé', 'baile', 'balkan', 'beats', 'bigroom', 'black', 'bluegrass',\n",
       "       'blues', 'bollywood', 'bossa', 'brazilian', 'breakbeat', 'breaks',\n",
       "       'broadway', 'cantautori', 'cantopop', 'canzone', 'caribbean',\n",
       "       'caucasian', 'celtic', 'chamber', 'chanson', 'children', 'chill',\n",
       "       'chinese', 'choral', 'christian', 'christmas', 'classical',\n",
       "       'classicmetal', 'club', 'colombian', 'comedy', 'conjazz',\n",
       "       'contemporary', 'country', 'cuban', 'dance', 'dancehall',\n",
       "       'dancepop', 'dark', 'death', 'deep', 'deutschrock', 'deutschspr',\n",
       "       'dirty', 'disco', 'dnb', 'documentary', 'downbeat', 'downtempo',\n",
       "       'drum', 'dub', 'dubstep', 'eastern', 'easy', 'electronic',\n",
       "       'electropop', 'emo', 'entehno', 'epicmetal', 'estrada', 'ethnic',\n",
       "       'eurofolk', 'european', 'experimental', 'extrememetal', 'fado',\n",
       "       'fairytail', 'film', 'fitness', 'flamenco', 'folk', 'folklore',\n",
       "       'folkmetal', 'folkrock', 'folktronica', 'forró', 'frankreich',\n",
       "       'französisch', 'french', 'funk', 'future', 'gangsta', 'garage',\n",
       "       'german', 'ghazal', 'gitarre', 'glitch', 'gospel', 'gothic',\n",
       "       'grime', 'grunge', 'gypsy', 'handsup', \"hard'n'heavy\", 'hardcore',\n",
       "       'hardstyle', 'hardtechno', 'hiphop', 'historisch', 'holiday',\n",
       "       'horror', 'house', 'hymn', 'idm', 'independent', 'indian', 'indie',\n",
       "       'indipop', 'industrial', 'inspirational', 'instrumental',\n",
       "       'international', 'irish', 'jam', 'japanese', 'jazz', 'jewish',\n",
       "       'jpop', 'jungle', 'k-pop', 'karadeniz', 'karaoke', 'kayokyoku',\n",
       "       'korean', 'laiko', 'latin', 'latino', 'leftfield', 'local',\n",
       "       'lounge', 'loungeelectronic', 'lovers', 'malaysian', 'mandopop',\n",
       "       'marschmusik', 'meditative', 'mediterranean', 'melodic', 'metal',\n",
       "       'metalcore', 'mexican', 'middle', 'minimal', 'miscellaneous',\n",
       "       'modern', 'mood', 'mpb', 'muslim', 'native', 'neoklassik', 'neue',\n",
       "       'new', 'newage', 'newwave', 'nu', 'nujazz', 'numetal', 'oceania',\n",
       "       'old', 'opera', 'orchestral', 'other', 'piano', 'podcasts', 'pop',\n",
       "       'popdance', 'popelectronic', 'popeurodance', 'poprussian', 'post',\n",
       "       'posthardcore', 'postrock', 'power', 'progmetal', 'progressive',\n",
       "       'psychedelic', 'punjabi', 'punk', 'quebecois', 'ragga', 'ram',\n",
       "       'rancheras', 'rap', 'rave', 'reggae', 'reggaeton', 'regional',\n",
       "       'relax', 'religious', 'retro', 'rhythm', 'rnb', 'rnr', 'rock',\n",
       "       'rockabilly', 'rockalternative', 'rockindie', 'rockother',\n",
       "       'romance', 'roots', 'ruspop', 'rusrap', 'rusrock', 'russian',\n",
       "       'salsa', 'samba', 'scenic', 'schlager', 'self', 'sertanejo',\n",
       "       'shanson', 'shoegazing', 'showtunes', 'singer', 'ska', 'skarock',\n",
       "       'slow', 'smooth', 'soft', 'soul', 'soulful', 'sound', 'soundtrack',\n",
       "       'southern', 'specialty', 'speech', 'spiritual', 'sport',\n",
       "       'stonerrock', 'surf', 'swing', 'synthpop', 'synthrock',\n",
       "       'sängerportrait', 'tango', 'tanzorchester', 'taraftar', 'tatar',\n",
       "       'tech', 'techno', 'teen', 'thrash', 'top', 'traditional',\n",
       "       'tradjazz', 'trance', 'tribal', 'trip', 'triphop', 'tropical',\n",
       "       'türk', 'türkçe', 'ukrrock', 'unknown', 'urban', 'uzbek',\n",
       "       'variété', 'vi', 'videogame', 'vocal', 'western', 'world',\n",
       "       'worldbeat', 'ïîï'], dtype=object)"
      ]
     },
     "execution_count": 17,
     "metadata": {},
     "output_type": "execute_result"
    }
   ],
   "source": [
    "df['genre'].sort_values().unique()# Проверка на неявные дубликаты"
   ]
  },
  {
   "cell_type": "markdown",
   "metadata": {
    "id": "jz6a9-7HQUDd"
   },
   "source": [
    "**Выводы**\n",
    "\n",
    "Предобработка обнаружила три проблемы в данных:\n",
    "\n",
    "- нарушения в стиле заголовков,\n",
    "- пропущенные значения,\n",
    "- дубликаты — явные и неявные.\n",
    "\n",
    "Вы исправили заголовки, чтобы упростить работу с таблицей. Без дубликатов исследование станет более точным.\n",
    "\n",
    "Пропущенные значения вы заменили на `'unknown'`. Ещё предстоит увидеть, не повредят ли исследованию пропуски в колонке `genre`.\n",
    "\n",
    "Теперь можно перейти к проверке гипотез. "
   ]
  },
  {
   "cell_type": "markdown",
   "metadata": {
    "id": "WttZHXH0SqKk"
   },
   "source": [
    "## Проверка гипотез"
   ]
  },
  {
   "cell_type": "markdown",
   "metadata": {
    "id": "Im936VVi_Zcu"
   },
   "source": [
    "### Сравнение поведения пользователей двух столиц"
   ]
  },
  {
   "cell_type": "markdown",
   "metadata": {
    "id": "nwt_MuaL_Zcu"
   },
   "source": [
    "Первая гипотеза утверждает, что пользователи по-разному слушают музыку в Москве и Санкт-Петербурге. Проверьте это предположение по данным о трёх днях недели — понедельнике, среде и пятнице. Для этого:\n",
    "\n",
    "* Разделите пользователей Москвы и Санкт-Петербурга\n",
    "* Сравните, сколько треков послушала каждая группа пользователей в понедельник, среду и пятницу.\n"
   ]
  },
  {
   "cell_type": "markdown",
   "metadata": {
    "id": "8Dw_YMmT_Zcu"
   },
   "source": [
    "Для тренировки сначала выполните каждый из расчётов по отдельности. \n",
    "\n",
    "Оцените активность пользователей в каждом городе. Сгруппируйте данные по городу и посчитайте прослушивания в каждой группе.\n",
    "\n"
   ]
  },
  {
   "cell_type": "code",
   "execution_count": 18,
   "metadata": {
    "id": "0_Qs96oh_Zcu",
    "scrolled": false
   },
   "outputs": [
    {
     "data": {
      "text/plain": [
       "city\n",
       "Moscow              42741\n",
       "Saint-Petersburg    18512\n",
       "Name: user_id, dtype: int64"
      ]
     },
     "execution_count": 18,
     "metadata": {},
     "output_type": "execute_result"
    }
   ],
   "source": [
    "df.groupby('city')['user_id'].count() # Подсчёт прослушиваний в каждом городе"
   ]
  },
  {
   "cell_type": "markdown",
   "metadata": {
    "id": "dzli3w8o_Zcu"
   },
   "source": [
    "В Москве прослушиваний больше, чем в Петербурге. Из этого не следует, что московские пользователи чаще слушают музыку. Просто самих пользователей в Москве больше.\n",
    "\n",
    "Теперь сгруппируйте данные по дню недели и подсчитайте прослушивания в понедельник, среду и пятницу. Учтите, что в данных есть информация только о прослушиваниях только за эти дни.\n"
   ]
  },
  {
   "cell_type": "code",
   "execution_count": 19,
   "metadata": {
    "id": "uZMKjiJz_Zcu",
    "scrolled": false
   },
   "outputs": [
    {
     "data": {
      "text/plain": [
       "day\n",
       "Friday       21840\n",
       "Monday       21354\n",
       "Wednesday    18059\n",
       "Name: user_id, dtype: int64"
      ]
     },
     "execution_count": 19,
     "metadata": {},
     "output_type": "execute_result"
    }
   ],
   "source": [
    "df.groupby('day')['user_id'].count() # Подсчёт прослушиваний в каждый из трёх дней"
   ]
  },
  {
   "cell_type": "markdown",
   "metadata": {
    "id": "cC2tNrlL_Zcu"
   },
   "source": [
    "В среднем пользователи из двух городов менее активны по средам. Но картина может измениться, если рассмотреть каждый город в отдельности."
   ]
  },
  {
   "cell_type": "markdown",
   "metadata": {
    "id": "POzs8bGa_Zcu"
   },
   "source": [
    "Вы видели, как работает группировка по городу и по дням недели. Теперь напишите функцию, которая объединит два эти расчёта.\n",
    "\n",
    "Создайте функцию `number_tracks()`, которая посчитает прослушивания для заданного дня и города. Ей понадобятся два параметра:\n",
    "* день недели,\n",
    "* название города.\n",
    "\n",
    "В функции сохраните в переменную строки исходной таблицы, у которых значение:\n",
    "  * в колонке `day` равно параметру `day`,\n",
    "  * в колонке `city` равно параметру `city`.\n",
    "\n",
    "Для этого примените последовательную фильтрацию с логической индексацией.\n",
    "\n",
    "Затем посчитайте значения в столбце `user_id` получившейся таблицы. Результат сохраните в новую переменную. Верните эту переменную из функции."
   ]
  },
  {
   "cell_type": "code",
   "execution_count": 20,
   "metadata": {
    "id": "Nz3GdQB1_Zcu"
   },
   "outputs": [],
   "source": [
    "def number_tracks(day,city):# <создание функции number_tracks()> # Объявляется функция с двумя параметрами: day, city.\n",
    "    track_list = df[df['day'] == day]  # В переменной track_list сохраняются те строки таблицы df, для которых значение\n",
    "                                       # в столбце 'day' равно параметру day и\n",
    "    track_list = track_list[track_list['city'] == city] # одновременно значение в столбце 'city' равно параметру city \n",
    "    track_list_count = track_list['user_id'].count()    # В переменной track_list_count сохраняется число значений \n",
    "                                                        # столбца 'user_id', рассчитанное методом count() для таблицы track_list                     \n",
    "    return track_list_count # Функция возвращает число - значение track_list_count\n",
    "\n",
    "# Функция для подсчёта прослушиваний для конкретного города и дня.\n",
    "# С помощью последовательной фильтрации с логической индексацией она \n",
    "# сначала получит из исходной таблицы строки с нужным днём,\n",
    "# затем из результата отфильтрует строки с нужным городом,\n",
    "# методом count() посчитает количество значений в колонке user_id. \n",
    "# Это количество функция вернёт в качестве результата"
   ]
  },
  {
   "cell_type": "markdown",
   "metadata": {
    "id": "ytf7xFrFJQ2r"
   },
   "source": [
    "Вызовите `number_tracks()` шесть раз, меняя значение параметров — так, чтобы получить данные для каждого города в каждый из трёх дней."
   ]
  },
  {
   "cell_type": "code",
   "execution_count": 21,
   "metadata": {
    "id": "rJcRATNQ_Zcu"
   },
   "outputs": [
    {
     "data": {
      "text/plain": [
       "15740"
      ]
     },
     "execution_count": 21,
     "metadata": {},
     "output_type": "execute_result"
    }
   ],
   "source": [
    "number_tracks('Monday','Moscow') # количество прослушиваний в Москве по понедельникам"
   ]
  },
  {
   "cell_type": "code",
   "execution_count": 22,
   "metadata": {
    "id": "hq_ncZ5T_Zcu"
   },
   "outputs": [
    {
     "data": {
      "text/plain": [
       "5614"
      ]
     },
     "execution_count": 22,
     "metadata": {},
     "output_type": "execute_result"
    }
   ],
   "source": [
    "number_tracks('Monday','Saint-Petersburg') # количество прослушиваний в Санкт-Петербурге по понедельникам"
   ]
  },
  {
   "cell_type": "code",
   "execution_count": 23,
   "metadata": {
    "id": "_NTy2VPU_Zcu"
   },
   "outputs": [
    {
     "data": {
      "text/plain": [
       "11056"
      ]
     },
     "execution_count": 23,
     "metadata": {},
     "output_type": "execute_result"
    }
   ],
   "source": [
    "number_tracks('Wednesday','Moscow') # количество прослушиваний в Москве по средам"
   ]
  },
  {
   "cell_type": "code",
   "execution_count": 24,
   "metadata": {
    "id": "j2y3TAwo_Zcu"
   },
   "outputs": [
    {
     "data": {
      "text/plain": [
       "7003"
      ]
     },
     "execution_count": 24,
     "metadata": {},
     "output_type": "execute_result"
    }
   ],
   "source": [
    "number_tracks('Wednesday','Saint-Petersburg') # количество прослушиваний в Санкт-Петербурге по средам"
   ]
  },
  {
   "cell_type": "code",
   "execution_count": 25,
   "metadata": {
    "id": "vYDw5u_K_Zcu"
   },
   "outputs": [
    {
     "data": {
      "text/plain": [
       "15945"
      ]
     },
     "execution_count": 25,
     "metadata": {},
     "output_type": "execute_result"
    }
   ],
   "source": [
    "number_tracks('Friday','Moscow') # количество прослушиваний в Москве по пятницам"
   ]
  },
  {
   "cell_type": "code",
   "execution_count": 26,
   "metadata": {
    "id": "8_yzFtW3_Zcu"
   },
   "outputs": [
    {
     "data": {
      "text/plain": [
       "5895"
      ]
     },
     "execution_count": 26,
     "metadata": {},
     "output_type": "execute_result"
    }
   ],
   "source": [
    "number_tracks('Friday','Saint-Petersburg')# количество прослушиваний в Санкт-Петербурге по пятницам"
   ]
  },
  {
   "cell_type": "markdown",
   "metadata": {
    "id": "7QXffbO-_Zcu"
   },
   "source": [
    "Создайте c помощью конструктора `pd.DataFrame` таблицу, где\n",
    "* названия колонок — `['city', 'monday', 'wednesday', 'friday']`;\n",
    "* данные — результаты, которые вы получили с помощью `number_tracks`."
   ]
  },
  {
   "cell_type": "code",
   "execution_count": 28,
   "metadata": {
    "id": "APAcLpOr_Zcu",
    "scrolled": false
   },
   "outputs": [
    {
     "name": "stdout",
     "output_type": "stream",
     "text": [
      "[['Moscow', 15740, 11056, 15945], ['Saint-Petersburg', 5614, 7003, 5895]]\n"
     ]
    },
    {
     "data": {
      "text/html": [
       "<div>\n",
       "<style scoped>\n",
       "    .dataframe tbody tr th:only-of-type {\n",
       "        vertical-align: middle;\n",
       "    }\n",
       "\n",
       "    .dataframe tbody tr th {\n",
       "        vertical-align: top;\n",
       "    }\n",
       "\n",
       "    .dataframe thead th {\n",
       "        text-align: right;\n",
       "    }\n",
       "</style>\n",
       "<table border=\"1\" class=\"dataframe\">\n",
       "  <thead>\n",
       "    <tr style=\"text-align: right;\">\n",
       "      <th></th>\n",
       "      <th>monday</th>\n",
       "      <th>wednesday</th>\n",
       "      <th>friday</th>\n",
       "    </tr>\n",
       "    <tr>\n",
       "      <th>city</th>\n",
       "      <th></th>\n",
       "      <th></th>\n",
       "      <th></th>\n",
       "    </tr>\n",
       "  </thead>\n",
       "  <tbody>\n",
       "    <tr>\n",
       "      <td>Moscow</td>\n",
       "      <td>15740</td>\n",
       "      <td>11056</td>\n",
       "      <td>15945</td>\n",
       "    </tr>\n",
       "    <tr>\n",
       "      <td>Saint-Petersburg</td>\n",
       "      <td>5614</td>\n",
       "      <td>7003</td>\n",
       "      <td>5895</td>\n",
       "    </tr>\n",
       "  </tbody>\n",
       "</table>\n",
       "</div>"
      ],
      "text/plain": [
       "                  monday  wednesday  friday\n",
       "city                                       \n",
       "Moscow             15740      11056   15945\n",
       "Saint-Petersburg    5614       7003    5895"
      ]
     },
     "execution_count": 28,
     "metadata": {},
     "output_type": "execute_result"
    }
   ],
   "source": [
    "columns = ['city', 'monday', 'wednesday', 'friday'] # названия колонок\n",
    "cities = ['Moscow','Saint-Petersburg'] # список городв\n",
    "days = ['Monday','Wednesday','Friday'] # список дней недели\n",
    "data = [[],[]]    # список списков для хранения значений количества прослушиваний \n",
    "i = 0\n",
    "for city in cities:  # с помощью двух вложенных циклов заполним data данными возвращаемыми \n",
    "    data[i].append(city) # функцией number_tracks для каждого дня каждого города\n",
    "    for day in days:\n",
    "        data[i].append(number_tracks(day,city))\n",
    "    i += 1 \n",
    "    \n",
    "print(data)\n",
    "res = pd.DataFrame(data=data, columns=columns) # сохраним новый DataFrame в переменную res\n",
    "res.set_index('city', inplace=True) # уберем числовые индексы и заменим их городами\n",
    "res# вывод таблицы с результатами "
   ]
  },
  {
   "cell_type": "markdown",
   "metadata": {
    "id": "-EgPIHYu_Zcu"
   },
   "source": [
    "**Выводы**\n",
    "\n",
    "Данные показывают разницу поведения пользователей:\n",
    "\n",
    "- В Москве пик прослушиваний приходится на понедельник и пятницу, а в среду заметен спад.\n",
    "- В Петербурге, наоборот, больше слушают музыку по средам. Активность в понедельник и пятницу здесь почти в равной мере уступает среде.\n",
    "\n",
    "Значит, данные говорят в пользу первой гипотезы."
   ]
  },
  {
   "cell_type": "markdown",
   "metadata": {
    "id": "atZAxtq4_Zcu"
   },
   "source": [
    "### Музыка в начале и в конце недели"
   ]
  },
  {
   "cell_type": "markdown",
   "metadata": {
    "id": "eXrQqXFH_Zcu"
   },
   "source": [
    "Согласно второй гипотезе, утром в понедельник в Москве преобладают одни жанры, а в Петербурге — другие. Так же и вечером пятницы преобладают разные жанры — в зависимости от города."
   ]
  },
  {
   "cell_type": "markdown",
   "metadata": {
    "id": "S8UcW6Hw_Zcu"
   },
   "source": [
    "Сохраните таблицы с данными в две переменные:\n",
    "* по Москве — в `moscow_general`;\n",
    "* по Санкт-Петербургу — в `spb_general`."
   ]
  },
  {
   "cell_type": "code",
   "execution_count": null,
   "metadata": {
    "id": "qeaFfM_P_Zcu"
   },
   "outputs": [],
   "source": [
    "moscow_general = df[df['city'] == 'Moscow'] # получение таблицы moscow_general из тех строк таблицы df, \n",
    "                                            # для которых значение в столбце 'city' равно 'Moscow'"
   ]
  },
  {
   "cell_type": "code",
   "execution_count": null,
   "metadata": {
    "id": "ORaVRKto_Zcu"
   },
   "outputs": [],
   "source": [
    "spb_general = df[df['city'] == 'Saint-Petersburg'] # получение таблицы spb_general из тех строк таблицы df,\n",
    "                                                   # для которых значение в столбце 'city' равно 'Saint-Petersburg'"
   ]
  },
  {
   "cell_type": "markdown",
   "metadata": {
    "id": "MEJV-CX2_Zcu"
   },
   "source": [
    "Создайте функцию `genre_weekday()` с четырьмя параметрами:\n",
    "* таблица (датафрейм) с данными,\n",
    "* день недели,\n",
    "* начальная временная метка в формате 'hh:mm', \n",
    "* последняя временная метка в формате 'hh:mm'.\n",
    "\n",
    "Функция должна вернуть информацию о топ-10 жанров тех треков, которые прослушивали в указанный день, в промежутке между двумя отметками времени."
   ]
  },
  {
   "cell_type": "code",
   "execution_count": null,
   "metadata": {
    "id": "laJT9BYl_Zcu"
   },
   "outputs": [],
   "source": [
    "def genre_weekday(table, day, time1, time2):# Объявление функции genre_weekday() с параметрами table, day, time1, time2,\n",
    "                                            # которая возвращает информацию о самых популярных жанрах в указанный день в\n",
    "                                            # заданное время:\n",
    "    genre_df = table[table['day'] == day]   # 1) в переменную genre_df сохраняются те строки переданного датафрейма table, для\n",
    "                                            #    которых одновременно:\n",
    "                                            #    - значение в столбце day равно значению аргумента day\n",
    "    genre_df = genre_df[genre_df['time'] > time1] #    - значение в столбце time больше значения аргумента time1\n",
    "    genre_df = genre_df[genre_df['time'] < time2] #    - значение в столбце time меньше значения аргумента time2\n",
    "                                                  #    Используйте последовательную фильтрацию с помощью логической индексации.\n",
    "    genre_df_count = genre_df.groupby('genre')['user_id'].count() # 2) сгруппировать датафрейм genre_df по столбцу genre, взять один из его\n",
    "                                               #    столбцов и посчитать методом count() количество записей для каждого из\n",
    "                                               #    присутствующих жанров, получившийся Series записать в переменную\n",
    "                                               #    genre_df_count\n",
    "    genre_df_sorted = genre_df_count.sort_values(ascending=False) # 3) отсортировать genre_df_count по убыванию встречаемости и сохранить\n",
    "                                                                  #    в переменную genre_df_sorted\n",
    "    return genre_df_sorted.head(10) # 4) вернуть Series из 10 первых значений genre_df_sorted, это будут топ-10\n",
    "                                    #    популярных жанров (в указанный день, в заданное время)"
   ]
  },
  {
   "cell_type": "markdown",
   "metadata": {
    "id": "la2s2_PF_Zcu"
   },
   "source": [
    "Cравните результаты функции `genre_weekday()` для Москвы и Санкт-Петербурга в понедельник утром (с 7:00 до 11:00) и в пятницу вечером (с 17:00 до 23:00):"
   ]
  },
  {
   "cell_type": "code",
   "execution_count": null,
   "metadata": {
    "id": "yz7itPUQ_Zcu",
    "scrolled": true
   },
   "outputs": [],
   "source": [
    "# вызов функции для утра понедельника в Москве (вместо df — таблица moscow_general)\n",
    "# объекты, хранящие время, являются строками и сравниваются как строки\n",
    "# пример вызова: genre_weekday(moscow_general, 'Monday', '07:00', '11:00')\n",
    "genre_weekday(moscow_general, 'Monday', '07:00', '11:00')"
   ]
  },
  {
   "cell_type": "code",
   "execution_count": null,
   "metadata": {
    "id": "kwUcHPdy_Zcu"
   },
   "outputs": [],
   "source": [
    "# вызов функции для утра понедельника в Петербурге (вместо df — таблица spb_general)\n",
    "genre_weekday(spb_general, 'Monday', '07:00', '11:00')"
   ]
  },
  {
   "cell_type": "code",
   "execution_count": null,
   "metadata": {
    "id": "EzXVRE1o_Zcu"
   },
   "outputs": [],
   "source": [
    "# вызов функции для вечера пятницы в Москве\n",
    "genre_weekday(moscow_general, 'Friday', '17:00', '23:00')"
   ]
  },
  {
   "cell_type": "code",
   "execution_count": null,
   "metadata": {
    "id": "JZaEKu5v_Zcu",
    "scrolled": true
   },
   "outputs": [],
   "source": [
    "# вызов функции для вечера пятницы в Петербурге\n",
    "genre_weekday(spb_general, 'Friday', '17:00', '23:00')"
   ]
  },
  {
   "cell_type": "markdown",
   "metadata": {
    "id": "wrCe4MNX_Zcu"
   },
   "source": [
    "**Выводы**\n",
    "\n",
    "Если сравнить топ-10 жанров в понедельник утром, можно сделать такие выводы:\n",
    "\n",
    "1. В Москве и Петербурге слушают похожую музыку. Единственное отличие — в московский рейтинг вошёл жанр “world”, а в петербургский — джаз и классика.\n",
    "\n",
    "2. В Москве пропущенных значений оказалось так много, что значение `'unknown'` заняло десятое место среди самых популярных жанров. Значит, пропущенные значения занимают существенную долю в данных и угрожают достоверности исследования.\n",
    "\n",
    "Вечер пятницы не меняет эту картину. Некоторые жанры поднимаются немного выше, другие спускаются, но в целом топ-10 остаётся тем же самым.\n",
    "\n",
    "Таким образом, вторая гипотеза подтвердилась лишь частично:\n",
    "* Пользователи слушают похожую музыку в начале недели и в конце.\n",
    "* Разница между Москвой и Петербургом не слишком выражена. В Москве чаще слушают русскую популярную музыку, в Петербурге — джаз.\n",
    "\n",
    "Однако пропуски в данных ставят под сомнение этот результат. В Москве их так много, что рейтинг топ-10 мог бы выглядеть иначе, если бы не утерянные  данные о жанрах."
   ]
  },
  {
   "cell_type": "markdown",
   "metadata": {
    "id": "JolODAqr_Zcu"
   },
   "source": [
    "### Жанровые предпочтения в Москве и Петербурге\n",
    "\n",
    "Гипотеза: Петербург — столица рэпа, музыку этого жанра там слушают чаще, чем в Москве.  А Москва — город контрастов, в котором, тем не менее, преобладает поп-музыка."
   ]
  },
  {
   "cell_type": "markdown",
   "metadata": {
    "id": "DlegSvaT_Zcu"
   },
   "source": [
    "Сгруппируйте таблицу `moscow_general` по жанру и посчитайте прослушивания треков каждого жанра методом `count()`. Затем отсортируйте результат в порядке убывания и сохраните его в таблице `moscow_genres`."
   ]
  },
  {
   "cell_type": "code",
   "execution_count": null,
   "metadata": {
    "id": "r19lIPke_Zcu"
   },
   "outputs": [],
   "source": [
    "moscow_genres = moscow_general.groupby('genre')['user_id'].count().sort_values(ascending=False)\n",
    "# одной строкой: группировка таблицы moscow_general по столбцу 'genre', \n",
    "# подсчёт числа значений 'genre' в этой группировке методом count(), \n",
    "# сортировка получившегося Series в порядке убывания и сохранение в moscow_genres"
   ]
  },
  {
   "cell_type": "markdown",
   "metadata": {
    "id": "6kMuomxTiIr8"
   },
   "source": [
    "Выведите на экран первые десять строк `moscow_genres`:"
   ]
  },
  {
   "cell_type": "code",
   "execution_count": null,
   "metadata": {
    "id": "WhCSooF8_Zcv",
    "scrolled": true
   },
   "outputs": [],
   "source": [
    "moscow_genres.head(10) # просмотр первых 10 строк moscow_genres"
   ]
  },
  {
   "cell_type": "markdown",
   "metadata": {
    "id": "cnPG2vnN_Zcv"
   },
   "source": [
    "Теперь повторите то же и для Петербурга.\n",
    "\n",
    "Сгруппируйте таблицу `spb_general` по жанру. Посчитайте прослушивания треков каждого жанра. Результат отсортируйте в порядке убывания и сохраните в таблице `spb_genres`:\n"
   ]
  },
  {
   "cell_type": "code",
   "execution_count": null,
   "metadata": {
    "id": "gluLIpE7_Zcv"
   },
   "outputs": [],
   "source": [
    "spb_genres = spb_general.groupby('genre')['user_id'].count().sort_values(ascending=False)\n",
    "# одной строкой: группировка таблицы spb_general по столбцу 'genre', \n",
    "# подсчёт числа значений 'genre' в этой группировке методом count(), \n",
    "# сортировка получившегося Series в порядке убывания и сохранение в spb_genres"
   ]
  },
  {
   "cell_type": "markdown",
   "metadata": {
    "id": "5Doha_ODgyQ8"
   },
   "source": [
    "Выведите на экран первые десять строк `spb_genres`:"
   ]
  },
  {
   "cell_type": "code",
   "execution_count": null,
   "metadata": {
    "id": "uaGJHjVU_Zcv",
    "scrolled": true
   },
   "outputs": [],
   "source": [
    "spb_genres.head(10) # просмотр первых 10 строк spb_genres"
   ]
  },
  {
   "cell_type": "markdown",
   "metadata": {
    "id": "RY51YJYu_Zcv"
   },
   "source": [
    "**Выводы**"
   ]
  },
  {
   "cell_type": "markdown",
   "metadata": {
    "id": "nVhnJEm__Zcv"
   },
   "source": [
    "Гипотеза частично подтвердилась:\n",
    "* Поп-музыка — самый популярный жанр в Москве, как и предполагала гипотеза. Более того, в топ-10 жанров встречается близкий жанр — русская популярная музыка.\n",
    "* Вопреки ожиданиям, рэп одинаково популярен в Москве и Петербурге. \n"
   ]
  },
  {
   "cell_type": "markdown",
   "metadata": {
    "id": "ykKQ0N65_Zcv"
   },
   "source": [
    "## Итоги исследования"
   ]
  },
  {
   "cell_type": "markdown",
   "metadata": {
    "id": "tjUwbHb3_Zcv"
   },
   "source": [
    "Вы проверили три гипотезы и установили:\n",
    "\n",
    "1.  День недели по-разному влияет на активность пользователей в Москве и Петербурге. \n",
    "\n",
    "Первая гипотеза полностью подтвердилась.\n",
    "\n",
    "2.  Музыкальные предпочтения не сильно меняются в течение недели — будь то Москва или Петербург. Небольшие различия заметны в начале недели, по понедельникам:\n",
    "* в Москве слушают музыку жанра “world”,\n",
    "* в Петербурге — джаз и классику.\n",
    "\n",
    "Таким образом, вторая гипотеза подтвердилась лишь отчасти. Этот результат мог оказаться иным, если бы не пропуски в данных.\n",
    "\n",
    "3.  Во вкусах пользователей Москвы и Петербурга больше общего чем различий. Вопреки ожиданиям, предпочтения жанров в Петербурге напоминают московские.\n",
    "\n",
    "Третья гипотеза не подтвердилась. Если различия в предпочтениях и существуют, на основной массе пользователей они незаметны.\n"
   ]
  },
  {
   "cell_type": "code",
   "execution_count": null,
   "metadata": {},
   "outputs": [],
   "source": []
  }
 ],
 "metadata": {
  "ExecuteTimeLog": [
   {
    "duration": 579,
    "start_time": "2022-02-04T01:18:40.906Z"
   },
   {
    "duration": 262,
    "start_time": "2022-02-04T01:19:04.006Z"
   },
   {
    "duration": 137,
    "start_time": "2022-02-04T01:19:14.045Z"
   },
   {
    "duration": 17,
    "start_time": "2022-02-04T01:19:32.340Z"
   },
   {
    "duration": 25,
    "start_time": "2022-02-04T01:19:46.909Z"
   },
   {
    "duration": 23,
    "start_time": "2022-02-04T01:19:55.966Z"
   },
   {
    "duration": 434,
    "start_time": "2022-02-04T12:09:52.599Z"
   },
   {
    "duration": 397,
    "start_time": "2022-02-04T12:10:08.993Z"
   },
   {
    "duration": 381,
    "start_time": "2022-02-04T12:10:27.632Z"
   },
   {
    "duration": 779,
    "start_time": "2022-02-04T12:10:33.532Z"
   },
   {
    "duration": 172,
    "start_time": "2022-02-04T12:10:35.076Z"
   },
   {
    "duration": 25,
    "start_time": "2022-02-04T12:10:38.033Z"
   },
   {
    "duration": 31,
    "start_time": "2022-02-04T12:10:39.515Z"
   },
   {
    "duration": 450,
    "start_time": "2022-02-04T12:11:26.548Z"
   },
   {
    "duration": 32,
    "start_time": "2022-02-04T12:11:37.472Z"
   },
   {
    "duration": 428,
    "start_time": "2022-02-04T12:11:42.184Z"
   },
   {
    "duration": 5,
    "start_time": "2022-02-04T12:11:55.059Z"
   },
   {
    "duration": 26,
    "start_time": "2022-02-04T12:13:26.381Z"
   },
   {
    "duration": 5,
    "start_time": "2022-02-04T12:13:33.231Z"
   },
   {
    "duration": 30,
    "start_time": "2022-02-04T12:13:43.159Z"
   },
   {
    "duration": 6,
    "start_time": "2022-02-04T12:13:45.750Z"
   },
   {
    "duration": 32,
    "start_time": "2022-02-04T12:14:18.320Z"
   },
   {
    "duration": 19,
    "start_time": "2022-02-04T12:20:40.744Z"
   },
   {
    "duration": 30,
    "start_time": "2022-02-04T12:20:54.276Z"
   },
   {
    "duration": 19,
    "start_time": "2022-02-04T12:21:34.867Z"
   },
   {
    "duration": 30,
    "start_time": "2022-02-04T12:21:37.966Z"
   },
   {
    "duration": 5943,
    "start_time": "2022-02-04T12:21:42.096Z"
   },
   {
    "duration": -65,
    "start_time": "2022-02-04T12:21:48.108Z"
   },
   {
    "duration": 5129,
    "start_time": "2022-02-04T12:21:56.736Z"
   },
   {
    "duration": 399,
    "start_time": "2022-02-04T12:22:16.472Z"
   },
   {
    "duration": 3,
    "start_time": "2022-02-04T12:22:43.982Z"
   },
   {
    "duration": 174,
    "start_time": "2022-02-04T12:22:45.680Z"
   },
   {
    "duration": 18,
    "start_time": "2022-02-04T12:22:47.239Z"
   },
   {
    "duration": 32,
    "start_time": "2022-02-04T12:22:49.893Z"
   },
   {
    "duration": 6,
    "start_time": "2022-02-04T12:22:54.191Z"
   },
   {
    "duration": 23,
    "start_time": "2022-02-04T12:22:56.856Z"
   },
   {
    "duration": 5,
    "start_time": "2022-02-04T12:22:58.561Z"
   },
   {
    "duration": 33,
    "start_time": "2022-02-04T12:23:00.732Z"
   },
   {
    "duration": 19,
    "start_time": "2022-02-04T12:23:02.892Z"
   },
   {
    "duration": 30,
    "start_time": "2022-02-04T12:23:06.214Z"
   },
   {
    "duration": 18,
    "start_time": "2022-02-04T12:23:39.719Z"
   },
   {
    "duration": 29,
    "start_time": "2022-02-04T12:23:48.529Z"
   },
   {
    "duration": 13,
    "start_time": "2022-02-04T12:24:09.578Z"
   },
   {
    "duration": 29,
    "start_time": "2022-02-04T12:24:15.866Z"
   },
   {
    "duration": 15,
    "start_time": "2022-02-04T12:24:34.616Z"
   },
   {
    "duration": 10,
    "start_time": "2022-02-04T12:24:37.531Z"
   },
   {
    "duration": 4941,
    "start_time": "2022-02-04T12:24:45.150Z"
   },
   {
    "duration": 4910,
    "start_time": "2022-02-04T12:24:51.393Z"
   },
   {
    "duration": -59,
    "start_time": "2022-02-04T12:24:56.365Z"
   },
   {
    "duration": 5221,
    "start_time": "2022-02-04T12:25:53.260Z"
   },
   {
    "duration": 11,
    "start_time": "2022-02-04T12:26:02.045Z"
   },
   {
    "duration": 9,
    "start_time": "2022-02-04T12:26:15.281Z"
   },
   {
    "duration": 5249,
    "start_time": "2022-02-04T12:26:53.556Z"
   },
   {
    "duration": 452,
    "start_time": "2022-02-04T12:27:17.303Z"
   },
   {
    "duration": 5042,
    "start_time": "2022-02-04T12:27:26.257Z"
   },
   {
    "duration": 778,
    "start_time": "2022-02-04T12:28:24.539Z"
   },
   {
    "duration": 182,
    "start_time": "2022-02-04T12:28:25.320Z"
   },
   {
    "duration": 29,
    "start_time": "2022-02-04T12:28:25.505Z"
   },
   {
    "duration": 53,
    "start_time": "2022-02-04T12:28:25.537Z"
   },
   {
    "duration": 7,
    "start_time": "2022-02-04T12:28:25.593Z"
   },
   {
    "duration": 57,
    "start_time": "2022-02-04T12:28:25.602Z"
   },
   {
    "duration": 5,
    "start_time": "2022-02-04T12:28:25.661Z"
   },
   {
    "duration": 30,
    "start_time": "2022-02-04T12:28:25.670Z"
   },
   {
    "duration": 5047,
    "start_time": "2022-02-04T12:28:25.703Z"
   },
   {
    "duration": -165,
    "start_time": "2022-02-04T12:28:30.920Z"
   },
   {
    "duration": -169,
    "start_time": "2022-02-04T12:28:30.926Z"
   },
   {
    "duration": -181,
    "start_time": "2022-02-04T12:28:30.940Z"
   },
   {
    "duration": -194,
    "start_time": "2022-02-04T12:28:30.955Z"
   },
   {
    "duration": -197,
    "start_time": "2022-02-04T12:28:30.960Z"
   },
   {
    "duration": -199,
    "start_time": "2022-02-04T12:28:30.963Z"
   },
   {
    "duration": -198,
    "start_time": "2022-02-04T12:28:30.965Z"
   },
   {
    "duration": -200,
    "start_time": "2022-02-04T12:28:30.968Z"
   },
   {
    "duration": -202,
    "start_time": "2022-02-04T12:28:30.971Z"
   },
   {
    "duration": -202,
    "start_time": "2022-02-04T12:28:30.973Z"
   },
   {
    "duration": -209,
    "start_time": "2022-02-04T12:28:30.981Z"
   },
   {
    "duration": -216,
    "start_time": "2022-02-04T12:28:30.989Z"
   },
   {
    "duration": -219,
    "start_time": "2022-02-04T12:28:30.994Z"
   },
   {
    "duration": -223,
    "start_time": "2022-02-04T12:28:30.999Z"
   },
   {
    "duration": -225,
    "start_time": "2022-02-04T12:28:31.002Z"
   },
   {
    "duration": -226,
    "start_time": "2022-02-04T12:28:31.005Z"
   },
   {
    "duration": -227,
    "start_time": "2022-02-04T12:28:31.007Z"
   },
   {
    "duration": -233,
    "start_time": "2022-02-04T12:28:31.014Z"
   },
   {
    "duration": -234,
    "start_time": "2022-02-04T12:28:31.017Z"
   },
   {
    "duration": -244,
    "start_time": "2022-02-04T12:28:31.028Z"
   },
   {
    "duration": -248,
    "start_time": "2022-02-04T12:28:31.033Z"
   },
   {
    "duration": -249,
    "start_time": "2022-02-04T12:28:31.036Z"
   },
   {
    "duration": -251,
    "start_time": "2022-02-04T12:28:31.039Z"
   },
   {
    "duration": -251,
    "start_time": "2022-02-04T12:28:31.042Z"
   },
   {
    "duration": -252,
    "start_time": "2022-02-04T12:28:31.045Z"
   },
   {
    "duration": -254,
    "start_time": "2022-02-04T12:28:31.048Z"
   },
   {
    "duration": -256,
    "start_time": "2022-02-04T12:28:31.051Z"
   },
   {
    "duration": -256,
    "start_time": "2022-02-04T12:28:31.053Z"
   },
   {
    "duration": -196,
    "start_time": "2022-02-04T12:28:31.055Z"
   },
   {
    "duration": 11,
    "start_time": "2022-02-04T12:29:35.964Z"
   },
   {
    "duration": 4970,
    "start_time": "2022-02-04T12:32:18.236Z"
   },
   {
    "duration": -162,
    "start_time": "2022-02-04T12:32:23.371Z"
   },
   {
    "duration": 11,
    "start_time": "2022-02-04T12:32:43.714Z"
   },
   {
    "duration": 5223,
    "start_time": "2022-02-04T12:33:04.245Z"
   },
   {
    "duration": 2495,
    "start_time": "2022-02-04T12:35:52.013Z"
   },
   {
    "duration": 47,
    "start_time": "2022-02-04T12:36:17.867Z"
   },
   {
    "duration": 10,
    "start_time": "2022-02-04T12:36:24.982Z"
   },
   {
    "duration": 440,
    "start_time": "2022-02-04T12:37:03.469Z"
   },
   {
    "duration": 100,
    "start_time": "2022-02-04T12:37:16.298Z"
   },
   {
    "duration": 10,
    "start_time": "2022-02-04T12:37:19.213Z"
   },
   {
    "duration": 376,
    "start_time": "2022-02-04T12:37:22.235Z"
   },
   {
    "duration": 42,
    "start_time": "2022-02-04T12:37:30.609Z"
   },
   {
    "duration": 10,
    "start_time": "2022-02-04T12:37:35.825Z"
   },
   {
    "duration": 10,
    "start_time": "2022-02-04T12:37:38.969Z"
   },
   {
    "duration": 783,
    "start_time": "2022-02-04T12:37:48.151Z"
   },
   {
    "duration": 180,
    "start_time": "2022-02-04T12:37:48.937Z"
   },
   {
    "duration": 24,
    "start_time": "2022-02-04T12:37:49.120Z"
   },
   {
    "duration": 32,
    "start_time": "2022-02-04T12:37:49.159Z"
   },
   {
    "duration": 5,
    "start_time": "2022-02-04T12:37:49.194Z"
   },
   {
    "duration": 27,
    "start_time": "2022-02-04T12:37:49.201Z"
   },
   {
    "duration": 31,
    "start_time": "2022-02-04T12:37:49.231Z"
   },
   {
    "duration": 32,
    "start_time": "2022-02-04T12:37:49.265Z"
   },
   {
    "duration": 69,
    "start_time": "2022-02-04T12:37:49.301Z"
   },
   {
    "duration": 28,
    "start_time": "2022-02-04T12:37:49.372Z"
   },
   {
    "duration": 479,
    "start_time": "2022-02-04T12:37:49.403Z"
   },
   {
    "duration": -38,
    "start_time": "2022-02-04T12:37:49.924Z"
   },
   {
    "duration": -43,
    "start_time": "2022-02-04T12:37:49.930Z"
   },
   {
    "duration": -78,
    "start_time": "2022-02-04T12:37:49.967Z"
   },
   {
    "duration": -92,
    "start_time": "2022-02-04T12:37:49.982Z"
   },
   {
    "duration": -144,
    "start_time": "2022-02-04T12:37:50.036Z"
   },
   {
    "duration": -147,
    "start_time": "2022-02-04T12:37:50.040Z"
   },
   {
    "duration": -151,
    "start_time": "2022-02-04T12:37:50.046Z"
   },
   {
    "duration": -152,
    "start_time": "2022-02-04T12:37:50.048Z"
   },
   {
    "duration": -153,
    "start_time": "2022-02-04T12:37:50.051Z"
   },
   {
    "duration": -155,
    "start_time": "2022-02-04T12:37:50.054Z"
   },
   {
    "duration": -157,
    "start_time": "2022-02-04T12:37:50.058Z"
   },
   {
    "duration": -160,
    "start_time": "2022-02-04T12:37:50.062Z"
   },
   {
    "duration": -160,
    "start_time": "2022-02-04T12:37:50.064Z"
   },
   {
    "duration": -163,
    "start_time": "2022-02-04T12:37:50.068Z"
   },
   {
    "duration": -201,
    "start_time": "2022-02-04T12:37:50.108Z"
   },
   {
    "duration": -223,
    "start_time": "2022-02-04T12:37:50.131Z"
   },
   {
    "duration": -227,
    "start_time": "2022-02-04T12:37:50.136Z"
   },
   {
    "duration": -262,
    "start_time": "2022-02-04T12:37:50.173Z"
   },
   {
    "duration": -263,
    "start_time": "2022-02-04T12:37:50.175Z"
   },
   {
    "duration": -264,
    "start_time": "2022-02-04T12:37:50.178Z"
   },
   {
    "duration": -265,
    "start_time": "2022-02-04T12:37:50.181Z"
   },
   {
    "duration": -267,
    "start_time": "2022-02-04T12:37:50.184Z"
   },
   {
    "duration": -269,
    "start_time": "2022-02-04T12:37:50.187Z"
   },
   {
    "duration": -269,
    "start_time": "2022-02-04T12:37:50.189Z"
   },
   {
    "duration": -272,
    "start_time": "2022-02-04T12:37:50.193Z"
   },
   {
    "duration": -285,
    "start_time": "2022-02-04T12:37:50.208Z"
   },
   {
    "duration": -254,
    "start_time": "2022-02-04T12:37:50.213Z"
   },
   {
    "duration": 382,
    "start_time": "2022-02-04T12:38:14.624Z"
   },
   {
    "duration": 84,
    "start_time": "2022-02-04T12:38:26.548Z"
   },
   {
    "duration": 40,
    "start_time": "2022-02-04T12:38:32.685Z"
   },
   {
    "duration": 32,
    "start_time": "2022-02-04T12:38:34.545Z"
   },
   {
    "duration": 81,
    "start_time": "2022-02-04T12:38:37.689Z"
   },
   {
    "duration": 30,
    "start_time": "2022-02-04T12:38:42.596Z"
   },
   {
    "duration": 107,
    "start_time": "2022-02-04T12:38:48.380Z"
   },
   {
    "duration": 393,
    "start_time": "2022-02-04T12:39:26.489Z"
   },
   {
    "duration": 382,
    "start_time": "2022-02-04T12:39:37.729Z"
   },
   {
    "duration": 95,
    "start_time": "2022-02-04T12:40:05.485Z"
   },
   {
    "duration": 74,
    "start_time": "2022-02-04T12:40:15.325Z"
   },
   {
    "duration": 3,
    "start_time": "2022-02-04T12:40:53.451Z"
   },
   {
    "duration": 3,
    "start_time": "2022-02-04T12:41:44.412Z"
   },
   {
    "duration": 51,
    "start_time": "2022-02-04T12:41:53.800Z"
   },
   {
    "duration": 58,
    "start_time": "2022-02-04T12:42:40.963Z"
   },
   {
    "duration": 4,
    "start_time": "2022-02-04T12:50:36.971Z"
   },
   {
    "duration": 791,
    "start_time": "2022-02-04T12:52:07.420Z"
   },
   {
    "duration": 5,
    "start_time": "2022-02-04T12:52:25.641Z"
   },
   {
    "duration": 808,
    "start_time": "2022-02-04T12:52:27.347Z"
   },
   {
    "duration": 4,
    "start_time": "2022-02-04T12:52:38.224Z"
   },
   {
    "duration": 11,
    "start_time": "2022-02-04T12:52:39.928Z"
   },
   {
    "duration": 57,
    "start_time": "2022-02-04T12:52:58.395Z"
   },
   {
    "duration": 14,
    "start_time": "2022-02-04T12:53:06.142Z"
   },
   {
    "duration": 85,
    "start_time": "2022-02-04T12:53:19.115Z"
   },
   {
    "duration": 5,
    "start_time": "2022-02-04T12:53:28.717Z"
   },
   {
    "duration": 952,
    "start_time": "2022-02-04T12:53:30.669Z"
   },
   {
    "duration": 60,
    "start_time": "2022-02-04T12:53:41.793Z"
   },
   {
    "duration": 4,
    "start_time": "2022-02-04T12:55:09.436Z"
   },
   {
    "duration": 11,
    "start_time": "2022-02-04T12:55:11.356Z"
   },
   {
    "duration": 56,
    "start_time": "2022-02-04T12:55:15.121Z"
   },
   {
    "duration": 41,
    "start_time": "2022-02-04T12:55:54.250Z"
   },
   {
    "duration": 58,
    "start_time": "2022-02-04T12:55:58.573Z"
   },
   {
    "duration": 56,
    "start_time": "2022-02-04T12:57:38.051Z"
   },
   {
    "duration": 5,
    "start_time": "2022-02-04T12:57:57.913Z"
   },
   {
    "duration": 9,
    "start_time": "2022-02-04T12:58:26.288Z"
   },
   {
    "duration": 63,
    "start_time": "2022-02-04T12:58:35.160Z"
   },
   {
    "duration": 10,
    "start_time": "2022-02-04T12:59:01.799Z"
   },
   {
    "duration": 5003,
    "start_time": "2022-02-04T12:59:11.157Z"
   },
   {
    "duration": 5033,
    "start_time": "2022-02-04T12:59:31.828Z"
   },
   {
    "duration": 6,
    "start_time": "2022-02-04T12:59:57.224Z"
   },
   {
    "duration": 5139,
    "start_time": "2022-02-04T13:00:06.029Z"
   },
   {
    "duration": 778,
    "start_time": "2022-02-04T13:00:24.921Z"
   },
   {
    "duration": 179,
    "start_time": "2022-02-04T13:00:25.702Z"
   },
   {
    "duration": 26,
    "start_time": "2022-02-04T13:00:25.883Z"
   },
   {
    "duration": 50,
    "start_time": "2022-02-04T13:00:25.911Z"
   },
   {
    "duration": 5,
    "start_time": "2022-02-04T13:00:25.963Z"
   },
   {
    "duration": 39,
    "start_time": "2022-02-04T13:00:25.971Z"
   },
   {
    "duration": 6,
    "start_time": "2022-02-04T13:00:26.013Z"
   },
   {
    "duration": 78,
    "start_time": "2022-02-04T13:00:26.025Z"
   },
   {
    "duration": 77,
    "start_time": "2022-02-04T13:00:26.107Z"
   },
   {
    "duration": 44,
    "start_time": "2022-02-04T13:00:26.187Z"
   },
   {
    "duration": 97,
    "start_time": "2022-02-04T13:00:26.234Z"
   },
   {
    "duration": 103,
    "start_time": "2022-02-04T13:00:26.334Z"
   },
   {
    "duration": 78,
    "start_time": "2022-02-04T13:00:26.439Z"
   },
   {
    "duration": 71,
    "start_time": "2022-02-04T13:00:26.520Z"
   },
   {
    "duration": 37,
    "start_time": "2022-02-04T13:00:26.594Z"
   },
   {
    "duration": 25,
    "start_time": "2022-02-04T13:00:26.634Z"
   },
   {
    "duration": 60,
    "start_time": "2022-02-04T13:00:26.662Z"
   },
   {
    "duration": 3,
    "start_time": "2022-02-04T13:00:26.725Z"
   },
   {
    "duration": 4,
    "start_time": "2022-02-04T13:00:26.730Z"
   },
   {
    "duration": 3,
    "start_time": "2022-02-04T13:00:26.760Z"
   },
   {
    "duration": 7,
    "start_time": "2022-02-04T13:00:26.765Z"
   },
   {
    "duration": 5,
    "start_time": "2022-02-04T13:00:26.774Z"
   },
   {
    "duration": 3,
    "start_time": "2022-02-04T13:00:26.785Z"
   },
   {
    "duration": 4,
    "start_time": "2022-02-04T13:00:26.790Z"
   },
   {
    "duration": 5,
    "start_time": "2022-02-04T13:00:26.796Z"
   },
   {
    "duration": 7,
    "start_time": "2022-02-04T13:00:26.803Z"
   },
   {
    "duration": 47,
    "start_time": "2022-02-04T13:00:26.812Z"
   },
   {
    "duration": 5,
    "start_time": "2022-02-04T13:00:26.862Z"
   },
   {
    "duration": 5,
    "start_time": "2022-02-04T13:00:26.869Z"
   },
   {
    "duration": 5,
    "start_time": "2022-02-04T13:00:26.876Z"
   },
   {
    "duration": 6,
    "start_time": "2022-02-04T13:00:26.884Z"
   },
   {
    "duration": 5,
    "start_time": "2022-02-04T13:00:26.892Z"
   },
   {
    "duration": 6,
    "start_time": "2022-02-04T13:00:26.899Z"
   },
   {
    "duration": 4,
    "start_time": "2022-02-04T13:00:26.908Z"
   },
   {
    "duration": 4,
    "start_time": "2022-02-04T13:00:26.915Z"
   },
   {
    "duration": 3,
    "start_time": "2022-02-04T13:00:26.960Z"
   },
   {
    "duration": 5,
    "start_time": "2022-02-04T13:00:26.965Z"
   },
   {
    "duration": 5,
    "start_time": "2022-02-04T13:00:26.972Z"
   },
   {
    "duration": 4,
    "start_time": "2022-02-04T13:01:21.334Z"
   },
   {
    "duration": 908,
    "start_time": "2022-02-04T13:01:28.206Z"
   },
   {
    "duration": 62,
    "start_time": "2022-02-04T13:01:32.468Z"
   },
   {
    "duration": 4,
    "start_time": "2022-02-04T13:01:59.669Z"
   },
   {
    "duration": 330,
    "start_time": "2022-02-04T13:02:04.209Z"
   },
   {
    "duration": 56,
    "start_time": "2022-02-04T13:02:14.385Z"
   },
   {
    "duration": 751,
    "start_time": "2022-02-04T13:02:32.087Z"
   },
   {
    "duration": 179,
    "start_time": "2022-02-04T13:02:32.840Z"
   },
   {
    "duration": 26,
    "start_time": "2022-02-04T13:02:33.022Z"
   },
   {
    "duration": 35,
    "start_time": "2022-02-04T13:02:33.059Z"
   },
   {
    "duration": 7,
    "start_time": "2022-02-04T13:02:33.096Z"
   },
   {
    "duration": 64,
    "start_time": "2022-02-04T13:02:33.107Z"
   },
   {
    "duration": 7,
    "start_time": "2022-02-04T13:02:33.174Z"
   },
   {
    "duration": 30,
    "start_time": "2022-02-04T13:02:33.184Z"
   },
   {
    "duration": 74,
    "start_time": "2022-02-04T13:02:33.218Z"
   },
   {
    "duration": 27,
    "start_time": "2022-02-04T13:02:33.295Z"
   },
   {
    "duration": 99,
    "start_time": "2022-02-04T13:02:33.325Z"
   },
   {
    "duration": 109,
    "start_time": "2022-02-04T13:02:33.426Z"
   },
   {
    "duration": 84,
    "start_time": "2022-02-04T13:02:33.537Z"
   },
   {
    "duration": 66,
    "start_time": "2022-02-04T13:02:33.623Z"
   },
   {
    "duration": 4,
    "start_time": "2022-02-04T13:02:33.691Z"
   },
   {
    "duration": 382,
    "start_time": "2022-02-04T13:02:33.698Z"
   },
   {
    "duration": 55,
    "start_time": "2022-02-04T13:02:34.083Z"
   },
   {
    "duration": 19,
    "start_time": "2022-02-04T13:02:34.140Z"
   },
   {
    "duration": 3,
    "start_time": "2022-02-04T13:02:34.162Z"
   },
   {
    "duration": 4,
    "start_time": "2022-02-04T13:02:34.168Z"
   },
   {
    "duration": 7,
    "start_time": "2022-02-04T13:02:34.174Z"
   },
   {
    "duration": 4,
    "start_time": "2022-02-04T13:02:34.184Z"
   },
   {
    "duration": 5,
    "start_time": "2022-02-04T13:02:34.190Z"
   },
   {
    "duration": 4,
    "start_time": "2022-02-04T13:02:34.197Z"
   },
   {
    "duration": 6,
    "start_time": "2022-02-04T13:02:34.204Z"
   },
   {
    "duration": 51,
    "start_time": "2022-02-04T13:02:34.212Z"
   },
   {
    "duration": 3,
    "start_time": "2022-02-04T13:02:34.268Z"
   },
   {
    "duration": 4,
    "start_time": "2022-02-04T13:02:34.274Z"
   },
   {
    "duration": 5,
    "start_time": "2022-02-04T13:02:34.280Z"
   },
   {
    "duration": 4,
    "start_time": "2022-02-04T13:02:34.287Z"
   },
   {
    "duration": 9,
    "start_time": "2022-02-04T13:02:34.294Z"
   },
   {
    "duration": 4,
    "start_time": "2022-02-04T13:02:34.306Z"
   },
   {
    "duration": 4,
    "start_time": "2022-02-04T13:02:34.360Z"
   },
   {
    "duration": 4,
    "start_time": "2022-02-04T13:02:34.366Z"
   },
   {
    "duration": 4,
    "start_time": "2022-02-04T13:02:34.373Z"
   },
   {
    "duration": 4,
    "start_time": "2022-02-04T13:02:34.379Z"
   },
   {
    "duration": 4,
    "start_time": "2022-02-04T13:02:34.386Z"
   },
   {
    "duration": 5,
    "start_time": "2022-02-04T13:02:34.392Z"
   },
   {
    "duration": 5,
    "start_time": "2022-02-04T13:04:13.800Z"
   },
   {
    "duration": 557,
    "start_time": "2022-02-04T13:04:16.008Z"
   },
   {
    "duration": 56,
    "start_time": "2022-02-04T13:04:23.864Z"
   },
   {
    "duration": 124,
    "start_time": "2022-02-04T13:06:41.063Z"
   },
   {
    "duration": 4,
    "start_time": "2022-02-04T13:09:15.842Z"
   },
   {
    "duration": 11,
    "start_time": "2022-02-04T13:09:26.964Z"
   },
   {
    "duration": 57,
    "start_time": "2022-02-04T13:09:35.218Z"
   },
   {
    "duration": 4,
    "start_time": "2022-02-04T13:09:56.073Z"
   },
   {
    "duration": 9,
    "start_time": "2022-02-04T13:10:01.707Z"
   },
   {
    "duration": 57,
    "start_time": "2022-02-04T13:10:19.140Z"
   },
   {
    "duration": 488,
    "start_time": "2022-02-04T13:10:45.912Z"
   },
   {
    "duration": 13,
    "start_time": "2022-02-04T13:11:00.469Z"
   },
   {
    "duration": 59,
    "start_time": "2022-02-04T13:11:04.663Z"
   },
   {
    "duration": 12,
    "start_time": "2022-02-04T13:11:26.369Z"
   },
   {
    "duration": 5196,
    "start_time": "2022-02-04T13:11:29.790Z"
   },
   {
    "duration": 769,
    "start_time": "2022-02-04T13:11:49.591Z"
   },
   {
    "duration": 197,
    "start_time": "2022-02-04T13:11:50.363Z"
   },
   {
    "duration": 28,
    "start_time": "2022-02-04T13:11:50.564Z"
   },
   {
    "duration": 35,
    "start_time": "2022-02-04T13:11:50.595Z"
   },
   {
    "duration": 31,
    "start_time": "2022-02-04T13:11:50.632Z"
   },
   {
    "duration": 33,
    "start_time": "2022-02-04T13:11:50.666Z"
   },
   {
    "duration": 7,
    "start_time": "2022-02-04T13:11:50.702Z"
   },
   {
    "duration": 64,
    "start_time": "2022-02-04T13:11:50.715Z"
   },
   {
    "duration": 84,
    "start_time": "2022-02-04T13:11:50.783Z"
   },
   {
    "duration": 47,
    "start_time": "2022-02-04T13:11:50.871Z"
   },
   {
    "duration": 142,
    "start_time": "2022-02-04T13:11:50.921Z"
   },
   {
    "duration": 151,
    "start_time": "2022-02-04T13:11:51.066Z"
   },
   {
    "duration": 124,
    "start_time": "2022-02-04T13:11:51.220Z"
   },
   {
    "duration": 64,
    "start_time": "2022-02-04T13:11:51.347Z"
   },
   {
    "duration": 4,
    "start_time": "2022-02-04T13:11:51.414Z"
   },
   {
    "duration": 17,
    "start_time": "2022-02-04T13:11:51.420Z"
   },
   {
    "duration": 79,
    "start_time": "2022-02-04T13:11:51.440Z"
   },
   {
    "duration": 3,
    "start_time": "2022-02-04T13:11:51.522Z"
   },
   {
    "duration": 11,
    "start_time": "2022-02-04T13:11:51.527Z"
   },
   {
    "duration": 18,
    "start_time": "2022-02-04T13:11:51.541Z"
   },
   {
    "duration": 6,
    "start_time": "2022-02-04T13:11:51.561Z"
   },
   {
    "duration": 5,
    "start_time": "2022-02-04T13:11:51.570Z"
   },
   {
    "duration": 6,
    "start_time": "2022-02-04T13:11:51.582Z"
   },
   {
    "duration": 7,
    "start_time": "2022-02-04T13:11:51.591Z"
   },
   {
    "duration": 5,
    "start_time": "2022-02-04T13:11:51.600Z"
   },
   {
    "duration": 9,
    "start_time": "2022-02-04T13:11:51.608Z"
   },
   {
    "duration": 7,
    "start_time": "2022-02-04T13:11:51.619Z"
   },
   {
    "duration": 31,
    "start_time": "2022-02-04T13:11:51.629Z"
   },
   {
    "duration": 5,
    "start_time": "2022-02-04T13:11:51.663Z"
   },
   {
    "duration": 7,
    "start_time": "2022-02-04T13:11:51.671Z"
   },
   {
    "duration": 8,
    "start_time": "2022-02-04T13:11:51.681Z"
   },
   {
    "duration": 7,
    "start_time": "2022-02-04T13:11:51.691Z"
   },
   {
    "duration": 7,
    "start_time": "2022-02-04T13:11:51.700Z"
   },
   {
    "duration": 6,
    "start_time": "2022-02-04T13:11:51.710Z"
   },
   {
    "duration": 43,
    "start_time": "2022-02-04T13:11:51.719Z"
   },
   {
    "duration": 6,
    "start_time": "2022-02-04T13:11:51.765Z"
   },
   {
    "duration": 4,
    "start_time": "2022-02-04T13:11:51.774Z"
   },
   {
    "duration": 7,
    "start_time": "2022-02-04T13:11:51.781Z"
   },
   {
    "duration": 6,
    "start_time": "2022-02-04T13:14:25.716Z"
   },
   {
    "duration": 22,
    "start_time": "2022-02-04T13:14:29.096Z"
   },
   {
    "duration": 59,
    "start_time": "2022-02-04T13:14:36.182Z"
   },
   {
    "duration": 54,
    "start_time": "2022-02-04T13:14:44.978Z"
   },
   {
    "duration": 58,
    "start_time": "2022-02-04T13:14:49.209Z"
   },
   {
    "duration": 804,
    "start_time": "2022-02-04T13:15:33.130Z"
   },
   {
    "duration": 172,
    "start_time": "2022-02-04T13:15:33.937Z"
   },
   {
    "duration": 46,
    "start_time": "2022-02-04T13:15:34.113Z"
   },
   {
    "duration": 31,
    "start_time": "2022-02-04T13:15:34.161Z"
   },
   {
    "duration": 5,
    "start_time": "2022-02-04T13:15:34.195Z"
   },
   {
    "duration": 26,
    "start_time": "2022-02-04T13:15:34.202Z"
   },
   {
    "duration": 32,
    "start_time": "2022-02-04T13:15:34.230Z"
   },
   {
    "duration": 30,
    "start_time": "2022-02-04T13:15:34.266Z"
   },
   {
    "duration": 69,
    "start_time": "2022-02-04T13:15:34.299Z"
   },
   {
    "duration": 28,
    "start_time": "2022-02-04T13:15:34.370Z"
   },
   {
    "duration": 101,
    "start_time": "2022-02-04T13:15:34.401Z"
   },
   {
    "duration": 108,
    "start_time": "2022-02-04T13:15:34.504Z"
   },
   {
    "duration": 88,
    "start_time": "2022-02-04T13:15:34.615Z"
   },
   {
    "duration": 66,
    "start_time": "2022-02-04T13:15:34.705Z"
   },
   {
    "duration": 4,
    "start_time": "2022-02-04T13:15:34.774Z"
   },
   {
    "duration": 56,
    "start_time": "2022-02-04T13:15:34.780Z"
   },
   {
    "duration": 75,
    "start_time": "2022-02-04T13:15:34.839Z"
   },
   {
    "duration": 3,
    "start_time": "2022-02-04T13:15:34.917Z"
   },
   {
    "duration": 8,
    "start_time": "2022-02-04T13:15:34.922Z"
   },
   {
    "duration": 28,
    "start_time": "2022-02-04T13:15:34.933Z"
   },
   {
    "duration": 7,
    "start_time": "2022-02-04T13:15:34.963Z"
   },
   {
    "duration": 6,
    "start_time": "2022-02-04T13:15:34.972Z"
   },
   {
    "duration": 3,
    "start_time": "2022-02-04T13:15:34.983Z"
   },
   {
    "duration": 7,
    "start_time": "2022-02-04T13:15:34.988Z"
   },
   {
    "duration": 7,
    "start_time": "2022-02-04T13:15:34.997Z"
   },
   {
    "duration": 9,
    "start_time": "2022-02-04T13:15:35.006Z"
   },
   {
    "duration": 4,
    "start_time": "2022-02-04T13:15:35.017Z"
   },
   {
    "duration": 3,
    "start_time": "2022-02-04T13:15:35.059Z"
   },
   {
    "duration": 6,
    "start_time": "2022-02-04T13:15:35.064Z"
   },
   {
    "duration": 4,
    "start_time": "2022-02-04T13:15:35.072Z"
   },
   {
    "duration": 10,
    "start_time": "2022-02-04T13:15:35.079Z"
   },
   {
    "duration": 8,
    "start_time": "2022-02-04T13:15:35.091Z"
   },
   {
    "duration": 17,
    "start_time": "2022-02-04T13:15:35.101Z"
   },
   {
    "duration": 10,
    "start_time": "2022-02-04T13:15:35.120Z"
   },
   {
    "duration": 30,
    "start_time": "2022-02-04T13:15:35.133Z"
   },
   {
    "duration": 13,
    "start_time": "2022-02-04T13:15:35.165Z"
   },
   {
    "duration": 13,
    "start_time": "2022-02-04T13:15:35.181Z"
   },
   {
    "duration": 13,
    "start_time": "2022-02-04T13:15:35.196Z"
   },
   {
    "duration": 8347,
    "start_time": "2022-02-04T13:17:49.068Z"
   },
   {
    "duration": 45,
    "start_time": "2022-02-04T13:19:09.137Z"
   },
   {
    "duration": 41,
    "start_time": "2022-02-04T13:19:45.932Z"
   },
   {
    "duration": 4678,
    "start_time": "2022-02-04T13:19:54.302Z"
   },
   {
    "duration": 43,
    "start_time": "2022-02-04T13:20:02.737Z"
   },
   {
    "duration": 130,
    "start_time": "2022-02-04T13:25:16.324Z"
   },
   {
    "duration": 189,
    "start_time": "2022-02-04T13:26:15.476Z"
   },
   {
    "duration": 5,
    "start_time": "2022-02-04T13:27:01.828Z"
   },
   {
    "duration": 866,
    "start_time": "2022-02-04T13:27:33.085Z"
   },
   {
    "duration": 5,
    "start_time": "2022-02-04T13:29:25.788Z"
   },
   {
    "duration": 32,
    "start_time": "2022-02-04T13:29:28.972Z"
   },
   {
    "duration": 5,
    "start_time": "2022-02-04T13:29:53.759Z"
   },
   {
    "duration": 802,
    "start_time": "2022-02-04T13:29:56.046Z"
   },
   {
    "duration": 5,
    "start_time": "2022-02-04T13:31:18.720Z"
   },
   {
    "duration": 825,
    "start_time": "2022-02-04T13:31:22.011Z"
   },
   {
    "duration": 4,
    "start_time": "2022-02-04T13:31:26.768Z"
   },
   {
    "duration": 33,
    "start_time": "2022-02-04T13:31:28.953Z"
   },
   {
    "duration": 10,
    "start_time": "2022-02-04T13:31:35.090Z"
   },
   {
    "duration": 38,
    "start_time": "2022-02-04T13:31:37.618Z"
   },
   {
    "duration": 49,
    "start_time": "2022-02-04T13:31:51.154Z"
   },
   {
    "duration": 4,
    "start_time": "2022-02-04T13:32:15.769Z"
   },
   {
    "duration": 100,
    "start_time": "2022-02-04T13:32:17.230Z"
   },
   {
    "duration": 5,
    "start_time": "2022-02-04T13:32:20.096Z"
   },
   {
    "duration": 97,
    "start_time": "2022-02-04T13:32:24.704Z"
   },
   {
    "duration": 5,
    "start_time": "2022-02-04T13:32:32.732Z"
   },
   {
    "duration": 86,
    "start_time": "2022-02-04T13:32:34.293Z"
   },
   {
    "duration": 5,
    "start_time": "2022-02-04T13:32:40.079Z"
   },
   {
    "duration": 22,
    "start_time": "2022-02-04T13:32:41.474Z"
   },
   {
    "duration": 27,
    "start_time": "2022-02-04T13:32:51.067Z"
   },
   {
    "duration": 18,
    "start_time": "2022-02-04T13:33:09.216Z"
   },
   {
    "duration": 10,
    "start_time": "2022-02-04T13:33:24.864Z"
   },
   {
    "duration": 21,
    "start_time": "2022-02-04T13:33:46.031Z"
   },
   {
    "duration": 19,
    "start_time": "2022-02-04T13:33:56.635Z"
   },
   {
    "duration": 20,
    "start_time": "2022-02-04T13:34:09.027Z"
   },
   {
    "duration": 19,
    "start_time": "2022-02-04T13:34:23.285Z"
   },
   {
    "duration": 13,
    "start_time": "2022-02-04T13:38:09.859Z"
   },
   {
    "duration": 381,
    "start_time": "2022-02-04T13:38:59.637Z"
   },
   {
    "duration": 420,
    "start_time": "2022-02-04T13:39:23.210Z"
   },
   {
    "duration": 402,
    "start_time": "2022-02-04T13:39:32.893Z"
   },
   {
    "duration": 1663,
    "start_time": "2022-02-04T13:40:08.950Z"
   },
   {
    "duration": 1281,
    "start_time": "2022-02-04T13:40:21.577Z"
   },
   {
    "duration": 18,
    "start_time": "2022-02-04T13:40:28.429Z"
   },
   {
    "duration": 55,
    "start_time": "2022-02-04T13:42:00.677Z"
   },
   {
    "duration": 568,
    "start_time": "2022-02-04T13:43:27.163Z"
   },
   {
    "duration": 156,
    "start_time": "2022-02-04T13:43:38.752Z"
   },
   {
    "duration": 92,
    "start_time": "2022-02-04T13:48:17.215Z"
   },
   {
    "duration": 87,
    "start_time": "2022-02-04T13:52:39.830Z"
   },
   {
    "duration": 829,
    "start_time": "2022-02-04T13:53:27.223Z"
   },
   {
    "duration": 181,
    "start_time": "2022-02-04T13:53:28.055Z"
   },
   {
    "duration": 25,
    "start_time": "2022-02-04T13:53:28.239Z"
   },
   {
    "duration": 34,
    "start_time": "2022-02-04T13:53:28.267Z"
   },
   {
    "duration": 7,
    "start_time": "2022-02-04T13:53:28.303Z"
   },
   {
    "duration": 70,
    "start_time": "2022-02-04T13:53:28.313Z"
   },
   {
    "duration": 9,
    "start_time": "2022-02-04T13:53:28.385Z"
   },
   {
    "duration": 30,
    "start_time": "2022-02-04T13:53:28.400Z"
   },
   {
    "duration": 40,
    "start_time": "2022-02-04T13:53:28.458Z"
   },
   {
    "duration": 30,
    "start_time": "2022-02-04T13:53:28.501Z"
   },
   {
    "duration": 80,
    "start_time": "2022-02-04T13:53:28.559Z"
   },
   {
    "duration": 106,
    "start_time": "2022-02-04T13:53:28.642Z"
   },
   {
    "duration": 71,
    "start_time": "2022-02-04T13:53:28.758Z"
   },
   {
    "duration": 73,
    "start_time": "2022-02-04T13:53:28.832Z"
   },
   {
    "duration": 4,
    "start_time": "2022-02-04T13:53:28.908Z"
   },
   {
    "duration": 76,
    "start_time": "2022-02-04T13:53:28.914Z"
   },
   {
    "duration": 68,
    "start_time": "2022-02-04T13:53:28.992Z"
   },
   {
    "duration": 41,
    "start_time": "2022-02-04T13:53:29.063Z"
   },
   {
    "duration": 62,
    "start_time": "2022-02-04T13:53:29.106Z"
   },
   {
    "duration": 5,
    "start_time": "2022-02-04T13:53:29.170Z"
   },
   {
    "duration": 23,
    "start_time": "2022-02-04T13:53:29.177Z"
   },
   {
    "duration": 17,
    "start_time": "2022-02-04T13:53:29.203Z"
   },
   {
    "duration": 45,
    "start_time": "2022-02-04T13:53:29.224Z"
   },
   {
    "duration": 18,
    "start_time": "2022-02-04T13:53:29.272Z"
   },
   {
    "duration": 21,
    "start_time": "2022-02-04T13:53:29.293Z"
   },
   {
    "duration": 56,
    "start_time": "2022-02-04T13:53:29.317Z"
   },
   {
    "duration": 118,
    "start_time": "2022-02-04T13:53:29.376Z"
   },
   {
    "duration": 4,
    "start_time": "2022-02-04T13:53:29.497Z"
   },
   {
    "duration": 5,
    "start_time": "2022-02-04T13:53:29.504Z"
   },
   {
    "duration": 6,
    "start_time": "2022-02-04T13:53:29.512Z"
   },
   {
    "duration": 39,
    "start_time": "2022-02-04T13:53:29.520Z"
   },
   {
    "duration": 6,
    "start_time": "2022-02-04T13:53:29.562Z"
   },
   {
    "duration": 8,
    "start_time": "2022-02-04T13:53:29.570Z"
   },
   {
    "duration": 5,
    "start_time": "2022-02-04T13:53:29.580Z"
   },
   {
    "duration": 6,
    "start_time": "2022-02-04T13:53:29.587Z"
   },
   {
    "duration": 5,
    "start_time": "2022-02-04T13:53:29.595Z"
   },
   {
    "duration": 7,
    "start_time": "2022-02-04T13:53:29.602Z"
   },
   {
    "duration": 5,
    "start_time": "2022-02-04T13:53:29.611Z"
   },
   {
    "duration": 805,
    "start_time": "2022-02-04T14:22:40.470Z"
   },
   {
    "duration": 177,
    "start_time": "2022-02-04T14:22:41.277Z"
   },
   {
    "duration": 27,
    "start_time": "2022-02-04T14:22:41.456Z"
   },
   {
    "duration": 40,
    "start_time": "2022-02-04T14:22:41.485Z"
   },
   {
    "duration": 33,
    "start_time": "2022-02-04T14:22:41.527Z"
   },
   {
    "duration": 28,
    "start_time": "2022-02-04T14:22:41.563Z"
   },
   {
    "duration": 7,
    "start_time": "2022-02-04T14:22:41.594Z"
   },
   {
    "duration": 63,
    "start_time": "2022-02-04T14:22:41.607Z"
   },
   {
    "duration": 40,
    "start_time": "2022-02-04T14:22:41.674Z"
   },
   {
    "duration": 51,
    "start_time": "2022-02-04T14:22:41.716Z"
   },
   {
    "duration": 94,
    "start_time": "2022-02-04T14:22:41.770Z"
   },
   {
    "duration": 106,
    "start_time": "2022-02-04T14:22:41.866Z"
   },
   {
    "duration": 71,
    "start_time": "2022-02-04T14:22:41.974Z"
   },
   {
    "duration": 63,
    "start_time": "2022-02-04T14:22:42.047Z"
   },
   {
    "duration": 4,
    "start_time": "2022-02-04T14:22:42.112Z"
   },
   {
    "duration": 75,
    "start_time": "2022-02-04T14:22:42.118Z"
   },
   {
    "duration": 66,
    "start_time": "2022-02-04T14:22:42.196Z"
   },
   {
    "duration": 44,
    "start_time": "2022-02-04T14:22:42.265Z"
   },
   {
    "duration": 67,
    "start_time": "2022-02-04T14:22:42.312Z"
   },
   {
    "duration": 5,
    "start_time": "2022-02-04T14:22:42.381Z"
   },
   {
    "duration": 26,
    "start_time": "2022-02-04T14:22:42.388Z"
   },
   {
    "duration": 43,
    "start_time": "2022-02-04T14:22:42.416Z"
   },
   {
    "duration": 18,
    "start_time": "2022-02-04T14:22:42.464Z"
   },
   {
    "duration": 16,
    "start_time": "2022-02-04T14:22:42.485Z"
   },
   {
    "duration": 19,
    "start_time": "2022-02-04T14:22:42.504Z"
   },
   {
    "duration": 18,
    "start_time": "2022-02-04T14:22:42.559Z"
   },
   {
    "duration": 103,
    "start_time": "2022-02-04T14:22:42.579Z"
   },
   {
    "duration": 3,
    "start_time": "2022-02-04T14:22:42.684Z"
   },
   {
    "duration": 6,
    "start_time": "2022-02-04T14:22:42.689Z"
   },
   {
    "duration": 5,
    "start_time": "2022-02-04T14:22:42.697Z"
   },
   {
    "duration": 6,
    "start_time": "2022-02-04T14:22:42.704Z"
   },
   {
    "duration": 5,
    "start_time": "2022-02-04T14:22:42.712Z"
   },
   {
    "duration": 41,
    "start_time": "2022-02-04T14:22:42.719Z"
   },
   {
    "duration": 5,
    "start_time": "2022-02-04T14:22:42.762Z"
   },
   {
    "duration": 5,
    "start_time": "2022-02-04T14:22:42.769Z"
   },
   {
    "duration": 6,
    "start_time": "2022-02-04T14:22:42.776Z"
   },
   {
    "duration": 5,
    "start_time": "2022-02-04T14:22:42.784Z"
   },
   {
    "duration": 4,
    "start_time": "2022-02-04T14:22:42.792Z"
   },
   {
    "duration": 14,
    "start_time": "2022-02-04T14:25:40.361Z"
   },
   {
    "duration": 11,
    "start_time": "2022-02-04T14:26:22.040Z"
   },
   {
    "duration": 12,
    "start_time": "2022-02-04T14:26:26.560Z"
   },
   {
    "duration": 6,
    "start_time": "2022-02-04T14:34:58.311Z"
   },
   {
    "duration": 60,
    "start_time": "2022-02-04T14:35:53.637Z"
   },
   {
    "duration": 11132,
    "start_time": "2022-02-04T14:36:40.164Z"
   },
   {
    "duration": 7,
    "start_time": "2022-02-04T14:38:03.880Z"
   },
   {
    "duration": 10093,
    "start_time": "2022-02-04T14:38:06.316Z"
   },
   {
    "duration": 29,
    "start_time": "2022-02-04T14:38:36.102Z"
   },
   {
    "duration": 19,
    "start_time": "2022-02-04T14:38:48.915Z"
   },
   {
    "duration": 5,
    "start_time": "2022-02-04T14:39:20.374Z"
   },
   {
    "duration": 10353,
    "start_time": "2022-02-04T14:39:31.567Z"
   },
   {
    "duration": 29,
    "start_time": "2022-02-04T14:40:16.378Z"
   },
   {
    "duration": 1666,
    "start_time": "2022-02-04T14:40:59.631Z"
   },
   {
    "duration": 38,
    "start_time": "2022-02-04T14:41:02.905Z"
   },
   {
    "duration": 407,
    "start_time": "2022-02-04T14:41:20.109Z"
   },
   {
    "duration": 32,
    "start_time": "2022-02-04T14:41:27.255Z"
   },
   {
    "duration": 21,
    "start_time": "2022-02-04T14:43:37.449Z"
   },
   {
    "duration": 5,
    "start_time": "2022-02-04T14:44:54.333Z"
   },
   {
    "duration": 10356,
    "start_time": "2022-02-04T14:44:57.787Z"
   },
   {
    "duration": 5,
    "start_time": "2022-02-04T14:45:58.471Z"
   },
   {
    "duration": 5,
    "start_time": "2022-02-04T14:46:10.931Z"
   },
   {
    "duration": 29,
    "start_time": "2022-02-04T14:46:13.089Z"
   },
   {
    "duration": 5,
    "start_time": "2022-02-04T14:46:20.411Z"
   },
   {
    "duration": 32,
    "start_time": "2022-02-04T14:46:22.107Z"
   },
   {
    "duration": 7,
    "start_time": "2022-02-04T14:46:28.427Z"
   },
   {
    "duration": 33,
    "start_time": "2022-02-04T14:46:30.294Z"
   },
   {
    "duration": 5,
    "start_time": "2022-02-04T14:46:34.020Z"
   },
   {
    "duration": 33,
    "start_time": "2022-02-04T14:46:35.600Z"
   },
   {
    "duration": 6,
    "start_time": "2022-02-04T14:46:44.620Z"
   },
   {
    "duration": 955,
    "start_time": "2022-02-04T14:46:46.506Z"
   },
   {
    "duration": 6,
    "start_time": "2022-02-04T14:47:24.483Z"
   },
   {
    "duration": 21,
    "start_time": "2022-02-04T14:47:25.945Z"
   },
   {
    "duration": 5,
    "start_time": "2022-02-04T14:48:26.689Z"
   },
   {
    "duration": 825,
    "start_time": "2022-02-04T14:48:28.251Z"
   },
   {
    "duration": 6,
    "start_time": "2022-02-04T14:48:54.539Z"
   },
   {
    "duration": 34,
    "start_time": "2022-02-04T14:48:56.933Z"
   },
   {
    "duration": 6,
    "start_time": "2022-02-04T14:49:14.348Z"
   },
   {
    "duration": 10323,
    "start_time": "2022-02-04T14:49:16.092Z"
   },
   {
    "duration": 6,
    "start_time": "2022-02-04T14:49:48.378Z"
   },
   {
    "duration": 837,
    "start_time": "2022-02-04T14:49:49.657Z"
   },
   {
    "duration": 6,
    "start_time": "2022-02-04T14:50:26.648Z"
   },
   {
    "duration": 30,
    "start_time": "2022-02-04T14:50:28.994Z"
   },
   {
    "duration": 6,
    "start_time": "2022-02-04T14:52:31.453Z"
   },
   {
    "duration": 1023,
    "start_time": "2022-02-04T14:52:35.652Z"
   },
   {
    "duration": 6,
    "start_time": "2022-02-04T14:53:17.207Z"
   },
   {
    "duration": 35,
    "start_time": "2022-02-04T14:53:19.163Z"
   },
   {
    "duration": 16,
    "start_time": "2022-02-04T14:53:37.272Z"
   },
   {
    "duration": 13,
    "start_time": "2022-02-04T14:53:38.850Z"
   },
   {
    "duration": 10,
    "start_time": "2022-02-04T14:53:54.305Z"
   },
   {
    "duration": 54,
    "start_time": "2022-02-04T14:53:55.738Z"
   },
   {
    "duration": 6,
    "start_time": "2022-02-04T14:54:09.058Z"
   },
   {
    "duration": 6,
    "start_time": "2022-02-04T14:54:14.868Z"
   },
   {
    "duration": 794,
    "start_time": "2022-02-04T14:54:17.100Z"
   },
   {
    "duration": 6,
    "start_time": "2022-02-04T14:54:29.999Z"
   },
   {
    "duration": 777,
    "start_time": "2022-02-04T14:54:31.913Z"
   },
   {
    "duration": 5,
    "start_time": "2022-02-04T14:55:06.286Z"
   },
   {
    "duration": 850,
    "start_time": "2022-02-04T14:55:07.583Z"
   },
   {
    "duration": 7,
    "start_time": "2022-02-04T14:55:26.544Z"
   },
   {
    "duration": 48,
    "start_time": "2022-02-04T14:55:27.918Z"
   },
   {
    "duration": 7,
    "start_time": "2022-02-04T14:55:57.885Z"
   },
   {
    "duration": 35,
    "start_time": "2022-02-04T14:56:00.436Z"
   },
   {
    "duration": 6,
    "start_time": "2022-02-04T14:56:08.293Z"
   },
   {
    "duration": 32,
    "start_time": "2022-02-04T14:56:09.615Z"
   },
   {
    "duration": 6,
    "start_time": "2022-02-04T14:57:00.930Z"
   },
   {
    "duration": 26,
    "start_time": "2022-02-04T14:57:02.456Z"
   },
   {
    "duration": 5,
    "start_time": "2022-02-04T14:57:25.143Z"
   },
   {
    "duration": 25,
    "start_time": "2022-02-04T14:57:26.615Z"
   },
   {
    "duration": 5,
    "start_time": "2022-02-04T14:57:34.044Z"
   },
   {
    "duration": 31,
    "start_time": "2022-02-04T14:57:37.641Z"
   },
   {
    "duration": 386,
    "start_time": "2022-02-04T14:58:06.208Z"
   },
   {
    "duration": 20,
    "start_time": "2022-02-04T14:58:15.000Z"
   },
   {
    "duration": 16,
    "start_time": "2022-02-04T14:59:28.842Z"
   },
   {
    "duration": 124,
    "start_time": "2022-02-04T14:59:33.836Z"
   },
   {
    "duration": 17,
    "start_time": "2022-02-04T14:59:37.059Z"
   },
   {
    "duration": 22,
    "start_time": "2022-02-04T14:59:38.309Z"
   },
   {
    "duration": 774,
    "start_time": "2022-02-04T15:03:41.322Z"
   },
   {
    "duration": 176,
    "start_time": "2022-02-04T15:03:42.098Z"
   },
   {
    "duration": 27,
    "start_time": "2022-02-04T15:03:42.277Z"
   },
   {
    "duration": 34,
    "start_time": "2022-02-04T15:03:42.306Z"
   },
   {
    "duration": 5,
    "start_time": "2022-02-04T15:03:42.360Z"
   },
   {
    "duration": 29,
    "start_time": "2022-02-04T15:03:42.368Z"
   },
   {
    "duration": 7,
    "start_time": "2022-02-04T15:03:42.399Z"
   },
   {
    "duration": 58,
    "start_time": "2022-02-04T15:03:42.410Z"
   },
   {
    "duration": 41,
    "start_time": "2022-02-04T15:03:42.471Z"
   },
   {
    "duration": 46,
    "start_time": "2022-02-04T15:03:42.514Z"
   },
   {
    "duration": 77,
    "start_time": "2022-02-04T15:03:42.563Z"
   },
   {
    "duration": 90,
    "start_time": "2022-02-04T15:03:42.658Z"
   },
   {
    "duration": 70,
    "start_time": "2022-02-04T15:03:42.758Z"
   },
   {
    "duration": 70,
    "start_time": "2022-02-04T15:03:42.830Z"
   },
   {
    "duration": 4,
    "start_time": "2022-02-04T15:03:42.903Z"
   },
   {
    "duration": 88,
    "start_time": "2022-02-04T15:03:42.910Z"
   },
   {
    "duration": 75,
    "start_time": "2022-02-04T15:03:43.000Z"
   },
   {
    "duration": 46,
    "start_time": "2022-02-04T15:03:43.078Z"
   },
   {
    "duration": 65,
    "start_time": "2022-02-04T15:03:43.127Z"
   },
   {
    "duration": 6,
    "start_time": "2022-02-04T15:03:43.195Z"
   },
   {
    "duration": 23,
    "start_time": "2022-02-04T15:03:43.204Z"
   },
   {
    "duration": 19,
    "start_time": "2022-02-04T15:03:43.259Z"
   },
   {
    "duration": 18,
    "start_time": "2022-02-04T15:03:43.284Z"
   },
   {
    "duration": 55,
    "start_time": "2022-02-04T15:03:43.306Z"
   },
   {
    "duration": 22,
    "start_time": "2022-02-04T15:03:43.364Z"
   },
   {
    "duration": 18,
    "start_time": "2022-02-04T15:03:43.389Z"
   },
   {
    "duration": 130,
    "start_time": "2022-02-04T15:03:43.410Z"
   },
   {
    "duration": 29,
    "start_time": "2022-02-04T15:03:43.543Z"
   },
   {
    "duration": 14,
    "start_time": "2022-02-04T15:03:43.575Z"
   },
   {
    "duration": 7,
    "start_time": "2022-02-04T15:03:43.591Z"
   },
   {
    "duration": 60,
    "start_time": "2022-02-04T15:03:43.601Z"
   },
   {
    "duration": 17,
    "start_time": "2022-02-04T15:03:43.665Z"
   },
   {
    "duration": 20,
    "start_time": "2022-02-04T15:03:43.684Z"
   },
   {
    "duration": 16,
    "start_time": "2022-02-04T15:03:43.707Z"
   },
   {
    "duration": 3,
    "start_time": "2022-02-04T15:03:43.760Z"
   },
   {
    "duration": 5,
    "start_time": "2022-02-04T15:03:43.765Z"
   },
   {
    "duration": 4,
    "start_time": "2022-02-04T15:03:43.773Z"
   },
   {
    "duration": 6,
    "start_time": "2022-02-04T15:03:43.779Z"
   },
   {
    "duration": 517,
    "start_time": "2022-02-04T15:05:17.524Z"
   },
   {
    "duration": 13,
    "start_time": "2022-02-04T15:05:45.173Z"
   },
   {
    "duration": 6,
    "start_time": "2022-02-04T15:05:57.622Z"
   },
   {
    "duration": 9,
    "start_time": "2022-02-04T15:06:30.786Z"
   },
   {
    "duration": 7,
    "start_time": "2022-02-04T15:06:42.410Z"
   },
   {
    "duration": 1244,
    "start_time": "2022-02-04T16:46:48.369Z"
   },
   {
    "duration": 813,
    "start_time": "2022-02-04T16:47:47.332Z"
   },
   {
    "duration": 197,
    "start_time": "2022-02-04T16:47:48.148Z"
   },
   {
    "duration": 35,
    "start_time": "2022-02-04T16:47:48.349Z"
   },
   {
    "duration": 34,
    "start_time": "2022-02-04T16:47:48.387Z"
   },
   {
    "duration": 8,
    "start_time": "2022-02-04T16:47:48.424Z"
   },
   {
    "duration": 50,
    "start_time": "2022-02-04T16:47:48.434Z"
   },
   {
    "duration": 6,
    "start_time": "2022-02-04T16:47:48.487Z"
   },
   {
    "duration": 33,
    "start_time": "2022-02-04T16:47:48.496Z"
   },
   {
    "duration": 67,
    "start_time": "2022-02-04T16:47:48.532Z"
   },
   {
    "duration": 29,
    "start_time": "2022-02-04T16:47:48.601Z"
   },
   {
    "duration": 104,
    "start_time": "2022-02-04T16:47:48.633Z"
   },
   {
    "duration": 126,
    "start_time": "2022-02-04T16:47:48.739Z"
   },
   {
    "duration": 93,
    "start_time": "2022-02-04T16:47:48.867Z"
   },
   {
    "duration": 60,
    "start_time": "2022-02-04T16:47:48.963Z"
   },
   {
    "duration": 4,
    "start_time": "2022-02-04T16:47:49.025Z"
   },
   {
    "duration": 77,
    "start_time": "2022-02-04T16:47:49.031Z"
   },
   {
    "duration": 76,
    "start_time": "2022-02-04T16:47:49.110Z"
   },
   {
    "duration": 41,
    "start_time": "2022-02-04T16:47:49.189Z"
   },
   {
    "duration": 71,
    "start_time": "2022-02-04T16:47:49.232Z"
   },
   {
    "duration": 4,
    "start_time": "2022-02-04T16:47:49.306Z"
   },
   {
    "duration": 46,
    "start_time": "2022-02-04T16:47:49.313Z"
   },
   {
    "duration": 23,
    "start_time": "2022-02-04T16:47:49.362Z"
   },
   {
    "duration": 17,
    "start_time": "2022-02-04T16:47:49.389Z"
   },
   {
    "duration": 16,
    "start_time": "2022-02-04T16:47:49.409Z"
   },
   {
    "duration": 52,
    "start_time": "2022-02-04T16:47:49.427Z"
   },
   {
    "duration": 17,
    "start_time": "2022-02-04T16:47:49.482Z"
   },
   {
    "duration": 122,
    "start_time": "2022-02-04T16:47:49.502Z"
   },
   {
    "duration": 14,
    "start_time": "2022-02-04T16:47:49.626Z"
   },
   {
    "duration": 24,
    "start_time": "2022-02-04T16:47:49.643Z"
   },
   {
    "duration": 6,
    "start_time": "2022-02-04T16:47:49.670Z"
   },
   {
    "duration": 36,
    "start_time": "2022-02-04T16:47:49.679Z"
   },
   {
    "duration": 17,
    "start_time": "2022-02-04T16:47:49.717Z"
   },
   {
    "duration": 25,
    "start_time": "2022-02-04T16:47:49.760Z"
   },
   {
    "duration": 15,
    "start_time": "2022-02-04T16:47:49.788Z"
   },
   {
    "duration": 11,
    "start_time": "2022-02-04T16:47:49.805Z"
   },
   {
    "duration": 41,
    "start_time": "2022-02-04T16:47:49.818Z"
   },
   {
    "duration": 12,
    "start_time": "2022-02-04T16:47:49.863Z"
   },
   {
    "duration": 8,
    "start_time": "2022-02-04T16:47:49.877Z"
   },
   {
    "duration": 388,
    "start_time": "2022-02-05T02:26:27.061Z"
   },
   {
    "duration": 5,
    "start_time": "2022-02-05T02:26:41.400Z"
   },
   {
    "duration": 614,
    "start_time": "2022-02-05T02:26:44.437Z"
   },
   {
    "duration": 871,
    "start_time": "2022-02-05T02:27:01.534Z"
   },
   {
    "duration": 194,
    "start_time": "2022-02-05T02:27:02.409Z"
   },
   {
    "duration": 27,
    "start_time": "2022-02-05T02:27:02.606Z"
   },
   {
    "duration": 48,
    "start_time": "2022-02-05T02:27:02.635Z"
   },
   {
    "duration": 7,
    "start_time": "2022-02-05T02:27:02.686Z"
   },
   {
    "duration": 60,
    "start_time": "2022-02-05T02:27:02.696Z"
   },
   {
    "duration": 6,
    "start_time": "2022-02-05T02:27:02.759Z"
   },
   {
    "duration": 33,
    "start_time": "2022-02-05T02:27:02.770Z"
   },
   {
    "duration": 65,
    "start_time": "2022-02-05T02:27:02.806Z"
   },
   {
    "duration": 28,
    "start_time": "2022-02-05T02:27:02.873Z"
   },
   {
    "duration": 95,
    "start_time": "2022-02-05T02:27:02.904Z"
   },
   {
    "duration": 98,
    "start_time": "2022-02-05T02:27:03.001Z"
   },
   {
    "duration": 82,
    "start_time": "2022-02-05T02:27:03.102Z"
   },
   {
    "duration": 66,
    "start_time": "2022-02-05T02:27:03.186Z"
   },
   {
    "duration": 4,
    "start_time": "2022-02-05T02:27:03.254Z"
   },
   {
    "duration": 51,
    "start_time": "2022-02-05T02:27:03.261Z"
   },
   {
    "duration": 70,
    "start_time": "2022-02-05T02:27:03.314Z"
   },
   {
    "duration": 42,
    "start_time": "2022-02-05T02:27:03.387Z"
   },
   {
    "duration": 42,
    "start_time": "2022-02-05T02:27:03.449Z"
   },
   {
    "duration": 4,
    "start_time": "2022-02-05T02:27:03.494Z"
   },
   {
    "duration": 49,
    "start_time": "2022-02-05T02:27:03.501Z"
   },
   {
    "duration": 18,
    "start_time": "2022-02-05T02:27:03.552Z"
   },
   {
    "duration": 18,
    "start_time": "2022-02-05T02:27:03.575Z"
   },
   {
    "duration": 16,
    "start_time": "2022-02-05T02:27:03.596Z"
   },
   {
    "duration": 52,
    "start_time": "2022-02-05T02:27:03.614Z"
   },
   {
    "duration": 17,
    "start_time": "2022-02-05T02:27:03.669Z"
   },
   {
    "duration": 113,
    "start_time": "2022-02-05T02:27:03.689Z"
   },
   {
    "duration": 13,
    "start_time": "2022-02-05T02:27:03.805Z"
   },
   {
    "duration": 28,
    "start_time": "2022-02-05T02:27:03.821Z"
   },
   {
    "duration": 6,
    "start_time": "2022-02-05T02:27:03.853Z"
   },
   {
    "duration": 46,
    "start_time": "2022-02-05T02:27:03.862Z"
   },
   {
    "duration": 46,
    "start_time": "2022-02-05T02:27:03.910Z"
   },
   {
    "duration": 22,
    "start_time": "2022-02-05T02:27:03.958Z"
   },
   {
    "duration": 16,
    "start_time": "2022-02-05T02:27:03.982Z"
   },
   {
    "duration": 13,
    "start_time": "2022-02-05T02:27:04.000Z"
   },
   {
    "duration": 36,
    "start_time": "2022-02-05T02:27:04.015Z"
   },
   {
    "duration": 10,
    "start_time": "2022-02-05T02:27:04.053Z"
   },
   {
    "duration": 7,
    "start_time": "2022-02-05T02:27:04.066Z"
   },
   {
    "duration": 382,
    "start_time": "2022-02-05T02:30:34.849Z"
   },
   {
    "duration": 339,
    "start_time": "2022-02-05T02:31:04.851Z"
   },
   {
    "duration": 102,
    "start_time": "2022-02-05T02:31:17.430Z"
   },
   {
    "duration": 300,
    "start_time": "2022-02-05T02:31:22.173Z"
   },
   {
    "duration": 293,
    "start_time": "2022-02-05T02:31:34.361Z"
   },
   {
    "duration": 80,
    "start_time": "2022-02-05T02:31:38.159Z"
   },
   {
    "duration": 414,
    "start_time": "2022-02-05T02:31:45.570Z"
   },
   {
    "duration": 367,
    "start_time": "2022-02-05T02:31:55.763Z"
   },
   {
    "duration": 757,
    "start_time": "2022-02-05T03:45:09.429Z"
   },
   {
    "duration": 174,
    "start_time": "2022-02-05T03:45:10.188Z"
   },
   {
    "duration": 25,
    "start_time": "2022-02-05T03:45:10.366Z"
   },
   {
    "duration": 54,
    "start_time": "2022-02-05T03:45:10.394Z"
   },
   {
    "duration": 5,
    "start_time": "2022-02-05T03:45:10.451Z"
   },
   {
    "duration": 40,
    "start_time": "2022-02-05T03:45:10.458Z"
   },
   {
    "duration": 15,
    "start_time": "2022-02-05T03:45:10.500Z"
   },
   {
    "duration": 42,
    "start_time": "2022-02-05T03:45:10.517Z"
   },
   {
    "duration": 40,
    "start_time": "2022-02-05T03:45:10.563Z"
   },
   {
    "duration": 46,
    "start_time": "2022-02-05T03:45:10.606Z"
   },
   {
    "duration": 95,
    "start_time": "2022-02-05T03:45:10.654Z"
   },
   {
    "duration": 85,
    "start_time": "2022-02-05T03:45:10.752Z"
   },
   {
    "duration": 69,
    "start_time": "2022-02-05T03:45:10.849Z"
   },
   {
    "duration": 71,
    "start_time": "2022-02-05T03:45:10.920Z"
   },
   {
    "duration": 3,
    "start_time": "2022-02-05T03:45:10.994Z"
   },
   {
    "duration": 71,
    "start_time": "2022-02-05T03:45:11.000Z"
   },
   {
    "duration": 53,
    "start_time": "2022-02-05T03:45:11.073Z"
   },
   {
    "duration": 55,
    "start_time": "2022-02-05T03:45:11.128Z"
   },
   {
    "duration": 42,
    "start_time": "2022-02-05T03:45:11.185Z"
   },
   {
    "duration": 5,
    "start_time": "2022-02-05T03:45:11.249Z"
   },
   {
    "duration": 25,
    "start_time": "2022-02-05T03:45:11.256Z"
   },
   {
    "duration": 17,
    "start_time": "2022-02-05T03:45:11.284Z"
   },
   {
    "duration": 45,
    "start_time": "2022-02-05T03:45:11.303Z"
   },
   {
    "duration": 18,
    "start_time": "2022-02-05T03:45:11.350Z"
   },
   {
    "duration": 19,
    "start_time": "2022-02-05T03:45:11.370Z"
   },
   {
    "duration": 17,
    "start_time": "2022-02-05T03:45:11.391Z"
   },
   {
    "duration": 502,
    "start_time": "2022-02-05T03:45:11.412Z"
   },
   {
    "duration": 405,
    "start_time": "2022-02-05T03:45:11.513Z"
   },
   {
    "duration": 403,
    "start_time": "2022-02-05T03:45:11.517Z"
   },
   {
    "duration": 398,
    "start_time": "2022-02-05T03:45:11.524Z"
   },
   {
    "duration": 396,
    "start_time": "2022-02-05T03:45:11.529Z"
   },
   {
    "duration": 394,
    "start_time": "2022-02-05T03:45:11.533Z"
   },
   {
    "duration": 388,
    "start_time": "2022-02-05T03:45:11.541Z"
   },
   {
    "duration": 384,
    "start_time": "2022-02-05T03:45:11.547Z"
   },
   {
    "duration": 376,
    "start_time": "2022-02-05T03:45:11.557Z"
   },
   {
    "duration": 374,
    "start_time": "2022-02-05T03:45:11.561Z"
   },
   {
    "duration": 373,
    "start_time": "2022-02-05T03:45:11.564Z"
   },
   {
    "duration": 366,
    "start_time": "2022-02-05T03:45:11.574Z"
   },
   {
    "duration": 87,
    "start_time": "2022-02-05T03:46:28.981Z"
   },
   {
    "duration": 710,
    "start_time": "2022-02-05T03:51:33.806Z"
   },
   {
    "duration": 175,
    "start_time": "2022-02-05T03:51:34.519Z"
   },
   {
    "duration": 25,
    "start_time": "2022-02-05T03:51:34.698Z"
   },
   {
    "duration": 47,
    "start_time": "2022-02-05T03:51:34.726Z"
   },
   {
    "duration": 5,
    "start_time": "2022-02-05T03:51:34.776Z"
   },
   {
    "duration": 27,
    "start_time": "2022-02-05T03:51:34.784Z"
   },
   {
    "duration": 37,
    "start_time": "2022-02-05T03:51:34.813Z"
   },
   {
    "duration": 31,
    "start_time": "2022-02-05T03:51:34.852Z"
   },
   {
    "duration": 69,
    "start_time": "2022-02-05T03:51:34.887Z"
   },
   {
    "duration": 28,
    "start_time": "2022-02-05T03:51:34.960Z"
   },
   {
    "duration": 103,
    "start_time": "2022-02-05T03:51:34.991Z"
   },
   {
    "duration": 106,
    "start_time": "2022-02-05T03:51:35.097Z"
   },
   {
    "duration": 86,
    "start_time": "2022-02-05T03:51:35.205Z"
   },
   {
    "duration": 66,
    "start_time": "2022-02-05T03:51:35.294Z"
   },
   {
    "duration": 5,
    "start_time": "2022-02-05T03:51:35.363Z"
   },
   {
    "duration": 51,
    "start_time": "2022-02-05T03:51:35.370Z"
   },
   {
    "duration": 76,
    "start_time": "2022-02-05T03:51:35.424Z"
   },
   {
    "duration": 63,
    "start_time": "2022-02-05T03:51:35.503Z"
   },
   {
    "duration": 43,
    "start_time": "2022-02-05T03:51:35.568Z"
   },
   {
    "duration": 5,
    "start_time": "2022-02-05T03:51:35.613Z"
   },
   {
    "duration": 50,
    "start_time": "2022-02-05T03:51:35.620Z"
   },
   {
    "duration": 16,
    "start_time": "2022-02-05T03:51:35.673Z"
   },
   {
    "duration": 23,
    "start_time": "2022-02-05T03:51:35.692Z"
   },
   {
    "duration": 37,
    "start_time": "2022-02-05T03:51:35.717Z"
   },
   {
    "duration": 20,
    "start_time": "2022-02-05T03:51:35.756Z"
   },
   {
    "duration": 18,
    "start_time": "2022-02-05T03:51:35.778Z"
   },
   {
    "duration": 122,
    "start_time": "2022-02-05T03:51:35.801Z"
   },
   {
    "duration": 14,
    "start_time": "2022-02-05T03:51:35.926Z"
   },
   {
    "duration": 12,
    "start_time": "2022-02-05T03:51:35.949Z"
   },
   {
    "duration": 5,
    "start_time": "2022-02-05T03:51:35.964Z"
   },
   {
    "duration": 29,
    "start_time": "2022-02-05T03:51:35.972Z"
   },
   {
    "duration": 49,
    "start_time": "2022-02-05T03:51:36.004Z"
   },
   {
    "duration": 22,
    "start_time": "2022-02-05T03:51:36.055Z"
   },
   {
    "duration": 16,
    "start_time": "2022-02-05T03:51:36.079Z"
   },
   {
    "duration": 12,
    "start_time": "2022-02-05T03:51:36.097Z"
   },
   {
    "duration": 37,
    "start_time": "2022-02-05T03:51:36.112Z"
   },
   {
    "duration": 10,
    "start_time": "2022-02-05T03:51:36.151Z"
   },
   {
    "duration": 6,
    "start_time": "2022-02-05T03:51:36.163Z"
   },
   {
    "duration": 657,
    "start_time": "2022-02-12T15:07:27.867Z"
   },
   {
    "duration": 157,
    "start_time": "2022-02-12T15:07:28.527Z"
   },
   {
    "duration": 20,
    "start_time": "2022-02-12T15:07:28.687Z"
   },
   {
    "duration": 35,
    "start_time": "2022-02-12T15:07:28.710Z"
   },
   {
    "duration": 20,
    "start_time": "2022-02-12T15:07:28.747Z"
   },
   {
    "duration": 40,
    "start_time": "2022-02-12T15:07:28.768Z"
   },
   {
    "duration": 27,
    "start_time": "2022-02-12T15:07:28.811Z"
   },
   {
    "duration": 53,
    "start_time": "2022-02-12T15:07:28.840Z"
   },
   {
    "duration": 44,
    "start_time": "2022-02-12T15:07:28.896Z"
   },
   {
    "duration": 25,
    "start_time": "2022-02-12T15:07:28.942Z"
   },
   {
    "duration": 78,
    "start_time": "2022-02-12T15:07:28.969Z"
   },
   {
    "duration": 70,
    "start_time": "2022-02-12T15:07:29.049Z"
   },
   {
    "duration": 55,
    "start_time": "2022-02-12T15:07:29.121Z"
   },
   {
    "duration": 59,
    "start_time": "2022-02-12T15:07:29.178Z"
   },
   {
    "duration": 21,
    "start_time": "2022-02-12T15:07:29.239Z"
   },
   {
    "duration": 65,
    "start_time": "2022-02-12T15:07:29.262Z"
   },
   {
    "duration": 44,
    "start_time": "2022-02-12T15:07:29.329Z"
   },
   {
    "duration": 46,
    "start_time": "2022-02-12T15:07:29.375Z"
   },
   {
    "duration": 34,
    "start_time": "2022-02-12T15:07:29.422Z"
   },
   {
    "duration": 3,
    "start_time": "2022-02-12T15:07:29.458Z"
   },
   {
    "duration": 50,
    "start_time": "2022-02-12T15:07:29.463Z"
   },
   {
    "duration": 22,
    "start_time": "2022-02-12T15:07:29.515Z"
   },
   {
    "duration": 27,
    "start_time": "2022-02-12T15:07:29.541Z"
   },
   {
    "duration": 24,
    "start_time": "2022-02-12T15:07:29.570Z"
   },
   {
    "duration": 20,
    "start_time": "2022-02-12T15:07:29.595Z"
   },
   {
    "duration": 20,
    "start_time": "2022-02-12T15:07:29.617Z"
   },
   {
    "duration": 104,
    "start_time": "2022-02-12T15:07:29.639Z"
   },
   {
    "duration": 15,
    "start_time": "2022-02-12T15:07:29.745Z"
   },
   {
    "duration": 14,
    "start_time": "2022-02-12T15:07:29.763Z"
   },
   {
    "duration": 23,
    "start_time": "2022-02-12T15:07:29.779Z"
   },
   {
    "duration": 27,
    "start_time": "2022-02-12T15:07:29.805Z"
   },
   {
    "duration": 14,
    "start_time": "2022-02-12T15:07:29.834Z"
   },
   {
    "duration": 19,
    "start_time": "2022-02-12T15:07:29.850Z"
   },
   {
    "duration": 39,
    "start_time": "2022-02-12T15:07:29.871Z"
   },
   {
    "duration": 9,
    "start_time": "2022-02-12T15:07:29.912Z"
   },
   {
    "duration": 5,
    "start_time": "2022-02-12T15:07:29.923Z"
   },
   {
    "duration": 12,
    "start_time": "2022-02-12T15:07:29.930Z"
   },
   {
    "duration": 12,
    "start_time": "2022-02-12T15:07:29.944Z"
   },
   {
    "duration": 53,
    "start_time": "2022-02-12T15:50:49.870Z"
   },
   {
    "duration": 73,
    "start_time": "2022-02-12T16:34:10.012Z"
   },
   {
    "duration": 109,
    "start_time": "2022-02-12T18:20:39.501Z"
   },
   {
    "duration": 55,
    "start_time": "2022-02-12T18:25:25.633Z"
   },
   {
    "duration": 610,
    "start_time": "2022-02-13T02:07:17.120Z"
   },
   {
    "duration": 146,
    "start_time": "2022-02-13T02:07:17.732Z"
   },
   {
    "duration": 19,
    "start_time": "2022-02-13T02:07:17.880Z"
   },
   {
    "duration": 27,
    "start_time": "2022-02-13T02:07:17.908Z"
   },
   {
    "duration": 10,
    "start_time": "2022-02-13T02:07:17.937Z"
   },
   {
    "duration": 29,
    "start_time": "2022-02-13T02:07:17.949Z"
   },
   {
    "duration": 14,
    "start_time": "2022-02-13T02:07:17.980Z"
   },
   {
    "duration": 28,
    "start_time": "2022-02-13T02:07:18.008Z"
   },
   {
    "duration": 47,
    "start_time": "2022-02-13T02:07:18.038Z"
   },
   {
    "duration": 24,
    "start_time": "2022-02-13T02:07:18.087Z"
   },
   {
    "duration": 81,
    "start_time": "2022-02-13T02:07:18.113Z"
   },
   {
    "duration": 79,
    "start_time": "2022-02-13T02:07:18.196Z"
   },
   {
    "duration": 81,
    "start_time": "2022-02-13T02:07:18.277Z"
   },
   {
    "duration": 110,
    "start_time": "2022-02-13T02:07:18.361Z"
   },
   {
    "duration": 10,
    "start_time": "2022-02-13T02:07:18.474Z"
   },
   {
    "duration": 180,
    "start_time": "2022-02-13T02:07:18.487Z"
   },
   {
    "duration": 43,
    "start_time": "2022-02-13T02:07:18.669Z"
   },
   {
    "duration": 36,
    "start_time": "2022-02-13T02:07:18.714Z"
   },
   {
    "duration": 56,
    "start_time": "2022-02-13T02:07:18.753Z"
   },
   {
    "duration": 5,
    "start_time": "2022-02-13T02:07:18.811Z"
   },
   {
    "duration": 24,
    "start_time": "2022-02-13T02:07:18.818Z"
   },
   {
    "duration": 17,
    "start_time": "2022-02-13T02:07:18.844Z"
   },
   {
    "duration": 43,
    "start_time": "2022-02-13T02:07:18.866Z"
   },
   {
    "duration": 17,
    "start_time": "2022-02-13T02:07:18.912Z"
   },
   {
    "duration": 30,
    "start_time": "2022-02-13T02:07:18.931Z"
   },
   {
    "duration": 17,
    "start_time": "2022-02-13T02:07:18.964Z"
   },
   {
    "duration": 102,
    "start_time": "2022-02-13T02:07:18.983Z"
   },
   {
    "duration": 30,
    "start_time": "2022-02-13T02:07:19.087Z"
   },
   {
    "duration": 19,
    "start_time": "2022-02-13T02:07:19.119Z"
   },
   {
    "duration": 13,
    "start_time": "2022-02-13T02:07:19.140Z"
   },
   {
    "duration": 41,
    "start_time": "2022-02-13T02:07:19.155Z"
   },
   {
    "duration": 15,
    "start_time": "2022-02-13T02:07:19.198Z"
   },
   {
    "duration": 20,
    "start_time": "2022-02-13T02:07:19.215Z"
   },
   {
    "duration": 15,
    "start_time": "2022-02-13T02:07:19.237Z"
   },
   {
    "duration": 10,
    "start_time": "2022-02-13T02:07:19.254Z"
   },
   {
    "duration": 23,
    "start_time": "2022-02-13T02:07:19.266Z"
   },
   {
    "duration": 9,
    "start_time": "2022-02-13T02:07:19.307Z"
   },
   {
    "duration": 18,
    "start_time": "2022-02-13T02:07:19.318Z"
   },
   {
    "duration": 297,
    "start_time": "2022-02-13T02:07:38.139Z"
   },
   {
    "duration": 12,
    "start_time": "2022-02-13T02:33:38.309Z"
   },
   {
    "duration": 12,
    "start_time": "2022-02-13T02:36:18.091Z"
   },
   {
    "duration": 36,
    "start_time": "2022-02-13T02:36:26.527Z"
   },
   {
    "duration": 12,
    "start_time": "2022-02-13T02:36:49.962Z"
   },
   {
    "duration": 20,
    "start_time": "2022-02-13T02:38:32.611Z"
   },
   {
    "duration": 18,
    "start_time": "2022-02-13T02:38:33.995Z"
   },
   {
    "duration": 17,
    "start_time": "2022-02-13T02:38:35.885Z"
   },
   {
    "duration": 19,
    "start_time": "2022-02-13T02:38:37.745Z"
   },
   {
    "duration": 13,
    "start_time": "2022-02-13T02:39:58.913Z"
   },
   {
    "duration": 12,
    "start_time": "2022-02-13T02:40:06.085Z"
   },
   {
    "duration": 41,
    "start_time": "2022-02-13T02:40:18.998Z"
   },
   {
    "duration": 662,
    "start_time": "2022-02-13T02:41:18.988Z"
   },
   {
    "duration": 148,
    "start_time": "2022-02-13T02:41:19.652Z"
   },
   {
    "duration": 19,
    "start_time": "2022-02-13T02:41:19.802Z"
   },
   {
    "duration": 28,
    "start_time": "2022-02-13T02:41:19.823Z"
   },
   {
    "duration": 4,
    "start_time": "2022-02-13T02:41:19.853Z"
   },
   {
    "duration": 48,
    "start_time": "2022-02-13T02:41:19.859Z"
   },
   {
    "duration": 4,
    "start_time": "2022-02-13T02:41:19.910Z"
   },
   {
    "duration": 30,
    "start_time": "2022-02-13T02:41:19.917Z"
   },
   {
    "duration": 37,
    "start_time": "2022-02-13T02:41:19.950Z"
   },
   {
    "duration": 25,
    "start_time": "2022-02-13T02:41:20.007Z"
   },
   {
    "duration": 84,
    "start_time": "2022-02-13T02:41:20.034Z"
   },
   {
    "duration": 76,
    "start_time": "2022-02-13T02:41:20.120Z"
   },
   {
    "duration": 59,
    "start_time": "2022-02-13T02:41:20.208Z"
   },
   {
    "duration": 50,
    "start_time": "2022-02-13T02:41:20.268Z"
   },
   {
    "duration": 3,
    "start_time": "2022-02-13T02:41:20.320Z"
   },
   {
    "duration": 41,
    "start_time": "2022-02-13T02:41:20.325Z"
   },
   {
    "duration": 62,
    "start_time": "2022-02-13T02:41:20.368Z"
   },
   {
    "duration": 13,
    "start_time": "2022-02-13T02:41:20.432Z"
   },
   {
    "duration": 12,
    "start_time": "2022-02-13T02:41:20.447Z"
   },
   {
    "duration": 4,
    "start_time": "2022-02-13T02:41:20.461Z"
   },
   {
    "duration": 50,
    "start_time": "2022-02-13T02:41:20.467Z"
   },
   {
    "duration": 19,
    "start_time": "2022-02-13T02:41:20.519Z"
   },
   {
    "duration": 17,
    "start_time": "2022-02-13T02:41:20.542Z"
   },
   {
    "duration": 16,
    "start_time": "2022-02-13T02:41:20.561Z"
   },
   {
    "duration": 45,
    "start_time": "2022-02-13T02:41:20.579Z"
   },
   {
    "duration": 18,
    "start_time": "2022-02-13T02:41:20.626Z"
   },
   {
    "duration": 107,
    "start_time": "2022-02-13T02:41:20.646Z"
   },
   {
    "duration": 13,
    "start_time": "2022-02-13T02:41:20.755Z"
   },
   {
    "duration": 39,
    "start_time": "2022-02-13T02:41:20.770Z"
   },
   {
    "duration": 4,
    "start_time": "2022-02-13T02:41:20.811Z"
   },
   {
    "duration": 31,
    "start_time": "2022-02-13T02:41:20.817Z"
   },
   {
    "duration": 16,
    "start_time": "2022-02-13T02:41:20.850Z"
   },
   {
    "duration": 20,
    "start_time": "2022-02-13T02:41:20.868Z"
   },
   {
    "duration": 14,
    "start_time": "2022-02-13T02:41:20.890Z"
   },
   {
    "duration": 9,
    "start_time": "2022-02-13T02:41:20.906Z"
   },
   {
    "duration": 5,
    "start_time": "2022-02-13T02:41:20.917Z"
   },
   {
    "duration": 13,
    "start_time": "2022-02-13T02:41:20.924Z"
   },
   {
    "duration": 8,
    "start_time": "2022-02-13T02:41:20.939Z"
   }
  ],
  "colab": {
   "collapsed_sections": [
    "E0vqbgi9ay0H",
    "VUC88oWjTJw2"
   ],
   "name": "yandex_music_project_2021.2.ipynb",
   "provenance": []
  },
  "kernelspec": {
   "display_name": "Python 3 (ipykernel)",
   "language": "python",
   "name": "python3"
  },
  "language_info": {
   "codemirror_mode": {
    "name": "ipython",
    "version": 3
   },
   "file_extension": ".py",
   "mimetype": "text/x-python",
   "name": "python",
   "nbconvert_exporter": "python",
   "pygments_lexer": "ipython3",
   "version": "3.9.12"
  },
  "toc": {
   "base_numbering": 1,
   "nav_menu": {},
   "number_sections": true,
   "sideBar": true,
   "skip_h1_title": true,
   "title_cell": "Table of Contents",
   "title_sidebar": "Оглавление",
   "toc_cell": false,
   "toc_position": {
    "height": "calc(100% - 180px)",
    "left": "10px",
    "top": "150px",
    "width": "165px"
   },
   "toc_section_display": true,
   "toc_window_display": false
  }
 },
 "nbformat": 4,
 "nbformat_minor": 1
}
