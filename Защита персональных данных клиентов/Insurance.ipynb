{
 "cells": [
  {
   "cell_type": "markdown",
   "metadata": {
    "toc": true
   },
   "source": [
    "<h1>Содержание<span class=\"tocSkip\"></span></h1>\n",
    "<div class=\"toc\"><ul class=\"toc-item\"><li><span><a href=\"#Загрузка-данных\" data-toc-modified-id=\"Загрузка-данных-1\"><span class=\"toc-item-num\">1&nbsp;&nbsp;</span>Загрузка данных</a></span><ul class=\"toc-item\"><li><span><a href=\"#Предобработка-данных\" data-toc-modified-id=\"Предобработка-данных-1.1\"><span class=\"toc-item-num\">1.1&nbsp;&nbsp;</span>Предобработка данных</a></span></li></ul></li><li><span><a href=\"#Умножение-матриц\" data-toc-modified-id=\"Умножение-матриц-2\"><span class=\"toc-item-num\">2&nbsp;&nbsp;</span>Умножение матриц</a></span><ul class=\"toc-item\"><li><span><a href=\"#Ответьте-на-вопрос-и-обоснуйте-решение\" data-toc-modified-id=\"Ответьте-на-вопрос-и-обоснуйте-решение-2.1\"><span class=\"toc-item-num\">2.1&nbsp;&nbsp;</span>Ответьте на вопрос и обоснуйте решение</a></span></li><li><span><a href=\"#Математическое-доказательство\" data-toc-modified-id=\"Математическое-доказательство-2.2\"><span class=\"toc-item-num\">2.2&nbsp;&nbsp;</span>Математическое доказательство</a></span></li><li><span><a href=\"#Экспериментальное-доказательство\" data-toc-modified-id=\"Экспериментальное-доказательство-2.3\"><span class=\"toc-item-num\">2.3&nbsp;&nbsp;</span>Экспериментальное доказательство</a></span></li></ul></li><li><span><a href=\"#Алгоритм-преобразования\" data-toc-modified-id=\"Алгоритм-преобразования-3\"><span class=\"toc-item-num\">3&nbsp;&nbsp;</span>Алгоритм преобразования</a></span></li><li><span><a href=\"#Проверка-алгоритма\" data-toc-modified-id=\"Проверка-алгоритма-4\"><span class=\"toc-item-num\">4&nbsp;&nbsp;</span>Проверка алгоритма</a></span></li><li><span><a href=\"#Вывод\" data-toc-modified-id=\"Вывод-5\"><span class=\"toc-item-num\">5&nbsp;&nbsp;</span>Вывод</a></span></li><li><span><a href=\"#Чек-лист-проверки\" data-toc-modified-id=\"Чек-лист-проверки-6\"><span class=\"toc-item-num\">6&nbsp;&nbsp;</span>Чек-лист проверки</a></span></li></ul></div>"
   ]
  },
  {
   "cell_type": "markdown",
   "metadata": {},
   "source": [
    "# Защита персональных данных клиентов"
   ]
  },
  {
   "cell_type": "markdown",
   "metadata": {},
   "source": [
    "Нам нужно защитить данные клиентов страховой компании «Хоть потоп». Разработаем такой метод преобразования данных, чтобы по ним было сложно восстановить персональную информацию. Обоснуем корректность его работы.\n",
    "\n",
    "Нужно защитить данные, чтобы при преобразовании качество моделей машинного обучения не ухудшилось. Подбирать наилучшую модель не требуется.\n",
    "\n",
    "Описание данных\n",
    "\n",
    "Набор данных находится в файле `/datasets/insurance.csv`. \n",
    "\n",
    "*\tПризнаки: пол, возраст и зарплата застрахованного, количество членов его семьи.\n",
    "*\tЦелевой признак: количество страховых выплат клиенту за последние 5 лет.\n"
   ]
  },
  {
   "cell_type": "markdown",
   "metadata": {},
   "source": [
    "## Загрузка данных"
   ]
  },
  {
   "cell_type": "code",
   "execution_count": 1,
   "metadata": {},
   "outputs": [],
   "source": [
    "import pandas as pd\n",
    "import numpy as np\n",
    "#\n",
    "from sklearn.metrics import r2_score\n",
    "from sklearn.linear_model import LinearRegression\n",
    "from sklearn.preprocessing import StandardScaler"
   ]
  },
  {
   "cell_type": "code",
   "execution_count": 2,
   "metadata": {},
   "outputs": [],
   "source": [
    "try:\n",
    "    df = pd.read_csv('/datasets/insurance.csv')\n",
    "except FileNotFoundError:\n",
    "    df = pd.read_csv('insurance.csv')"
   ]
  },
  {
   "cell_type": "code",
   "execution_count": 3,
   "metadata": {},
   "outputs": [
    {
     "data": {
      "text/html": [
       "<div>\n",
       "<style scoped>\n",
       "    .dataframe tbody tr th:only-of-type {\n",
       "        vertical-align: middle;\n",
       "    }\n",
       "\n",
       "    .dataframe tbody tr th {\n",
       "        vertical-align: top;\n",
       "    }\n",
       "\n",
       "    .dataframe thead th {\n",
       "        text-align: right;\n",
       "    }\n",
       "</style>\n",
       "<table border=\"1\" class=\"dataframe\">\n",
       "  <thead>\n",
       "    <tr style=\"text-align: right;\">\n",
       "      <th></th>\n",
       "      <th>Пол</th>\n",
       "      <th>Возраст</th>\n",
       "      <th>Зарплата</th>\n",
       "      <th>Члены семьи</th>\n",
       "      <th>Страховые выплаты</th>\n",
       "    </tr>\n",
       "  </thead>\n",
       "  <tbody>\n",
       "    <tr>\n",
       "      <th>0</th>\n",
       "      <td>1</td>\n",
       "      <td>41.0</td>\n",
       "      <td>49600.0</td>\n",
       "      <td>1</td>\n",
       "      <td>0</td>\n",
       "    </tr>\n",
       "    <tr>\n",
       "      <th>1</th>\n",
       "      <td>0</td>\n",
       "      <td>46.0</td>\n",
       "      <td>38000.0</td>\n",
       "      <td>1</td>\n",
       "      <td>1</td>\n",
       "    </tr>\n",
       "    <tr>\n",
       "      <th>2</th>\n",
       "      <td>0</td>\n",
       "      <td>29.0</td>\n",
       "      <td>21000.0</td>\n",
       "      <td>0</td>\n",
       "      <td>0</td>\n",
       "    </tr>\n",
       "    <tr>\n",
       "      <th>3</th>\n",
       "      <td>0</td>\n",
       "      <td>21.0</td>\n",
       "      <td>41700.0</td>\n",
       "      <td>2</td>\n",
       "      <td>0</td>\n",
       "    </tr>\n",
       "    <tr>\n",
       "      <th>4</th>\n",
       "      <td>1</td>\n",
       "      <td>28.0</td>\n",
       "      <td>26100.0</td>\n",
       "      <td>0</td>\n",
       "      <td>0</td>\n",
       "    </tr>\n",
       "  </tbody>\n",
       "</table>\n",
       "</div>"
      ],
      "text/plain": [
       "   Пол  Возраст  Зарплата  Члены семьи  Страховые выплаты\n",
       "0    1     41.0   49600.0            1                  0\n",
       "1    0     46.0   38000.0            1                  1\n",
       "2    0     29.0   21000.0            0                  0\n",
       "3    0     21.0   41700.0            2                  0\n",
       "4    1     28.0   26100.0            0                  0"
      ]
     },
     "execution_count": 3,
     "metadata": {},
     "output_type": "execute_result"
    }
   ],
   "source": [
    "df.head()"
   ]
  },
  {
   "cell_type": "code",
   "execution_count": 4,
   "metadata": {},
   "outputs": [
    {
     "name": "stdout",
     "output_type": "stream",
     "text": [
      "<class 'pandas.core.frame.DataFrame'>\n",
      "RangeIndex: 5000 entries, 0 to 4999\n",
      "Data columns (total 5 columns):\n",
      " #   Column             Non-Null Count  Dtype  \n",
      "---  ------             --------------  -----  \n",
      " 0   Пол                5000 non-null   int64  \n",
      " 1   Возраст            5000 non-null   float64\n",
      " 2   Зарплата           5000 non-null   float64\n",
      " 3   Члены семьи        5000 non-null   int64  \n",
      " 4   Страховые выплаты  5000 non-null   int64  \n",
      "dtypes: float64(2), int64(3)\n",
      "memory usage: 195.4 KB\n"
     ]
    }
   ],
   "source": [
    "df.info()"
   ]
  },
  {
   "cell_type": "code",
   "execution_count": 5,
   "metadata": {
    "scrolled": true
   },
   "outputs": [
    {
     "data": {
      "text/html": [
       "<div>\n",
       "<style scoped>\n",
       "    .dataframe tbody tr th:only-of-type {\n",
       "        vertical-align: middle;\n",
       "    }\n",
       "\n",
       "    .dataframe tbody tr th {\n",
       "        vertical-align: top;\n",
       "    }\n",
       "\n",
       "    .dataframe thead th {\n",
       "        text-align: right;\n",
       "    }\n",
       "</style>\n",
       "<table border=\"1\" class=\"dataframe\">\n",
       "  <thead>\n",
       "    <tr style=\"text-align: right;\">\n",
       "      <th></th>\n",
       "      <th>Пол</th>\n",
       "      <th>Возраст</th>\n",
       "      <th>Зарплата</th>\n",
       "      <th>Члены семьи</th>\n",
       "      <th>Страховые выплаты</th>\n",
       "    </tr>\n",
       "  </thead>\n",
       "  <tbody>\n",
       "    <tr>\n",
       "      <th>count</th>\n",
       "      <td>5000.000000</td>\n",
       "      <td>5000.000000</td>\n",
       "      <td>5000.000000</td>\n",
       "      <td>5000.000000</td>\n",
       "      <td>5000.000000</td>\n",
       "    </tr>\n",
       "    <tr>\n",
       "      <th>mean</th>\n",
       "      <td>0.499000</td>\n",
       "      <td>30.952800</td>\n",
       "      <td>39916.360000</td>\n",
       "      <td>1.194200</td>\n",
       "      <td>0.148000</td>\n",
       "    </tr>\n",
       "    <tr>\n",
       "      <th>std</th>\n",
       "      <td>0.500049</td>\n",
       "      <td>8.440807</td>\n",
       "      <td>9900.083569</td>\n",
       "      <td>1.091387</td>\n",
       "      <td>0.463183</td>\n",
       "    </tr>\n",
       "    <tr>\n",
       "      <th>min</th>\n",
       "      <td>0.000000</td>\n",
       "      <td>18.000000</td>\n",
       "      <td>5300.000000</td>\n",
       "      <td>0.000000</td>\n",
       "      <td>0.000000</td>\n",
       "    </tr>\n",
       "    <tr>\n",
       "      <th>25%</th>\n",
       "      <td>0.000000</td>\n",
       "      <td>24.000000</td>\n",
       "      <td>33300.000000</td>\n",
       "      <td>0.000000</td>\n",
       "      <td>0.000000</td>\n",
       "    </tr>\n",
       "    <tr>\n",
       "      <th>50%</th>\n",
       "      <td>0.000000</td>\n",
       "      <td>30.000000</td>\n",
       "      <td>40200.000000</td>\n",
       "      <td>1.000000</td>\n",
       "      <td>0.000000</td>\n",
       "    </tr>\n",
       "    <tr>\n",
       "      <th>75%</th>\n",
       "      <td>1.000000</td>\n",
       "      <td>37.000000</td>\n",
       "      <td>46600.000000</td>\n",
       "      <td>2.000000</td>\n",
       "      <td>0.000000</td>\n",
       "    </tr>\n",
       "    <tr>\n",
       "      <th>max</th>\n",
       "      <td>1.000000</td>\n",
       "      <td>65.000000</td>\n",
       "      <td>79000.000000</td>\n",
       "      <td>6.000000</td>\n",
       "      <td>5.000000</td>\n",
       "    </tr>\n",
       "  </tbody>\n",
       "</table>\n",
       "</div>"
      ],
      "text/plain": [
       "               Пол      Возраст      Зарплата  Члены семьи  Страховые выплаты\n",
       "count  5000.000000  5000.000000   5000.000000  5000.000000        5000.000000\n",
       "mean      0.499000    30.952800  39916.360000     1.194200           0.148000\n",
       "std       0.500049     8.440807   9900.083569     1.091387           0.463183\n",
       "min       0.000000    18.000000   5300.000000     0.000000           0.000000\n",
       "25%       0.000000    24.000000  33300.000000     0.000000           0.000000\n",
       "50%       0.000000    30.000000  40200.000000     1.000000           0.000000\n",
       "75%       1.000000    37.000000  46600.000000     2.000000           0.000000\n",
       "max       1.000000    65.000000  79000.000000     6.000000           5.000000"
      ]
     },
     "execution_count": 5,
     "metadata": {},
     "output_type": "execute_result"
    }
   ],
   "source": [
    "df.describe()"
   ]
  },
  {
   "cell_type": "code",
   "execution_count": 6,
   "metadata": {},
   "outputs": [
    {
     "data": {
      "text/plain": [
       "Пол                  0.0\n",
       "Возраст              0.0\n",
       "Зарплата             0.0\n",
       "Члены семьи          0.0\n",
       "Страховые выплаты    0.0\n",
       "dtype: float64"
      ]
     },
     "execution_count": 6,
     "metadata": {},
     "output_type": "execute_result"
    }
   ],
   "source": [
    "df.isnull().sum().sort_values(ascending=False) / df.shape[0] * 100  # процент пропусков в наборе данных по столбцам"
   ]
  },
  {
   "cell_type": "markdown",
   "metadata": {},
   "source": [
    "Пропусков в данных нет, и это хорошо. Тип данных у возраста и зар. платы менять не будем, и то и другое может содержать дробные части. Названия столбцов приведем в соответствие к змеиному стилю"
   ]
  },
  {
   "cell_type": "markdown",
   "metadata": {},
   "source": [
    "### Предобработка данных"
   ]
  },
  {
   "cell_type": "code",
   "execution_count": 7,
   "metadata": {},
   "outputs": [],
   "source": [
    "cols_name = ('gender', 'age', 'salary', 'members_family', 'insurance')"
   ]
  },
  {
   "cell_type": "code",
   "execution_count": 8,
   "metadata": {},
   "outputs": [],
   "source": [
    "df = df.set_axis(cols_name, axis='columns')"
   ]
  },
  {
   "cell_type": "code",
   "execution_count": 9,
   "metadata": {},
   "outputs": [
    {
     "name": "stdout",
     "output_type": "stream",
     "text": [
      "<class 'pandas.core.frame.DataFrame'>\n",
      "RangeIndex: 5000 entries, 0 to 4999\n",
      "Data columns (total 5 columns):\n",
      " #   Column          Non-Null Count  Dtype  \n",
      "---  ------          --------------  -----  \n",
      " 0   gender          5000 non-null   int64  \n",
      " 1   age             5000 non-null   float64\n",
      " 2   salary          5000 non-null   float64\n",
      " 3   members_family  5000 non-null   int64  \n",
      " 4   insurance       5000 non-null   int64  \n",
      "dtypes: float64(2), int64(3)\n",
      "memory usage: 195.4 KB\n"
     ]
    }
   ],
   "source": [
    "df.info()"
   ]
  },
  {
   "cell_type": "markdown",
   "metadata": {},
   "source": [
    "Отлично, проверим на наличие дубликатов"
   ]
  },
  {
   "cell_type": "code",
   "execution_count": 10,
   "metadata": {},
   "outputs": [
    {
     "data": {
      "text/plain": [
       "153"
      ]
     },
     "execution_count": 10,
     "metadata": {},
     "output_type": "execute_result"
    }
   ],
   "source": [
    "df.duplicated().sum()"
   ]
  },
  {
   "cell_type": "markdown",
   "metadata": {},
   "source": [
    "Удалим дубликаты"
   ]
  },
  {
   "cell_type": "code",
   "execution_count": 11,
   "metadata": {
    "scrolled": true
   },
   "outputs": [
    {
     "name": "stdout",
     "output_type": "stream",
     "text": [
      "<class 'pandas.core.frame.DataFrame'>\n",
      "Int64Index: 4847 entries, 0 to 4999\n",
      "Data columns (total 5 columns):\n",
      " #   Column          Non-Null Count  Dtype  \n",
      "---  ------          --------------  -----  \n",
      " 0   gender          4847 non-null   int64  \n",
      " 1   age             4847 non-null   float64\n",
      " 2   salary          4847 non-null   float64\n",
      " 3   members_family  4847 non-null   int64  \n",
      " 4   insurance       4847 non-null   int64  \n",
      "dtypes: float64(2), int64(3)\n",
      "memory usage: 227.2 KB\n"
     ]
    }
   ],
   "source": [
    "df = df.drop_duplicates()\n",
    "df.info()"
   ]
  },
  {
   "cell_type": "markdown",
   "metadata": {},
   "source": [
    "Подготовку данных завершили, можно двигаться дальше"
   ]
  },
  {
   "cell_type": "markdown",
   "metadata": {},
   "source": [
    "## Умножение матриц"
   ]
  },
  {
   "cell_type": "markdown",
   "metadata": {},
   "source": [
    "### Ответьте на вопрос и обоснуйте решение\n",
    "\n"
   ]
  },
  {
   "cell_type": "markdown",
   "metadata": {},
   "source": [
    "В этом задании вы можете записывать формулы в *Jupyter Notebook.*\n",
    "\n",
    "Чтобы записать формулу внутри текста, окружите её символами доллара \\\\$; если снаружи —  двойными символами \\\\$\\\\$. Эти формулы записываются на языке вёрстки *LaTeX.* \n",
    "\n",
    "Для примера мы записали формулы линейной регрессии. Можете их скопировать и отредактировать, чтобы решить задачу.\n",
    "\n",
    "Работать в *LaTeX* необязательно."
   ]
  },
  {
   "cell_type": "markdown",
   "metadata": {},
   "source": [
    "Обозначения:\n",
    "\n",
    "- $X$ — матрица признаков (нулевой столбец состоит из единиц)\n",
    "\n",
    "- $y$ — вектор целевого признака\n",
    "\n",
    "- $P$ — матрица, на которую умножаются признаки\n",
    "\n",
    "- $w$ — вектор весов линейной регрессии (нулевой элемент равен сдвигу)"
   ]
  },
  {
   "cell_type": "markdown",
   "metadata": {},
   "source": [
    "Предсказания:\n",
    "\n",
    "$$\n",
    "a = Xw\n",
    "$$\n",
    "\n",
    "Задача обучения:\n",
    "\n",
    "$$\n",
    "w = \\arg\\min_w MSE(Xw, y)\n",
    "$$\n",
    "\n",
    "Формула обучения:\n",
    "\n",
    "$$\n",
    "w = (X^T X)^{-1} X^T y\n",
    "$$"
   ]
  },
  {
   "cell_type": "markdown",
   "metadata": {},
   "source": [
    "Признаки умножают на обратимую матрицу. Изменится ли качество линейной регрессии? \n",
    "\n",
    "* a. Изменится. Приведите примеры матриц.\n",
    "* b. Не изменится. Укажите, как связаны параметры линейной регрессии в исходной задаче и в преобразованной.\n",
    "\n",
    "\n",
    "Вспомнив первый курс Мат-Меха можно отметить следующее - Матрица имеет обратную матрицу тогда и только тогда, когда она квадратная и невырожденная, то есть ее определитель отличен от нуля. Такая матрица называется обратимой. Если обратная матрица существует, то она одна\n",
    "\n",
    "При умножении исходной матрицы признаков $X$ на обратимую матрицу соответствующего размера качество линейно регрессии не изменится. Проверим, взяв случайную обратимую матрицу и обучив модель линейной регрессии на исходных данных $X$ и получившися после умножения $X$ на обратимую матрицу.\n",
    "\n",
    "\n",
    "Для начала преобразуем наши данные, отделим признаки и целевой признак, и добавим к матрице признаков единичный столбец вначале"
   ]
  },
  {
   "cell_type": "code",
   "execution_count": 12,
   "metadata": {},
   "outputs": [],
   "source": [
    "X = df.drop(['insurance'], axis=1)\n",
    "y = df['insurance']"
   ]
  },
  {
   "cell_type": "code",
   "execution_count": 13,
   "metadata": {},
   "outputs": [],
   "source": [
    "X = np.concatenate((np.ones((X.shape[0], 1)), X), axis=1)"
   ]
  },
  {
   "cell_type": "markdown",
   "metadata": {},
   "source": [
    "Проверим размерности"
   ]
  },
  {
   "cell_type": "code",
   "execution_count": 14,
   "metadata": {},
   "outputs": [
    {
     "name": "stdout",
     "output_type": "stream",
     "text": [
      "(4847, 5) (4847,)\n"
     ]
    }
   ],
   "source": [
    "print(X.shape,y.shape)"
   ]
  },
  {
   "cell_type": "markdown",
   "metadata": {},
   "source": [
    "Сформируем случайную матрицу $P$, размерности $5x5$"
   ]
  },
  {
   "cell_type": "code",
   "execution_count": 15,
   "metadata": {},
   "outputs": [],
   "source": [
    "def rnd_matrix(n):\n",
    "    random_matrix = np.random.normal(size=(n, n))\n",
    "    try:\n",
    "        np.linalg.inv(random_matrix) # выполняется операция создания обратной матрицы\n",
    "    except LinAlgError: # если возникает ошибка, т.е. обратной матрицы не существует, выполняется еще одна попытка\n",
    "        rnd_matrix(n)\n",
    "    return random_matrix"
   ]
  },
  {
   "cell_type": "code",
   "execution_count": 25,
   "metadata": {},
   "outputs": [
    {
     "data": {
      "text/plain": [
       "array([[ 0.26458224, -0.89033984,  1.76017909,  2.22048163, -0.36590787],\n",
       "       [ 1.05057794, -0.47455868,  0.51970463, -0.10000394, -0.63937907],\n",
       "       [ 0.76593628,  1.41298745, -0.93269494, -0.37533063, -0.59664865],\n",
       "       [ 0.49024573, -1.04250473, -0.94017995,  1.3060236 ,  1.18680771],\n",
       "       [ 0.39372819,  0.57799912, -0.44735129, -0.35779747, -1.03674047]])"
      ]
     },
     "execution_count": 25,
     "metadata": {},
     "output_type": "execute_result"
    }
   ],
   "source": [
    "P = rnd_matrix(5)\n",
    "P"
   ]
  },
  {
   "cell_type": "markdown",
   "metadata": {},
   "source": [
    "Посчитаем детерминант матрицы  $P$"
   ]
  },
  {
   "cell_type": "code",
   "execution_count": 26,
   "metadata": {},
   "outputs": [
    {
     "data": {
      "text/plain": [
       "-7.063394837640996"
      ]
     },
     "execution_count": 26,
     "metadata": {},
     "output_type": "execute_result"
    }
   ],
   "source": [
    "np.linalg.det(P)"
   ]
  },
  {
   "cell_type": "markdown",
   "metadata": {},
   "source": [
    "Определитель отличен от нуля, значит матрица имеет обратную"
   ]
  },
  {
   "cell_type": "code",
   "execution_count": 27,
   "metadata": {},
   "outputs": [
    {
     "data": {
      "text/plain": [
       "array([[-0.03405406,  0.74674684,  0.57416375,  0.0971508 , -0.66773545],\n",
       "       [ 0.1786302 , -0.24763629,  0.81744741, -0.27981325, -0.701084  ],\n",
       "       [ 0.16394804,  0.30097634,  0.24856833, -0.42273046, -0.87045466],\n",
       "       [ 0.37724155, -0.40144535,  0.14729555,  0.20982559,  0.26986411],\n",
       "       [-0.11427969,  0.15420996,  0.51570188, -0.00911208, -1.32655175]])"
      ]
     },
     "execution_count": 27,
     "metadata": {},
     "output_type": "execute_result"
    }
   ],
   "source": [
    "P_inv = np.linalg.inv(P)\n",
    "P_inv"
   ]
  },
  {
   "cell_type": "code",
   "execution_count": 28,
   "metadata": {},
   "outputs": [
    {
     "data": {
      "text/plain": [
       "-0.14157498242501987"
      ]
     },
     "execution_count": 28,
     "metadata": {},
     "output_type": "execute_result"
    }
   ],
   "source": [
    "np.linalg.det(P_inv)"
   ]
  },
  {
   "cell_type": "markdown",
   "metadata": {},
   "source": [
    "Произведение матрицы на обратную к этой матрице равно единичной матрице\n",
    "$A * A^{-1} = E$\n",
    "\n",
    "Проверим"
   ]
  },
  {
   "cell_type": "code",
   "execution_count": 29,
   "metadata": {},
   "outputs": [
    {
     "data": {
      "text/plain": [
       "array([[ 1.00000000e+00,  9.18830160e-18,  2.56539987e-17,\n",
       "         6.11423874e-17,  1.29392040e-16],\n",
       "       [ 3.26287103e-18,  1.00000000e+00, -7.81133477e-18,\n",
       "         7.85919554e-18,  2.77445610e-16],\n",
       "       [-3.22461178e-17,  3.44312851e-17,  1.00000000e+00,\n",
       "        -5.28213718e-17,  4.16985417e-17],\n",
       "       [ 1.53056856e-17,  5.65933350e-17, -9.64115247e-17,\n",
       "         1.00000000e+00,  1.01139281e-16],\n",
       "       [ 3.96110060e-18,  1.27190184e-18,  1.02203555e-16,\n",
       "        -2.11785998e-17,  1.00000000e+00]])"
      ]
     },
     "execution_count": 29,
     "metadata": {},
     "output_type": "execute_result"
    }
   ],
   "source": [
    "P.dot(P_inv)"
   ]
  },
  {
   "cell_type": "markdown",
   "metadata": {},
   "source": [
    "Можно заметить что на главной диагонали единицы, в остальных местах бесконечно малые числа, если округлить полуим нули"
   ]
  },
  {
   "cell_type": "markdown",
   "metadata": {},
   "source": [
    "Единичная матрица так же обратимая: поскольку является квадратной и ее определитель равен 1. Обозначается $E$. Матрица обратная к единичной так же единичная. Так же произведение любой матрица на единичную соответствующего размера равно исходной матрице:\n",
    "$AE=EA=A$"
   ]
  },
  {
   "cell_type": "code",
   "execution_count": 30,
   "metadata": {},
   "outputs": [
    {
     "data": {
      "text/plain": [
       "array([[1., 0., 0., 0., 0.],\n",
       "       [0., 1., 0., 0., 0.],\n",
       "       [0., 0., 1., 0., 0.],\n",
       "       [0., 0., 0., 1., 0.],\n",
       "       [0., 0., 0., 0., 1.]])"
      ]
     },
     "execution_count": 30,
     "metadata": {},
     "output_type": "execute_result"
    }
   ],
   "source": [
    "E = np.eye(5)\n",
    "E"
   ]
  },
  {
   "cell_type": "code",
   "execution_count": 31,
   "metadata": {},
   "outputs": [
    {
     "data": {
      "text/plain": [
       "array([[1., 0., 0., 0., 0.],\n",
       "       [0., 1., 0., 0., 0.],\n",
       "       [0., 0., 1., 0., 0.],\n",
       "       [0., 0., 0., 1., 0.],\n",
       "       [0., 0., 0., 0., 1.]])"
      ]
     },
     "execution_count": 31,
     "metadata": {},
     "output_type": "execute_result"
    }
   ],
   "source": [
    "E_inv = np.linalg.inv(E)\n",
    "E_inv"
   ]
  },
  {
   "cell_type": "markdown",
   "metadata": {},
   "source": [
    "###  Математическое доказательство\n",
    "Для доказательства того, что при умножении матрицы $X$ на обратимую матрицу $P$ метрики линейной регрессии не изменяться, подставим в формулу \n",
    "$$\n",
    "w = (X^T X)^{-1} X^T y\n",
    "$$ вместо $X$ матрицу $XP$ и посмотрим какая в итоге формула получится\n",
    "\n",
    "$$\n",
    "w = ((XP)^T XP)^{-1} (XP)^T y\n",
    "$$\n",
    "Раскроем скобки у транспонирования\n",
    "$$\n",
    "w = (P^T X^T XP)^{-1} P^TX^T y\n",
    "$$\n",
    "Раскроем скобки для операции произведения обратных матриц\n",
    "$$\n",
    "w = (XP)^{-1}(P^T X^T)^{-1} P^TX^T y\n",
    "$$\n",
    "Еще раз\n",
    "$$\n",
    "w = P^{-1}(X^TX)^{-1}(P^T)^{-1} P^TX^T y\n",
    "$$\n",
    "Учитывая что для обратимой матрицы $PP^{-1} = E$ и так же $(P^T)^{-1}(P^T) = E$\n",
    "$$\n",
    "w = P^{-1}(X^TX)^{-1} E X^T y\n",
    "$$\n",
    "или\n",
    "$$\n",
    "w = P^{-1}(X^TX)^{-1} X^T y\n",
    "$$\n",
    "\n",
    "Подставим получившуюся формулу в формулу предсказания\n",
    "$a=Xw$ в которой $X$ заменим на $XP$\n",
    "\n",
    "$$\n",
    "a = XP P^{-1}(X^TX)^{-1} X^T y\n",
    "$$\n",
    "Учитывая что для обратимой матрицы $PP^{-1} = E$ и так же $(P^T)^{-1}(P^T) = E$\n",
    "$$\n",
    "a = X(X^TX)^{-1} X^T y\n",
    "$$\n",
    "\n",
    "Не трудно заметить, что если в исходную формулу $a=Xw$ подставить исходную формулу $w = (X^T X)^{-1} X^T y$ то получим тоже выражение\n",
    "$$\n",
    "a = X(X^TX)^{-1} X^T y\n",
    "$$\n",
    "\n",
    "Следовательно умножение матриы признаков $X$ на обратимую матрицу $P$ не меняет формулы для предсказаний, и не поменяет метрик модели линейной регрессии\n",
    "\n",
    "Доказали, теперь проверим!\n",
    "Обучим две моедли линейной регрессии на исходной матрице признаков $X$ на измененной матрице $XP$"
   ]
  },
  {
   "cell_type": "markdown",
   "metadata": {},
   "source": [
    "### Экспериментальное доказательство"
   ]
  },
  {
   "cell_type": "code",
   "execution_count": 32,
   "metadata": {},
   "outputs": [],
   "source": [
    "X_P = X.dot(P)\n",
    "X_P_inv = X.dot(P_inv) "
   ]
  },
  {
   "cell_type": "code",
   "execution_count": 33,
   "metadata": {},
   "outputs": [],
   "source": [
    "def linear_model(X,y,matrix_name):\n",
    "    model = LinearRegression()\n",
    "    model.fit(X,y)\n",
    "    predict = model.predict(X)\n",
    "    return print(\"Метрика R2 для матрицы\",matrix_name,\"равна\",round(r2_score(y,predict),6))"
   ]
  },
  {
   "cell_type": "code",
   "execution_count": 34,
   "metadata": {},
   "outputs": [
    {
     "name": "stdout",
     "output_type": "stream",
     "text": [
      "Метрика R2 для матрицы X равна 0.430201\n"
     ]
    }
   ],
   "source": [
    "linear_model(X,y,'X')"
   ]
  },
  {
   "cell_type": "code",
   "execution_count": 35,
   "metadata": {},
   "outputs": [
    {
     "name": "stdout",
     "output_type": "stream",
     "text": [
      "Метрика R2 для матрицы XP равна 0.430202\n"
     ]
    }
   ],
   "source": [
    "linear_model(X_P,y,'XP')"
   ]
  },
  {
   "cell_type": "markdown",
   "metadata": {},
   "source": [
    "Эксперимент подтверждил выкладки приведенные выше"
   ]
  },
  {
   "cell_type": "markdown",
   "metadata": {},
   "source": [
    "## Алгоритм преобразования\n",
    "\n",
    "Предложите алгоритм преобразования данных для решения задачи. Обоснуйте, почему качество линейной регрессии не поменяется."
   ]
  },
  {
   "cell_type": "markdown",
   "metadata": {},
   "source": [
    "**Алгоритм и обоснование**\n",
    "\n",
    "1. Для преобразования данных клиентов перед машинным обучением, можно умножать матрицу признаков на обратимую матрицу, выше уже было доказано, что при таком преобразовании предсказания модели и метрики не поменяются.\n",
    "\n",
    "\n",
    "2. Можно так же все признаки обработать алгоритмом StandartScaler, после него так же не получится восстановить перс данные \n"
   ]
  },
  {
   "cell_type": "markdown",
   "metadata": {},
   "source": [
    "## Проверка алгоритма"
   ]
  },
  {
   "cell_type": "markdown",
   "metadata": {},
   "source": [
    "Домножение на обратимую матрицу мы уже проверяли, посмотрим теперь на вариант с методом StandartScaler"
   ]
  },
  {
   "cell_type": "code",
   "execution_count": 36,
   "metadata": {},
   "outputs": [],
   "source": [
    "scaler = StandardScaler()\n",
    "X_S = scaler.fit_transform(X)"
   ]
  },
  {
   "cell_type": "code",
   "execution_count": 37,
   "metadata": {},
   "outputs": [
    {
     "name": "stdout",
     "output_type": "stream",
     "text": [
      "Метрика R2 для матрицы X scaler равна 0.430201\n"
     ]
    }
   ],
   "source": [
    "linear_model(X_S,y,'X scaler')"
   ]
  },
  {
   "cell_type": "code",
   "execution_count": 38,
   "metadata": {},
   "outputs": [
    {
     "name": "stdout",
     "output_type": "stream",
     "text": [
      "Метрика R2 для матрицы X равна 0.430201\n"
     ]
    }
   ],
   "source": [
    "linear_model(X,y,'X')"
   ]
  },
  {
   "cell_type": "code",
   "execution_count": 39,
   "metadata": {},
   "outputs": [
    {
     "name": "stdout",
     "output_type": "stream",
     "text": [
      "Метрика R2 для матрицы XP равна 0.430202\n"
     ]
    }
   ],
   "source": [
    "linear_model(X_P,y,'XP')"
   ]
  },
  {
   "cell_type": "markdown",
   "metadata": {},
   "source": [
    "Все три метрики равны"
   ]
  },
  {
   "cell_type": "markdown",
   "metadata": {},
   "source": [
    "Посмотрим как меняется матрица признаков после преобразований"
   ]
  },
  {
   "cell_type": "code",
   "execution_count": 40,
   "metadata": {},
   "outputs": [
    {
     "data": {
      "text/plain": [
       "array([[1.00e+00, 1.00e+00, 4.10e+01, 4.96e+04, 1.00e+00],\n",
       "       [1.00e+00, 0.00e+00, 4.60e+01, 3.80e+04, 1.00e+00],\n",
       "       [1.00e+00, 0.00e+00, 2.90e+01, 2.10e+04, 0.00e+00],\n",
       "       ...,\n",
       "       [1.00e+00, 0.00e+00, 2.00e+01, 3.39e+04, 2.00e+00],\n",
       "       [1.00e+00, 1.00e+00, 2.20e+01, 3.27e+04, 3.00e+00],\n",
       "       [1.00e+00, 1.00e+00, 2.80e+01, 4.06e+04, 1.00e+00]])"
      ]
     },
     "execution_count": 40,
     "metadata": {},
     "output_type": "execute_result"
    }
   ],
   "source": [
    "X"
   ]
  },
  {
   "cell_type": "code",
   "execution_count": 41,
   "metadata": {},
   "outputs": [
    {
     "data": {
      "text/plain": [
       "array([[ 24349.30029362, -51651.08925195, -46669.33356056,\n",
       "         64765.14482008,  58839.15780686],\n",
       "       [ 18665.22897362, -39550.49483429, -35768.42930106,\n",
       "         49613.4943791 ,  45069.84450363],\n",
       "       [ 10317.63698386, -21852.51313122, -19769.06695822,\n",
       "         27417.83155078,  24905.29319673],\n",
       "       ...,\n",
       "       [ 16635.70088119, -35312.38509676, -31889.88878227,\n",
       "         44268.19840685,  40218.40901603],\n",
       "       [ 16050.38218849, -34058.44999987, -30763.46587686,\n",
       "         42699.76162089,  38791.37034687],\n",
       "       [ 19927.13158648, -42286.91547704, -38195.58896174,\n",
       "         53015.81169367,  48165.64484698]])"
      ]
     },
     "execution_count": 41,
     "metadata": {},
     "output_type": "execute_result"
    }
   ],
   "source": [
    "X_P"
   ]
  },
  {
   "cell_type": "code",
   "execution_count": 42,
   "metadata": {},
   "outputs": [
    {
     "data": {
      "text/plain": [
       "array([[ 0.        ,  1.0030995 ,  1.1754362 ,  0.97315092, -0.18517565],\n",
       "       [ 0.        , -0.99691008,  1.76456423, -0.19011493, -0.18517565],\n",
       "       [ 0.        , -0.99691008, -0.23847105, -1.89490109, -1.09546611],\n",
       "       ...,\n",
       "       [ 0.        , -0.99691008, -1.29890149, -0.60126924,  0.7251148 ],\n",
       "       [ 0.        ,  1.0030995 , -1.06325028, -0.72160708,  1.63540526],\n",
       "       [ 0.        ,  1.0030995 , -0.35629665,  0.07061707, -0.18517565]])"
      ]
     },
     "execution_count": 42,
     "metadata": {},
     "output_type": "execute_result"
    }
   ],
   "source": [
    "X_S"
   ]
  },
  {
   "cell_type": "markdown",
   "metadata": {},
   "source": [
    "По преобразованным матрицам получить исходные персональные данные не получится, если конечно не знать матрицу преобразований $P$"
   ]
  },
  {
   "cell_type": "code",
   "execution_count": 43,
   "metadata": {},
   "outputs": [
    {
     "data": {
      "text/plain": [
       "array([[ 1.00000000e+00,  1.00000000e+00,  4.10000000e+01,\n",
       "         4.96000000e+04,  1.00000000e+00],\n",
       "       [ 1.00000000e+00,  4.69533575e-12,  4.60000000e+01,\n",
       "         3.80000000e+04,  1.00000000e+00],\n",
       "       [ 1.00000000e+00, -3.20866837e-13,  2.90000000e+01,\n",
       "         2.10000000e+04,  1.26302805e-12],\n",
       "       ...,\n",
       "       [ 1.00000000e+00, -1.08381723e-12,  2.00000000e+01,\n",
       "         3.39000000e+04,  2.00000000e+00],\n",
       "       [ 1.00000000e+00,  1.00000000e+00,  2.20000000e+01,\n",
       "         3.27000000e+04,  3.00000000e+00],\n",
       "       [ 1.00000000e+00,  1.00000000e+00,  2.80000000e+01,\n",
       "         4.06000000e+04,  1.00000000e+00]])"
      ]
     },
     "execution_count": 43,
     "metadata": {},
     "output_type": "execute_result"
    }
   ],
   "source": [
    "X_P.dot(P_inv)"
   ]
  },
  {
   "cell_type": "markdown",
   "metadata": {},
   "source": [
    "Так можно получить обратнно, исходные данные"
   ]
  },
  {
   "cell_type": "markdown",
   "metadata": {},
   "source": [
    "## Вывод"
   ]
  },
  {
   "cell_type": "markdown",
   "metadata": {},
   "source": [
    "В этой работе, мы предложили два варианта обработки исходных данных клиентов страховой компании для защиты их персональных данных.\n",
    "\n",
    "Обосновали сначала теоретически возможность применения, а после показали на практике что метрика модели не изменяется после преобразования исходных данных."
   ]
  },
  {
   "cell_type": "markdown",
   "metadata": {},
   "source": [
    "## Чек-лист проверки"
   ]
  },
  {
   "cell_type": "markdown",
   "metadata": {},
   "source": [
    "Поставьте 'x' в выполненных пунктах. Далее нажмите Shift+Enter."
   ]
  },
  {
   "cell_type": "markdown",
   "metadata": {},
   "source": [
    "- [x]  Jupyter Notebook открыт\n",
    "- [x]  Весь код выполняется без ошибок\n",
    "- [x]  Ячейки с кодом расположены в порядке исполнения\n",
    "- [x]  Выполнен шаг 1: данные загружены\n",
    "- [x]  Выполнен шаг 2: получен ответ на вопрос об умножении матриц\n",
    "    - [x]  Указан правильный вариант ответа\n",
    "    - [x]  Вариант обоснован\n",
    "- [x]  Выполнен шаг 3: предложен алгоритм преобразования\n",
    "    - [x]  Алгоритм описан\n",
    "    - [x]  Алгоритм обоснован\n",
    "- [x]  Выполнен шаг 4: алгоритм проверен\n",
    "    - [x]  Алгоритм реализован\n",
    "    - [x]  Проведено сравнение качества моделей до и после преобразования"
   ]
  },
  {
   "cell_type": "code",
   "execution_count": null,
   "metadata": {},
   "outputs": [],
   "source": []
  }
 ],
 "metadata": {
  "ExecuteTimeLog": [
   {
    "duration": 12,
    "start_time": "2022-06-07T07:01:09.856Z"
   },
   {
    "duration": 71,
    "start_time": "2022-06-07T07:01:54.754Z"
   },
   {
    "duration": 4,
    "start_time": "2022-06-07T07:02:21.940Z"
   },
   {
    "duration": 968,
    "start_time": "2022-06-07T07:02:38.789Z"
   },
   {
    "duration": 94,
    "start_time": "2022-06-07T07:02:40.743Z"
   },
   {
    "duration": 75,
    "start_time": "2022-06-07T07:02:40.996Z"
   },
   {
    "duration": 13,
    "start_time": "2022-06-07T07:02:41.334Z"
   },
   {
    "duration": 30,
    "start_time": "2022-06-07T07:02:41.939Z"
   },
   {
    "duration": 10,
    "start_time": "2022-06-07T07:02:43.786Z"
   },
   {
    "duration": 2,
    "start_time": "2022-06-07T07:02:45.686Z"
   },
   {
    "duration": 4,
    "start_time": "2022-06-07T07:02:45.838Z"
   },
   {
    "duration": 13,
    "start_time": "2022-06-07T07:02:45.998Z"
   },
   {
    "duration": 9,
    "start_time": "2022-06-07T07:02:48.411Z"
   },
   {
    "duration": 12,
    "start_time": "2022-06-07T07:02:49.078Z"
   },
   {
    "duration": 4,
    "start_time": "2022-06-07T07:02:53.884Z"
   },
   {
    "duration": 4,
    "start_time": "2022-06-07T07:02:54.280Z"
   },
   {
    "duration": 4,
    "start_time": "2022-06-07T07:02:55.094Z"
   },
   {
    "duration": 3,
    "start_time": "2022-06-07T07:02:56.640Z"
   },
   {
    "duration": 11,
    "start_time": "2022-06-07T07:02:57.604Z"
   },
   {
    "duration": 4,
    "start_time": "2022-06-07T07:03:03.562Z"
   },
   {
    "duration": 13,
    "start_time": "2022-06-07T07:03:06.568Z"
   },
   {
    "duration": 5,
    "start_time": "2022-06-07T07:03:09.106Z"
   },
   {
    "duration": 4,
    "start_time": "2022-06-07T07:03:11.406Z"
   },
   {
    "duration": 4,
    "start_time": "2022-06-07T07:03:18.623Z"
   },
   {
    "duration": 6,
    "start_time": "2022-06-07T07:03:19.438Z"
   },
   {
    "duration": 5,
    "start_time": "2022-06-07T07:08:34.507Z"
   },
   {
    "duration": 123,
    "start_time": "2022-06-07T07:08:44.451Z"
   },
   {
    "duration": 7,
    "start_time": "2022-06-07T07:08:54.079Z"
   },
   {
    "duration": 5,
    "start_time": "2022-06-07T07:08:56.337Z"
   },
   {
    "duration": 6,
    "start_time": "2022-06-07T07:08:56.680Z"
   },
   {
    "duration": 5,
    "start_time": "2022-06-07T07:08:56.862Z"
   },
   {
    "duration": 5,
    "start_time": "2022-06-07T07:08:58.275Z"
   },
   {
    "duration": 4,
    "start_time": "2022-06-07T07:09:00.535Z"
   },
   {
    "duration": 7,
    "start_time": "2022-06-07T07:09:01.799Z"
   },
   {
    "duration": 4,
    "start_time": "2022-06-07T07:09:05.140Z"
   },
   {
    "duration": 3,
    "start_time": "2022-06-07T07:09:05.513Z"
   },
   {
    "duration": 10,
    "start_time": "2022-06-07T07:09:05.854Z"
   },
   {
    "duration": 7,
    "start_time": "2022-06-07T07:09:06.165Z"
   },
   {
    "duration": 5,
    "start_time": "2022-06-07T07:09:09.543Z"
   },
   {
    "duration": 9,
    "start_time": "2022-06-07T07:09:09.697Z"
   },
   {
    "duration": 10,
    "start_time": "2022-06-07T07:09:09.897Z"
   },
   {
    "duration": 9,
    "start_time": "2022-06-07T07:09:10.114Z"
   },
   {
    "duration": 6,
    "start_time": "2022-06-07T07:09:12.057Z"
   },
   {
    "duration": 4,
    "start_time": "2022-06-07T07:09:12.260Z"
   },
   {
    "duration": 4,
    "start_time": "2022-06-07T07:09:23.728Z"
   },
   {
    "duration": 7,
    "start_time": "2022-06-07T07:10:33.480Z"
   }
  ],
  "kernelspec": {
   "display_name": "Python 3 (ipykernel)",
   "language": "python",
   "name": "python3"
  },
  "language_info": {
   "codemirror_mode": {
    "name": "ipython",
    "version": 3
   },
   "file_extension": ".py",
   "mimetype": "text/x-python",
   "name": "python",
   "nbconvert_exporter": "python",
   "pygments_lexer": "ipython3",
   "version": "3.9.12"
  },
  "toc": {
   "base_numbering": 1,
   "nav_menu": {},
   "number_sections": true,
   "sideBar": true,
   "skip_h1_title": true,
   "title_cell": "Содержание",
   "title_sidebar": "Contents",
   "toc_cell": true,
   "toc_position": {
    "height": "calc(100% - 180px)",
    "left": "10px",
    "top": "150px",
    "width": "221.146px"
   },
   "toc_section_display": true,
   "toc_window_display": true
  }
 },
 "nbformat": 4,
 "nbformat_minor": 2
}
